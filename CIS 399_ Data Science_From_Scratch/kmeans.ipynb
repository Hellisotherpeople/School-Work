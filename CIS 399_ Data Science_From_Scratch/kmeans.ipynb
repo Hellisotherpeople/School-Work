{
 "cells": [
  {
   "cell_type": "code",
   "execution_count": 1,
   "metadata": {},
   "outputs": [
    {
     "data": {
      "text/html": [
       "<style>\n",
       ".h1_cell, .just_text {\n",
       "    box-sizing: border-box;\n",
       "    padding-top:5px;\n",
       "    padding-bottom:5px;\n",
       "    font-family: \"Times New Roman\", Georgia, Serif;\n",
       "    font-size: 125%;\n",
       "    line-height: 22px; /* 5px +12px + 5px */\n",
       "    text-indent: 25px;\n",
       "    background-color: #fbfbea;\n",
       "    padding: 10px;\n",
       "}\n",
       ".code_block {\n",
       "    box-sizing: border-box;\n",
       "    padding-top:5px;\n",
       "    padding-bottom:5px;\n",
       "    font-size: 75%;\n",
       "    line-height: 22px; /* 5px +12px + 5px */\n",
       "    #text-indent: 25px;\n",
       "    #background-color: #fbfbea;\n",
       "    padding: 5px;\n",
       "}\n",
       "\n",
       "hr { \n",
       "    display: block;\n",
       "    margin-top: 0.5em;\n",
       "    margin-bottom: 0.5em;\n",
       "    margin-left: auto;\n",
       "    margin-right: auto;\n",
       "    border-style: inset;\n",
       "    border-width: 2px;\n",
       "}\n",
       "</style>"
      ],
      "text/plain": [
       "<IPython.core.display.HTML object>"
      ]
     },
     "metadata": {},
     "output_type": "display_data"
    }
   ],
   "source": [
    "%%html\n",
    "<style>\n",
    ".h1_cell, .just_text {\n",
    "    box-sizing: border-box;\n",
    "    padding-top:5px;\n",
    "    padding-bottom:5px;\n",
    "    font-family: \"Times New Roman\", Georgia, Serif;\n",
    "    font-size: 125%;\n",
    "    line-height: 22px; /* 5px +12px + 5px */\n",
    "    text-indent: 25px;\n",
    "    background-color: #fbfbea;\n",
    "    padding: 10px;\n",
    "}\n",
    ".code_block {\n",
    "    box-sizing: border-box;\n",
    "    padding-top:5px;\n",
    "    padding-bottom:5px;\n",
    "    font-size: 75%;\n",
    "    line-height: 22px; /* 5px +12px + 5px */\n",
    "    #text-indent: 25px;\n",
    "    #background-color: #fbfbea;\n",
    "    padding: 5px;\n",
    "}\n",
    "\n",
    "hr { \n",
    "    display: block;\n",
    "    margin-top: 0.5em;\n",
    "    margin-bottom: 0.5em;\n",
    "    margin-left: auto;\n",
    "    margin-right: auto;\n",
    "    border-style: inset;\n",
    "    border-width: 2px;\n",
    "}\n",
    "</style>"
   ]
  },
  {
   "cell_type": "markdown",
   "metadata": {},
   "source": [
    "<h1>\n",
    "<center>\n",
    "Module 7: K-Means clustering and filling empties\n",
    "</center>\n",
    "</h1>\n",
    "<div class=h1_cell>\n",
    "<p>\n",
    "I want to turn back to the problem of filling empties. I'll focus on the `Age` column, which had 177 empties. Here is my idea: we assume that the other column values in a row with an empty age might help us determine what the age is. Maybe if the `Fare` is high then the `Age` is high?\n",
    "<p>\n",
    "My approach will be to see if I can group rows into clusters. Once I have these clusters, I'll go through a sub-table of all rows that have an age defined. For each row, I will find its closest cluster and add the age to that cluster. At end, I'll take the mean age in each cluster.\n",
    "<p>\n",
    "Now I can take a row without an age and see what cluster it falls in. When I get the right cluster, I'll use the age attached to the cluster to fill the row's age.\n",
    "<p>\n",
    "Whew. Kind of a complicated process. But fortunately, there is a technique in machine learning that does most of what we want. It is called K-means (jargon alert). It is a type of unsupervised learning (jargon alert). Let's load our data and then discuss.\n",
    "</div>"
   ]
  },
  {
   "cell_type": "code",
   "execution_count": 2,
   "metadata": {},
   "outputs": [
    {
     "data": {
      "text/plain": [
       "u'0.20.3'"
      ]
     },
     "execution_count": 2,
     "metadata": {},
     "output_type": "execute_result"
    }
   ],
   "source": [
    "import pandas as pd\n",
    "import os\n",
    "\n",
    "week = 6  # from last module\n",
    "\n",
    "home_path =  os.path.expanduser('~')\n",
    "\n",
    "file_path = '/Dropbox/cis399_ds1_f17/notebook_history/'\n",
    "\n",
    "file_name = 'titanic_wrangled_w'+str(week)+'.csv'\n",
    "\n",
    "titanic_table = pd.read_csv(home_path + file_path + file_name)\n",
    "\n",
    "pd.__version__  # should see 0.20.3 or higher"
   ]
  },
  {
   "cell_type": "code",
   "execution_count": 3,
   "metadata": {},
   "outputs": [
    {
     "name": "stdout",
     "output_type": "stream",
     "text": [
      "Already up-to-date.\r\n"
     ]
    }
   ],
   "source": [
    "os.chdir(home_path + '/Dropbox/cis399_ds1_f17/week_libraries/datascience_1')\n",
    "!git pull"
   ]
  },
  {
   "cell_type": "code",
   "execution_count": 4,
   "metadata": {},
   "outputs": [
    {
     "name": "stdout",
     "output_type": "stream",
     "text": [
      "accuracy\t build_pred\t build_tree_iter\t caser\t compute_prediction\t compute_training\t f1\t find_best_splitter\t forest_builder\t \n",
      "generate_table\t gig\t gini\t informedness\t k_fold\t predictor_case\t probabilities\t seeder\t tree_predictor\t \n",
      "vote_taker\t \n"
     ]
    }
   ],
   "source": [
    "#load the lbirary from content this week\n",
    "\n",
    "import sys\n",
    "sys.path.append(home_path + '/Dropbox/cis399_ds1_f17/week_libraries/datascience_1')\n",
    "from week6 import *\n",
    "%who function"
   ]
  },
  {
   "cell_type": "code",
   "execution_count": 5,
   "metadata": {
    "collapsed": true
   },
   "outputs": [],
   "source": [
    "pd.set_option('display.max_columns', None)"
   ]
  },
  {
   "cell_type": "markdown",
   "metadata": {},
   "source": [
    "<h2>\n",
    "K-Means Agorithm\n",
    "</h2>\n",
    "<p>\n",
    "<div class=h1_cell>\n",
    "<p>\n",
    "The general idea behind K-means is that each \"row\" is a list of values. You can also view each row as a multi-dimensional point. We will need to convert a Titanic row into a list of numbers. This won't be too hard. At that point, the algorithm works as follows:\n",
    "<p>\n",
    "The algorithm is broken into two phases. The first phase assigns rows/points to centroids. They are said to define a cluster around the centroid. The second phase recalculates the centroids from the rows/points in its cluster.\n",
    "<p>\n",
    "1: As a preparation step, K-Means starts by randomly selecting a number of initial rows/points to act as seeds. The number of rows/points is user determined. These seeds are called the initial centroids. There is a lot of research on picking these points other than randomly. We might look at that later.\n",
    "<p>\n",
    "2: Compare each row in the entire table to the centroids. The comparison uses Euclidean distance. The row is assigned to the centroid that is closest.\n",
    "<p>\n",
    "<b>This ends phase 1. We now have clusters of rows/points attached to the various centroids.</b> If we have 5 centroids, we have 5 lists of rows/points.\n",
    "<p>\n",
    "3: For phase 2, for each cluster, a new centroid is computed by taking the mean of the rows in the associated cluster. \n",
    "<p>\n",
    "4: If no centroid moved following step 3 then done else repeat steps 2-3. Probably want to set a limit (e.g., 100) on the number cycles through.\n",
    "</div>"
   ]
  },
  {
   "cell_type": "markdown",
   "metadata": {},
   "source": [
    "<h2>\n",
    "Point has 10 values\n",
    "</h2>\n",
    "<p>\n",
    "<div class=h1_cell>\n",
    "<p>\n",
    "Here are the columns I'll use to cluster. We will need to turn each row (a pandas Series) into a list of 10 numbers that correspond to the 10 columns below.\n",
    "</div>"
   ]
  },
  {
   "cell_type": "code",
   "execution_count": 6,
   "metadata": {
    "collapsed": true
   },
   "outputs": [],
   "source": [
    "features_used = [\n",
    " 'Pclass',\n",
    " 'SibSp',\n",
    " 'Parch',\n",
    " 'Fare',\n",
    " 'emb_C',\n",
    " 'emb_Q',\n",
    " 'emb_S',\n",
    " 'emb_nan',\n",
    " 'sex_female',\n",
    " 'sex_male'\n",
    "]"
   ]
  },
  {
   "cell_type": "markdown",
   "metadata": {},
   "source": [
    "<h2>\n",
    "I'll choose 5 for k\n",
    "</h2>\n",
    "<p>\n",
    "<div class=h1_cell>\n",
    "<p>\n",
    "So I want 5 centroids randomly chosen to start. I don't want duplicate centroids so replace is False. The choice of 5 is mostly arbitrary. We will see later that 4 would have worked as well as 5. But maybe 10 is much better. This is another case of needing to explore the value for hyper parameters, i.e., tuning.\n",
    "</div>"
   ]
  },
  {
   "cell_type": "code",
   "execution_count": 7,
   "metadata": {
    "collapsed": true
   },
   "outputs": [],
   "source": [
    "k = 5"
   ]
  },
  {
   "cell_type": "code",
   "execution_count": 8,
   "metadata": {
    "scrolled": true
   },
   "outputs": [
    {
     "data": {
      "text/html": [
       "<div>\n",
       "<style>\n",
       "    .dataframe thead tr:only-child th {\n",
       "        text-align: right;\n",
       "    }\n",
       "\n",
       "    .dataframe thead th {\n",
       "        text-align: left;\n",
       "    }\n",
       "\n",
       "    .dataframe tbody tr th {\n",
       "        vertical-align: top;\n",
       "    }\n",
       "</style>\n",
       "<table border=\"1\" class=\"dataframe\">\n",
       "  <thead>\n",
       "    <tr style=\"text-align: right;\">\n",
       "      <th></th>\n",
       "      <th>Survived</th>\n",
       "      <th>Pclass</th>\n",
       "      <th>Name</th>\n",
       "      <th>Sex</th>\n",
       "      <th>Age</th>\n",
       "      <th>SibSp</th>\n",
       "      <th>Parch</th>\n",
       "      <th>Ticket</th>\n",
       "      <th>Fare</th>\n",
       "      <th>Cabin</th>\n",
       "      <th>Embarked</th>\n",
       "      <th>no_age</th>\n",
       "      <th>filled_age</th>\n",
       "      <th>emb_C</th>\n",
       "      <th>emb_Q</th>\n",
       "      <th>emb_S</th>\n",
       "      <th>emb_nan</th>\n",
       "      <th>age_bin</th>\n",
       "      <th>age_Child</th>\n",
       "      <th>age_Adult</th>\n",
       "      <th>age_Senior</th>\n",
       "      <th>sex_female</th>\n",
       "      <th>sex_male</th>\n",
       "      <th>ok_child</th>\n",
       "      <th>pclass_1</th>\n",
       "      <th>pclass_2</th>\n",
       "      <th>pclass_3</th>\n",
       "      <th>pclass_nan</th>\n",
       "      <th>forest_1</th>\n",
       "      <th>forest_1_type</th>\n",
       "      <th>forest_2</th>\n",
       "      <th>forest_2_type</th>\n",
       "      <th>forest_3</th>\n",
       "      <th>forest_3_type</th>\n",
       "      <th>forest_4</th>\n",
       "      <th>forest_4_type</th>\n",
       "    </tr>\n",
       "  </thead>\n",
       "  <tbody>\n",
       "    <tr>\n",
       "      <th>205</th>\n",
       "      <td>0</td>\n",
       "      <td>3</td>\n",
       "      <td>Strom, Miss. Telma Matilda</td>\n",
       "      <td>female</td>\n",
       "      <td>2.0</td>\n",
       "      <td>0</td>\n",
       "      <td>1</td>\n",
       "      <td>347054</td>\n",
       "      <td>10.4625</td>\n",
       "      <td>G6</td>\n",
       "      <td>S</td>\n",
       "      <td>0</td>\n",
       "      <td>2.0</td>\n",
       "      <td>0</td>\n",
       "      <td>0</td>\n",
       "      <td>1</td>\n",
       "      <td>0</td>\n",
       "      <td>Child</td>\n",
       "      <td>1</td>\n",
       "      <td>0</td>\n",
       "      <td>0</td>\n",
       "      <td>1</td>\n",
       "      <td>0</td>\n",
       "      <td>1</td>\n",
       "      <td>0</td>\n",
       "      <td>0</td>\n",
       "      <td>1</td>\n",
       "      <td>0</td>\n",
       "      <td>1</td>\n",
       "      <td>false_positive</td>\n",
       "      <td>1</td>\n",
       "      <td>false_positive</td>\n",
       "      <td>1</td>\n",
       "      <td>false_positive</td>\n",
       "      <td>1</td>\n",
       "      <td>false_positive</td>\n",
       "    </tr>\n",
       "    <tr>\n",
       "      <th>44</th>\n",
       "      <td>1</td>\n",
       "      <td>3</td>\n",
       "      <td>Devaney, Miss. Margaret Delia</td>\n",
       "      <td>female</td>\n",
       "      <td>19.0</td>\n",
       "      <td>0</td>\n",
       "      <td>0</td>\n",
       "      <td>330958</td>\n",
       "      <td>7.8792</td>\n",
       "      <td>NaN</td>\n",
       "      <td>Q</td>\n",
       "      <td>0</td>\n",
       "      <td>19.0</td>\n",
       "      <td>0</td>\n",
       "      <td>1</td>\n",
       "      <td>0</td>\n",
       "      <td>0</td>\n",
       "      <td>Child</td>\n",
       "      <td>1</td>\n",
       "      <td>0</td>\n",
       "      <td>0</td>\n",
       "      <td>1</td>\n",
       "      <td>0</td>\n",
       "      <td>0</td>\n",
       "      <td>0</td>\n",
       "      <td>0</td>\n",
       "      <td>1</td>\n",
       "      <td>0</td>\n",
       "      <td>0</td>\n",
       "      <td>false_negative</td>\n",
       "      <td>0</td>\n",
       "      <td>false_negative</td>\n",
       "      <td>1</td>\n",
       "      <td>true_positive</td>\n",
       "      <td>1</td>\n",
       "      <td>true_positive</td>\n",
       "    </tr>\n",
       "    <tr>\n",
       "      <th>821</th>\n",
       "      <td>1</td>\n",
       "      <td>3</td>\n",
       "      <td>Lulic, Mr. Nikola</td>\n",
       "      <td>male</td>\n",
       "      <td>27.0</td>\n",
       "      <td>0</td>\n",
       "      <td>0</td>\n",
       "      <td>315098</td>\n",
       "      <td>8.6625</td>\n",
       "      <td>NaN</td>\n",
       "      <td>S</td>\n",
       "      <td>0</td>\n",
       "      <td>27.0</td>\n",
       "      <td>0</td>\n",
       "      <td>0</td>\n",
       "      <td>1</td>\n",
       "      <td>0</td>\n",
       "      <td>Adult</td>\n",
       "      <td>0</td>\n",
       "      <td>1</td>\n",
       "      <td>0</td>\n",
       "      <td>0</td>\n",
       "      <td>1</td>\n",
       "      <td>0</td>\n",
       "      <td>0</td>\n",
       "      <td>0</td>\n",
       "      <td>1</td>\n",
       "      <td>0</td>\n",
       "      <td>0</td>\n",
       "      <td>false_negative</td>\n",
       "      <td>0</td>\n",
       "      <td>false_negative</td>\n",
       "      <td>0</td>\n",
       "      <td>false_negative</td>\n",
       "      <td>0</td>\n",
       "      <td>false_negative</td>\n",
       "    </tr>\n",
       "    <tr>\n",
       "      <th>458</th>\n",
       "      <td>1</td>\n",
       "      <td>2</td>\n",
       "      <td>Toomey, Miss. Ellen</td>\n",
       "      <td>female</td>\n",
       "      <td>50.0</td>\n",
       "      <td>0</td>\n",
       "      <td>0</td>\n",
       "      <td>F.C.C. 13531</td>\n",
       "      <td>10.5000</td>\n",
       "      <td>NaN</td>\n",
       "      <td>S</td>\n",
       "      <td>0</td>\n",
       "      <td>50.0</td>\n",
       "      <td>0</td>\n",
       "      <td>0</td>\n",
       "      <td>1</td>\n",
       "      <td>0</td>\n",
       "      <td>Adult</td>\n",
       "      <td>0</td>\n",
       "      <td>1</td>\n",
       "      <td>0</td>\n",
       "      <td>1</td>\n",
       "      <td>0</td>\n",
       "      <td>0</td>\n",
       "      <td>0</td>\n",
       "      <td>1</td>\n",
       "      <td>0</td>\n",
       "      <td>0</td>\n",
       "      <td>0</td>\n",
       "      <td>false_negative</td>\n",
       "      <td>1</td>\n",
       "      <td>true_positive</td>\n",
       "      <td>1</td>\n",
       "      <td>true_positive</td>\n",
       "      <td>0</td>\n",
       "      <td>false_negative</td>\n",
       "    </tr>\n",
       "    <tr>\n",
       "      <th>795</th>\n",
       "      <td>0</td>\n",
       "      <td>2</td>\n",
       "      <td>Otter, Mr. Richard</td>\n",
       "      <td>male</td>\n",
       "      <td>39.0</td>\n",
       "      <td>0</td>\n",
       "      <td>0</td>\n",
       "      <td>28213</td>\n",
       "      <td>13.0000</td>\n",
       "      <td>NaN</td>\n",
       "      <td>S</td>\n",
       "      <td>0</td>\n",
       "      <td>39.0</td>\n",
       "      <td>0</td>\n",
       "      <td>0</td>\n",
       "      <td>1</td>\n",
       "      <td>0</td>\n",
       "      <td>Adult</td>\n",
       "      <td>0</td>\n",
       "      <td>1</td>\n",
       "      <td>0</td>\n",
       "      <td>0</td>\n",
       "      <td>1</td>\n",
       "      <td>0</td>\n",
       "      <td>0</td>\n",
       "      <td>1</td>\n",
       "      <td>0</td>\n",
       "      <td>0</td>\n",
       "      <td>0</td>\n",
       "      <td>true_negative</td>\n",
       "      <td>0</td>\n",
       "      <td>true_negative</td>\n",
       "      <td>0</td>\n",
       "      <td>true_negative</td>\n",
       "      <td>0</td>\n",
       "      <td>true_negative</td>\n",
       "    </tr>\n",
       "  </tbody>\n",
       "</table>\n",
       "</div>"
      ],
      "text/plain": [
       "     Survived  Pclass                           Name     Sex   Age  SibSp  \\\n",
       "205         0       3     Strom, Miss. Telma Matilda  female   2.0      0   \n",
       "44          1       3  Devaney, Miss. Margaret Delia  female  19.0      0   \n",
       "821         1       3              Lulic, Mr. Nikola    male  27.0      0   \n",
       "458         1       2            Toomey, Miss. Ellen  female  50.0      0   \n",
       "795         0       2             Otter, Mr. Richard    male  39.0      0   \n",
       "\n",
       "     Parch        Ticket     Fare Cabin Embarked  no_age  filled_age  emb_C  \\\n",
       "205      1        347054  10.4625    G6        S       0         2.0      0   \n",
       "44       0        330958   7.8792   NaN        Q       0        19.0      0   \n",
       "821      0        315098   8.6625   NaN        S       0        27.0      0   \n",
       "458      0  F.C.C. 13531  10.5000   NaN        S       0        50.0      0   \n",
       "795      0         28213  13.0000   NaN        S       0        39.0      0   \n",
       "\n",
       "     emb_Q  emb_S  emb_nan age_bin  age_Child  age_Adult  age_Senior  \\\n",
       "205      0      1        0   Child          1          0           0   \n",
       "44       1      0        0   Child          1          0           0   \n",
       "821      0      1        0   Adult          0          1           0   \n",
       "458      0      1        0   Adult          0          1           0   \n",
       "795      0      1        0   Adult          0          1           0   \n",
       "\n",
       "     sex_female  sex_male  ok_child  pclass_1  pclass_2  pclass_3  pclass_nan  \\\n",
       "205           1         0         1         0         0         1           0   \n",
       "44            1         0         0         0         0         1           0   \n",
       "821           0         1         0         0         0         1           0   \n",
       "458           1         0         0         0         1         0           0   \n",
       "795           0         1         0         0         1         0           0   \n",
       "\n",
       "     forest_1   forest_1_type  forest_2   forest_2_type  forest_3  \\\n",
       "205         1  false_positive         1  false_positive         1   \n",
       "44          0  false_negative         0  false_negative         1   \n",
       "821         0  false_negative         0  false_negative         0   \n",
       "458         0  false_negative         1   true_positive         1   \n",
       "795         0   true_negative         0   true_negative         0   \n",
       "\n",
       "      forest_3_type  forest_4   forest_4_type  \n",
       "205  false_positive         1  false_positive  \n",
       "44    true_positive         1   true_positive  \n",
       "821  false_negative         0  false_negative  \n",
       "458   true_positive         0  false_negative  \n",
       "795   true_negative         0   true_negative  "
      ]
     },
     "execution_count": 8,
     "metadata": {},
     "output_type": "execute_result"
    }
   ],
   "source": [
    "#Get the 5 starting rows and place in centroid_table\n",
    "\n",
    "centroid_table = titanic_table.sample(n=k, replace=False, random_state=100)  # only random choice I am making\n",
    "centroid_table.head()"
   ]
  },
  {
   "cell_type": "markdown",
   "metadata": {},
   "source": [
    "<h2>\n",
    "Now to convert a row to a 10 element list of numbers\n",
    "</h2>\n",
    "<p>\n",
    "<div class=h1_cell>\n",
    "<p>\n",
    "I'll take a row (as a pandas Series) and the features to use and produce a tuple of numbers. I am using tuple because we will not be changing the values of this list: an immutable list can be represented by a tuple in Python.\n",
    "</div>"
   ]
  },
  {
   "cell_type": "code",
   "execution_count": 9,
   "metadata": {
    "collapsed": true
   },
   "outputs": [],
   "source": [
    "def row_to_vect(row, features):\n",
    "    vect = [float(row[feature]) for feature in features]\n",
    "    return tuple(vect)"
   ]
  },
  {
   "cell_type": "code",
   "execution_count": 10,
   "metadata": {},
   "outputs": [
    {
     "data": {
      "text/plain": [
       "(3.0, 1.0, 0.0, 7.25, 0.0, 0.0, 1.0, 0.0, 0.0, 1.0)"
      ]
     },
     "execution_count": 10,
     "metadata": {},
     "output_type": "execute_result"
    }
   ],
   "source": [
    "#test it out\n",
    "row_to_vect(titanic_table.iloc[0], features_used)  # the row becomes a 10-dimensional point"
   ]
  },
  {
   "cell_type": "markdown",
   "metadata": {},
   "source": [
    "<h2>\n",
    "Build 10 element list (tuple) for each centroid chosen previously\n",
    "</h2>\n",
    "<p>\n",
    "<div class=h1_cell>\n",
    "<p>\n",
    "I am going to make a centroid a dictionary. It will contain the current centroid point of course. But it will also hold the set of points we assign it during phase 1 of K-means. I'll call that the cluster. \n",
    "</div>"
   ]
  },
  {
   "cell_type": "code",
   "execution_count": 11,
   "metadata": {
    "collapsed": true
   },
   "outputs": [],
   "source": [
    "def initialize_centroids(sample_table, features):\n",
    "    k = len(sample_table)\n",
    "    centroids = {}\n",
    "    for i in range(k):\n",
    "        row = sample_table.iloc[i]\n",
    "        vector = row_to_vect(row, features)\n",
    "        centroids[i] = {'centroid': vector, 'cluster': []}\n",
    "        \n",
    "    return centroids"
   ]
  },
  {
   "cell_type": "code",
   "execution_count": 12,
   "metadata": {
    "collapsed": true
   },
   "outputs": [],
   "source": [
    "#centroid_table was defined above as random sample of 5 rows\n",
    "\n",
    "centroids = initialize_centroids(centroid_table, features_used)"
   ]
  },
  {
   "cell_type": "code",
   "execution_count": 13,
   "metadata": {},
   "outputs": [
    {
     "name": "stdout",
     "output_type": "stream",
     "text": [
      "{'cluster': [], 'centroid': (3.0, 0.0, 1.0, 10.4625, 0.0, 0.0, 1.0, 0.0, 1.0, 0.0)}\n",
      "{'cluster': [], 'centroid': (3.0, 0.0, 0.0, 7.8792, 0.0, 1.0, 0.0, 0.0, 1.0, 0.0)}\n",
      "{'cluster': [], 'centroid': (3.0, 0.0, 0.0, 8.6625, 0.0, 0.0, 1.0, 0.0, 0.0, 1.0)}\n",
      "{'cluster': [], 'centroid': (2.0, 0.0, 0.0, 10.5, 0.0, 0.0, 1.0, 0.0, 1.0, 0.0)}\n",
      "{'cluster': [], 'centroid': (2.0, 0.0, 0.0, 13.0, 0.0, 0.0, 1.0, 0.0, 0.0, 1.0)}\n"
     ]
    }
   ],
   "source": [
    "for i in range(k):\n",
    "    print(centroids[i])  # should be comparable to the centroid_table.head() above"
   ]
  },
  {
   "cell_type": "markdown",
   "metadata": {},
   "source": [
    "<h2>\n",
    "Done with set-up\n",
    "</h2>\n",
    "<p>\n",
    "<div class=h1_cell>\n",
    "<p>\n",
    "We chose 5 random rows and turned them into lists of numbers (AKA a point). We store that under the key `centroid`. We also set up a `cluster` list. We will add points to this list for rows that bunch around (are closest to) the centroid.\n",
    "</div>"
   ]
  },
  {
   "cell_type": "markdown",
   "metadata": {},
   "source": [
    "<h2>\n",
    "Phase 1 functions\n",
    "</h2>\n",
    "<p>\n",
    "<div class=h1_cell>\n",
    "<p>\n",
    "We will need a function to determine the closest centroid to a row. We will use a Euclidean distance function (other distance functions are possible). Then I'll wrap it up in a phase_1 function.\n",
    "</div>"
   ]
  },
  {
   "cell_type": "code",
   "execution_count": 14,
   "metadata": {
    "collapsed": true
   },
   "outputs": [],
   "source": [
    "#expects two lists of numbers, not two Series\n",
    "def euclidean_distance(vect1, vect2):\n",
    "    sum = 0\n",
    "    for i in range(len(vect1)):\n",
    "        sum += (vect1[i] - vect2[i])**2\n",
    "    return sum**.5  # I claim that this square root is not needed in K-means - why not?"
   ]
  },
  {
   "cell_type": "code",
   "execution_count": 15,
   "metadata": {
    "collapsed": true
   },
   "outputs": [],
   "source": [
    "#expects row to be list of numbers, not a Series\n",
    "def closest_centroid(centroids, row, k):\n",
    "    min_distance = euclidean_distance(centroids[0]['centroid'], row)  # use 0th centroid as starter\n",
    "    min_centroid = 0\n",
    "    for i in range(1,k):\n",
    "        distance = euclidean_distance(centroids[i]['centroid'], row)\n",
    "        if distance < min_distance:\n",
    "            min_distance = distance\n",
    "            min_centroid = i\n",
    "    return (min_centroid, min_distance)"
   ]
  },
  {
   "cell_type": "code",
   "execution_count": 16,
   "metadata": {
    "collapsed": true
   },
   "outputs": [],
   "source": [
    "def phase_1(centroids, table, features, k):\n",
    "    for i in range(k):\n",
    "        centroids[i]['cluster'] = []  # starting new phase 1 so empty out values from prior iteration\n",
    "    \n",
    "    #Go through every row in Titanic table (or Loan table) and place in closest centroid cluster.\n",
    "    for i in range(len(table)):\n",
    "        row = table.iloc[i]\n",
    "        vrow = row_to_vect(row, features)\n",
    "        (index, dist) = closest_centroid(centroids, vrow, k)\n",
    "        centroids[index]['cluster'].append(vrow)\n",
    "    \n",
    "    return centroids\n"
   ]
  },
  {
   "cell_type": "code",
   "execution_count": 17,
   "metadata": {
    "collapsed": true
   },
   "outputs": [],
   "source": [
    "centroids = phase_1(centroids, titanic_table, features_used, k)"
   ]
  },
  {
   "cell_type": "code",
   "execution_count": 18,
   "metadata": {},
   "outputs": [
    {
     "name": "stdout",
     "output_type": "stream",
     "text": [
      "(3.0, 0.0, 1.0, 10.4625, 0.0, 0.0, 1.0, 0.0, 1.0, 0.0)\n",
      "(3.0, 0.0, 0.0, 7.8792, 0.0, 1.0, 0.0, 0.0, 1.0, 0.0)\n",
      "(3.0, 0.0, 0.0, 8.6625, 0.0, 0.0, 1.0, 0.0, 0.0, 1.0)\n",
      "(2.0, 0.0, 0.0, 10.5, 0.0, 0.0, 1.0, 0.0, 1.0, 0.0)\n",
      "(2.0, 0.0, 0.0, 13.0, 0.0, 0.0, 1.0, 0.0, 0.0, 1.0)\n"
     ]
    }
   ],
   "source": [
    "#Should be the same as above - centroids don't change in phase 1\n",
    "for i in range(k):\n",
    "    print(centroids[i]['centroid'])  # should be comparable to the centroid_table.head() above"
   ]
  },
  {
   "cell_type": "code",
   "execution_count": 19,
   "metadata": {},
   "outputs": [
    {
     "name": "stdout",
     "output_type": "stream",
     "text": [
      "15\n",
      "97\n",
      "232\n",
      "28\n",
      "519\n"
     ]
    }
   ],
   "source": [
    "#Should have different cluster sizes\n",
    "for i in range(k):\n",
    "    print(len(centroids[i]['cluster']))"
   ]
  },
  {
   "cell_type": "markdown",
   "metadata": {},
   "source": [
    "<h2>\n",
    "Cool, now ready for phase 2\n",
    "</h2>\n",
    "<p>\n",
    "<div class=h1_cell>\n",
    "<p>\n",
    "As a reminder, for each centroid, we take the mean of the points in its cluster. That will be a new point. That new point is made the new centroid.\n",
    "</div>"
   ]
  },
  {
   "cell_type": "code",
   "execution_count": 20,
   "metadata": {
    "collapsed": true
   },
   "outputs": [],
   "source": [
    "#cluster is a list of points, i.e., a list of tuples.\n",
    "def compute_mean(cluster):\n",
    "    if len(cluster) == 0:\n",
    "        return []\n",
    "    the_sum = cluster[0]  # use 0th point as starter\n",
    "    \n",
    "    #I am using zip to pair up all points then do addition\n",
    "    for i in range(1,len(cluster)):\n",
    "        the_sum = [pair[0]+pair[1] for pair in zip(the_sum, cluster[i])]\n",
    "    n = len(cluster)*1.0\n",
    "    the_mean_point = [x/n for x in the_sum]\n",
    "    return the_mean_point\n",
    "    "
   ]
  },
  {
   "cell_type": "code",
   "execution_count": 21,
   "metadata": {},
   "outputs": [
    {
     "data": {
      "text/plain": [
       "[3.0,\n",
       " 0.4,\n",
       " 0.6,\n",
       " 10.427773333333333,\n",
       " 0.0,\n",
       " 0.0,\n",
       " 1.0,\n",
       " 0.0,\n",
       " 0.9333333333333333,\n",
       " 0.06666666666666667]"
      ]
     },
     "execution_count": 21,
     "metadata": {},
     "output_type": "execute_result"
    }
   ],
   "source": [
    "#test it out\n",
    "compute_mean(centroids[0]['cluster'])  # the mean point for cluster 0 which has 15 points/rows"
   ]
  },
  {
   "cell_type": "markdown",
   "metadata": {},
   "source": [
    "<h2>\n",
    "Packaging it up\n",
    "</h2>\n",
    "<p>\n",
    "<div class=h1_cell>\n",
    "<p>\n",
    "I am using the phase_2 function to recompute the mean for each of the 5 clusters. I am also checking for a stopping condition: if the Euclidean distance between the old centroid and the new one is greater than a threshold (which I get to choose) *for any centroid* then can't stop.\n",
    "</div>"
   ]
  },
  {
   "cell_type": "code",
   "execution_count": 22,
   "metadata": {
    "collapsed": true
   },
   "outputs": [],
   "source": [
    "def phase_2(centroids, k, threshold):\n",
    "    old_centroids = []\n",
    "    \n",
    "    stop = True\n",
    "    #Compute k new centroids and check for stopping condition\n",
    "    for i in range(k):\n",
    "        current_centroid = centroids[i]['centroid']\n",
    "        new_centroid = compute_mean(centroids[i]['cluster'])\n",
    "        centroids[i]['centroid'] = new_centroid\n",
    "        if euclidean_distance(current_centroid, new_centroid) > threshold:\n",
    "            stop = False  # all it takes is one\n",
    "\n",
    "    return (stop, centroids)"
   ]
  },
  {
   "cell_type": "code",
   "execution_count": 23,
   "metadata": {},
   "outputs": [
    {
     "name": "stdout",
     "output_type": "stream",
     "text": [
      "False\n"
     ]
    }
   ],
   "source": [
    "(stop, centroids) = phase_2(centroids, k, 0.0)\n",
    "print(stop)"
   ]
  },
  {
   "cell_type": "markdown",
   "metadata": {},
   "source": [
    "<h2>\n",
    "Not ready to stop\n",
    "</h2>\n",
    "<p>\n",
    "<div class=h1_cell>\n",
    "<p>\n",
    "We have completed one cycle and are not ready to stop. You can see below that the centroid values have changed significantly.\n",
    "</div>"
   ]
  },
  {
   "cell_type": "code",
   "execution_count": 24,
   "metadata": {},
   "outputs": [
    {
     "name": "stdout",
     "output_type": "stream",
     "text": [
      "[3.0, 0.4, 0.6, 10.427773333333333, 0.0, 0.0, 1.0, 0.0, 0.9333333333333333, 0.06666666666666667]\n",
      "[2.814432989690722, 0.07216494845360824, 0.041237113402061855, 6.431832989690721, 0.061855670103092786, 0.5463917525773195, 0.3917525773195876, 0.0, 0.5360824742268041, 0.4639175257731959]\n",
      "[3.0, 0.07327586206896551, 0.021551724137931036, 7.9050607758620615, 0.1336206896551724, 0.004310344827586207, 0.8620689655172413, 0.0, 0.017241379310344827, 0.9827586206896551]\n",
      "[2.107142857142857, 0.07142857142857142, 0.0, 10.60714642857143, 0.10714285714285714, 0.0, 0.8928571428571429, 0.0, 0.39285714285714285, 0.6071428571428571]\n",
      "[1.8959537572254335, 0.8362235067437379, 0.6204238921001927, 49.677592870905585, 0.2466281310211946, 0.04431599229287091, 0.7052023121387283, 0.0038535645472061657, 0.4489402697495183, 0.5510597302504817]\n"
     ]
    }
   ],
   "source": [
    "for i in range(k):\n",
    "    print(centroids[i]['centroid'])"
   ]
  },
  {
   "cell_type": "markdown",
   "metadata": {},
   "source": [
    "<h2>\n",
    "I think we can now put it all together\n",
    "</h2>\n",
    "<p>\n",
    "<div class=h1_cell>\n",
    "<p>\n",
    "We completed the first cycle by calling phase_1 and then phase_2. Let's package it up into a single function. I'll also add an upper limit on the number of cycles we want to try. I am going to package up n and the threshold as hyper parameters.\n",
    "</div>"
   ]
  },
  {
   "cell_type": "code",
   "execution_count": 25,
   "metadata": {
    "collapsed": true
   },
   "outputs": [],
   "source": [
    "def k_means(table, features, k, hypers):\n",
    "    n = 100 if 'n' not in hypers else hypers['n']\n",
    "    threshold = 0.0 if 'threshold' not in hypers else hypers['threshold']\n",
    "    \n",
    "    centroid_table = table.sample(n=k, replace=False, random_state=100)  # only random choice I am making\n",
    "    centroids = initialize_centroids(centroid_table, features)\n",
    "    \n",
    "    j = 0\n",
    "    stop = False\n",
    "    while( j < n and not stop):\n",
    "        print('starting '+str(j+1))\n",
    "        centroids = phase_1(centroids, table, features, k)\n",
    "        (stop, centroids) = phase_2(centroids, k, threshold)\n",
    "        j += 1\n",
    "    print('done')\n",
    "    return centroids"
   ]
  },
  {
   "cell_type": "code",
   "execution_count": 26,
   "metadata": {
    "scrolled": true
   },
   "outputs": [
    {
     "name": "stdout",
     "output_type": "stream",
     "text": [
      "starting 1\n",
      "starting 2\n",
      "starting 3\n",
      "starting 4\n",
      "starting 5\n",
      "starting 6\n",
      "starting 7\n",
      "starting 8\n",
      "starting 9\n",
      "starting 10\n",
      "starting 11\n",
      "starting 12\n",
      "starting 13\n",
      "done\n"
     ]
    }
   ],
   "source": [
    "final_centroids = k_means(titanic_table, features_used, k, {'n':100, 'threshold':0.0})"
   ]
  },
  {
   "cell_type": "code",
   "execution_count": 27,
   "metadata": {
    "scrolled": false
   },
   "outputs": [
    {
     "name": "stdout",
     "output_type": "stream",
     "text": [
      "[1.8093220338983051, 0.923728813559322, 0.7457627118644068, 35.159975847457616, 0.18220338983050846, 0.0423728813559322, 0.7754237288135594, 0.0, 0.3813559322033898, 0.6186440677966102]\n",
      "[1.9411764705882353, 0.0, 0.0, 0.5301470588235294, 0.058823529411764705, 0.0, 0.9411764705882353, 0.0, 0.0, 1.0]\n",
      "[2.8007662835249043, 0.23180076628352492, 0.1685823754789272, 10.546654214559398, 0.13793103448275862, 0.12452107279693486, 0.7375478927203065, 0.0, 0.2950191570881226, 0.7049808429118773]\n",
      "[1.1979166666666667, 1.1666666666666667, 0.5729166666666666, 96.82977187499999, 0.4166666666666667, 0.020833333333333332, 0.5416666666666666, 0.020833333333333332, 0.6041666666666666, 0.3958333333333333]\n",
      "[1.0, 0.75, 1.05, 279.308545, 0.6, 0.0, 0.4, 0.0, 0.6, 0.4]\n"
     ]
    }
   ],
   "source": [
    "for i in range(k):\n",
    "    print(final_centroids[i]['centroid'])"
   ]
  },
  {
   "cell_type": "code",
   "execution_count": 28,
   "metadata": {},
   "outputs": [
    {
     "name": "stdout",
     "output_type": "stream",
     "text": [
      "236\n",
      "17\n",
      "522\n",
      "96\n",
      "20\n"
     ]
    }
   ],
   "source": [
    "for i in range(k):\n",
    "    print(len(final_centroids[i]['cluster']))"
   ]
  },
  {
   "cell_type": "raw",
   "metadata": {},
   "source": [
    "First cluster lengths were (lot of shifting):\n",
    "15\n",
    "97\n",
    "232\n",
    "28\n",
    "519"
   ]
  },
  {
   "cell_type": "markdown",
   "metadata": {},
   "source": [
    "<h2>\n",
    "Final results\n",
    "</h2>\n",
    "<p>\n",
    "<div class=h1_cell>\n",
    "<p>\n",
    "Looks like we stopped after 13 cycles. We now have final centroids. You can also see how many rows each of the 5 centroids captured.\n",
    "<p>\n",
    "That is the end of the K-means process. If you want to use it on other data, you should be good to go with the functions we have above. In some cases, you won't be working with tables but instead raw values already in point form, i.e., lists of numbers. I have a project that looks at clustering sensor data using K-means. The sensor data comes already in numeric form so I can avoid the row_to_vect step.\n",
    "</div>"
   ]
  },
  {
   "cell_type": "markdown",
   "metadata": {},
   "source": [
    "<h2>\n",
    "Ok, that's K-means but not end of problem\n",
    "</h2>\n",
    "<p>\n",
    "<div class=h1_cell>\n",
    "<p>\n",
    "I now want to use my 5 centroids to predict missing values of Age, i.e., *impute* the values (jargon alert). I want to first figure out the mean age for each centroid. That is straightforward. I'll use the rows in the Titanic table that have ages. For each row with an age, I'll find its closet centroid. I'll add the `Age` value to that centroid. When I am done with all the rows, I can add up the ages for each centroid and divide by length. That will give me the mean age that goes with each centroid. I have now labeled each centroid with the mean age. That takes me from *unsupervised learning* with *non-labeled data* to *supervised learning* with *labeled data* (multiple jargon alerts).\n",
    "<p>\n",
    "I am now ready to create a new column `kmeans_age` in the Titanic table that is just the value of the `Age` column if that has a value. What if `Age` does not have a value? What goes in `kmeans_age` then? Glad you asked. You can now take the entire row with a NaN for `Age` and find its closest centroid. Use the mean age on that centroid to fill in your missing age value. Nice, huh. BTW: you now have a type of *Nearest centroid classifier* (jargon alert). This is very close to what we will look at in the next module, K-Nearest Neighbor (K-NN).\n",
    "</div>"
   ]
  },
  {
   "cell_type": "markdown",
   "metadata": {},
   "source": [
    "<h2>\n",
    "You take the wheel\n",
    "</h2>\n",
    "<p>\n",
    "<div class=h1_cell>\n",
    "<p>\n",
    "I am going to ask you to get me where I want to be. You have k_means. I'll ask you in this week's homework to finish the problem and produce `kmeans_age`. Well, actually, kmeans_LoanAmount.\n",
    "<p>\n",
    "See you over in the assignment notebook.\n",
    "</div>"
   ]
  },
  {
   "cell_type": "markdown",
   "metadata": {
    "collapsed": true
   },
   "source": [
    "<hr>\n",
    "<h1>Write it out</h1>\n",
    "<div class=h1_cell>\n",
    "\n",
    "Save the table so can use it in next module.\n",
    "</div>"
   ]
  },
  {
   "cell_type": "code",
   "execution_count": null,
   "metadata": {
    "collapsed": true
   },
   "outputs": [],
   "source": [
    "import os\n",
    "\n",
    "week = 7  # change this each week\n",
    "\n",
    "home_path =  os.path.expanduser('~')\n",
    "\n",
    "file_path = ...'\n",
    "\n",
    "file_name = 'titanic_wrangled_w'+str(week)+'.csv'\n",
    "\n",
    "titanic_table.to_csv(home_path + file_path + file_name, index=False)"
   ]
  }
 ],
 "metadata": {
  "kernelspec": {
   "display_name": "Python 2",
   "language": "python",
   "name": "python2"
  },
  "language_info": {
   "codemirror_mode": {
    "name": "ipython",
    "version": 2
   },
   "file_extension": ".py",
   "mimetype": "text/x-python",
   "name": "python",
   "nbconvert_exporter": "python",
   "pygments_lexer": "ipython2",
   "version": "2.7.14"
  }
 },
 "nbformat": 4,
 "nbformat_minor": 1
}
