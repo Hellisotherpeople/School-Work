{
 "cells": [
  {
   "cell_type": "code",
   "execution_count": 1,
   "metadata": {},
   "outputs": [
    {
     "data": {
      "text/html": [
       "<style>\n",
       ".h1_cell, .just_text {\n",
       "    box-sizing: border-box;\n",
       "    padding-top:5px;\n",
       "    padding-bottom:5px;\n",
       "    font-family: \"Times New Roman\", Georgia, Serif;\n",
       "    font-size: 125%;\n",
       "    line-height: 22px; /* 5px +12px + 5px */\n",
       "    text-indent: 25px;\n",
       "    background-color: #fbfbea;\n",
       "    padding: 10px;\n",
       "}\n",
       "\n",
       "hr { \n",
       "    display: block;\n",
       "    margin-top: 0.5em;\n",
       "    margin-bottom: 0.5em;\n",
       "    margin-left: auto;\n",
       "    margin-right: auto;\n",
       "    border-style: inset;\n",
       "    border-width: 2px;\n",
       "}\n",
       "</style>"
      ],
      "text/plain": [
       "<IPython.core.display.HTML object>"
      ]
     },
     "metadata": {},
     "output_type": "display_data"
    }
   ],
   "source": [
    "%%html\n",
    "<style>\n",
    ".h1_cell, .just_text {\n",
    "    box-sizing: border-box;\n",
    "    padding-top:5px;\n",
    "    padding-bottom:5px;\n",
    "    font-family: \"Times New Roman\", Georgia, Serif;\n",
    "    font-size: 125%;\n",
    "    line-height: 22px; /* 5px +12px + 5px */\n",
    "    text-indent: 25px;\n",
    "    background-color: #fbfbea;\n",
    "    padding: 10px;\n",
    "}\n",
    "\n",
    "hr { \n",
    "    display: block;\n",
    "    margin-top: 0.5em;\n",
    "    margin-bottom: 0.5em;\n",
    "    margin-left: auto;\n",
    "    margin-right: auto;\n",
    "    border-style: inset;\n",
    "    border-width: 2px;\n",
    "}\n",
    "</style>"
   ]
  },
  {
   "cell_type": "markdown",
   "metadata": {},
   "source": [
    "<h1>\n",
    "<center>\n",
    "Module 5: First look at Bias-Variance Tradeoff\n",
    "</center>\n",
    "</h1>\n",
    "<div class=h1_cell>\n",
    "<p>\n",
    "There is a classic problem with machine learning models using labeled data (i.e., supervised learning). Typically you are given training data and you build your model from that. Once you have your model, you can release into the wild where it will start working with new data coming from the world. The problem is that your model can suffer from one of two problems: (1) your model is too weak and underfits the training data or (2) your model is too strong and overfits the training data. The former is called *bias*. High bias can cause a model to miss the relevant relations between columns/features and the target output. Think of our prediction tree that was a stump using only `sex_female` as a column. It ignored all other columns. Think of this predictor as highly biased to liking one column. If it was less biased (more egalitarian) it would have included most if not all the columns.\n",
    "<p>\n",
    "In terms of overfitting, it seems strange to say a model is too strong. What is really meant is that the model pays too much attention to the nuances of the training data. It obtains high accuracy by modeling the random noise in the training data. This is called high *variance*. Take the Titanic data. What if a model used the `Name` column as a predictor. We could get 100% accuracy from this. The `Name` column has unique values. We could just assign each unique name to the correct output (Survived, Perished). How would this predictor do when looking at new data not in the training set? Not very well. I claim the `Name` column has random noise in terms of its raw values.\n",
    "<p>\n",
    "Caveat 1: I am claiming that the *raw* name value is noise in terms of prediction. That said, I think it could be useful to wrangle the `Name` column a bit to pull out useful info from the raw values. For instance, I see salutations like Master, Reverend, Miss, Honorable, etc. These indeed might carry information. Maybe they identify passengers of \"high class\" that were let on the lifeboats. We could wrangle a new binary column `upper_class` that is formed by looking for salutations in the Name column.\n",
    "<p>\n",
    "Caveat 2: the drawback of using the Titanic data is that it is hard to see beyond the training data. Our Titanic models will not be released for future use. There will not be another Titanic built. So maybe better to think of the Loan Table. The models you build for it could definitely be released for future use. If good enough, I suppose they could replace human loan-agents in a bank.\n",
    "<p>\n",
    "We will study a variety of methods for handling the Bias-Variance tradeoff in the coming weeks. We are looking for a sweet spot where there is not too much underfitting and not too much overfitting. This week we will try a technique called k-fold cross-validation.\n",
    "<p>\n",
    "Let's bring in our previous results now.\n",
    "</div>"
   ]
  },
  {
   "cell_type": "code",
   "execution_count": 2,
   "metadata": {},
   "outputs": [
    {
     "data": {
      "text/plain": [
       "u'0.20.3'"
      ]
     },
     "execution_count": 2,
     "metadata": {},
     "output_type": "execute_result"
    }
   ],
   "source": [
    "import pandas as pd\n",
    "import os\n",
    "\n",
    "week = 4  # from last module\n",
    "\n",
    "home_path =  os.path.expanduser('~')\n",
    "\n",
    "file_path = '/Dropbox/cis399_ds1_f17/notebook_history/'\n",
    "\n",
    "file_name = 'titanic_wrangled_w'+str(week)+'.csv'\n",
    "\n",
    "titanic_table = pd.read_csv(home_path + file_path + file_name)\n",
    "\n",
    "pd.__version__  # should see 0.20.3 or higher"
   ]
  },
  {
   "cell_type": "code",
   "execution_count": 3,
   "metadata": {
    "collapsed": true
   },
   "outputs": [],
   "source": [
    "pd.set_option('display.max_columns', None)"
   ]
  },
  {
   "cell_type": "code",
   "execution_count": 4,
   "metadata": {},
   "outputs": [
    {
     "name": "stdout",
     "output_type": "stream",
     "text": [
      "Already up-to-date.\r\n"
     ]
    }
   ],
   "source": [
    "os.chdir(home_path + '/Dropbox/cis399_ds1_f17/week_libraries/datascience_1')\n",
    "!git pull"
   ]
  },
  {
   "cell_type": "code",
   "execution_count": 5,
   "metadata": {
    "collapsed": true
   },
   "outputs": [],
   "source": [
    "import sys\n",
    "sys.path.append(home_path + '/Dropbox/cis399_ds1_f17/week_libraries/datascience_1')"
   ]
  },
  {
   "cell_type": "code",
   "execution_count": 6,
   "metadata": {},
   "outputs": [
    {
     "name": "stdout",
     "output_type": "stream",
     "text": [
      "accuracy\t build_pred\t build_tree_iter\t compute_prediction\t f1\t find_best_splitter\t generate_table\t gig\t gini\t \n",
      "informedness\t predictor_case\t probabilities\t tree_predictor\t \n"
     ]
    }
   ],
   "source": [
    "from week4 import *\n",
    "\n",
    "%who function"
   ]
  },
  {
   "cell_type": "code",
   "execution_count": 7,
   "metadata": {
    "scrolled": true
   },
   "outputs": [
    {
     "data": {
      "text/html": [
       "<div>\n",
       "<style>\n",
       "    .dataframe thead tr:only-child th {\n",
       "        text-align: right;\n",
       "    }\n",
       "\n",
       "    .dataframe thead th {\n",
       "        text-align: left;\n",
       "    }\n",
       "\n",
       "    .dataframe tbody tr th {\n",
       "        vertical-align: top;\n",
       "    }\n",
       "</style>\n",
       "<table border=\"1\" class=\"dataframe\">\n",
       "  <thead>\n",
       "    <tr style=\"text-align: right;\">\n",
       "      <th></th>\n",
       "      <th>Survived</th>\n",
       "      <th>Pclass</th>\n",
       "      <th>Name</th>\n",
       "      <th>Sex</th>\n",
       "      <th>Age</th>\n",
       "      <th>SibSp</th>\n",
       "      <th>Parch</th>\n",
       "      <th>Ticket</th>\n",
       "      <th>Fare</th>\n",
       "      <th>Cabin</th>\n",
       "      <th>Embarked</th>\n",
       "      <th>no_age</th>\n",
       "      <th>filled_age</th>\n",
       "      <th>emb_C</th>\n",
       "      <th>emb_Q</th>\n",
       "      <th>emb_S</th>\n",
       "      <th>emb_nan</th>\n",
       "      <th>age_bin</th>\n",
       "      <th>age_Child</th>\n",
       "      <th>age_Adult</th>\n",
       "      <th>age_Senior</th>\n",
       "      <th>sex_female</th>\n",
       "      <th>sex_male</th>\n",
       "      <th>ok_child</th>\n",
       "      <th>pclass_1</th>\n",
       "      <th>pclass_2</th>\n",
       "      <th>pclass_3</th>\n",
       "      <th>pclass_nan</th>\n",
       "      <th>tree_1</th>\n",
       "      <th>tree_1_type</th>\n",
       "      <th>tree_2</th>\n",
       "      <th>tree_2_type</th>\n",
       "      <th>tree_3</th>\n",
       "      <th>tree_3_type</th>\n",
       "      <th>tree_4</th>\n",
       "      <th>tree_4_type</th>\n",
       "      <th>tree_5</th>\n",
       "      <th>tree_5_type</th>\n",
       "    </tr>\n",
       "  </thead>\n",
       "  <tbody>\n",
       "    <tr>\n",
       "      <th>0</th>\n",
       "      <td>0</td>\n",
       "      <td>3</td>\n",
       "      <td>Braund, Mr. Owen Harris</td>\n",
       "      <td>male</td>\n",
       "      <td>22.0</td>\n",
       "      <td>1</td>\n",
       "      <td>0</td>\n",
       "      <td>A/5 21171</td>\n",
       "      <td>7.25</td>\n",
       "      <td>NaN</td>\n",
       "      <td>S</td>\n",
       "      <td>0</td>\n",
       "      <td>22.0</td>\n",
       "      <td>0</td>\n",
       "      <td>0</td>\n",
       "      <td>1</td>\n",
       "      <td>0</td>\n",
       "      <td>Child</td>\n",
       "      <td>1</td>\n",
       "      <td>0</td>\n",
       "      <td>0</td>\n",
       "      <td>0</td>\n",
       "      <td>1</td>\n",
       "      <td>0</td>\n",
       "      <td>0</td>\n",
       "      <td>0</td>\n",
       "      <td>1</td>\n",
       "      <td>0</td>\n",
       "      <td>0</td>\n",
       "      <td>true_negative</td>\n",
       "      <td>0</td>\n",
       "      <td>true_negative</td>\n",
       "      <td>0</td>\n",
       "      <td>true_negative</td>\n",
       "      <td>0</td>\n",
       "      <td>true_negative</td>\n",
       "      <td>0</td>\n",
       "      <td>true_negative</td>\n",
       "    </tr>\n",
       "  </tbody>\n",
       "</table>\n",
       "</div>"
      ],
      "text/plain": [
       "   Survived  Pclass                     Name   Sex   Age  SibSp  Parch  \\\n",
       "0         0       3  Braund, Mr. Owen Harris  male  22.0      1      0   \n",
       "\n",
       "      Ticket  Fare Cabin Embarked  no_age  filled_age  emb_C  emb_Q  emb_S  \\\n",
       "0  A/5 21171  7.25   NaN        S       0        22.0      0      0      1   \n",
       "\n",
       "   emb_nan age_bin  age_Child  age_Adult  age_Senior  sex_female  sex_male  \\\n",
       "0        0   Child          1          0           0           0         1   \n",
       "\n",
       "   ok_child  pclass_1  pclass_2  pclass_3  pclass_nan  tree_1    tree_1_type  \\\n",
       "0         0         0         0         1           0       0  true_negative   \n",
       "\n",
       "   tree_2    tree_2_type  tree_3    tree_3_type  tree_4    tree_4_type  \\\n",
       "0       0  true_negative       0  true_negative       0  true_negative   \n",
       "\n",
       "   tree_5    tree_5_type  \n",
       "0       0  true_negative  "
      ]
     },
     "execution_count": 7,
     "metadata": {},
     "output_type": "execute_result"
    }
   ],
   "source": [
    "titanic_table.head(1)"
   ]
  },
  {
   "cell_type": "markdown",
   "metadata": {},
   "source": [
    "<h2>\n",
    "Drop columns from last module\n",
    "</h2>\n",
    "<div class=h1_cell>\n",
    "<p>\n",
    "We have been using Titanic table to store our tree exploration. That worked ok in the last module but we need something more general now. I want to keep our exploration results in a separate table and not pollute the Titanic table with exploration data. First things first: drop the exploration columns from last week.\n",
    "</div>"
   ]
  },
  {
   "cell_type": "code",
   "execution_count": 8,
   "metadata": {},
   "outputs": [
    {
     "data": {
      "text/html": [
       "<div>\n",
       "<style>\n",
       "    .dataframe thead tr:only-child th {\n",
       "        text-align: right;\n",
       "    }\n",
       "\n",
       "    .dataframe thead th {\n",
       "        text-align: left;\n",
       "    }\n",
       "\n",
       "    .dataframe tbody tr th {\n",
       "        vertical-align: top;\n",
       "    }\n",
       "</style>\n",
       "<table border=\"1\" class=\"dataframe\">\n",
       "  <thead>\n",
       "    <tr style=\"text-align: right;\">\n",
       "      <th></th>\n",
       "      <th>Survived</th>\n",
       "      <th>Pclass</th>\n",
       "      <th>Name</th>\n",
       "      <th>Sex</th>\n",
       "      <th>Age</th>\n",
       "      <th>SibSp</th>\n",
       "      <th>Parch</th>\n",
       "      <th>Ticket</th>\n",
       "      <th>Fare</th>\n",
       "      <th>Cabin</th>\n",
       "      <th>Embarked</th>\n",
       "      <th>no_age</th>\n",
       "      <th>filled_age</th>\n",
       "      <th>emb_C</th>\n",
       "      <th>emb_Q</th>\n",
       "      <th>emb_S</th>\n",
       "      <th>emb_nan</th>\n",
       "      <th>age_bin</th>\n",
       "      <th>age_Child</th>\n",
       "      <th>age_Adult</th>\n",
       "      <th>age_Senior</th>\n",
       "      <th>sex_female</th>\n",
       "      <th>sex_male</th>\n",
       "      <th>ok_child</th>\n",
       "      <th>pclass_1</th>\n",
       "      <th>pclass_2</th>\n",
       "      <th>pclass_3</th>\n",
       "      <th>pclass_nan</th>\n",
       "    </tr>\n",
       "  </thead>\n",
       "  <tbody>\n",
       "    <tr>\n",
       "      <th>0</th>\n",
       "      <td>0</td>\n",
       "      <td>3</td>\n",
       "      <td>Braund, Mr. Owen Harris</td>\n",
       "      <td>male</td>\n",
       "      <td>22.0</td>\n",
       "      <td>1</td>\n",
       "      <td>0</td>\n",
       "      <td>A/5 21171</td>\n",
       "      <td>7.25</td>\n",
       "      <td>NaN</td>\n",
       "      <td>S</td>\n",
       "      <td>0</td>\n",
       "      <td>22.0</td>\n",
       "      <td>0</td>\n",
       "      <td>0</td>\n",
       "      <td>1</td>\n",
       "      <td>0</td>\n",
       "      <td>Child</td>\n",
       "      <td>1</td>\n",
       "      <td>0</td>\n",
       "      <td>0</td>\n",
       "      <td>0</td>\n",
       "      <td>1</td>\n",
       "      <td>0</td>\n",
       "      <td>0</td>\n",
       "      <td>0</td>\n",
       "      <td>1</td>\n",
       "      <td>0</td>\n",
       "    </tr>\n",
       "  </tbody>\n",
       "</table>\n",
       "</div>"
      ],
      "text/plain": [
       "   Survived  Pclass                     Name   Sex   Age  SibSp  Parch  \\\n",
       "0         0       3  Braund, Mr. Owen Harris  male  22.0      1      0   \n",
       "\n",
       "      Ticket  Fare Cabin Embarked  no_age  filled_age  emb_C  emb_Q  emb_S  \\\n",
       "0  A/5 21171  7.25   NaN        S       0        22.0      0      0      1   \n",
       "\n",
       "   emb_nan age_bin  age_Child  age_Adult  age_Senior  sex_female  sex_male  \\\n",
       "0        0   Child          1          0           0           0         1   \n",
       "\n",
       "   ok_child  pclass_1  pclass_2  pclass_3  pclass_nan  \n",
       "0         0         0         0         1           0  "
      ]
     },
     "execution_count": 8,
     "metadata": {},
     "output_type": "execute_result"
    }
   ],
   "source": [
    "titanic_table = titanic_table.drop(['tree_1', 'tree_1_type', 'tree_2', 'tree_2_type', 'tree_3', 'tree_3_type', 'tree_4', 'tree_4_type', 'tree_5', 'tree_5_type'], axis=1)\n",
    "titanic_table.head(1)"
   ]
  },
  {
   "cell_type": "markdown",
   "metadata": {},
   "source": [
    "<h2>\n",
    "Using both a training set and a testing set\n",
    "</h2>\n",
    "<div class=h1_cell>\n",
    "<p>\n",
    "In the prior module we judged the goodness of our trees based on their accuracy, f1 and informedness scores. But you may have noticed that we used the same data to both train and test our trees. This exacerbates the risk of bias and variance. One idea to avoid this problem is to train on part of the data and test on the other part of the data. Let's see how we can do that.\n",
    "<p>\n",
    "The standard approach is to take 2/3 of the data as training and hold out 1/3 as testing.\n",
    "</div>"
   ]
  },
  {
   "cell_type": "code",
   "execution_count": 9,
   "metadata": {},
   "outputs": [
    {
     "data": {
      "text/plain": [
       "594"
      ]
     },
     "execution_count": 9,
     "metadata": {},
     "output_type": "execute_result"
    }
   ],
   "source": [
    "total_len = len(titanic_table.index)\n",
    "split_boundary = int(total_len*(2/3.0))\n",
    "split_boundary"
   ]
  },
  {
   "cell_type": "markdown",
   "metadata": {},
   "source": [
    "\n",
    "<div class=h1_cell>\n",
    "<p>\n",
    "You can use a slice operator on a table just like you can on a list. Cool.\n",
    "</div>"
   ]
  },
  {
   "cell_type": "code",
   "execution_count": 10,
   "metadata": {},
   "outputs": [
    {
     "name": "stdout",
     "output_type": "stream",
     "text": [
      "594\n",
      "297\n"
     ]
    }
   ],
   "source": [
    "training_table = titanic_table[0:split_boundary]  # 0-593\n",
    "test_table = titanic_table[split_boundary:]       # 594 to 890\n",
    "print(len(training_table))\n",
    "print(len(test_table))"
   ]
  },
  {
   "cell_type": "markdown",
   "metadata": {},
   "source": [
    "<div class=h1_cell>\n",
    "Now we can build a tree using training data. I am going to use a max-depth of 3.\n",
    "</div>"
   ]
  },
  {
   "cell_type": "code",
   "execution_count": 11,
   "metadata": {
    "collapsed": true
   },
   "outputs": [],
   "source": [
    "splitter_columns = [\n",
    " 'emb_C',\n",
    " 'emb_Q',\n",
    " 'emb_S',\n",
    " 'emb_nan',\n",
    " 'age_Child',\n",
    " 'age_Adult',\n",
    " 'age_Senior',\n",
    " 'no_age',\n",
    " 'ok_child',\n",
    " 'sex_female',\n",
    " 'sex_male', \n",
    " 'pclass_1',\n",
    " 'pclass_2',\n",
    " 'pclass_3',\n",
    " 'pclass_nan'\n",
    "]"
   ]
  },
  {
   "cell_type": "code",
   "execution_count": 12,
   "metadata": {},
   "outputs": [
    {
     "data": {
      "text/plain": [
       "[{'conjunction': [('sex_female_1', <function week4.<lambda>>),\n",
       "   ('pclass_3_1', <function week4.<lambda>>),\n",
       "   ('emb_Q_1', <function week4.<lambda>>)],\n",
       "  'gig_score': 0.05562746548323472,\n",
       "  'prediction': 1},\n",
       " {'conjunction': [('sex_female_1', <function week4.<lambda>>),\n",
       "   ('pclass_3_1', <function week4.<lambda>>),\n",
       "   ('emb_Q_0', <function week4.<lambda>>)],\n",
       "  'gig_score': 0.05562746548323472,\n",
       "  'prediction': 0},\n",
       " {'conjunction': [('sex_female_1', <function week4.<lambda>>),\n",
       "   ('pclass_3_0', <function week4.<lambda>>),\n",
       "   ('age_Child_1', <function week4.<lambda>>)],\n",
       "  'gig_score': 0.0015571657971864689,\n",
       "  'prediction': 1},\n",
       " {'conjunction': [('sex_female_1', <function week4.<lambda>>),\n",
       "   ('pclass_3_0', <function week4.<lambda>>),\n",
       "   ('age_Child_0', <function week4.<lambda>>)],\n",
       "  'gig_score': 0.0015571657971864689,\n",
       "  'prediction': 1},\n",
       " {'conjunction': [('sex_female_0', <function week4.<lambda>>),\n",
       "   ('ok_child_1', <function week4.<lambda>>),\n",
       "   ('pclass_3_1', <function week4.<lambda>>)],\n",
       "  'gig_score': 0.31604938271604943,\n",
       "  'prediction': 0},\n",
       " {'conjunction': [('sex_female_0', <function week4.<lambda>>),\n",
       "   ('ok_child_1', <function week4.<lambda>>),\n",
       "   ('pclass_3_0', <function week4.<lambda>>)],\n",
       "  'gig_score': 0.31604938271604943,\n",
       "  'prediction': 1},\n",
       " {'conjunction': [('sex_female_0', <function week4.<lambda>>),\n",
       "   ('ok_child_0', <function week4.<lambda>>),\n",
       "   ('pclass_1_1', <function week4.<lambda>>)],\n",
       "  'gig_score': 0.00659144709414522,\n",
       "  'prediction': 0},\n",
       " {'conjunction': [('sex_female_0', <function week4.<lambda>>),\n",
       "   ('ok_child_0', <function week4.<lambda>>),\n",
       "   ('pclass_1_0', <function week4.<lambda>>)],\n",
       "  'gig_score': 0.00659144709414522,\n",
       "  'prediction': 0}]"
      ]
     },
     "execution_count": 12,
     "metadata": {},
     "output_type": "execute_result"
    }
   ],
   "source": [
    "#Notice using training_table not titanic_table\n",
    "\n",
    "tree_train = build_tree_iter(training_table, splitter_columns, 'Survived', {'max-depth':3})\n",
    "tree_train['paths']"
   ]
  },
  {
   "cell_type": "markdown",
   "metadata": {},
   "source": [
    "<div class=h1_cell>\n",
    "Now that we have our tree, let's automate a bit of code from last module. I'll define a function that will compute a temporary table to hold the predictions and actuals. I'll then produce a Series object, `types`, with the 4 cases. I'll return it in a nice dictionary-like format.\n",
    "</div>"
   ]
  },
  {
   "cell_type": "code",
   "execution_count": 13,
   "metadata": {
    "collapsed": true
   },
   "outputs": [],
   "source": [
    "def caser(table, tree, target):\n",
    "    scratch_table = pd.DataFrame(columns=['prediction', 'actual'])\n",
    "    scratch_table['prediction'] = table.apply(lambda row: tree_predictor(row, tree), axis=1)\n",
    "    scratch_table['actual'] = table[target]  # just copy the target column\n",
    "    cases = scratch_table.apply(lambda row: predictor_case(row, pred='prediction', target='actual'), axis=1)\n",
    "    return cases.value_counts()"
   ]
  },
  {
   "cell_type": "code",
   "execution_count": 14,
   "metadata": {},
   "outputs": [
    {
     "data": {
      "text/plain": [
       "true_negative     349\n",
       "true_positive     139\n",
       "false_negative     95\n",
       "false_positive     11\n",
       "dtype: int64"
      ]
     },
     "execution_count": 14,
     "metadata": {},
     "output_type": "execute_result"
    }
   ],
   "source": [
    "train_cases = caser(training_table, tree_train, 'Survived')\n",
    "train_cases"
   ]
  },
  {
   "cell_type": "markdown",
   "metadata": {},
   "source": [
    "<h2>\n",
    "Let's get serious about saving our results\n",
    "</h2>\n",
    "<div class=h1_cell>\n",
    "<p>\n",
    "Up until now we have been storing our testing results in the Titanic table itself. I'd like to stop doing that. I am going to define a new table (a new Dataframe) to hold the results of various training and testing we do.\n",
    "\n",
    "</div>"
   ]
  },
  {
   "cell_type": "code",
   "execution_count": 15,
   "metadata": {
    "collapsed": true
   },
   "outputs": [],
   "source": [
    "columns = ['name', 'true_positive', 'false_positive', 'true_negative', 'false_negative',\n",
    "           'accuracy', 'f1', 'informedness']\n",
    "results_table = pd.DataFrame(columns=columns)  # empty for now"
   ]
  },
  {
   "cell_type": "markdown",
   "metadata": {},
   "source": [
    "<div class=h1_cell>\n",
    "The table is currently empty. I'll use each row to record my exploration results. I'll start by adding what I get from using my training data, i.e., `train_cases` from above. Notice that the Series object we used for appending (i.e., `train_cases`) has some but not all of the columns defined.\n",
    "</div>"
   ]
  },
  {
   "cell_type": "code",
   "execution_count": 16,
   "metadata": {},
   "outputs": [
    {
     "data": {
      "text/html": [
       "<div>\n",
       "<style>\n",
       "    .dataframe thead tr:only-child th {\n",
       "        text-align: right;\n",
       "    }\n",
       "\n",
       "    .dataframe thead th {\n",
       "        text-align: left;\n",
       "    }\n",
       "\n",
       "    .dataframe tbody tr th {\n",
       "        vertical-align: top;\n",
       "    }\n",
       "</style>\n",
       "<table border=\"1\" class=\"dataframe\">\n",
       "  <thead>\n",
       "    <tr style=\"text-align: right;\">\n",
       "      <th></th>\n",
       "      <th>name</th>\n",
       "      <th>true_positive</th>\n",
       "      <th>false_positive</th>\n",
       "      <th>true_negative</th>\n",
       "      <th>false_negative</th>\n",
       "      <th>accuracy</th>\n",
       "      <th>f1</th>\n",
       "      <th>informedness</th>\n",
       "    </tr>\n",
       "  </thead>\n",
       "  <tbody>\n",
       "    <tr>\n",
       "      <th>0</th>\n",
       "      <td>NaN</td>\n",
       "      <td>139.0</td>\n",
       "      <td>11.0</td>\n",
       "      <td>349.0</td>\n",
       "      <td>95.0</td>\n",
       "      <td>NaN</td>\n",
       "      <td>NaN</td>\n",
       "      <td>NaN</td>\n",
       "    </tr>\n",
       "  </tbody>\n",
       "</table>\n",
       "</div>"
      ],
      "text/plain": [
       "   name  true_positive  false_positive  true_negative  false_negative  \\\n",
       "0   NaN          139.0            11.0          349.0            95.0   \n",
       "\n",
       "   accuracy  f1  informedness  \n",
       "0       NaN NaN           NaN  "
      ]
     },
     "execution_count": 16,
     "metadata": {},
     "output_type": "execute_result"
    }
   ],
   "source": [
    "results_table = results_table.append(train_cases,ignore_index=True)\n",
    "results_table.head()"
   ]
  },
  {
   "cell_type": "markdown",
   "metadata": {},
   "source": [
    "<div class=h1_cell>\n",
    "I'll keep appending rows onto the end of the table so will need to know what the last row's index is. I could try to maintain that myself in some variable I define. But I'd rather just used the `last_valid_index` method built in to pandas.\n",
    "</div>"
   ]
  },
  {
   "cell_type": "code",
   "execution_count": 17,
   "metadata": {
    "collapsed": true
   },
   "outputs": [],
   "source": [
    "end = results_table.last_valid_index()  # should be 0 in this case - just one row"
   ]
  },
  {
   "cell_type": "markdown",
   "metadata": {},
   "source": [
    "<div class=h1_cell>\n",
    "I am now ready to fill out the missing columns for the row I just added. I'll do that now.\n",
    "</div>"
   ]
  },
  {
   "cell_type": "code",
   "execution_count": 18,
   "metadata": {},
   "outputs": [
    {
     "name": "stderr",
     "output_type": "stream",
     "text": [
      "/Users/fickas/anaconda2/lib/python2.7/site-packages/pandas/core/indexing.py:179: SettingWithCopyWarning: \n",
      "A value is trying to be set on a copy of a slice from a DataFrame\n",
      "\n",
      "See the caveats in the documentation: http://pandas.pydata.org/pandas-docs/stable/indexing.html#indexing-view-versus-copy\n",
      "  self._setitem_with_indexer(indexer, value)\n"
     ]
    },
    {
     "data": {
      "text/html": [
       "<div>\n",
       "<style>\n",
       "    .dataframe thead tr:only-child th {\n",
       "        text-align: right;\n",
       "    }\n",
       "\n",
       "    .dataframe thead th {\n",
       "        text-align: left;\n",
       "    }\n",
       "\n",
       "    .dataframe tbody tr th {\n",
       "        vertical-align: top;\n",
       "    }\n",
       "</style>\n",
       "<table border=\"1\" class=\"dataframe\">\n",
       "  <thead>\n",
       "    <tr style=\"text-align: right;\">\n",
       "      <th></th>\n",
       "      <th>name</th>\n",
       "      <th>true_positive</th>\n",
       "      <th>false_positive</th>\n",
       "      <th>true_negative</th>\n",
       "      <th>false_negative</th>\n",
       "      <th>accuracy</th>\n",
       "      <th>f1</th>\n",
       "      <th>informedness</th>\n",
       "    </tr>\n",
       "  </thead>\n",
       "  <tbody>\n",
       "    <tr>\n",
       "      <th>0</th>\n",
       "      <td>tree training</td>\n",
       "      <td>139.0</td>\n",
       "      <td>11.0</td>\n",
       "      <td>349.0</td>\n",
       "      <td>95.0</td>\n",
       "      <td>0.821549</td>\n",
       "      <td>0.723958</td>\n",
       "      <td>0.563462</td>\n",
       "    </tr>\n",
       "  </tbody>\n",
       "</table>\n",
       "</div>"
      ],
      "text/plain": [
       "            name  true_positive  false_positive  true_negative  \\\n",
       "0  tree training          139.0            11.0          349.0   \n",
       "\n",
       "   false_negative  accuracy        f1  informedness  \n",
       "0            95.0  0.821549  0.723958      0.563462  "
      ]
     },
     "execution_count": 18,
     "metadata": {},
     "output_type": "execute_result"
    }
   ],
   "source": [
    "results_table.name.iloc[end] =  'tree training'\n",
    "results_table.accuracy.iloc[end] =  accuracy(train_cases)\n",
    "results_table.f1.iloc[end] =  f1(train_cases)\n",
    "results_table.informedness.iloc[end] =  informedness(train_cases)\n",
    "\n",
    "results_table.head()"
   ]
  },
  {
   "cell_type": "markdown",
   "metadata": {},
   "source": [
    "<div class=h1_cell>\n",
    "Ok, now let's use the same tree but check it out on the test data, i.e., the 30% we held out.\n",
    "</div>"
   ]
  },
  {
   "cell_type": "code",
   "execution_count": 19,
   "metadata": {},
   "outputs": [
    {
     "data": {
      "text/plain": [
       "true_negative     182\n",
       "true_positive      57\n",
       "false_negative     51\n",
       "false_positive      7\n",
       "dtype: int64"
      ]
     },
     "execution_count": 19,
     "metadata": {},
     "output_type": "execute_result"
    }
   ],
   "source": [
    "test_cases = caser(test_table, tree_train, 'Survived')\n",
    "test_cases"
   ]
  },
  {
   "cell_type": "code",
   "execution_count": 20,
   "metadata": {},
   "outputs": [
    {
     "data": {
      "text/html": [
       "<div>\n",
       "<style>\n",
       "    .dataframe thead tr:only-child th {\n",
       "        text-align: right;\n",
       "    }\n",
       "\n",
       "    .dataframe thead th {\n",
       "        text-align: left;\n",
       "    }\n",
       "\n",
       "    .dataframe tbody tr th {\n",
       "        vertical-align: top;\n",
       "    }\n",
       "</style>\n",
       "<table border=\"1\" class=\"dataframe\">\n",
       "  <thead>\n",
       "    <tr style=\"text-align: right;\">\n",
       "      <th></th>\n",
       "      <th>name</th>\n",
       "      <th>true_positive</th>\n",
       "      <th>false_positive</th>\n",
       "      <th>true_negative</th>\n",
       "      <th>false_negative</th>\n",
       "      <th>accuracy</th>\n",
       "      <th>f1</th>\n",
       "      <th>informedness</th>\n",
       "    </tr>\n",
       "  </thead>\n",
       "  <tbody>\n",
       "    <tr>\n",
       "      <th>0</th>\n",
       "      <td>tree training</td>\n",
       "      <td>139.0</td>\n",
       "      <td>11.0</td>\n",
       "      <td>349.0</td>\n",
       "      <td>95.0</td>\n",
       "      <td>0.821549</td>\n",
       "      <td>0.723958</td>\n",
       "      <td>0.563462</td>\n",
       "    </tr>\n",
       "    <tr>\n",
       "      <th>1</th>\n",
       "      <td>tree test</td>\n",
       "      <td>57.0</td>\n",
       "      <td>7.0</td>\n",
       "      <td>182.0</td>\n",
       "      <td>51.0</td>\n",
       "      <td>0.804714</td>\n",
       "      <td>0.662791</td>\n",
       "      <td>0.490741</td>\n",
       "    </tr>\n",
       "  </tbody>\n",
       "</table>\n",
       "</div>"
      ],
      "text/plain": [
       "            name  true_positive  false_positive  true_negative  \\\n",
       "0  tree training          139.0            11.0          349.0   \n",
       "1      tree test           57.0             7.0          182.0   \n",
       "\n",
       "   false_negative  accuracy        f1  informedness  \n",
       "0            95.0  0.821549  0.723958      0.563462  \n",
       "1            51.0  0.804714  0.662791      0.490741  "
      ]
     },
     "execution_count": 20,
     "metadata": {},
     "output_type": "execute_result"
    }
   ],
   "source": [
    "results_table = results_table.append(test_cases,ignore_index=True)\n",
    "end = results_table.last_valid_index()\n",
    "results_table.name.iloc[end] =  'tree test'\n",
    "results_table.accuracy.iloc[end] =  accuracy(test_cases)\n",
    "results_table.f1.iloc[end] =  f1(test_cases)\n",
    "results_table.informedness.iloc[end] =  informedness(test_cases)\n",
    "\n",
    "results_table.head()"
   ]
  },
  {
   "cell_type": "markdown",
   "metadata": {},
   "source": [
    "<div class=h1_cell>\n",
    "Hmmmm. All our scores dropped when using the separate test data. This is almost always the case, typically caused by overfitting on the training set (high variance).\n",
    "</div>"
   ]
  },
  {
   "cell_type": "markdown",
   "metadata": {},
   "source": [
    "<h2>\n",
    "Ok, let's generalize\n",
    "</h2>\n",
    "<p>\n",
    "<div class=h1_cell>\n",
    "<p>\n",
    "What we are doing is called cross-validation: breaking our data up into training and testing sets. I'd like to push a bit harder on the cross-validation idea. I suggest we try more than just one split for training/testing. Try a bunch out then average their results. There are many ways we can consider generating a separate set of splits. I am going to focus on a standard approach called K-Folding. The general idea is that we divide the table into K partitions or folds. We then build K trees from various combinations of the folds and do K tests, one for each tree. Where does K come from? You get to choose. I will use K=5 below but K=10 is more common.\n",
    "<p>\n",
    "Even with this standard algorithm there are variations on how you select the K folds. I am going to use a sequential approach, splitting into folds along the row indices. So my first fold will be from 0 to i, my next fold from i+1 to j, etc.\n",
    "<p>\n",
    "I'll also refer to the folds as slices.\n",
    "</div>"
   ]
  },
  {
   "cell_type": "code",
   "execution_count": 21,
   "metadata": {},
   "outputs": [
    {
     "data": {
      "text/plain": [
       "178"
      ]
     },
     "execution_count": 21,
     "metadata": {},
     "output_type": "execute_result"
    }
   ],
   "source": [
    "k = 5  # more often 10\n",
    "\n",
    "total_len = len(titanic_table.index)\n",
    "slice_size = int(1.0/k*total_len)\n",
    "slice_size"
   ]
  },
  {
   "cell_type": "code",
   "execution_count": 22,
   "metadata": {
    "collapsed": true
   },
   "outputs": [],
   "source": [
    "slice_1 = titanic_table[0:slice_size]\n",
    "slice_2 = titanic_table[1*slice_size:2*slice_size]\n",
    "slice_3 = titanic_table[2*slice_size:3*slice_size]\n",
    "slice_4 = titanic_table[3*slice_size:4*slice_size]\n",
    "slice_5 = titanic_table[4*slice_size:]"
   ]
  },
  {
   "cell_type": "markdown",
   "metadata": {},
   "source": [
    "<div class=h1_cell>\n",
    "Now that I have my 5 folds/slices, I'll take the first step: train on 4 of the slices and test on the remaining slice. \n",
    "</div>"
   ]
  },
  {
   "cell_type": "code",
   "execution_count": 23,
   "metadata": {},
   "outputs": [
    {
     "data": {
      "text/plain": [
       "713"
      ]
     },
     "execution_count": 23,
     "metadata": {},
     "output_type": "execute_result"
    }
   ],
   "source": [
    "fold1_test_table = slice_1\n",
    "fold1_train_table = pd.concat([slice_2, slice_3, slice_4, slice_5])\n",
    "len(fold1_train_table)"
   ]
  },
  {
   "cell_type": "markdown",
   "metadata": {},
   "source": [
    "<div class=h1_cell>\n",
    "Keep plodding along until I have 5 training sets and 5 test sets. \n",
    "</div>"
   ]
  },
  {
   "cell_type": "code",
   "execution_count": 24,
   "metadata": {},
   "outputs": [
    {
     "data": {
      "text/plain": [
       "713"
      ]
     },
     "execution_count": 24,
     "metadata": {},
     "output_type": "execute_result"
    }
   ],
   "source": [
    "fold2_test_table = slice_2\n",
    "fold2_train_table = pd.concat([slice_1, slice_3, slice_4, slice_5])\n",
    "len(fold2_train_table)"
   ]
  },
  {
   "cell_type": "code",
   "execution_count": 25,
   "metadata": {},
   "outputs": [
    {
     "data": {
      "text/plain": [
       "713"
      ]
     },
     "execution_count": 25,
     "metadata": {},
     "output_type": "execute_result"
    }
   ],
   "source": [
    "fold3_test_table = slice_3\n",
    "fold3_train_table = pd.concat([slice_1, slice_2, slice_4, slice_5])\n",
    "len(fold3_train_table)"
   ]
  },
  {
   "cell_type": "code",
   "execution_count": 26,
   "metadata": {},
   "outputs": [
    {
     "data": {
      "text/plain": [
       "713"
      ]
     },
     "execution_count": 26,
     "metadata": {},
     "output_type": "execute_result"
    }
   ],
   "source": [
    "fold4_test_table = slice_4\n",
    "fold4_train_table = pd.concat([slice_1, slice_2, slice_3, slice_5])\n",
    "len(fold4_train_table)"
   ]
  },
  {
   "cell_type": "code",
   "execution_count": 27,
   "metadata": {},
   "outputs": [
    {
     "data": {
      "text/plain": [
       "712"
      ]
     },
     "execution_count": 27,
     "metadata": {},
     "output_type": "execute_result"
    }
   ],
   "source": [
    "fold5_test_table = slice_5\n",
    "fold5_train_table = pd.concat([slice_1, slice_2, slice_3, slice_4])\n",
    "len(fold5_train_table)"
   ]
  },
  {
   "cell_type": "markdown",
   "metadata": {},
   "source": [
    "<h2>\n",
    "Try fold-set number 1\n",
    "</h2>\n",
    "<p>\n",
    "<div class=h1_cell>\n",
    "Whew. We now have 5 pairs of training and test. I'll try the first fold and see how it goes. First I'll build a tree from the training slice then test it with the test slice.\n",
    "\n",
    "</div>"
   ]
  },
  {
   "cell_type": "code",
   "execution_count": 28,
   "metadata": {
    "collapsed": true
   },
   "outputs": [],
   "source": [
    "fold1_tree = build_tree_iter(fold1_train_table, splitter_columns, 'Survived', {'max-depth':3})  # train"
   ]
  },
  {
   "cell_type": "code",
   "execution_count": 29,
   "metadata": {
    "collapsed": true
   },
   "outputs": [],
   "source": [
    "fold1_cases = caser(fold1_test_table, fold1_tree, 'Survived')  # test"
   ]
  },
  {
   "cell_type": "markdown",
   "metadata": {},
   "source": [
    "<h2>\n",
    "Create a new table to hold our results\n",
    "</h2>\n",
    "<p>\n",
    "<div class=h1_cell>\n",
    "I know I have a results table from the 70/30 split. I decided to build a new table of results because we are now using something new: K-folding. I'll still use the old columns, though. I am using `hyper5_` to remind myself that K is 5. \n",
    "\n",
    "</div>"
   ]
  },
  {
   "cell_type": "code",
   "execution_count": 30,
   "metadata": {
    "collapsed": true
   },
   "outputs": [],
   "source": [
    "hyper5_results_table = pd.DataFrame(columns=columns)"
   ]
  },
  {
   "cell_type": "code",
   "execution_count": 31,
   "metadata": {},
   "outputs": [
    {
     "data": {
      "text/html": [
       "<div>\n",
       "<style>\n",
       "    .dataframe thead tr:only-child th {\n",
       "        text-align: right;\n",
       "    }\n",
       "\n",
       "    .dataframe thead th {\n",
       "        text-align: left;\n",
       "    }\n",
       "\n",
       "    .dataframe tbody tr th {\n",
       "        vertical-align: top;\n",
       "    }\n",
       "</style>\n",
       "<table border=\"1\" class=\"dataframe\">\n",
       "  <thead>\n",
       "    <tr style=\"text-align: right;\">\n",
       "      <th></th>\n",
       "      <th>name</th>\n",
       "      <th>true_positive</th>\n",
       "      <th>false_positive</th>\n",
       "      <th>true_negative</th>\n",
       "      <th>false_negative</th>\n",
       "      <th>accuracy</th>\n",
       "      <th>f1</th>\n",
       "      <th>informedness</th>\n",
       "    </tr>\n",
       "  </thead>\n",
       "  <tbody>\n",
       "    <tr>\n",
       "      <th>0</th>\n",
       "      <td>fold1 test</td>\n",
       "      <td>34.0</td>\n",
       "      <td>9.0</td>\n",
       "      <td>110.0</td>\n",
       "      <td>25.0</td>\n",
       "      <td>0.808989</td>\n",
       "      <td>0.666667</td>\n",
       "      <td>0.500641</td>\n",
       "    </tr>\n",
       "  </tbody>\n",
       "</table>\n",
       "</div>"
      ],
      "text/plain": [
       "         name  true_positive  false_positive  true_negative  false_negative  \\\n",
       "0  fold1 test           34.0             9.0          110.0            25.0   \n",
       "\n",
       "   accuracy        f1  informedness  \n",
       "0  0.808989  0.666667      0.500641  "
      ]
     },
     "execution_count": 31,
     "metadata": {},
     "output_type": "execute_result"
    }
   ],
   "source": [
    "hyper5_results_table = hyper5_results_table.append(fold1_cases,ignore_index=True)\n",
    "end = hyper5_results_table.last_valid_index()\n",
    "hyper5_results_table.name.iloc[end] =  'fold1 test'\n",
    "hyper5_results_table.accuracy.iloc[end] =  accuracy(fold1_cases)\n",
    "hyper5_results_table.f1.iloc[end] =  f1(fold1_cases)\n",
    "hyper5_results_table.informedness.iloc[end] =  informedness(fold1_cases)\n",
    "\n",
    "hyper5_results_table.head()"
   ]
  },
  {
   "cell_type": "markdown",
   "metadata": {},
   "source": [
    "<h2>\n",
    "Ok, now for fold 2\n",
    "</h2>\n",
    "<p>\n",
    "<div class=h1_cell>\n",
    "We now have results from the first fold-set. Let's try the next.\n",
    "\n",
    "</div>"
   ]
  },
  {
   "cell_type": "code",
   "execution_count": 32,
   "metadata": {},
   "outputs": [
    {
     "data": {
      "text/html": [
       "<div>\n",
       "<style>\n",
       "    .dataframe thead tr:only-child th {\n",
       "        text-align: right;\n",
       "    }\n",
       "\n",
       "    .dataframe thead th {\n",
       "        text-align: left;\n",
       "    }\n",
       "\n",
       "    .dataframe tbody tr th {\n",
       "        vertical-align: top;\n",
       "    }\n",
       "</style>\n",
       "<table border=\"1\" class=\"dataframe\">\n",
       "  <thead>\n",
       "    <tr style=\"text-align: right;\">\n",
       "      <th></th>\n",
       "      <th>name</th>\n",
       "      <th>true_positive</th>\n",
       "      <th>false_positive</th>\n",
       "      <th>true_negative</th>\n",
       "      <th>false_negative</th>\n",
       "      <th>accuracy</th>\n",
       "      <th>f1</th>\n",
       "      <th>informedness</th>\n",
       "    </tr>\n",
       "  </thead>\n",
       "  <tbody>\n",
       "    <tr>\n",
       "      <th>0</th>\n",
       "      <td>fold1 test</td>\n",
       "      <td>34.0</td>\n",
       "      <td>9.0</td>\n",
       "      <td>110.0</td>\n",
       "      <td>25.0</td>\n",
       "      <td>0.808989</td>\n",
       "      <td>0.666667</td>\n",
       "      <td>0.500641</td>\n",
       "    </tr>\n",
       "    <tr>\n",
       "      <th>1</th>\n",
       "      <td>fold2 test</td>\n",
       "      <td>48.0</td>\n",
       "      <td>5.0</td>\n",
       "      <td>95.0</td>\n",
       "      <td>30.0</td>\n",
       "      <td>0.803371</td>\n",
       "      <td>0.732824</td>\n",
       "      <td>0.565385</td>\n",
       "    </tr>\n",
       "  </tbody>\n",
       "</table>\n",
       "</div>"
      ],
      "text/plain": [
       "         name  true_positive  false_positive  true_negative  false_negative  \\\n",
       "0  fold1 test           34.0             9.0          110.0            25.0   \n",
       "1  fold2 test           48.0             5.0           95.0            30.0   \n",
       "\n",
       "   accuracy        f1  informedness  \n",
       "0  0.808989  0.666667      0.500641  \n",
       "1  0.803371  0.732824      0.565385  "
      ]
     },
     "execution_count": 32,
     "metadata": {},
     "output_type": "execute_result"
    }
   ],
   "source": [
    "fold2_tree = build_tree_iter(fold2_train_table, splitter_columns, 'Survived', {'max-depth':3})\n",
    "fold2_cases = caser(fold2_test_table, fold2_tree, 'Survived')\n",
    "hyper5_results_table = hyper5_results_table.append(fold2_cases,ignore_index=True)\n",
    "end = hyper5_results_table.last_valid_index()\n",
    "hyper5_results_table.name.iloc[end] =  'fold2 test'\n",
    "hyper5_results_table.accuracy.iloc[end] =  accuracy(fold2_cases)\n",
    "hyper5_results_table.f1.iloc[end] =  f1(fold2_cases)\n",
    "hyper5_results_table.informedness.iloc[end] =  informedness(fold2_cases)\n",
    "\n",
    "hyper5_results_table.head()"
   ]
  },
  {
   "cell_type": "markdown",
   "metadata": {},
   "source": [
    "<h2>\n",
    "Kind of tedious\n",
    "</h2>\n",
    "<p>\n",
    "<div class=h1_cell>\n",
    "I could keep going with the remaining 3. But when I move to K=10, it's a bit much to repeat all this 10 times for the 10 folds. So let's build a new function to do it for us. First, I'll define a helper function that given a list of slices and an index, will create a new list of slices with the index slice left out. Why? Because we need something to compute the training table and will use this function to get the necessary slices.\n",
    "</div>"
   ]
  },
  {
   "cell_type": "code",
   "execution_count": 33,
   "metadata": {
    "collapsed": true
   },
   "outputs": [],
   "source": [
    "def compute_training(slices, left_out):\n",
    "    training_slices = []\n",
    "    for i in range(len(slices)):\n",
    "        if i == left_out:\n",
    "            continue\n",
    "        training_slices.append(slices[i])\n",
    "    return pd.concat(training_slices)  # note we are returning a table (DataFrame)"
   ]
  },
  {
   "cell_type": "markdown",
   "metadata": {},
   "source": [
    "<h2>\n",
    "Ready to automate\n",
    "</h2>\n",
    "<p>\n",
    "<div class=h1_cell>\n",
    "I'll define a function that takes as arguments (a) the big table, (b) value for K, (c) the target column, (e) the hyper parameters to be used in building a model, and (f) the candidate columns to build the splitters from.\n",
    "<p>\n",
    "The function's output will be a results table. Notice I also added a comment onto the table to help me remember what hyper parameteres I was using.\n",
    "</div>"
   ]
  },
  {
   "cell_type": "code",
   "execution_count": 34,
   "metadata": {
    "collapsed": true
   },
   "outputs": [],
   "source": [
    "def k_fold(table, k, target, hypers, candidate_columns):\n",
    "    result_columns = ['name', 'true_positive', 'false_positive', 'true_negative', 'false_negative', 'accuracy', 'f1', 'informedness']\n",
    "    k_fold_results_table = pd.DataFrame(columns=result_columns)\n",
    "    \n",
    "    total_len = len(table.index)\n",
    "    slice_size = int(total_len/(1.0*k))\n",
    "    slices = []\n",
    "\n",
    "    #generate the slices\n",
    "    for i in range(k-1):\n",
    "        a_slice =  table[i*slice_size:(i+1)*slice_size]\n",
    "        slices.append( a_slice )\n",
    "    slices.append( table[(k-1)*slice_size:] )  # whatever is left\n",
    "    \n",
    "    #generate test results\n",
    "    for i in range(k):\n",
    "        test_table = slices[i]\n",
    "        train_table = compute_training(slices, i)\n",
    "        fold_tree = build_tree_iter(train_table, candidate_columns, target, hypers)  # train\n",
    "        fold_cases = caser(test_table, fold_tree, target)  # test\n",
    "\n",
    "        k_fold_results_table = k_fold_results_table.append(fold_cases,ignore_index=True)\n",
    "        end = k_fold_results_table.last_valid_index()\n",
    "        k_fold_results_table.name.iloc[end] =  'fold '+str(i+1)+' test'\n",
    "        k_fold_results_table.accuracy.iloc[end] =  accuracy(fold_cases)\n",
    "        k_fold_results_table.f1.iloc[end] =  f1(fold_cases)\n",
    "        k_fold_results_table.informedness.iloc[end] =  informedness(fold_cases)\n",
    "        \n",
    "    k_fold_results_table.__doc__ = str(hypers)  # adds comment to remind me of hyper params used\n",
    "    return k_fold_results_table"
   ]
  },
  {
   "cell_type": "markdown",
   "metadata": {},
   "source": [
    "<h2>\n",
    "Let's try it out with default hyper params\n",
    "</h2>\n",
    "<p>\n",
    "<div class=h1_cell>\n",
    "I'll use K=5 and default values for hyper-parameters.\n",
    "</div>"
   ]
  },
  {
   "cell_type": "code",
   "execution_count": 35,
   "metadata": {
    "collapsed": true
   },
   "outputs": [],
   "source": [
    "default5_table = k_fold(titanic_table, 5, 'Survived', {}, splitter_columns)  # max-depth=4"
   ]
  },
  {
   "cell_type": "code",
   "execution_count": 36,
   "metadata": {},
   "outputs": [
    {
     "data": {
      "text/plain": [
       "'{}'"
      ]
     },
     "execution_count": 36,
     "metadata": {},
     "output_type": "execute_result"
    }
   ],
   "source": [
    "default5_table.__doc__  # will be empty dict because we are using default values"
   ]
  },
  {
   "cell_type": "code",
   "execution_count": 37,
   "metadata": {},
   "outputs": [
    {
     "data": {
      "text/html": [
       "<div>\n",
       "<style>\n",
       "    .dataframe thead tr:only-child th {\n",
       "        text-align: right;\n",
       "    }\n",
       "\n",
       "    .dataframe thead th {\n",
       "        text-align: left;\n",
       "    }\n",
       "\n",
       "    .dataframe tbody tr th {\n",
       "        vertical-align: top;\n",
       "    }\n",
       "</style>\n",
       "<table border=\"1\" class=\"dataframe\">\n",
       "  <thead>\n",
       "    <tr style=\"text-align: right;\">\n",
       "      <th></th>\n",
       "      <th>name</th>\n",
       "      <th>true_positive</th>\n",
       "      <th>false_positive</th>\n",
       "      <th>true_negative</th>\n",
       "      <th>false_negative</th>\n",
       "      <th>accuracy</th>\n",
       "      <th>f1</th>\n",
       "      <th>informedness</th>\n",
       "    </tr>\n",
       "  </thead>\n",
       "  <tbody>\n",
       "    <tr>\n",
       "      <th>0</th>\n",
       "      <td>fold 1 test</td>\n",
       "      <td>34.0</td>\n",
       "      <td>9.0</td>\n",
       "      <td>110.0</td>\n",
       "      <td>25.0</td>\n",
       "      <td>0.808989</td>\n",
       "      <td>0.666667</td>\n",
       "      <td>0.500641</td>\n",
       "    </tr>\n",
       "    <tr>\n",
       "      <th>1</th>\n",
       "      <td>fold 2 test</td>\n",
       "      <td>51.0</td>\n",
       "      <td>5.0</td>\n",
       "      <td>95.0</td>\n",
       "      <td>27.0</td>\n",
       "      <td>0.820225</td>\n",
       "      <td>0.761194</td>\n",
       "      <td>0.603846</td>\n",
       "    </tr>\n",
       "    <tr>\n",
       "      <th>2</th>\n",
       "      <td>fold 3 test</td>\n",
       "      <td>46.0</td>\n",
       "      <td>5.0</td>\n",
       "      <td>103.0</td>\n",
       "      <td>24.0</td>\n",
       "      <td>0.837079</td>\n",
       "      <td>0.760331</td>\n",
       "      <td>0.610847</td>\n",
       "    </tr>\n",
       "    <tr>\n",
       "      <th>3</th>\n",
       "      <td>fold 4 test</td>\n",
       "      <td>38.0</td>\n",
       "      <td>6.0</td>\n",
       "      <td>101.0</td>\n",
       "      <td>33.0</td>\n",
       "      <td>0.780899</td>\n",
       "      <td>0.660870</td>\n",
       "      <td>0.479137</td>\n",
       "    </tr>\n",
       "    <tr>\n",
       "      <th>4</th>\n",
       "      <td>fold 5 test</td>\n",
       "      <td>41.0</td>\n",
       "      <td>5.0</td>\n",
       "      <td>110.0</td>\n",
       "      <td>23.0</td>\n",
       "      <td>0.843575</td>\n",
       "      <td>0.745455</td>\n",
       "      <td>0.597147</td>\n",
       "    </tr>\n",
       "  </tbody>\n",
       "</table>\n",
       "</div>"
      ],
      "text/plain": [
       "          name  true_positive  false_positive  true_negative  false_negative  \\\n",
       "0  fold 1 test           34.0             9.0          110.0            25.0   \n",
       "1  fold 2 test           51.0             5.0           95.0            27.0   \n",
       "2  fold 3 test           46.0             5.0          103.0            24.0   \n",
       "3  fold 4 test           38.0             6.0          101.0            33.0   \n",
       "4  fold 5 test           41.0             5.0          110.0            23.0   \n",
       "\n",
       "   accuracy        f1  informedness  \n",
       "0  0.808989  0.666667      0.500641  \n",
       "1  0.820225  0.761194      0.603846  \n",
       "2  0.837079  0.760331      0.610847  \n",
       "3  0.780899  0.660870      0.479137  \n",
       "4  0.843575  0.745455      0.597147  "
      ]
     },
     "execution_count": 37,
     "metadata": {},
     "output_type": "execute_result"
    }
   ],
   "source": [
    "default5_table.head()  # since K=5 this will show all the rows"
   ]
  },
  {
   "cell_type": "code",
   "execution_count": 38,
   "metadata": {},
   "outputs": [
    {
     "data": {
      "text/html": [
       "<div>\n",
       "<style>\n",
       "    .dataframe thead tr:only-child th {\n",
       "        text-align: right;\n",
       "    }\n",
       "\n",
       "    .dataframe thead th {\n",
       "        text-align: left;\n",
       "    }\n",
       "\n",
       "    .dataframe tbody tr th {\n",
       "        vertical-align: top;\n",
       "    }\n",
       "</style>\n",
       "<table border=\"1\" class=\"dataframe\">\n",
       "  <thead>\n",
       "    <tr style=\"text-align: right;\">\n",
       "      <th></th>\n",
       "      <th>true_positive</th>\n",
       "      <th>false_positive</th>\n",
       "      <th>true_negative</th>\n",
       "      <th>false_negative</th>\n",
       "      <th>accuracy</th>\n",
       "      <th>f1</th>\n",
       "      <th>informedness</th>\n",
       "    </tr>\n",
       "  </thead>\n",
       "  <tbody>\n",
       "    <tr>\n",
       "      <th>count</th>\n",
       "      <td>5.000000</td>\n",
       "      <td>5.000000</td>\n",
       "      <td>5.000000</td>\n",
       "      <td>5.000000</td>\n",
       "      <td>5.000000</td>\n",
       "      <td>5.000000</td>\n",
       "      <td>5.000000</td>\n",
       "    </tr>\n",
       "    <tr>\n",
       "      <th>mean</th>\n",
       "      <td>42.000000</td>\n",
       "      <td>6.000000</td>\n",
       "      <td>103.800000</td>\n",
       "      <td>26.400000</td>\n",
       "      <td>0.818153</td>\n",
       "      <td>0.718903</td>\n",
       "      <td>0.558323</td>\n",
       "    </tr>\n",
       "    <tr>\n",
       "      <th>std</th>\n",
       "      <td>6.670832</td>\n",
       "      <td>1.732051</td>\n",
       "      <td>6.379655</td>\n",
       "      <td>3.974921</td>\n",
       "      <td>0.024903</td>\n",
       "      <td>0.050760</td>\n",
       "      <td>0.063119</td>\n",
       "    </tr>\n",
       "    <tr>\n",
       "      <th>min</th>\n",
       "      <td>34.000000</td>\n",
       "      <td>5.000000</td>\n",
       "      <td>95.000000</td>\n",
       "      <td>23.000000</td>\n",
       "      <td>0.780899</td>\n",
       "      <td>0.660870</td>\n",
       "      <td>0.479137</td>\n",
       "    </tr>\n",
       "    <tr>\n",
       "      <th>25%</th>\n",
       "      <td>38.000000</td>\n",
       "      <td>5.000000</td>\n",
       "      <td>101.000000</td>\n",
       "      <td>24.000000</td>\n",
       "      <td>0.808989</td>\n",
       "      <td>0.666667</td>\n",
       "      <td>0.500641</td>\n",
       "    </tr>\n",
       "    <tr>\n",
       "      <th>50%</th>\n",
       "      <td>41.000000</td>\n",
       "      <td>5.000000</td>\n",
       "      <td>103.000000</td>\n",
       "      <td>25.000000</td>\n",
       "      <td>0.820225</td>\n",
       "      <td>0.745455</td>\n",
       "      <td>0.597147</td>\n",
       "    </tr>\n",
       "    <tr>\n",
       "      <th>75%</th>\n",
       "      <td>46.000000</td>\n",
       "      <td>6.000000</td>\n",
       "      <td>110.000000</td>\n",
       "      <td>27.000000</td>\n",
       "      <td>0.837079</td>\n",
       "      <td>0.760331</td>\n",
       "      <td>0.603846</td>\n",
       "    </tr>\n",
       "    <tr>\n",
       "      <th>max</th>\n",
       "      <td>51.000000</td>\n",
       "      <td>9.000000</td>\n",
       "      <td>110.000000</td>\n",
       "      <td>33.000000</td>\n",
       "      <td>0.843575</td>\n",
       "      <td>0.761194</td>\n",
       "      <td>0.610847</td>\n",
       "    </tr>\n",
       "  </tbody>\n",
       "</table>\n",
       "</div>"
      ],
      "text/plain": [
       "       true_positive  false_positive  true_negative  false_negative  accuracy  \\\n",
       "count       5.000000        5.000000       5.000000        5.000000  5.000000   \n",
       "mean       42.000000        6.000000     103.800000       26.400000  0.818153   \n",
       "std         6.670832        1.732051       6.379655        3.974921  0.024903   \n",
       "min        34.000000        5.000000      95.000000       23.000000  0.780899   \n",
       "25%        38.000000        5.000000     101.000000       24.000000  0.808989   \n",
       "50%        41.000000        5.000000     103.000000       25.000000  0.820225   \n",
       "75%        46.000000        6.000000     110.000000       27.000000  0.837079   \n",
       "max        51.000000        9.000000     110.000000       33.000000  0.843575   \n",
       "\n",
       "             f1  informedness  \n",
       "count  5.000000      5.000000  \n",
       "mean   0.718903      0.558323  \n",
       "std    0.050760      0.063119  \n",
       "min    0.660870      0.479137  \n",
       "25%    0.666667      0.500641  \n",
       "50%    0.745455      0.597147  \n",
       "75%    0.760331      0.603846  \n",
       "max    0.761194      0.610847  "
      ]
     },
     "execution_count": 38,
     "metadata": {},
     "output_type": "execute_result"
    }
   ],
   "source": [
    "default5_table.describe()  # can use this to see mean of columns"
   ]
  },
  {
   "cell_type": "markdown",
   "metadata": {},
   "source": [
    "<h2>\n",
    "Tuning hyper-parameters\n",
    "</h2>\n",
    "<p>\n",
    "<div class=h1_cell>\n",
    "We have 2 hyper-parameters. I'll concentrate on max-depth. I have the results for the default max-depth (i.e., 4) above. The means from the 5 folds are (0.818153,\t0.718903,\t0.558323).\n",
    "<p>\n",
    "I'll now try changing the max-depth to 3 and see how we do. As reminder, we did this in the last module and got a result that was the same as with max-depth 4. But that was using same data for training and testing. Now let's see if K-folding gives us a different answer.\n",
    "</div>"
   ]
  },
  {
   "cell_type": "code",
   "execution_count": 39,
   "metadata": {},
   "outputs": [
    {
     "data": {
      "text/html": [
       "<div>\n",
       "<style>\n",
       "    .dataframe thead tr:only-child th {\n",
       "        text-align: right;\n",
       "    }\n",
       "\n",
       "    .dataframe thead th {\n",
       "        text-align: left;\n",
       "    }\n",
       "\n",
       "    .dataframe tbody tr th {\n",
       "        vertical-align: top;\n",
       "    }\n",
       "</style>\n",
       "<table border=\"1\" class=\"dataframe\">\n",
       "  <thead>\n",
       "    <tr style=\"text-align: right;\">\n",
       "      <th></th>\n",
       "      <th>name</th>\n",
       "      <th>true_positive</th>\n",
       "      <th>false_positive</th>\n",
       "      <th>true_negative</th>\n",
       "      <th>false_negative</th>\n",
       "      <th>accuracy</th>\n",
       "      <th>f1</th>\n",
       "      <th>informedness</th>\n",
       "    </tr>\n",
       "  </thead>\n",
       "  <tbody>\n",
       "    <tr>\n",
       "      <th>0</th>\n",
       "      <td>fold 1 test</td>\n",
       "      <td>34.0</td>\n",
       "      <td>9.0</td>\n",
       "      <td>110.0</td>\n",
       "      <td>25.0</td>\n",
       "      <td>0.808989</td>\n",
       "      <td>0.666667</td>\n",
       "      <td>0.500641</td>\n",
       "    </tr>\n",
       "    <tr>\n",
       "      <th>1</th>\n",
       "      <td>fold 2 test</td>\n",
       "      <td>48.0</td>\n",
       "      <td>5.0</td>\n",
       "      <td>95.0</td>\n",
       "      <td>30.0</td>\n",
       "      <td>0.803371</td>\n",
       "      <td>0.732824</td>\n",
       "      <td>0.565385</td>\n",
       "    </tr>\n",
       "    <tr>\n",
       "      <th>2</th>\n",
       "      <td>fold 3 test</td>\n",
       "      <td>46.0</td>\n",
       "      <td>5.0</td>\n",
       "      <td>103.0</td>\n",
       "      <td>24.0</td>\n",
       "      <td>0.837079</td>\n",
       "      <td>0.760331</td>\n",
       "      <td>0.610847</td>\n",
       "    </tr>\n",
       "    <tr>\n",
       "      <th>3</th>\n",
       "      <td>fold 4 test</td>\n",
       "      <td>38.0</td>\n",
       "      <td>6.0</td>\n",
       "      <td>101.0</td>\n",
       "      <td>33.0</td>\n",
       "      <td>0.780899</td>\n",
       "      <td>0.660870</td>\n",
       "      <td>0.479137</td>\n",
       "    </tr>\n",
       "    <tr>\n",
       "      <th>4</th>\n",
       "      <td>fold 5 test</td>\n",
       "      <td>38.0</td>\n",
       "      <td>5.0</td>\n",
       "      <td>110.0</td>\n",
       "      <td>26.0</td>\n",
       "      <td>0.826816</td>\n",
       "      <td>0.710280</td>\n",
       "      <td>0.550272</td>\n",
       "    </tr>\n",
       "  </tbody>\n",
       "</table>\n",
       "</div>"
      ],
      "text/plain": [
       "          name  true_positive  false_positive  true_negative  false_negative  \\\n",
       "0  fold 1 test           34.0             9.0          110.0            25.0   \n",
       "1  fold 2 test           48.0             5.0           95.0            30.0   \n",
       "2  fold 3 test           46.0             5.0          103.0            24.0   \n",
       "3  fold 4 test           38.0             6.0          101.0            33.0   \n",
       "4  fold 5 test           38.0             5.0          110.0            26.0   \n",
       "\n",
       "   accuracy        f1  informedness  \n",
       "0  0.808989  0.666667      0.500641  \n",
       "1  0.803371  0.732824      0.565385  \n",
       "2  0.837079  0.760331      0.610847  \n",
       "3  0.780899  0.660870      0.479137  \n",
       "4  0.826816  0.710280      0.550272  "
      ]
     },
     "execution_count": 39,
     "metadata": {},
     "output_type": "execute_result"
    }
   ],
   "source": [
    "max3_table = k_fold(titanic_table, 5, 'Survived', {'max-depth':3}, splitter_columns)\n",
    "max3_table"
   ]
  },
  {
   "cell_type": "code",
   "execution_count": 40,
   "metadata": {},
   "outputs": [
    {
     "data": {
      "text/plain": [
       "\"{'max-depth': 3}\""
      ]
     },
     "execution_count": 40,
     "metadata": {},
     "output_type": "execute_result"
    }
   ],
   "source": [
    "max3_table.__doc__"
   ]
  },
  {
   "cell_type": "code",
   "execution_count": 41,
   "metadata": {},
   "outputs": [
    {
     "data": {
      "text/html": [
       "<div>\n",
       "<style>\n",
       "    .dataframe thead tr:only-child th {\n",
       "        text-align: right;\n",
       "    }\n",
       "\n",
       "    .dataframe thead th {\n",
       "        text-align: left;\n",
       "    }\n",
       "\n",
       "    .dataframe tbody tr th {\n",
       "        vertical-align: top;\n",
       "    }\n",
       "</style>\n",
       "<table border=\"1\" class=\"dataframe\">\n",
       "  <thead>\n",
       "    <tr style=\"text-align: right;\">\n",
       "      <th></th>\n",
       "      <th>true_positive</th>\n",
       "      <th>false_positive</th>\n",
       "      <th>true_negative</th>\n",
       "      <th>false_negative</th>\n",
       "      <th>accuracy</th>\n",
       "      <th>f1</th>\n",
       "      <th>informedness</th>\n",
       "    </tr>\n",
       "  </thead>\n",
       "  <tbody>\n",
       "    <tr>\n",
       "      <th>count</th>\n",
       "      <td>5.000000</td>\n",
       "      <td>5.000000</td>\n",
       "      <td>5.000000</td>\n",
       "      <td>5.000000</td>\n",
       "      <td>5.000000</td>\n",
       "      <td>5.000000</td>\n",
       "      <td>5.000000</td>\n",
       "    </tr>\n",
       "    <tr>\n",
       "      <th>mean</th>\n",
       "      <td>40.800000</td>\n",
       "      <td>6.000000</td>\n",
       "      <td>103.800000</td>\n",
       "      <td>27.600000</td>\n",
       "      <td>0.811431</td>\n",
       "      <td>0.706194</td>\n",
       "      <td>0.541256</td>\n",
       "    </tr>\n",
       "    <tr>\n",
       "      <th>std</th>\n",
       "      <td>5.932959</td>\n",
       "      <td>1.732051</td>\n",
       "      <td>6.379655</td>\n",
       "      <td>3.781534</td>\n",
       "      <td>0.021781</td>\n",
       "      <td>0.042642</td>\n",
       "      <td>0.052476</td>\n",
       "    </tr>\n",
       "    <tr>\n",
       "      <th>min</th>\n",
       "      <td>34.000000</td>\n",
       "      <td>5.000000</td>\n",
       "      <td>95.000000</td>\n",
       "      <td>24.000000</td>\n",
       "      <td>0.780899</td>\n",
       "      <td>0.660870</td>\n",
       "      <td>0.479137</td>\n",
       "    </tr>\n",
       "    <tr>\n",
       "      <th>25%</th>\n",
       "      <td>38.000000</td>\n",
       "      <td>5.000000</td>\n",
       "      <td>101.000000</td>\n",
       "      <td>25.000000</td>\n",
       "      <td>0.803371</td>\n",
       "      <td>0.666667</td>\n",
       "      <td>0.500641</td>\n",
       "    </tr>\n",
       "    <tr>\n",
       "      <th>50%</th>\n",
       "      <td>38.000000</td>\n",
       "      <td>5.000000</td>\n",
       "      <td>103.000000</td>\n",
       "      <td>26.000000</td>\n",
       "      <td>0.808989</td>\n",
       "      <td>0.710280</td>\n",
       "      <td>0.550272</td>\n",
       "    </tr>\n",
       "    <tr>\n",
       "      <th>75%</th>\n",
       "      <td>46.000000</td>\n",
       "      <td>6.000000</td>\n",
       "      <td>110.000000</td>\n",
       "      <td>30.000000</td>\n",
       "      <td>0.826816</td>\n",
       "      <td>0.732824</td>\n",
       "      <td>0.565385</td>\n",
       "    </tr>\n",
       "    <tr>\n",
       "      <th>max</th>\n",
       "      <td>48.000000</td>\n",
       "      <td>9.000000</td>\n",
       "      <td>110.000000</td>\n",
       "      <td>33.000000</td>\n",
       "      <td>0.837079</td>\n",
       "      <td>0.760331</td>\n",
       "      <td>0.610847</td>\n",
       "    </tr>\n",
       "  </tbody>\n",
       "</table>\n",
       "</div>"
      ],
      "text/plain": [
       "       true_positive  false_positive  true_negative  false_negative  accuracy  \\\n",
       "count       5.000000        5.000000       5.000000        5.000000  5.000000   \n",
       "mean       40.800000        6.000000     103.800000       27.600000  0.811431   \n",
       "std         5.932959        1.732051       6.379655        3.781534  0.021781   \n",
       "min        34.000000        5.000000      95.000000       24.000000  0.780899   \n",
       "25%        38.000000        5.000000     101.000000       25.000000  0.803371   \n",
       "50%        38.000000        5.000000     103.000000       26.000000  0.808989   \n",
       "75%        46.000000        6.000000     110.000000       30.000000  0.826816   \n",
       "max        48.000000        9.000000     110.000000       33.000000  0.837079   \n",
       "\n",
       "             f1  informedness  \n",
       "count  5.000000      5.000000  \n",
       "mean   0.706194      0.541256  \n",
       "std    0.042642      0.052476  \n",
       "min    0.660870      0.479137  \n",
       "25%    0.666667      0.500641  \n",
       "50%    0.710280      0.550272  \n",
       "75%    0.732824      0.565385  \n",
       "max    0.760331      0.610847  "
      ]
     },
     "execution_count": 41,
     "metadata": {},
     "output_type": "execute_result"
    }
   ],
   "source": [
    "max3_table.describe()"
   ]
  },
  {
   "cell_type": "markdown",
   "metadata": {},
   "source": [
    "<div class=h1_cell>\n",
    "<p>\n",
    "Here are our means from depth 4: (0.818153\t0.718903\t0.558323).\n",
    "<p>\n",
    "Here are our means from depth 3: (0.811431\t0.706194\t0.541256).\n",
    "<p>\n",
    "Using 5-folds, we lost a little ground when going from 4 to 3.\n",
    "<p>\n",
    "Let's try depth 2. Note that by decreasing the depth, we are moving the needle away from high variance but towards high bias.\n",
    "</div>"
   ]
  },
  {
   "cell_type": "code",
   "execution_count": 42,
   "metadata": {
    "scrolled": true
   },
   "outputs": [
    {
     "data": {
      "text/html": [
       "<div>\n",
       "<style>\n",
       "    .dataframe thead tr:only-child th {\n",
       "        text-align: right;\n",
       "    }\n",
       "\n",
       "    .dataframe thead th {\n",
       "        text-align: left;\n",
       "    }\n",
       "\n",
       "    .dataframe tbody tr th {\n",
       "        vertical-align: top;\n",
       "    }\n",
       "</style>\n",
       "<table border=\"1\" class=\"dataframe\">\n",
       "  <thead>\n",
       "    <tr style=\"text-align: right;\">\n",
       "      <th></th>\n",
       "      <th>name</th>\n",
       "      <th>true_positive</th>\n",
       "      <th>false_positive</th>\n",
       "      <th>true_negative</th>\n",
       "      <th>false_negative</th>\n",
       "      <th>accuracy</th>\n",
       "      <th>f1</th>\n",
       "      <th>informedness</th>\n",
       "    </tr>\n",
       "  </thead>\n",
       "  <tbody>\n",
       "    <tr>\n",
       "      <th>0</th>\n",
       "      <td>fold 1 test</td>\n",
       "      <td>23.0</td>\n",
       "      <td>8.0</td>\n",
       "      <td>111.0</td>\n",
       "      <td>36.0</td>\n",
       "      <td>0.752809</td>\n",
       "      <td>0.511111</td>\n",
       "      <td>0.322604</td>\n",
       "    </tr>\n",
       "    <tr>\n",
       "      <th>1</th>\n",
       "      <td>fold 2 test</td>\n",
       "      <td>39.0</td>\n",
       "      <td>3.0</td>\n",
       "      <td>97.0</td>\n",
       "      <td>39.0</td>\n",
       "      <td>0.764045</td>\n",
       "      <td>0.650000</td>\n",
       "      <td>0.470000</td>\n",
       "    </tr>\n",
       "    <tr>\n",
       "      <th>2</th>\n",
       "      <td>fold 3 test</td>\n",
       "      <td>51.0</td>\n",
       "      <td>18.0</td>\n",
       "      <td>90.0</td>\n",
       "      <td>19.0</td>\n",
       "      <td>0.792135</td>\n",
       "      <td>0.733813</td>\n",
       "      <td>0.561905</td>\n",
       "    </tr>\n",
       "    <tr>\n",
       "      <th>3</th>\n",
       "      <td>fold 4 test</td>\n",
       "      <td>42.0</td>\n",
       "      <td>17.0</td>\n",
       "      <td>90.0</td>\n",
       "      <td>29.0</td>\n",
       "      <td>0.741573</td>\n",
       "      <td>0.646154</td>\n",
       "      <td>0.432671</td>\n",
       "    </tr>\n",
       "    <tr>\n",
       "      <th>4</th>\n",
       "      <td>fold 5 test</td>\n",
       "      <td>43.0</td>\n",
       "      <td>15.0</td>\n",
       "      <td>100.0</td>\n",
       "      <td>21.0</td>\n",
       "      <td>0.798883</td>\n",
       "      <td>0.704918</td>\n",
       "      <td>0.541440</td>\n",
       "    </tr>\n",
       "  </tbody>\n",
       "</table>\n",
       "</div>"
      ],
      "text/plain": [
       "          name  true_positive  false_positive  true_negative  false_negative  \\\n",
       "0  fold 1 test           23.0             8.0          111.0            36.0   \n",
       "1  fold 2 test           39.0             3.0           97.0            39.0   \n",
       "2  fold 3 test           51.0            18.0           90.0            19.0   \n",
       "3  fold 4 test           42.0            17.0           90.0            29.0   \n",
       "4  fold 5 test           43.0            15.0          100.0            21.0   \n",
       "\n",
       "   accuracy        f1  informedness  \n",
       "0  0.752809  0.511111      0.322604  \n",
       "1  0.764045  0.650000      0.470000  \n",
       "2  0.792135  0.733813      0.561905  \n",
       "3  0.741573  0.646154      0.432671  \n",
       "4  0.798883  0.704918      0.541440  "
      ]
     },
     "execution_count": 42,
     "metadata": {},
     "output_type": "execute_result"
    }
   ],
   "source": [
    "max2_table = k_fold(titanic_table, 5, 'Survived', {'max-depth':2}, splitter_columns)\n",
    "max2_table.head()"
   ]
  },
  {
   "cell_type": "code",
   "execution_count": 43,
   "metadata": {},
   "outputs": [
    {
     "data": {
      "text/plain": [
       "\"{'max-depth': 2}\""
      ]
     },
     "execution_count": 43,
     "metadata": {},
     "output_type": "execute_result"
    }
   ],
   "source": [
    "max2_table.__doc__"
   ]
  },
  {
   "cell_type": "code",
   "execution_count": 44,
   "metadata": {},
   "outputs": [
    {
     "data": {
      "text/html": [
       "<div>\n",
       "<style>\n",
       "    .dataframe thead tr:only-child th {\n",
       "        text-align: right;\n",
       "    }\n",
       "\n",
       "    .dataframe thead th {\n",
       "        text-align: left;\n",
       "    }\n",
       "\n",
       "    .dataframe tbody tr th {\n",
       "        vertical-align: top;\n",
       "    }\n",
       "</style>\n",
       "<table border=\"1\" class=\"dataframe\">\n",
       "  <thead>\n",
       "    <tr style=\"text-align: right;\">\n",
       "      <th></th>\n",
       "      <th>true_positive</th>\n",
       "      <th>false_positive</th>\n",
       "      <th>true_negative</th>\n",
       "      <th>false_negative</th>\n",
       "      <th>accuracy</th>\n",
       "      <th>f1</th>\n",
       "      <th>informedness</th>\n",
       "    </tr>\n",
       "  </thead>\n",
       "  <tbody>\n",
       "    <tr>\n",
       "      <th>count</th>\n",
       "      <td>5.000000</td>\n",
       "      <td>5.000000</td>\n",
       "      <td>5.000000</td>\n",
       "      <td>5.000000</td>\n",
       "      <td>5.000000</td>\n",
       "      <td>5.000000</td>\n",
       "      <td>5.000000</td>\n",
       "    </tr>\n",
       "    <tr>\n",
       "      <th>mean</th>\n",
       "      <td>39.600000</td>\n",
       "      <td>12.200000</td>\n",
       "      <td>97.600000</td>\n",
       "      <td>28.800000</td>\n",
       "      <td>0.769889</td>\n",
       "      <td>0.649199</td>\n",
       "      <td>0.465724</td>\n",
       "    </tr>\n",
       "    <tr>\n",
       "      <th>std</th>\n",
       "      <td>10.285913</td>\n",
       "      <td>6.457554</td>\n",
       "      <td>8.677557</td>\n",
       "      <td>8.843076</td>\n",
       "      <td>0.024815</td>\n",
       "      <td>0.085648</td>\n",
       "      <td>0.095627</td>\n",
       "    </tr>\n",
       "    <tr>\n",
       "      <th>min</th>\n",
       "      <td>23.000000</td>\n",
       "      <td>3.000000</td>\n",
       "      <td>90.000000</td>\n",
       "      <td>19.000000</td>\n",
       "      <td>0.741573</td>\n",
       "      <td>0.511111</td>\n",
       "      <td>0.322604</td>\n",
       "    </tr>\n",
       "    <tr>\n",
       "      <th>25%</th>\n",
       "      <td>39.000000</td>\n",
       "      <td>8.000000</td>\n",
       "      <td>90.000000</td>\n",
       "      <td>21.000000</td>\n",
       "      <td>0.752809</td>\n",
       "      <td>0.646154</td>\n",
       "      <td>0.432671</td>\n",
       "    </tr>\n",
       "    <tr>\n",
       "      <th>50%</th>\n",
       "      <td>42.000000</td>\n",
       "      <td>15.000000</td>\n",
       "      <td>97.000000</td>\n",
       "      <td>29.000000</td>\n",
       "      <td>0.764045</td>\n",
       "      <td>0.650000</td>\n",
       "      <td>0.470000</td>\n",
       "    </tr>\n",
       "    <tr>\n",
       "      <th>75%</th>\n",
       "      <td>43.000000</td>\n",
       "      <td>17.000000</td>\n",
       "      <td>100.000000</td>\n",
       "      <td>36.000000</td>\n",
       "      <td>0.792135</td>\n",
       "      <td>0.704918</td>\n",
       "      <td>0.541440</td>\n",
       "    </tr>\n",
       "    <tr>\n",
       "      <th>max</th>\n",
       "      <td>51.000000</td>\n",
       "      <td>18.000000</td>\n",
       "      <td>111.000000</td>\n",
       "      <td>39.000000</td>\n",
       "      <td>0.798883</td>\n",
       "      <td>0.733813</td>\n",
       "      <td>0.561905</td>\n",
       "    </tr>\n",
       "  </tbody>\n",
       "</table>\n",
       "</div>"
      ],
      "text/plain": [
       "       true_positive  false_positive  true_negative  false_negative  accuracy  \\\n",
       "count       5.000000        5.000000       5.000000        5.000000  5.000000   \n",
       "mean       39.600000       12.200000      97.600000       28.800000  0.769889   \n",
       "std        10.285913        6.457554       8.677557        8.843076  0.024815   \n",
       "min        23.000000        3.000000      90.000000       19.000000  0.741573   \n",
       "25%        39.000000        8.000000      90.000000       21.000000  0.752809   \n",
       "50%        42.000000       15.000000      97.000000       29.000000  0.764045   \n",
       "75%        43.000000       17.000000     100.000000       36.000000  0.792135   \n",
       "max        51.000000       18.000000     111.000000       39.000000  0.798883   \n",
       "\n",
       "             f1  informedness  \n",
       "count  5.000000      5.000000  \n",
       "mean   0.649199      0.465724  \n",
       "std    0.085648      0.095627  \n",
       "min    0.511111      0.322604  \n",
       "25%    0.646154      0.432671  \n",
       "50%    0.650000      0.470000  \n",
       "75%    0.704918      0.541440  \n",
       "max    0.733813      0.561905  "
      ]
     },
     "execution_count": 44,
     "metadata": {},
     "output_type": "execute_result"
    }
   ],
   "source": [
    "max2_table.describe()"
   ]
  },
  {
   "cell_type": "markdown",
   "metadata": {},
   "source": [
    "<div class=h1_cell>\n",
    "Lost quite a bit of ground with level 2.\n",
    "</div>"
   ]
  },
  {
   "cell_type": "markdown",
   "metadata": {},
   "source": [
    "<h2>\n",
    "Where now?\n",
    "</h2>\n",
    "<p>\n",
    "<div class=h1_cell>\n",
    "<p>\n",
    "We could try a few more values of depth. But we also could start playing with the other knob, the gig cutoff. By the end of our exploration, we should have a good idea on what values to set our hyper-parameters to. At that point, we will generate the final tree using all of the data. Something like this:\n",
    "<p>\n",
    "<pre>\n",
    "<code>\n",
    "optimal_depth = ...  # what we discovered in our K-folding\n",
    "optimal_gig_cutoff = ...  # ditto\n",
    "hypers = {'max-depth': optimal_depth, 'gig-cutoff': optimal_gig_cutoff )\n",
    "final_tree = build_tree_iter(titanic_table, candidate_columns, 'Survived', hypers )\n",
    "</code>\n",
    "</pre>\n",
    "</div>"
   ]
  },
  {
   "cell_type": "markdown",
   "metadata": {
    "collapsed": true
   },
   "source": [
    "<hr>\n",
    "<h1>Write it out</h1>\n",
    "<div class=h1_cell>\n",
    "\n",
    "Save the table so can use it in next module.\n",
    "</div>"
   ]
  },
  {
   "cell_type": "code",
   "execution_count": 45,
   "metadata": {
    "collapsed": true
   },
   "outputs": [],
   "source": [
    "import os\n",
    "\n",
    "week = 5  # change this each week\n",
    "\n",
    "home_path =  os.path.expanduser('~')\n",
    "\n",
    "file_path = '/Dropbox/cis399_ds1_f17/notebook_history/'\n",
    "\n",
    "file_name = 'titanic_wrangled_w'+str(week)+'.csv'\n",
    "\n",
    "titanic_table.to_csv(home_path + file_path + file_name, index=False)"
   ]
  },
  {
   "cell_type": "markdown",
   "metadata": {},
   "source": [
    "\n",
    "<h2>\n",
    "Next up\n",
    "</h2>\n",
    "<p>\n",
    "<div class=h1_cell>\n",
    "Think about this. With K-folding, we are building k separate trees but then throwing them away. The final tree is produced from all the data. What if we decided not to throw those k trees away? What if we chose to keep all the trees as the \"final tree\". We would have an ensemble of trees (AKA a forest). How would they agree among themselves on the correct prediction? How about simply letting them vote. That's what is coming up next.\n",
    "</div>"
   ]
  },
  {
   "cell_type": "code",
   "execution_count": null,
   "metadata": {
    "collapsed": true
   },
   "outputs": [],
   "source": []
  }
 ],
 "metadata": {
  "kernelspec": {
   "display_name": "Python 2",
   "language": "python",
   "name": "python2"
  },
  "language_info": {
   "codemirror_mode": {
    "name": "ipython",
    "version": 2
   },
   "file_extension": ".py",
   "mimetype": "text/x-python",
   "name": "python",
   "nbconvert_exporter": "python",
   "pygments_lexer": "ipython2",
   "version": "2.7.14"
  }
 },
 "nbformat": 4,
 "nbformat_minor": 1
}
