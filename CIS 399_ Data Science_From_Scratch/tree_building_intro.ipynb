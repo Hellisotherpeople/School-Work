{
 "cells": [
  {
   "cell_type": "code",
   "execution_count": 1,
   "metadata": {},
   "outputs": [
    {
     "data": {
      "text/html": [
       "<style>\n",
       ".h1_cell, .just_text {\n",
       "    box-sizing: border-box;\n",
       "    padding-top:5px;\n",
       "    padding-bottom:5px;\n",
       "    font-family: \"Times New Roman\", Georgia, Serif;\n",
       "    font-size: 125%;\n",
       "    line-height: 22px; /* 5px +12px + 5px */\n",
       "    text-indent: 25px;\n",
       "    background-color: #fbfbea;\n",
       "    padding: 10px;\n",
       "}\n",
       ".code_block {\n",
       "    box-sizing: border-box;\n",
       "    padding-top:5px;\n",
       "    padding-bottom:5px;\n",
       "    font-size: 75%;\n",
       "    line-height: 22px; /* 5px +12px + 5px */\n",
       "    #text-indent: 25px;\n",
       "    #background-color: #fbfbea;\n",
       "    padding: 5px;\n",
       "}\n",
       "\n",
       "hr { \n",
       "    display: block;\n",
       "    margin-top: 0.5em;\n",
       "    margin-bottom: 0.5em;\n",
       "    margin-left: auto;\n",
       "    margin-right: auto;\n",
       "    border-style: inset;\n",
       "    border-width: 2px;\n",
       "}\n",
       "</style>"
      ],
      "text/plain": [
       "<IPython.core.display.HTML object>"
      ]
     },
     "metadata": {},
     "output_type": "display_data"
    }
   ],
   "source": [
    "%%html\n",
    "<style>\n",
    ".h1_cell, .just_text {\n",
    "    box-sizing: border-box;\n",
    "    padding-top:5px;\n",
    "    padding-bottom:5px;\n",
    "    font-family: \"Times New Roman\", Georgia, Serif;\n",
    "    font-size: 125%;\n",
    "    line-height: 22px; /* 5px +12px + 5px */\n",
    "    text-indent: 25px;\n",
    "    background-color: #fbfbea;\n",
    "    padding: 10px;\n",
    "}\n",
    ".code_block {\n",
    "    box-sizing: border-box;\n",
    "    padding-top:5px;\n",
    "    padding-bottom:5px;\n",
    "    font-size: 75%;\n",
    "    line-height: 22px; /* 5px +12px + 5px */\n",
    "    #text-indent: 25px;\n",
    "    #background-color: #fbfbea;\n",
    "    padding: 5px;\n",
    "}\n",
    "\n",
    "hr { \n",
    "    display: block;\n",
    "    margin-top: 0.5em;\n",
    "    margin-bottom: 0.5em;\n",
    "    margin-left: auto;\n",
    "    margin-right: auto;\n",
    "    border-style: inset;\n",
    "    border-width: 2px;\n",
    "}\n",
    "</style>"
   ]
  },
  {
   "cell_type": "markdown",
   "metadata": {},
   "source": [
    "<h1>\n",
    "<center>\n",
    "Module 4: Automating tree-building (Part 2)\n",
    "</center>\n",
    "</h1>\n",
    "<div class=h1_cell>\n",
    "<p>\n",
    "In this module we will generate trees automatically. The goal is to write a function that will take as arguments a table and a set of columns to consider as node splitters. The function will return a tree that is the best possible using Gini as a measure. Once we have the tree, we can use it to compute accuracy, F1, etc.\n",
    "<p>\n",
    "First, read in the titanic table from module 3. Make sure you are using the latest version of pandas. The code we develop below will not work with old versions. The simplest way to get the recent version is to update all of anaconda:\n",
    "<p>\n",
    "`conda update --all`\n",
    "</div>"
   ]
  },
  {
   "cell_type": "code",
   "execution_count": 2,
   "metadata": {},
   "outputs": [
    {
     "data": {
      "text/plain": [
       "u'0.20.3'"
      ]
     },
     "execution_count": 2,
     "metadata": {},
     "output_type": "execute_result"
    }
   ],
   "source": [
    "import pandas as pd\n",
    "import os\n",
    "\n",
    "week = 3  # from last module\n",
    "\n",
    "home_path =  os.path.expanduser('~')\n",
    "\n",
    "file_path = '/Dropbox/cis399_ds1_f17/notebook_history/'\n",
    "\n",
    "file_name = 'titanic_wrangled_w'+str(week)+'.csv'\n",
    "\n",
    "titanic_table = pd.read_csv(home_path + file_path + file_name)\n",
    "\n",
    "pd.__version__  # should see 0.20.3 or higher"
   ]
  },
  {
   "cell_type": "code",
   "execution_count": 3,
   "metadata": {
    "collapsed": true
   },
   "outputs": [],
   "source": [
    "pd.set_option('display.max_columns', None)"
   ]
  },
  {
   "cell_type": "markdown",
   "metadata": {},
   "source": [
    "<h2>\n",
    "Check pandas version just to make sure\n",
    "</h2>\n",
    "<p>\n",
    "<div class=h1_cell>\n",
    "As a test, I'd like to build a sub-table of all passengers that survived. I am going to use a lambda expression as an argument. This will fail on older versions of pandas. Make sure it works for you.\n",
    "</div>"
   ]
  },
  {
   "cell_type": "code",
   "execution_count": 4,
   "metadata": {},
   "outputs": [
    {
     "data": {
      "text/html": [
       "<div>\n",
       "<style>\n",
       "    .dataframe thead tr:only-child th {\n",
       "        text-align: right;\n",
       "    }\n",
       "\n",
       "    .dataframe thead th {\n",
       "        text-align: left;\n",
       "    }\n",
       "\n",
       "    .dataframe tbody tr th {\n",
       "        vertical-align: top;\n",
       "    }\n",
       "</style>\n",
       "<table border=\"1\" class=\"dataframe\">\n",
       "  <thead>\n",
       "    <tr style=\"text-align: right;\">\n",
       "      <th></th>\n",
       "      <th>Survived</th>\n",
       "      <th>Pclass</th>\n",
       "      <th>Name</th>\n",
       "      <th>Sex</th>\n",
       "      <th>Age</th>\n",
       "      <th>SibSp</th>\n",
       "      <th>Parch</th>\n",
       "      <th>Ticket</th>\n",
       "      <th>Fare</th>\n",
       "      <th>Cabin</th>\n",
       "      <th>Embarked</th>\n",
       "      <th>no_age</th>\n",
       "      <th>filled_age</th>\n",
       "      <th>emb_C</th>\n",
       "      <th>emb_Q</th>\n",
       "      <th>emb_S</th>\n",
       "      <th>emb_nan</th>\n",
       "      <th>age_bin</th>\n",
       "      <th>age_Child</th>\n",
       "      <th>age_Adult</th>\n",
       "      <th>age_Senior</th>\n",
       "      <th>sex_female</th>\n",
       "      <th>sex_male</th>\n",
       "      <th>pred_1</th>\n",
       "      <th>pred_1_type</th>\n",
       "      <th>ok_child</th>\n",
       "      <th>pclass_1</th>\n",
       "      <th>pclass_2</th>\n",
       "      <th>pclass_3</th>\n",
       "      <th>pclass_nan</th>\n",
       "      <th>pred_2</th>\n",
       "      <th>pred_2_type</th>\n",
       "    </tr>\n",
       "  </thead>\n",
       "  <tbody>\n",
       "    <tr>\n",
       "      <th>1</th>\n",
       "      <td>1</td>\n",
       "      <td>1</td>\n",
       "      <td>Cumings, Mrs. John Bradley (Florence Briggs Th...</td>\n",
       "      <td>female</td>\n",
       "      <td>38.0</td>\n",
       "      <td>1</td>\n",
       "      <td>0</td>\n",
       "      <td>PC 17599</td>\n",
       "      <td>71.2833</td>\n",
       "      <td>C85</td>\n",
       "      <td>C</td>\n",
       "      <td>0</td>\n",
       "      <td>38.0</td>\n",
       "      <td>1</td>\n",
       "      <td>0</td>\n",
       "      <td>0</td>\n",
       "      <td>0</td>\n",
       "      <td>Adult</td>\n",
       "      <td>0</td>\n",
       "      <td>1</td>\n",
       "      <td>0</td>\n",
       "      <td>1</td>\n",
       "      <td>0</td>\n",
       "      <td>1</td>\n",
       "      <td>true_positive</td>\n",
       "      <td>0</td>\n",
       "      <td>1</td>\n",
       "      <td>0</td>\n",
       "      <td>0</td>\n",
       "      <td>0</td>\n",
       "      <td>1</td>\n",
       "      <td>true_positive</td>\n",
       "    </tr>\n",
       "  </tbody>\n",
       "</table>\n",
       "</div>"
      ],
      "text/plain": [
       "   Survived  Pclass                                               Name  \\\n",
       "1         1       1  Cumings, Mrs. John Bradley (Florence Briggs Th...   \n",
       "\n",
       "      Sex   Age  SibSp  Parch    Ticket     Fare Cabin Embarked  no_age  \\\n",
       "1  female  38.0      1      0  PC 17599  71.2833   C85        C       0   \n",
       "\n",
       "   filled_age  emb_C  emb_Q  emb_S  emb_nan age_bin  age_Child  age_Adult  \\\n",
       "1        38.0      1      0      0        0   Adult          0          1   \n",
       "\n",
       "   age_Senior  sex_female  sex_male  pred_1    pred_1_type  ok_child  \\\n",
       "1           0           1         0       1  true_positive         0   \n",
       "\n",
       "   pclass_1  pclass_2  pclass_3  pclass_nan  pred_2    pred_2_type  \n",
       "1         1         0         0           0       1  true_positive  "
      ]
     },
     "execution_count": 4,
     "metadata": {},
     "output_type": "execute_result"
    }
   ],
   "source": [
    "survived_table = titanic_table.loc[lambda row: row['Survived'] == 1]\n",
    "survived_table.head(1)"
   ]
  },
  {
   "cell_type": "markdown",
   "metadata": {},
   "source": [
    "<h2>\n",
    "Update library files from Github\n",
    "</h2>\n",
    "<p>\n",
    "<div class=h1_cell>\n",
    "The code below is optional. What it does is to make sure my libraries are up to date. It requires that I have previously cloned the repository at `github.com/fickas/datascience_1`, which will create my local direcotry structure. Now I can just do a pull to have any files on my local file-system updated if files on github are more recent. Note that I am using Dropbox as part of my path name. This makes my files global so I can work on them from any computer.\n",
    "<p>\n",
    "I am going to let you read about git and github if you want to do what I am doing. There are lots of online tutorials. If you decide you do not want to stop to learn git/github, then you can just go to the github repository and copy the files to your local machine.\n",
    "</div>"
   ]
  },
  {
   "cell_type": "code",
   "execution_count": 5,
   "metadata": {},
   "outputs": [
    {
     "name": "stdout",
     "output_type": "stream",
     "text": [
      "Already up-to-date.\r\n"
     ]
    }
   ],
   "source": [
    "os.chdir(home_path + '/Dropbox/cis399_ds1_f17/week_libraries/datascience_1')\n",
    "!git pull"
   ]
  },
  {
   "cell_type": "markdown",
   "metadata": {},
   "source": [
    "<h2>\n",
    "Import the library files\n",
    "</h2>\n",
    "<p>\n",
    "<div class=h1_cell>\n",
    "<p>\n",
    "We created 3 functions from module 3 that we will need in this module. I am extending the system path to include the directory where I have my files.\n",
    "<p>\n",
    "When you run the magic `%who` command, you should see that you have accuracy,\t f1,\t gig,\t gini,\t informedness,\t predictor_case, and\t probabilitiess functions now defined.\n",
    "<p>\n",
    "In the worst case, if you cannot get import to work for you, copy the functions into this notebook below.\n",
    "</div>"
   ]
  },
  {
   "cell_type": "code",
   "execution_count": 6,
   "metadata": {},
   "outputs": [
    {
     "name": "stdout",
     "output_type": "stream",
     "text": [
      "accuracy\t f1\t gig\t gini\t informedness\t predictor_case\t probabilities\t \n"
     ]
    }
   ],
   "source": [
    "import sys\n",
    "sys.path.append(home_path + '/Dropbox/cis399_ds1_f17/week_libraries/datascience_1')\n",
    "from week3 import *\n",
    "%who function"
   ]
  },
  {
   "cell_type": "code",
   "execution_count": 7,
   "metadata": {
    "collapsed": true
   },
   "outputs": [],
   "source": [
    "#last resort cell - if you cannot get code above to work, copy the functions into this cell and run."
   ]
  },
  {
   "cell_type": "markdown",
   "metadata": {},
   "source": [
    "<h2>\n",
    "Drop some columns\n",
    "</h2>\n",
    "<p>\n",
    "<div class=h1_cell>\n",
    "The predictors we built in previous modules were warm-up. We don't really need to record their results going forward. Let's drop them.\n",
    "</div>"
   ]
  },
  {
   "cell_type": "code",
   "execution_count": 8,
   "metadata": {
    "collapsed": true
   },
   "outputs": [],
   "source": [
    "titanic_table = titanic_table.drop(['pred_1', 'pred_1_type','pred_2', 'pred_2_type'], axis=1)"
   ]
  },
  {
   "cell_type": "markdown",
   "metadata": {},
   "source": [
    "<h2>\n",
    "What columns do we want to use\n",
    "</h2>\n",
    "<p>\n",
    "<div class=h1_cell>\n",
    "<p>\n",
    "I am going to use the columns below as candidates for splitting in my trees. Note that they are all binary columns.\n",
    "<p>\n",
    "Also note that here is where I could do the k-1 reduction discussed in module 1. I could remove things like `sex_male` or `pclass_1`, in essence do the same thing that `drop_first` does in `get_dummies`. But I choose not to at this point. I want all the debugging info I can get.\n",
    "</div>"
   ]
  },
  {
   "cell_type": "code",
   "execution_count": 9,
   "metadata": {
    "collapsed": true
   },
   "outputs": [],
   "source": [
    "splitter_columns = [\n",
    " 'emb_C',\n",
    " 'emb_Q',\n",
    " 'emb_S',\n",
    " 'emb_nan',\n",
    " 'age_Child',\n",
    " 'age_Adult',\n",
    " 'age_Senior',\n",
    " 'no_age',\n",
    " 'ok_child',\n",
    " 'sex_female',\n",
    " 'sex_male', \n",
    " 'pclass_1',\n",
    " 'pclass_2',\n",
    " 'pclass_3',\n",
    " 'pclass_nan'\n",
    "]"
   ]
  },
  {
   "cell_type": "markdown",
   "metadata": {},
   "source": [
    "<h1>\n",
    "How to view a tree\n",
    "</h1>\n",
    "<p>\n",
    "<div class=h1_cell>\n",
    "<p>\n",
    "I want to move away from having trees represented in code. That is too limiting. Instead, I want to represent a tree as data.  Here is what I propose.\n",
    "<ul>\n",
    "<li>A tree has a set of paths where a path connects the root node with a leaf node.</li>\n",
    "<li>Each path represents a conjunction, e.g., path1 = (sex_female and pclass_2 and emb_S) represents a conjunction with 3 predicates. If all 3 are true the conjunction is true and path1 is true. If any are false, the conjunction is false and path1 is false.\n",
    "</li>\n",
    "<li>A path also contains a prediction: if the path is true then use the prediction attached to the path.</li>\n",
    "<li>Once we have the set of paths for a tree,  we find one that is true and return its prediction.</li>\n",
    "</ul>\n",
    "<p>\n",
    "The hard part is generating the set of paths for a tree. We can use Gig scores from our last module to make decisions. But still a bit complicated to incrementally build up all the paths. We will tackle that in this module.\n",
    "<p>\n",
    "I am going to break a path up into 2 pieces of data: the conjunction and the prediction. For the predicates in the conjunction, I am going to use lambda expressions. Here is my function for building lambda expressions.\n",
    "</div>"
   ]
  },
  {
   "cell_type": "code",
   "execution_count": 10,
   "metadata": {
    "collapsed": true
   },
   "outputs": [],
   "source": [
    "def build_pred(column, branch):\n",
    "    return lambda row: row[column] == branch"
   ]
  },
  {
   "cell_type": "markdown",
   "metadata": {},
   "source": [
    "<div class=h1_cell>\n",
    "<p>\n",
    "And here is a simple example of its use.\n",
    "</div>"
   ]
  },
  {
   "cell_type": "code",
   "execution_count": 11,
   "metadata": {},
   "outputs": [
    {
     "data": {
      "text/plain": [
       "[<function __main__.<lambda>>,\n",
       " <function __main__.<lambda>>,\n",
       " <function __main__.<lambda>>]"
      ]
     },
     "execution_count": 11,
     "metadata": {},
     "output_type": "execute_result"
    }
   ],
   "source": [
    "row1 = {'a': 1, 'b': 0, 'c': 0}\n",
    "\n",
    "conjunct1 = [build_pred('a', 1), build_pred('b', 0), build_pred('c', 0)]\n",
    "\n",
    "conjunct1  # a list of functions"
   ]
  },
  {
   "cell_type": "markdown",
   "metadata": {},
   "source": [
    "<div class=h1_cell>\n",
    "<p>\n",
    "It seems a bit counter-intuitive, but there is not an ordering on the predicates in a path even though a tree implies\n",
    "\"going down a path\". Each predicate asks a question about a row value. This is independent. Hence, we can use a map function to do them in parallel (caveat: we could do them in parallel if we used some Python packages that support concurrency and parallelism. Ask me if interested.)\n",
    "</div>"
   ]
  },
  {
   "cell_type": "code",
   "execution_count": 12,
   "metadata": {},
   "outputs": [
    {
     "data": {
      "text/plain": [
       "[True, True, True]"
      ]
     },
     "execution_count": 12,
     "metadata": {},
     "output_type": "execute_result"
    }
   ],
   "source": [
    "boolean_list1 = map(lambda f: f(row1), conjunct1)\n",
    "boolean_list1"
   ]
  },
  {
   "cell_type": "code",
   "execution_count": 13,
   "metadata": {},
   "outputs": [
    {
     "data": {
      "text/plain": [
       "[True, False, True]"
      ]
     },
     "execution_count": 13,
     "metadata": {},
     "output_type": "execute_result"
    }
   ],
   "source": [
    "row2 = {'a': 1, 'b': 1, 'c': 0}\n",
    "boolean_list2 = map(lambda f: f(row2), conjunct1)\n",
    "boolean_list2"
   ]
  },
  {
   "cell_type": "code",
   "execution_count": 14,
   "metadata": {},
   "outputs": [
    {
     "data": {
      "text/plain": [
       "True"
      ]
     },
     "execution_count": 14,
     "metadata": {},
     "output_type": "execute_result"
    }
   ],
   "source": [
    "all(boolean_list1)  # all returns true if all items in list are true"
   ]
  },
  {
   "cell_type": "code",
   "execution_count": 15,
   "metadata": {},
   "outputs": [
    {
     "data": {
      "text/plain": [
       "False"
      ]
     },
     "execution_count": 15,
     "metadata": {},
     "output_type": "execute_result"
    }
   ],
   "source": [
    "all(boolean_list2)"
   ]
  },
  {
   "cell_type": "markdown",
   "metadata": {},
   "source": [
    "<h2>\n",
    "Path as dictionary\n",
    "</h2>\n",
    "<p>\n",
    "<div class=h1_cell>\n",
    "<p>\n",
    "I've decided to use a dictionary to represent a path. A path has a conjunct field and a prediction field.\n",
    "\n",
    "</div>"
   ]
  },
  {
   "cell_type": "code",
   "execution_count": 16,
   "metadata": {
    "collapsed": true
   },
   "outputs": [],
   "source": [
    "path1 = {'conjunct': conjunct1, 'prediction': 1}  # I just made up the prediction"
   ]
  },
  {
   "cell_type": "markdown",
   "metadata": {},
   "source": [
    "<h2>\n",
    "Add debugging info to conjunction\n",
    "</h2>\n",
    "<p>\n",
    "<div class=h1_cell>\n",
    "<p>\n",
    "To help with debugging I decided to make each predicate in a conjunct a 2-tuple. The first item is a string that describes the predicate and the second item is the lambda expression. So conjunct1 above becomes:\n",
    "\n",
    "</div>"
   ]
  },
  {
   "cell_type": "code",
   "execution_count": 17,
   "metadata": {},
   "outputs": [
    {
     "data": {
      "text/plain": [
       "[('a_1', <function __main__.<lambda>>),\n",
       " ('b_0', <function __main__.<lambda>>),\n",
       " ('c_0', <function __main__.<lambda>>)]"
      ]
     },
     "execution_count": 17,
     "metadata": {},
     "output_type": "execute_result"
    }
   ],
   "source": [
    "conjunct1_full = [('a_1', build_pred('a', 1)),\n",
    "                  ('b_0', build_pred('b', 0)),\n",
    "                  ('c_0', build_pred('c', 0))]\n",
    "conjunct1_full"
   ]
  },
  {
   "cell_type": "markdown",
   "metadata": {},
   "source": [
    "<div class=h1_cell>\n",
    "<p>\n",
    "My 2-tuple idea is a little easier to read. And slightly more complicated to use. You can see I now have to pull the lambda from the tuple to apply it to the row.\n",
    "</div>"
   ]
  },
  {
   "cell_type": "code",
   "execution_count": 18,
   "metadata": {},
   "outputs": [
    {
     "data": {
      "text/plain": [
       "[True, True, True]"
      ]
     },
     "execution_count": 18,
     "metadata": {},
     "output_type": "execute_result"
    }
   ],
   "source": [
    "boolean_list1 = map(lambda pair: pair[1](row1), conjunct1_full)  # conjunct1_full is a list of 2-tuples\n",
    "boolean_list1"
   ]
  },
  {
   "cell_type": "markdown",
   "metadata": {},
   "source": [
    "<h2>\n",
    "A tree contains a list of paths\n",
    "</h2>\n",
    "<p>\n",
    "<div class=h1_cell>\n",
    "<p>\n",
    "Since a path is a dictionary, a tree contains a list of dictionaries. Note I am just making up predictions for now. We will have to deal with generating predictions for a path soon.\n",
    "<p>\n",
    "Also note that this is a made-up tree just to show the data structure. We will get to the actual Titanic data in a minute.\n",
    "</div>"
   ]
  },
  {
   "cell_type": "code",
   "execution_count": 19,
   "metadata": {},
   "outputs": [
    {
     "data": {
      "text/plain": [
       "[{'oonjunct': [('a_1', <function __main__.<lambda>>),\n",
       "   ('b_0', <function __main__.<lambda>>),\n",
       "   ('c_0', <function __main__.<lambda>>)],\n",
       "  'prediction': 1},\n",
       " {'oonjunct': [('a_1', <function __main__.<lambda>>),\n",
       "   ('b_1', <function __main__.<lambda>>),\n",
       "   ('c_0', <function __main__.<lambda>>)],\n",
       "  'prediction': 0}]"
      ]
     },
     "execution_count": 19,
     "metadata": {},
     "output_type": "execute_result"
    }
   ],
   "source": [
    "path1 = {'oonjunct': conjunct1_full, 'prediction': 1}\n",
    "\n",
    "conjunct2_full = [('a_1', build_pred('a', 1)),\n",
    "                  ('b_1', build_pred('b', 1)),  # changed to a 1\n",
    "                  ('c_0', build_pred('c', 0))]\n",
    "\n",
    "path2 = {'oonjunct': conjunct2_full, 'prediction': 0}\n",
    "\n",
    "tree_paths = [path1, path2]\n",
    "tree_paths"
   ]
  },
  {
   "cell_type": "markdown",
   "metadata": {},
   "source": [
    "<h2>\n",
    "Choose the best splitter\n",
    "</h2>\n",
    "<p>\n",
    "<div class=h1_cell>\n",
    "<p>\n",
    "Choose the best splitter (AKA feature or column), using gini and gig, from a candidate list of columns.\n",
    "<p>\n",
    "Return the sorted list where each item is a tuple (column_name, gig_score). The 0th element is the one with the highest gig score (which is the best).\n",
    "<p>\n",
    "Just to take an example, if we are working on the root node, the table would be the entire Titanic table. We are trying to find the best column/feature/splitter to use as the root node. We will try all of the ones in `choice_list` and compute the gig for each. We will return the list of columns sorted on their gig scores.\n",
    "</div>"
   ]
  },
  {
   "cell_type": "code",
   "execution_count": 20,
   "metadata": {
    "collapsed": true
   },
   "outputs": [],
   "source": [
    "def find_best_splitter(table, choice_list, target):\n",
    "    gig_scores = map(lambda col: (col, gig(table, col, target)), choice_list)  #compute tuple (col, gig) for each column\n",
    "    gig_sorted = sorted(gig_scores, key=lambda item: item[1], reverse=True)  # sort on gig\n",
    "    return gig_sorted"
   ]
  },
  {
   "cell_type": "markdown",
   "metadata": {},
   "source": [
    "<h2>\n",
    "Follow a path to generate a sub-table\n",
    "</h2>\n",
    "<p>\n",
    "<div class=h1_cell>\n",
    "<p>\n",
    "As we are building our tree, we will need to know what the subtable looks like at the end of a path (as far as we have completed it). We need to know this so we can use `find_best_splitter` above. The sub-table we generate at the end of the path will be the `table` argument of `find_best_splitter`.\n",
    "<p>\n",
    "Assume we have a `conjunct` that is a list of tuples. 0th item in tuple is string and 1st item in tuple is the predicate (i.e., a lambda expression that returns 0 or 1). The general strategy is to go down the conjunction, one by one, and use each predicate to split the starting table (e.g., the `titanic_table`) into smaller and smaller sub-tables. We can do this with a simple pandas method, where f is the predicate.\n",
    "<p>\n",
    "`sub_table = sub_table.loc[f]`\n",
    "<p>\n",
    "Pretty cool, huh. In essence, build a new table with all rows where `f` returns true. The `loc` method will pass each row to `f` (happens behind the scenes).\n",
    "<p>\n",
    "Here is an iterative version of the function we need:\n",
    "<p>\n",
    "<pre><code>\n",
    "def generate_table(table, conjunct):\n",
    "    sub_table = table\n",
    "    for pair in conjunct:\n",
    "        f = pair[1]\n",
    "        sub_table = sub_table.loc[f]  # keep \"reducing\" the subtable by filtering on f\n",
    "    return sub_table\n",
    "</code></pre>\n",
    "<p>\n",
    "I've chosen to use a functional style instead, using `reduce`. I like both map and reduce because they have potential of being parallelized. Make sure you can get your head around my code below. \n",
    "</div>"
   ]
  },
  {
   "cell_type": "code",
   "execution_count": 21,
   "metadata": {
    "collapsed": true
   },
   "outputs": [],
   "source": [
    "def generate_table(table, conjunct):\n",
    "    sub_table = reduce(lambda subtable, pair: subtable.loc[pair[1]], conjunct, table)\n",
    "    return sub_table"
   ]
  },
  {
   "cell_type": "markdown",
   "metadata": {},
   "source": [
    "<div class=h1_cell>\n",
    "<p>\n",
    "I'll build a test conjunct and try it out. If you do it by hand, you will see that the resulting table only has 11 passengers, and all of them survived.\n",
    "</div>"
   ]
  },
  {
   "cell_type": "code",
   "execution_count": 22,
   "metadata": {
    "collapsed": true
   },
   "outputs": [],
   "source": [
    "conj = [('sex_female_0', build_pred('sex_female', 0)),\n",
    "   ('ok_child_1', build_pred('ok_child', 1)),\n",
    "   ('pclass_3_0', build_pred('pclass_3', 0))]\n",
    "\n",
    "res = generate_table(titanic_table, conj)"
   ]
  },
  {
   "cell_type": "code",
   "execution_count": 23,
   "metadata": {},
   "outputs": [
    {
     "data": {
      "text/plain": [
       "1    11\n",
       "Name: Survived, dtype: int64"
      ]
     },
     "execution_count": 23,
     "metadata": {},
     "output_type": "execute_result"
    }
   ],
   "source": [
    "res['Survived'].value_counts()"
   ]
  },
  {
   "cell_type": "markdown",
   "metadata": {},
   "source": [
    "<h2>\n",
    "Compute the prediction for a conjunct\n",
    "</h2>\n",
    "<p>\n",
    "<div class=h1_cell>\n",
    "<p>\n",
    "First, we will assume that the leaf table has been computed by `generate_table` (see above). So we have the sub-table that is generated by filtering with the predicates in a conjunct. Now we can just count the values of 0 and 1 in the target column, which is `Survived` in our case.\n",
    "<p>\n",
    "\n",
    "</div>"
   ]
  },
  {
   "cell_type": "code",
   "execution_count": 24,
   "metadata": {
    "collapsed": true
   },
   "outputs": [],
   "source": [
    "def compute_prediction(table, target):\n",
    "    counts = table[target].value_counts()  # counts looks like {0: v1, 1: v2}\n",
    "    if 0 not in counts and 1 not in counts:\n",
    "        raise LookupError('Prediction impossible - Empty tree on leaf')\n",
    "    if 0 not in counts:\n",
    "        prediction = 1\n",
    "    elif 1 not in counts:\n",
    "        prediction = 0\n",
    "    elif counts[1] > counts[0]:  # ties go to 0 (negative)\n",
    "        prediction = 1\n",
    "    else:\n",
    "        prediction = 0\n",
    "\n",
    "    return prediction\n",
    "  "
   ]
  },
  {
   "cell_type": "markdown",
   "metadata": {},
   "source": [
    "<div class=h1_cell>\n",
    "<p>\n",
    "I added the exception code for debugging. It should never be the case that when we reach a leaf we have an empty table. What would cause this? Only way I can see is to allow a split that produces a gig of 0. One way to get a 0 value is to use a predicate that simply copies the before table into one branch and produces the empty table on the other, i.e., it does nothing useful. This should produce a gig of 0. So we should make a note to reject any splits with 0 for gig value. An example where gini_1 is from before table and gini_3 is from a copy of it:\n",
    "<p>\n",
    "`gig = gini_1 - (0*gini_2) + 1*gini_3) = 0 given gini_1 == gini_3`\n",
    "<p>\n",
    "</div>"
   ]
  },
  {
   "cell_type": "markdown",
   "metadata": {},
   "source": [
    "<h2>\n",
    "Ok, the big enchilada\n",
    "</h2>\n",
    "<p>\n",
    "<div class=h1_cell>\n",
    "<p>\n",
    "The full function is below. I am going to go through the function a bit at a time.\n",
    "<div class=code_block>\n",
    "<pre>\n",
    "<code>\n",
    "def build_tree_iter(table, choices, target, hypers={} ):\n",
    "\n",
    "    k = hypers['max-depth'] if 'max-depth' in hypers else min(4, len(choices))\n",
    "    gig_cutoff = hypers['gig-cutoff'] if 'gig-cutoff' in hypers else 0.0\n",
    "    \n",
    "    def iterative_build(k):\n",
    "        columns_sorted = find_best_splitter(table, choices, target)\n",
    "        (best_column, gig_value) = columns_sorted[0]\n",
    "        \n",
    "        #Note I add _1 or _0 to make it more readable for debugging\n",
    "        current_paths = [{'conjunction': [(best_column+'_1', build_pred(best_column, 1))],\n",
    "                          'prediction': None,\n",
    "                          'gig_score': gig_value},\n",
    "                         {'conjunction': [(best_column+'_0', build_pred(best_column, 0))],\n",
    "                          'prediction': None,\n",
    "                          'gig_score': gig_value}\n",
    "                        ]\n",
    "        k -= 1  # we just built a level as seed so subtract 1 from k\n",
    "        tree_paths = []  # add completed paths here\n",
    "        \n",
    "        while k>0:\n",
    "            new_paths = []\n",
    "            for path in current_paths:\n",
    "                conjunct = path['conjunction']  # a list of (name, lambda)\n",
    "                before_table = generate_table(table, conjunct)  #subtable at end of path\n",
    "                columns_sorted = find_best_splitter(before_table, choices, target)\n",
    "                (best_column, gig_value) = columns_sorted[0]\n",
    "                if gig_value > gig_cutoff:\n",
    "                    new_path_1 = {'conjunction': conjunct + [(best_column+'_1', build_pred(best_column, 1))],\n",
    "                                'prediction': None,\n",
    "                                 'gig_score': gig_value}\n",
    "                    new_paths.append( new_path_1 ) #true\n",
    "                    new_path_0 = {'conjunction': conjunct + [(best_column+'_0', build_pred(best_column, 0))],\n",
    "                                'prediction': None,\n",
    "                                 'gig_score': gig_value}\n",
    "                    new_paths.append( new_path_0 ) #false\n",
    "                else:\n",
    "                    #not worth splitting so complete the path with a prediction\n",
    "                    path['prediction'] = compute_prediction(before_table, target)\n",
    "                    tree_paths.append(path)\n",
    "            #end for loop\n",
    "            \n",
    "            current_paths = new_paths\n",
    "            if current_paths != []:\n",
    "                k -= 1\n",
    "            else:\n",
    "                break  # nothing left to extend so have copied all paths to tree_paths\n",
    "        #end while loop\n",
    "\n",
    "        #Generate predictions for all paths that have None\n",
    "        for path in current_paths:\n",
    "            conjunct = path['conjunction']\n",
    "            before_table = generate_table(table, conjunct)\n",
    "            path['prediction'] = compute_prediction(before_table, target)\n",
    "            tree_paths.append(path)\n",
    "        return tree_paths\n",
    "\n",
    "    return {'paths': iterative_build(k), 'weight': None}\n",
    "</code>\n",
    "</pre>\n",
    "</div>\n",
    "</div>"
   ]
  },
  {
   "cell_type": "markdown",
   "metadata": {},
   "source": [
    "<div class=h1_cell>\n",
    "<p>\n",
    "Let's start with:\n",
    "<p>\n",
    "<pre><code>\n",
    "def build_tree_iter(table, choices, target, hypers={} ):\n",
    "\n",
    "    k = hypers['max-depth'] if 'max-depth' in hypers else min(4, len(choices))\n",
    "    gig_cutoff = hypers['gig-cutoff'] if 'gig-cutoff' in hypers else 0.0\n",
    "</code></pre>\n",
    "<p>\n",
    "Our tree building function takes 4 arguments: the table we are working with, the initial set of columns to consider when splitting, the target column, and a dictionary (hypers) with hyper parameters. You can see that I am checking for a key of max-depth. This will say how many levels deep we want our tree to be. The gig-cutoff is used to say when we believe new splitting won't get us very far - if the gig value on a conjunct is not greater than this value, stop trying to add to the conjunct. \n",
    "<p>\n",
    "Remeber when we go to check the gig-cutoff, we want to use greater-than and not greater-than-or-equal. We want to avoid gig values of 0: they can lead to empty tables.\n",
    "</div>"
   ]
  },
  {
   "cell_type": "markdown",
   "metadata": {},
   "source": [
    "<h2>\n",
    "The iterative cycle to generate conjuncts\n",
    "</h2>\n",
    "<p>\n",
    "<div class=h1_cell>\n",
    "<p>\n",
    "The general idea is that we will iterate over a set of conjuncts and continue to extend them until either we reach the target depth or the gig score is too low. Here is the head of the inner function that will do the building.\n",
    "<p>\n",
    "<div class='code_block'>\n",
    "<pre><code>\n",
    "    def iterative_build(k):\n",
    "        columns_sorted = find_best_splitter(table, choices, target)\n",
    "        (best_column, gig_value) = columns_sorted[0]\n",
    "        \n",
    "        #Note I add _1 or _0 to make it more readable for debugging\n",
    "        current_paths = [{'conjunction': [(best_column+'_1', build_pred(best_column, 1))],\n",
    "                          'prediction': None,\n",
    "                          'gig_score': gig_value},\n",
    "                         {'conjunction': [(best_column+'_0', build_pred(best_column, 0))],\n",
    "                          'prediction': None,\n",
    "                          'gig_score': gig_value}\n",
    "                          \n",
    "        k -= 1  # we just built a level as seed so subtract 1 from k\n",
    "        tree_paths = []  # add completed paths here\n",
    "</code></pre>\n",
    "</div>\n",
    "We will set the variable `tree_paths` at the end to all the paths we have generated. We start it as empty.\n",
    "<p>\n",
    "We will seed the list of conjuncts with the root node. We will find the best column to use as a splitter using the full table as the starting point. We will get back a tuple of `(best_column, value)` where `best_column` is the column name and `value` which is the gig value.\n",
    "<p>\n",
    "I seed `current_conjuncts` with the 2 branches the column generates. Given we are generating a binary tree, we always get 2 branches from a single column. After I do this seeding, I have:\n",
    "<pre><code>\n",
    "current_paths = [[('sex_female_1', lambda row: row['sex_female'] == 1)],\n",
    "                     [('sex_female_0', lambda row: row['sex_female'] == 0)],\n",
    "</code></pre>\n",
    "My goal now is to build these 2 conjuncts up by continually splitting and adding on to them. If the value of k is 2, I should end up with 4 separate conjuncts each with 2 predicates. Convince yourself that a binary decision tree of depth 2 has 4 paths.\n",
    "<p>\n",
    "Why do I subtract 1 from my counter `k`? Because I just added a level, right? I seeded the root node. I set `tree_paths` to empty and will add completed paths to it as I go.\n",
    "<p>\n",
    "<pr><code>\n",
    "\n",
    "k -= 1  # we just built a level as seed so subtract 1 from k\n",
    "tree_paths = []  # add completed paths here\n",
    "</code></pre>\n",
    "</div>"
   ]
  },
  {
   "cell_type": "markdown",
   "metadata": {},
   "source": [
    "\n",
    "<h2>\n",
    "Start the iteration\n",
    "</h2>\n",
    "<p>\n",
    "<div class=h1_cell>\n",
    "<p>\n",
    "You can see I am using a while loop based on k (the max depth of the tree). So what I want to do on each iteration is build all the conjuncts out a level. In this way, I am doing a breadth-first generation of the tree.\n",
    "<p>\n",
    "<div class='code_block'>\n",
    "<pre>\n",
    "<code>\n",
    "while k>0:\n",
    "    new_paths = []\n",
    "    for path in current_paths:\n",
    "        conjunct = path['conjunction']  # a list of (name, lambda)\n",
    "        before_table = generate_table(table, conjunct)  # generate subtable using preds as filters\n",
    "        columns_sorted = find_best_splitter(before_table, choices, target)\n",
    "        (best_column, gig_value) = columns_sorted[0]\n",
    "</code>\n",
    "</pre>\n",
    "</div>\n",
    "I'll use new_paths to store the modifications I make to existing paths. The for loop will go through each of the existing paths. As a reminder, a path conjunction is a list of tuples. Each tuple has a string that describes the choice being checked and a lambda that does the check.\n",
    "<p>\n",
    "For the path in play, I first generate the sub-table it generates. I then find the best splitter. I know have the name of the best column and its gig_value. This sets me up for the next phase in the for loop.\n",
    "</div>"
   ]
  },
  {
   "cell_type": "markdown",
   "metadata": {},
   "source": [
    "\n",
    "<h2>\n",
    "Extend the number of conjuncts\n",
    "</h2>\n",
    "<p>\n",
    "<div class=h1_cell>\n",
    "<p>\n",
    "Let's assume that the gig value is greater than the cutoff. In that case we want to replace the current path with 2 new paths based on the column we find makes the best splitter. A split gives a true and a false branch so we add one each to get the 2 new paths. \n",
    "<p>\n",
    "<div class='code_block'>\n",
    "<pre><code>\n",
    "    if gig_value > gig_cutoff:\n",
    "        new_path_1 = {'conjunction': conjunct + [(best_column+'_1', build_pred(best_column, 1))],\n",
    "                    'prediction': None,\n",
    "                     'gig_score': gig_value}\n",
    "        new_paths.append( new_path_1 ) #true\n",
    "        new_path_0 = {'conjunction': conjunct + [(best_column+'_0', build_pred(best_column, 0))],\n",
    "                    'prediction': None,\n",
    "                     'gig_score': gig_value}\n",
    "        new_paths.append( new_path_0 ) #false\n",
    "    else:\n",
    "        #not worth splitting so complete the path with a prediction\n",
    "        path['prediction'] = compute_prediction(before_table, target)\n",
    "        tree_paths.append(path)\n",
    "#end for loop\n",
    "</code></pre>\n",
    "</div>\n",
    "<p>\n",
    "Looking at the else clause, if the gig value is not greater than the cutoff, we do not double the path. Instead we treat it as leading to a leaf. We have to compute the prediction we will make for this leaf. The prediction is simply the target column value (0 or 1) with the highest probability in the table we generated. The last thing we do is add the completed path to tree_paths. Note that once the else clause is taken, the path is removed from further expansion. In particular, it is not copied to new_path.\n",
    "<p>\n",
    "To look at an example of the then clause above, assume that the current path we are looking at has this form:\n",
    "```\n",
    "conjunct: [('sex_female_1, lambda ...)]\n",
    "```\n",
    "<p>\n",
    "Also assume that `find_best_splitter` returns `pclass_3` as the best column. After we are done, we will have replaced the single path with 2 new paths as below:\n",
    "<p>\n",
    "<pre><code>\n",
    "[('sex_female_1', lambda ...), ('pclass_3_1', lambda ...)]  #true branch of split\n",
    "[('sex_female_1', lambda ...), ('pclass_3_0', lambda ...)]  #false branch of split\n",
    "</code></pre>\n",
    "<p>\n",
    "Both of these would be added to `new_paths`.\n",
    "<p>\n",
    "The for loop will continue iterating over the set of paths we have currently.\n",
    "</div>"
   ]
  },
  {
   "cell_type": "markdown",
   "metadata": {},
   "source": [
    "\n",
    "<h2>\n",
    "End of for and while loops\n",
    "</h2>\n",
    "<p>\n",
    "<div class=h1_cell>\n",
    "<p>\n",
    "When we reach the end of the for loop, we have iterated over all the existing paths to try to extend them. If new_paths is empty, we had no luck with extending any of them. We break out of the while loop - there is no point in iterating any further. Otherwise we get set up for the next iteration through the while loop.\n",
    "<p>\n",
    "<pre><code>\n",
    "    #end for loop\n",
    "\n",
    "    current_paths = new_paths\n",
    "    if current_paths != []:\n",
    "        k -= 1\n",
    "    else:\n",
    "        break  # nothing left to extend so have copied all paths to tree_paths\n",
    "        \n",
    "#end while loop\n",
    "</code></pre>\n",
    "<p>\n",
    "\n",
    "</div>"
   ]
  },
  {
   "cell_type": "markdown",
   "metadata": {},
   "source": [
    "<h2>\n",
    "Last step, generate predictions for paths that need them\n",
    "</h2>\n",
    "<p>\n",
    "<div class=h1_cell>\n",
    "<p>\n",
    "The conjuncts in tree_paths have predictions. The conjuncts in current_paths do not. Loop through and add a prediction to each.\n",
    "<p>\n",
    "<pre><code>\n",
    "#Generate predictions for all paths that have None\n",
    "for path in current_paths:\n",
    "    conjunct = path['conjunction']\n",
    "    before_table = generate_table(table, conjunct)\n",
    "    path['prediction'] = compute_prediction(before_table, target)\n",
    "    tree_paths.append(path)\n",
    "return tree_paths\n",
    "\n",
    "</code></pre>\n",
    "<p>\n",
    "Finally, package up the paths into a dictionary that will represent the tree. The `weight` key will be used in later modules when we look at giving a tree more or less say in a prediction. You can ignore it for now.\n",
    "<p>\n",
    "<pre><code>\n",
    "return {'paths': iterative_build(k), 'weight': None}\n",
    "</code></pre>\n",
    "</div>"
   ]
  },
  {
   "cell_type": "code",
   "execution_count": 25,
   "metadata": {
    "collapsed": true
   },
   "outputs": [],
   "source": [
    "def build_tree_iter(table, choices, target, hypers={} ):\n",
    "\n",
    "    k = hypers['max-depth'] if 'max-depth' in hypers else min(4, len(choices))\n",
    "    gig_cutoff = hypers['gig-cutoff'] if 'gig-cutoff' in hypers else 0.0\n",
    "    \n",
    "    def iterative_build(k):\n",
    "        columns_sorted = find_best_splitter(table, choices, target)\n",
    "        (best_column, gig_value) = columns_sorted[0]\n",
    "        \n",
    "        #Note I add _1 or _0 to make it more readable for debugging\n",
    "        current_paths = [{'conjunction': [(best_column+'_1', build_pred(best_column, 1))],\n",
    "                          'prediction': None,\n",
    "                          'gig_score': gig_value},\n",
    "                         {'conjunction': [(best_column+'_0', build_pred(best_column, 0))],\n",
    "                          'prediction': None,\n",
    "                          'gig_score': gig_value}\n",
    "                        ]\n",
    "        k -= 1  # we just built a level as seed so subtract 1 from k\n",
    "        tree_paths = []  # add completed paths here\n",
    "        \n",
    "        while k>0:\n",
    "            new_paths = []\n",
    "            for path in current_paths:\n",
    "                conjunct = path['conjunction']  # a list of (name, lambda)\n",
    "                before_table = generate_table(table, conjunct)  #the subtable the current conjunct leads to\n",
    "                columns_sorted = find_best_splitter(before_table, choices, target)\n",
    "                (best_column, gig_value) = columns_sorted[0]\n",
    "                if gig_value > gig_cutoff:\n",
    "                    new_path_1 = {'conjunction': conjunct + [(best_column+'_1', build_pred(best_column, 1))],\n",
    "                                'prediction': None,\n",
    "                                 'gig_score': gig_value}\n",
    "                    new_paths.append( new_path_1 ) #true\n",
    "                    new_path_0 = {'conjunction': conjunct + [(best_column+'_0', build_pred(best_column, 0))],\n",
    "                                'prediction': None,\n",
    "                                 'gig_score': gig_value}\n",
    "                    new_paths.append( new_path_0 ) #false\n",
    "                else:\n",
    "                    #not worth splitting so complete the path with a prediction\n",
    "                    path['prediction'] = compute_prediction(before_table, target)\n",
    "                    tree_paths.append(path)\n",
    "            #end for loop\n",
    "            \n",
    "            current_paths = new_paths\n",
    "            if current_paths != []:\n",
    "                k -= 1\n",
    "            else:\n",
    "                break  # nothing left to extend so have copied all paths to tree_paths\n",
    "        #end while loop\n",
    "\n",
    "        #Generate predictions for all paths that have None\n",
    "        for path in current_paths:\n",
    "            conjunct = path['conjunction']\n",
    "            before_table = generate_table(table, conjunct)\n",
    "            path['prediction'] = compute_prediction(before_table, target)\n",
    "            tree_paths.append(path)\n",
    "        return tree_paths\n",
    "\n",
    "    return {'paths': iterative_build(k), 'weight': None}"
   ]
  },
  {
   "cell_type": "markdown",
   "metadata": {},
   "source": [
    "<div class=h1_cell>\n",
    "<p>\n",
    "Let's try it with all the columns we specified and with defaults for hypers: max-depth 4 and gig-cutoff 0 (remember, greater than 0).\n",
    "</div>"
   ]
  },
  {
   "cell_type": "code",
   "execution_count": 27,
   "metadata": {},
   "outputs": [
    {
     "name": "stdout",
     "output_type": "stream",
     "text": [
      "15\n"
     ]
    },
    {
     "data": {
      "text/plain": [
       "[{'conjunction': [('sex_female_0', <function __main__.<lambda>>),\n",
       "   ('ok_child_1', <function __main__.<lambda>>),\n",
       "   ('pclass_3_0', <function __main__.<lambda>>)],\n",
       "  'gig_score': 0.19972989195678292,\n",
       "  'prediction': 1},\n",
       " {'conjunction': [('sex_female_1', <function __main__.<lambda>>),\n",
       "   ('pclass_3_1', <function __main__.<lambda>>),\n",
       "   ('emb_S_1', <function __main__.<lambda>>),\n",
       "   ('no_age_1', <function __main__.<lambda>>)],\n",
       "  'gig_score': 0.013706140350877138,\n",
       "  'prediction': 0},\n",
       " {'conjunction': [('sex_female_1', <function __main__.<lambda>>),\n",
       "   ('pclass_3_1', <function __main__.<lambda>>),\n",
       "   ('emb_S_1', <function __main__.<lambda>>),\n",
       "   ('no_age_0', <function __main__.<lambda>>)],\n",
       "  'gig_score': 0.013706140350877138,\n",
       "  'prediction': 0},\n",
       " {'conjunction': [('sex_female_1', <function __main__.<lambda>>),\n",
       "   ('pclass_3_1', <function __main__.<lambda>>),\n",
       "   ('emb_S_0', <function __main__.<lambda>>),\n",
       "   ('ok_child_1', <function __main__.<lambda>>)],\n",
       "  'gig_score': 0.018069727891156517,\n",
       "  'prediction': 1},\n",
       " {'conjunction': [('sex_female_1', <function __main__.<lambda>>),\n",
       "   ('pclass_3_1', <function __main__.<lambda>>),\n",
       "   ('emb_S_0', <function __main__.<lambda>>),\n",
       "   ('ok_child_0', <function __main__.<lambda>>)],\n",
       "  'gig_score': 0.018069727891156517,\n",
       "  'prediction': 1},\n",
       " {'conjunction': [('sex_female_1', <function __main__.<lambda>>),\n",
       "   ('pclass_3_0', <function __main__.<lambda>>),\n",
       "   ('emb_S_1', <function __main__.<lambda>>),\n",
       "   ('age_Adult_1', <function __main__.<lambda>>)],\n",
       "  'gig_score': 0.0017154774332495681,\n",
       "  'prediction': 1},\n",
       " {'conjunction': [('sex_female_1', <function __main__.<lambda>>),\n",
       "   ('pclass_3_0', <function __main__.<lambda>>),\n",
       "   ('emb_S_1', <function __main__.<lambda>>),\n",
       "   ('age_Adult_0', <function __main__.<lambda>>)],\n",
       "  'gig_score': 0.0017154774332495681,\n",
       "  'prediction': 1},\n",
       " {'conjunction': [('sex_female_1', <function __main__.<lambda>>),\n",
       "   ('pclass_3_0', <function __main__.<lambda>>),\n",
       "   ('emb_S_0', <function __main__.<lambda>>),\n",
       "   ('age_Adult_1', <function __main__.<lambda>>)],\n",
       "  'gig_score': 0.00047520661157023775,\n",
       "  'prediction': 1},\n",
       " {'conjunction': [('sex_female_1', <function __main__.<lambda>>),\n",
       "   ('pclass_3_0', <function __main__.<lambda>>),\n",
       "   ('emb_S_0', <function __main__.<lambda>>),\n",
       "   ('age_Adult_0', <function __main__.<lambda>>)],\n",
       "  'gig_score': 0.00047520661157023775,\n",
       "  'prediction': 1},\n",
       " {'conjunction': [('sex_female_0', <function __main__.<lambda>>),\n",
       "   ('ok_child_1', <function __main__.<lambda>>),\n",
       "   ('pclass_3_1', <function __main__.<lambda>>),\n",
       "   ('emb_Q_1', <function __main__.<lambda>>)],\n",
       "  'gig_score': 0.076656907106734,\n",
       "  'prediction': 0},\n",
       " {'conjunction': [('sex_female_0', <function __main__.<lambda>>),\n",
       "   ('ok_child_1', <function __main__.<lambda>>),\n",
       "   ('pclass_3_1', <function __main__.<lambda>>),\n",
       "   ('emb_Q_0', <function __main__.<lambda>>)],\n",
       "  'gig_score': 0.076656907106734,\n",
       "  'prediction': 0},\n",
       " {'conjunction': [('sex_female_0', <function __main__.<lambda>>),\n",
       "   ('ok_child_0', <function __main__.<lambda>>),\n",
       "   ('pclass_1_1', <function __main__.<lambda>>),\n",
       "   ('age_Senior_1', <function __main__.<lambda>>)],\n",
       "  'gig_score': 0.022121469800041205,\n",
       "  'prediction': 0},\n",
       " {'conjunction': [('sex_female_0', <function __main__.<lambda>>),\n",
       "   ('ok_child_0', <function __main__.<lambda>>),\n",
       "   ('pclass_1_1', <function __main__.<lambda>>),\n",
       "   ('age_Senior_0', <function __main__.<lambda>>)],\n",
       "  'gig_score': 0.022121469800041205,\n",
       "  'prediction': 0},\n",
       " {'conjunction': [('sex_female_0', <function __main__.<lambda>>),\n",
       "   ('ok_child_0', <function __main__.<lambda>>),\n",
       "   ('pclass_1_0', <function __main__.<lambda>>),\n",
       "   ('emb_C_1', <function __main__.<lambda>>)],\n",
       "  'gig_score': 0.0018081922647944781,\n",
       "  'prediction': 0},\n",
       " {'conjunction': [('sex_female_0', <function __main__.<lambda>>),\n",
       "   ('ok_child_0', <function __main__.<lambda>>),\n",
       "   ('pclass_1_0', <function __main__.<lambda>>),\n",
       "   ('emb_C_0', <function __main__.<lambda>>)],\n",
       "  'gig_score': 0.0018081922647944781,\n",
       "  'prediction': 0}]"
      ]
     },
     "execution_count": 27,
     "metadata": {},
     "output_type": "execute_result"
    }
   ],
   "source": [
    "tree1 = build_tree_iter(titanic_table, splitter_columns, 'Survived', {}) # should get 15 paths\n",
    "print(len(tree1['paths']))\n",
    "tree1['paths']"
   ]
  },
  {
   "cell_type": "markdown",
   "metadata": {},
   "source": [
    "<div class=h1_cell>\n",
    "<p>\n",
    "Why did we only get 15 paths? Because one path was cut short. If you look closely, you can see that the first path has only 3 predicates:\n",
    "<p>\n",
    "```\n",
    " {'conjunction': [('sex_female_0', <function __main__.<lambda>>),\n",
    "   ('ok_child_1', <function __main__.<lambda>>),\n",
    "   ('pclass_3_0', <function __main__.<lambda>>)],\n",
    "  'gig_score': 0.19972989195678292,\n",
    "  'prediction': 1},\n",
    "```\n",
    "</p>\n",
    "Let's verify that the gig cutoff for this path is correct. First I'll generate the table from the 3 predicates.\n",
    "</div>"
   ]
  },
  {
   "cell_type": "code",
   "execution_count": 28,
   "metadata": {
    "collapsed": true
   },
   "outputs": [],
   "source": [
    "# do by hand what generate_table does for us\n",
    "\n",
    "subtable = titanic_table.loc[titanic_table['sex_female'] == 0]\n",
    "subtable = subtable.loc[subtable['ok_child'] == 1]\n",
    "subtable = subtable.loc[subtable['pclass_3'] == 0]"
   ]
  },
  {
   "cell_type": "markdown",
   "metadata": {},
   "source": [
    "<div class=h1_cell>\n",
    "<p>\n",
    "Now I'll check how many 0s and 1s are in the Survived column.\n",
    "</div>"
   ]
  },
  {
   "cell_type": "code",
   "execution_count": 29,
   "metadata": {},
   "outputs": [
    {
     "data": {
      "text/plain": [
       "1    11\n",
       "Name: Survived, dtype: int64"
      ]
     },
     "execution_count": 29,
     "metadata": {},
     "output_type": "execute_result"
    }
   ],
   "source": [
    "subtable['Survived'].value_counts()"
   ]
  },
  {
   "cell_type": "markdown",
   "metadata": {},
   "source": [
    "<div class=h1_cell>\n",
    "<p>\n",
    "The table only contains survivors! So there were 11 total passengers that were not female, were less than 8 and were not in 3rd class. And all of them survived. Convince yourself that any attempt to further extend this path, i.e., try to split the table further, will lead to a gig score of 0. And hence not pass the cutoff.\n",
    "<p>\n",
    "And a note to myself: it might be worth while checking for homogeneity of `before_table` prior to uselessly trying to find a splitter. So something like this:\n",
    "<p>\n",
    "<div class='code_block'>\n",
    "<pre><code>\n",
    "before_table = generate_table(table, conjunct)\n",
    "if is_homogenous(before_table):\n",
    "    #compute prediction and add path to tree_paths - don't need to mess with new splitter\n",
    "else:\n",
    "    columns_sorted = find_best_splitter(before_table, choices, target)\n",
    "</code></pre>\n",
    "</div>\n",
    "<p>\n",
    "</div>"
   ]
  },
  {
   "cell_type": "markdown",
   "metadata": {},
   "source": [
    "<h2>\n",
    "Now ready to do predictions\n",
    "</h2>\n",
    "<p>\n",
    "<div class=h1_cell>\n",
    "<p>\n",
    "We don't need separate predictors any more. In our old-school way we were representing trees with code. Our new improved way represents trees as a data structure. We can use just a single predictor function to interpret any tree.\n",
    "</div>"
   ]
  },
  {
   "cell_type": "code",
   "execution_count": 30,
   "metadata": {
    "collapsed": true
   },
   "outputs": [],
   "source": [
    "def tree_predictor(row, tree):\n",
    "    \n",
    "    #go through each path, one by one (could use a map instead of for loop?)\n",
    "    for path in tree['paths']:\n",
    "        conjuncts = path['conjunction']\n",
    "        result = map(lambda(tuple): tuple[1](row), conjuncts)  # potential to be parallelized\n",
    "        if all(result):\n",
    "            return path['prediction']\n",
    "    raise LookupError('No true paths found for row: ' + str(row))"
   ]
  },
  {
   "cell_type": "markdown",
   "metadata": {},
   "source": [
    "<div class=h1_cell>\n",
    "<p>\n",
    "Let's pull out a row and test it out.\n",
    "</div>"
   ]
  },
  {
   "cell_type": "code",
   "execution_count": 31,
   "metadata": {},
   "outputs": [
    {
     "data": {
      "text/plain": [
       "Survived                                                      1\n",
       "Pclass                                                        1\n",
       "Name          Cumings, Mrs. John Bradley (Florence Briggs Th...\n",
       "Sex                                                      female\n",
       "Age                                                          38\n",
       "SibSp                                                         1\n",
       "Parch                                                         0\n",
       "Ticket                                                 PC 17599\n",
       "Fare                                                    71.2833\n",
       "Cabin                                                       C85\n",
       "Embarked                                                      C\n",
       "no_age                                                        0\n",
       "filled_age                                                   38\n",
       "emb_C                                                         1\n",
       "emb_Q                                                         0\n",
       "emb_S                                                         0\n",
       "emb_nan                                                       0\n",
       "age_bin                                                   Adult\n",
       "age_Child                                                     0\n",
       "age_Adult                                                     1\n",
       "age_Senior                                                    0\n",
       "sex_female                                                    1\n",
       "sex_male                                                      0\n",
       "ok_child                                                      0\n",
       "pclass_1                                                      1\n",
       "pclass_2                                                      0\n",
       "pclass_3                                                      0\n",
       "pclass_nan                                                    0\n",
       "Name: 1, dtype: object"
      ]
     },
     "execution_count": 31,
     "metadata": {},
     "output_type": "execute_result"
    }
   ],
   "source": [
    "row1 = titanic_table.loc[1]\n",
    "row1"
   ]
  },
  {
   "cell_type": "code",
   "execution_count": 32,
   "metadata": {},
   "outputs": [
    {
     "data": {
      "text/plain": [
       "1"
      ]
     },
     "execution_count": 32,
     "metadata": {},
     "output_type": "execute_result"
    }
   ],
   "source": [
    "tree_predictor(row1, tree1)"
   ]
  },
  {
   "cell_type": "markdown",
   "metadata": {},
   "source": [
    "<div class=h1_cell>\n",
    "<p>\n",
    "Now try for entire table.\n",
    "</div>"
   ]
  },
  {
   "cell_type": "code",
   "execution_count": 33,
   "metadata": {},
   "outputs": [
    {
     "data": {
      "text/html": [
       "<div>\n",
       "<style>\n",
       "    .dataframe thead tr:only-child th {\n",
       "        text-align: right;\n",
       "    }\n",
       "\n",
       "    .dataframe thead th {\n",
       "        text-align: left;\n",
       "    }\n",
       "\n",
       "    .dataframe tbody tr th {\n",
       "        vertical-align: top;\n",
       "    }\n",
       "</style>\n",
       "<table border=\"1\" class=\"dataframe\">\n",
       "  <thead>\n",
       "    <tr style=\"text-align: right;\">\n",
       "      <th></th>\n",
       "      <th>Survived</th>\n",
       "      <th>Pclass</th>\n",
       "      <th>Name</th>\n",
       "      <th>Sex</th>\n",
       "      <th>Age</th>\n",
       "      <th>SibSp</th>\n",
       "      <th>Parch</th>\n",
       "      <th>Ticket</th>\n",
       "      <th>Fare</th>\n",
       "      <th>Cabin</th>\n",
       "      <th>Embarked</th>\n",
       "      <th>no_age</th>\n",
       "      <th>filled_age</th>\n",
       "      <th>emb_C</th>\n",
       "      <th>emb_Q</th>\n",
       "      <th>emb_S</th>\n",
       "      <th>emb_nan</th>\n",
       "      <th>age_bin</th>\n",
       "      <th>age_Child</th>\n",
       "      <th>age_Adult</th>\n",
       "      <th>age_Senior</th>\n",
       "      <th>sex_female</th>\n",
       "      <th>sex_male</th>\n",
       "      <th>ok_child</th>\n",
       "      <th>pclass_1</th>\n",
       "      <th>pclass_2</th>\n",
       "      <th>pclass_3</th>\n",
       "      <th>pclass_nan</th>\n",
       "      <th>tree_1</th>\n",
       "    </tr>\n",
       "  </thead>\n",
       "  <tbody>\n",
       "    <tr>\n",
       "      <th>0</th>\n",
       "      <td>0</td>\n",
       "      <td>3</td>\n",
       "      <td>Braund, Mr. Owen Harris</td>\n",
       "      <td>male</td>\n",
       "      <td>22.0</td>\n",
       "      <td>1</td>\n",
       "      <td>0</td>\n",
       "      <td>A/5 21171</td>\n",
       "      <td>7.2500</td>\n",
       "      <td>NaN</td>\n",
       "      <td>S</td>\n",
       "      <td>0</td>\n",
       "      <td>22.0</td>\n",
       "      <td>0</td>\n",
       "      <td>0</td>\n",
       "      <td>1</td>\n",
       "      <td>0</td>\n",
       "      <td>Child</td>\n",
       "      <td>1</td>\n",
       "      <td>0</td>\n",
       "      <td>0</td>\n",
       "      <td>0</td>\n",
       "      <td>1</td>\n",
       "      <td>0</td>\n",
       "      <td>0</td>\n",
       "      <td>0</td>\n",
       "      <td>1</td>\n",
       "      <td>0</td>\n",
       "      <td>0</td>\n",
       "    </tr>\n",
       "    <tr>\n",
       "      <th>1</th>\n",
       "      <td>1</td>\n",
       "      <td>1</td>\n",
       "      <td>Cumings, Mrs. John Bradley (Florence Briggs Th...</td>\n",
       "      <td>female</td>\n",
       "      <td>38.0</td>\n",
       "      <td>1</td>\n",
       "      <td>0</td>\n",
       "      <td>PC 17599</td>\n",
       "      <td>71.2833</td>\n",
       "      <td>C85</td>\n",
       "      <td>C</td>\n",
       "      <td>0</td>\n",
       "      <td>38.0</td>\n",
       "      <td>1</td>\n",
       "      <td>0</td>\n",
       "      <td>0</td>\n",
       "      <td>0</td>\n",
       "      <td>Adult</td>\n",
       "      <td>0</td>\n",
       "      <td>1</td>\n",
       "      <td>0</td>\n",
       "      <td>1</td>\n",
       "      <td>0</td>\n",
       "      <td>0</td>\n",
       "      <td>1</td>\n",
       "      <td>0</td>\n",
       "      <td>0</td>\n",
       "      <td>0</td>\n",
       "      <td>1</td>\n",
       "    </tr>\n",
       "    <tr>\n",
       "      <th>2</th>\n",
       "      <td>1</td>\n",
       "      <td>3</td>\n",
       "      <td>Heikkinen, Miss. Laina</td>\n",
       "      <td>female</td>\n",
       "      <td>26.0</td>\n",
       "      <td>0</td>\n",
       "      <td>0</td>\n",
       "      <td>STON/O2. 3101282</td>\n",
       "      <td>7.9250</td>\n",
       "      <td>NaN</td>\n",
       "      <td>S</td>\n",
       "      <td>0</td>\n",
       "      <td>26.0</td>\n",
       "      <td>0</td>\n",
       "      <td>0</td>\n",
       "      <td>1</td>\n",
       "      <td>0</td>\n",
       "      <td>Child</td>\n",
       "      <td>1</td>\n",
       "      <td>0</td>\n",
       "      <td>0</td>\n",
       "      <td>1</td>\n",
       "      <td>0</td>\n",
       "      <td>0</td>\n",
       "      <td>0</td>\n",
       "      <td>0</td>\n",
       "      <td>1</td>\n",
       "      <td>0</td>\n",
       "      <td>0</td>\n",
       "    </tr>\n",
       "    <tr>\n",
       "      <th>3</th>\n",
       "      <td>1</td>\n",
       "      <td>1</td>\n",
       "      <td>Futrelle, Mrs. Jacques Heath (Lily May Peel)</td>\n",
       "      <td>female</td>\n",
       "      <td>35.0</td>\n",
       "      <td>1</td>\n",
       "      <td>0</td>\n",
       "      <td>113803</td>\n",
       "      <td>53.1000</td>\n",
       "      <td>C123</td>\n",
       "      <td>S</td>\n",
       "      <td>0</td>\n",
       "      <td>35.0</td>\n",
       "      <td>0</td>\n",
       "      <td>0</td>\n",
       "      <td>1</td>\n",
       "      <td>0</td>\n",
       "      <td>Adult</td>\n",
       "      <td>0</td>\n",
       "      <td>1</td>\n",
       "      <td>0</td>\n",
       "      <td>1</td>\n",
       "      <td>0</td>\n",
       "      <td>0</td>\n",
       "      <td>1</td>\n",
       "      <td>0</td>\n",
       "      <td>0</td>\n",
       "      <td>0</td>\n",
       "      <td>1</td>\n",
       "    </tr>\n",
       "    <tr>\n",
       "      <th>4</th>\n",
       "      <td>0</td>\n",
       "      <td>3</td>\n",
       "      <td>Allen, Mr. William Henry</td>\n",
       "      <td>male</td>\n",
       "      <td>35.0</td>\n",
       "      <td>0</td>\n",
       "      <td>0</td>\n",
       "      <td>373450</td>\n",
       "      <td>8.0500</td>\n",
       "      <td>NaN</td>\n",
       "      <td>S</td>\n",
       "      <td>0</td>\n",
       "      <td>35.0</td>\n",
       "      <td>0</td>\n",
       "      <td>0</td>\n",
       "      <td>1</td>\n",
       "      <td>0</td>\n",
       "      <td>Adult</td>\n",
       "      <td>0</td>\n",
       "      <td>1</td>\n",
       "      <td>0</td>\n",
       "      <td>0</td>\n",
       "      <td>1</td>\n",
       "      <td>0</td>\n",
       "      <td>0</td>\n",
       "      <td>0</td>\n",
       "      <td>1</td>\n",
       "      <td>0</td>\n",
       "      <td>0</td>\n",
       "    </tr>\n",
       "  </tbody>\n",
       "</table>\n",
       "</div>"
      ],
      "text/plain": [
       "   Survived  Pclass                                               Name  \\\n",
       "0         0       3                            Braund, Mr. Owen Harris   \n",
       "1         1       1  Cumings, Mrs. John Bradley (Florence Briggs Th...   \n",
       "2         1       3                             Heikkinen, Miss. Laina   \n",
       "3         1       1       Futrelle, Mrs. Jacques Heath (Lily May Peel)   \n",
       "4         0       3                           Allen, Mr. William Henry   \n",
       "\n",
       "      Sex   Age  SibSp  Parch            Ticket     Fare Cabin Embarked  \\\n",
       "0    male  22.0      1      0         A/5 21171   7.2500   NaN        S   \n",
       "1  female  38.0      1      0          PC 17599  71.2833   C85        C   \n",
       "2  female  26.0      0      0  STON/O2. 3101282   7.9250   NaN        S   \n",
       "3  female  35.0      1      0            113803  53.1000  C123        S   \n",
       "4    male  35.0      0      0            373450   8.0500   NaN        S   \n",
       "\n",
       "   no_age  filled_age  emb_C  emb_Q  emb_S  emb_nan age_bin  age_Child  \\\n",
       "0       0        22.0      0      0      1        0   Child          1   \n",
       "1       0        38.0      1      0      0        0   Adult          0   \n",
       "2       0        26.0      0      0      1        0   Child          1   \n",
       "3       0        35.0      0      0      1        0   Adult          0   \n",
       "4       0        35.0      0      0      1        0   Adult          0   \n",
       "\n",
       "   age_Adult  age_Senior  sex_female  sex_male  ok_child  pclass_1  pclass_2  \\\n",
       "0          0           0           0         1         0         0         0   \n",
       "1          1           0           1         0         0         1         0   \n",
       "2          0           0           1         0         0         0         0   \n",
       "3          1           0           1         0         0         1         0   \n",
       "4          1           0           0         1         0         0         0   \n",
       "\n",
       "   pclass_3  pclass_nan  tree_1  \n",
       "0         1           0       0  \n",
       "1         0           0       1  \n",
       "2         1           0       0  \n",
       "3         0           0       1  \n",
       "4         1           0       0  "
      ]
     },
     "execution_count": 33,
     "metadata": {},
     "output_type": "execute_result"
    }
   ],
   "source": [
    "titanic_table['tree_1'] = titanic_table.apply(lambda row: tree_predictor(row, tree1), axis=1)\n",
    "\n",
    "titanic_table.head(5)"
   ]
  },
  {
   "cell_type": "code",
   "execution_count": 34,
   "metadata": {},
   "outputs": [
    {
     "data": {
      "text/html": [
       "<div>\n",
       "<style>\n",
       "    .dataframe thead tr:only-child th {\n",
       "        text-align: right;\n",
       "    }\n",
       "\n",
       "    .dataframe thead th {\n",
       "        text-align: left;\n",
       "    }\n",
       "\n",
       "    .dataframe tbody tr th {\n",
       "        vertical-align: top;\n",
       "    }\n",
       "</style>\n",
       "<table border=\"1\" class=\"dataframe\">\n",
       "  <thead>\n",
       "    <tr style=\"text-align: right;\">\n",
       "      <th></th>\n",
       "      <th>Survived</th>\n",
       "      <th>Pclass</th>\n",
       "      <th>Name</th>\n",
       "      <th>Sex</th>\n",
       "      <th>Age</th>\n",
       "      <th>SibSp</th>\n",
       "      <th>Parch</th>\n",
       "      <th>Ticket</th>\n",
       "      <th>Fare</th>\n",
       "      <th>Cabin</th>\n",
       "      <th>Embarked</th>\n",
       "      <th>no_age</th>\n",
       "      <th>filled_age</th>\n",
       "      <th>emb_C</th>\n",
       "      <th>emb_Q</th>\n",
       "      <th>emb_S</th>\n",
       "      <th>emb_nan</th>\n",
       "      <th>age_bin</th>\n",
       "      <th>age_Child</th>\n",
       "      <th>age_Adult</th>\n",
       "      <th>age_Senior</th>\n",
       "      <th>sex_female</th>\n",
       "      <th>sex_male</th>\n",
       "      <th>ok_child</th>\n",
       "      <th>pclass_1</th>\n",
       "      <th>pclass_2</th>\n",
       "      <th>pclass_3</th>\n",
       "      <th>pclass_nan</th>\n",
       "      <th>tree_1</th>\n",
       "      <th>tree_1_type</th>\n",
       "    </tr>\n",
       "  </thead>\n",
       "  <tbody>\n",
       "    <tr>\n",
       "      <th>0</th>\n",
       "      <td>0</td>\n",
       "      <td>3</td>\n",
       "      <td>Braund, Mr. Owen Harris</td>\n",
       "      <td>male</td>\n",
       "      <td>22.0</td>\n",
       "      <td>1</td>\n",
       "      <td>0</td>\n",
       "      <td>A/5 21171</td>\n",
       "      <td>7.2500</td>\n",
       "      <td>NaN</td>\n",
       "      <td>S</td>\n",
       "      <td>0</td>\n",
       "      <td>22.0</td>\n",
       "      <td>0</td>\n",
       "      <td>0</td>\n",
       "      <td>1</td>\n",
       "      <td>0</td>\n",
       "      <td>Child</td>\n",
       "      <td>1</td>\n",
       "      <td>0</td>\n",
       "      <td>0</td>\n",
       "      <td>0</td>\n",
       "      <td>1</td>\n",
       "      <td>0</td>\n",
       "      <td>0</td>\n",
       "      <td>0</td>\n",
       "      <td>1</td>\n",
       "      <td>0</td>\n",
       "      <td>0</td>\n",
       "      <td>true_negative</td>\n",
       "    </tr>\n",
       "    <tr>\n",
       "      <th>1</th>\n",
       "      <td>1</td>\n",
       "      <td>1</td>\n",
       "      <td>Cumings, Mrs. John Bradley (Florence Briggs Th...</td>\n",
       "      <td>female</td>\n",
       "      <td>38.0</td>\n",
       "      <td>1</td>\n",
       "      <td>0</td>\n",
       "      <td>PC 17599</td>\n",
       "      <td>71.2833</td>\n",
       "      <td>C85</td>\n",
       "      <td>C</td>\n",
       "      <td>0</td>\n",
       "      <td>38.0</td>\n",
       "      <td>1</td>\n",
       "      <td>0</td>\n",
       "      <td>0</td>\n",
       "      <td>0</td>\n",
       "      <td>Adult</td>\n",
       "      <td>0</td>\n",
       "      <td>1</td>\n",
       "      <td>0</td>\n",
       "      <td>1</td>\n",
       "      <td>0</td>\n",
       "      <td>0</td>\n",
       "      <td>1</td>\n",
       "      <td>0</td>\n",
       "      <td>0</td>\n",
       "      <td>0</td>\n",
       "      <td>1</td>\n",
       "      <td>true_positive</td>\n",
       "    </tr>\n",
       "    <tr>\n",
       "      <th>2</th>\n",
       "      <td>1</td>\n",
       "      <td>3</td>\n",
       "      <td>Heikkinen, Miss. Laina</td>\n",
       "      <td>female</td>\n",
       "      <td>26.0</td>\n",
       "      <td>0</td>\n",
       "      <td>0</td>\n",
       "      <td>STON/O2. 3101282</td>\n",
       "      <td>7.9250</td>\n",
       "      <td>NaN</td>\n",
       "      <td>S</td>\n",
       "      <td>0</td>\n",
       "      <td>26.0</td>\n",
       "      <td>0</td>\n",
       "      <td>0</td>\n",
       "      <td>1</td>\n",
       "      <td>0</td>\n",
       "      <td>Child</td>\n",
       "      <td>1</td>\n",
       "      <td>0</td>\n",
       "      <td>0</td>\n",
       "      <td>1</td>\n",
       "      <td>0</td>\n",
       "      <td>0</td>\n",
       "      <td>0</td>\n",
       "      <td>0</td>\n",
       "      <td>1</td>\n",
       "      <td>0</td>\n",
       "      <td>0</td>\n",
       "      <td>false_negative</td>\n",
       "    </tr>\n",
       "    <tr>\n",
       "      <th>3</th>\n",
       "      <td>1</td>\n",
       "      <td>1</td>\n",
       "      <td>Futrelle, Mrs. Jacques Heath (Lily May Peel)</td>\n",
       "      <td>female</td>\n",
       "      <td>35.0</td>\n",
       "      <td>1</td>\n",
       "      <td>0</td>\n",
       "      <td>113803</td>\n",
       "      <td>53.1000</td>\n",
       "      <td>C123</td>\n",
       "      <td>S</td>\n",
       "      <td>0</td>\n",
       "      <td>35.0</td>\n",
       "      <td>0</td>\n",
       "      <td>0</td>\n",
       "      <td>1</td>\n",
       "      <td>0</td>\n",
       "      <td>Adult</td>\n",
       "      <td>0</td>\n",
       "      <td>1</td>\n",
       "      <td>0</td>\n",
       "      <td>1</td>\n",
       "      <td>0</td>\n",
       "      <td>0</td>\n",
       "      <td>1</td>\n",
       "      <td>0</td>\n",
       "      <td>0</td>\n",
       "      <td>0</td>\n",
       "      <td>1</td>\n",
       "      <td>true_positive</td>\n",
       "    </tr>\n",
       "    <tr>\n",
       "      <th>4</th>\n",
       "      <td>0</td>\n",
       "      <td>3</td>\n",
       "      <td>Allen, Mr. William Henry</td>\n",
       "      <td>male</td>\n",
       "      <td>35.0</td>\n",
       "      <td>0</td>\n",
       "      <td>0</td>\n",
       "      <td>373450</td>\n",
       "      <td>8.0500</td>\n",
       "      <td>NaN</td>\n",
       "      <td>S</td>\n",
       "      <td>0</td>\n",
       "      <td>35.0</td>\n",
       "      <td>0</td>\n",
       "      <td>0</td>\n",
       "      <td>1</td>\n",
       "      <td>0</td>\n",
       "      <td>Adult</td>\n",
       "      <td>0</td>\n",
       "      <td>1</td>\n",
       "      <td>0</td>\n",
       "      <td>0</td>\n",
       "      <td>1</td>\n",
       "      <td>0</td>\n",
       "      <td>0</td>\n",
       "      <td>0</td>\n",
       "      <td>1</td>\n",
       "      <td>0</td>\n",
       "      <td>0</td>\n",
       "      <td>true_negative</td>\n",
       "    </tr>\n",
       "  </tbody>\n",
       "</table>\n",
       "</div>"
      ],
      "text/plain": [
       "   Survived  Pclass                                               Name  \\\n",
       "0         0       3                            Braund, Mr. Owen Harris   \n",
       "1         1       1  Cumings, Mrs. John Bradley (Florence Briggs Th...   \n",
       "2         1       3                             Heikkinen, Miss. Laina   \n",
       "3         1       1       Futrelle, Mrs. Jacques Heath (Lily May Peel)   \n",
       "4         0       3                           Allen, Mr. William Henry   \n",
       "\n",
       "      Sex   Age  SibSp  Parch            Ticket     Fare Cabin Embarked  \\\n",
       "0    male  22.0      1      0         A/5 21171   7.2500   NaN        S   \n",
       "1  female  38.0      1      0          PC 17599  71.2833   C85        C   \n",
       "2  female  26.0      0      0  STON/O2. 3101282   7.9250   NaN        S   \n",
       "3  female  35.0      1      0            113803  53.1000  C123        S   \n",
       "4    male  35.0      0      0            373450   8.0500   NaN        S   \n",
       "\n",
       "   no_age  filled_age  emb_C  emb_Q  emb_S  emb_nan age_bin  age_Child  \\\n",
       "0       0        22.0      0      0      1        0   Child          1   \n",
       "1       0        38.0      1      0      0        0   Adult          0   \n",
       "2       0        26.0      0      0      1        0   Child          1   \n",
       "3       0        35.0      0      0      1        0   Adult          0   \n",
       "4       0        35.0      0      0      1        0   Adult          0   \n",
       "\n",
       "   age_Adult  age_Senior  sex_female  sex_male  ok_child  pclass_1  pclass_2  \\\n",
       "0          0           0           0         1         0         0         0   \n",
       "1          1           0           1         0         0         1         0   \n",
       "2          0           0           1         0         0         0         0   \n",
       "3          1           0           1         0         0         1         0   \n",
       "4          1           0           0         1         0         0         0   \n",
       "\n",
       "   pclass_3  pclass_nan  tree_1     tree_1_type  \n",
       "0         1           0       0   true_negative  \n",
       "1         0           0       1   true_positive  \n",
       "2         1           0       0  false_negative  \n",
       "3         0           0       1   true_positive  \n",
       "4         1           0       0   true_negative  "
      ]
     },
     "execution_count": 34,
     "metadata": {},
     "output_type": "execute_result"
    }
   ],
   "source": [
    "titanic_table['tree_1_type'] = titanic_table.apply(lambda row: predictor_case(row, pred='tree_1', target='Survived'), axis=1)\n",
    "titanic_table.head()"
   ]
  },
  {
   "cell_type": "code",
   "execution_count": 35,
   "metadata": {},
   "outputs": [
    {
     "data": {
      "text/plain": [
       "true_negative     523\n",
       "true_positive     211\n",
       "false_negative    131\n",
       "false_positive     26\n",
       "Name: tree_1_type, dtype: int64"
      ]
     },
     "execution_count": 35,
     "metadata": {},
     "output_type": "execute_result"
    }
   ],
   "source": [
    "tree_1_types = titanic_table['tree_1_type'].value_counts()\n",
    "tree_1_types"
   ]
  },
  {
   "cell_type": "code",
   "execution_count": 36,
   "metadata": {},
   "outputs": [
    {
     "data": {
      "text/plain": [
       "<matplotlib.axes._subplots.AxesSubplot at 0x10a13c610>"
      ]
     },
     "execution_count": 36,
     "metadata": {},
     "output_type": "execute_result"
    },
    {
     "data": {
      "image/png": "[encoded data removed]",
      "text/plain": [
       "<matplotlib.figure.Figure at 0x10a129f50>"
      ]
     },
     "metadata": {},
     "output_type": "display_data"
    }
   ],
   "source": [
    "%matplotlib inline\n",
    "tree_1_types.plot.pie(title='Tree1 Accuracy: '+str(accuracy(tree_1_types)), autopct='%.2f', fontsize=20, figsize=(6, 6))  # need figsize to get correct aspect"
   ]
  },
  {
   "cell_type": "code",
   "execution_count": 38,
   "metadata": {},
   "outputs": [
    {
     "data": {
      "text/plain": [
       "0.7288428324697754"
      ]
     },
     "execution_count": 38,
     "metadata": {},
     "output_type": "execute_result"
    }
   ],
   "source": [
    "f1(tree_1_types)"
   ]
  },
  {
   "cell_type": "code",
   "execution_count": 39,
   "metadata": {},
   "outputs": [
    {
     "data": {
      "text/plain": [
       "0.5696002300834051"
      ]
     },
     "execution_count": 39,
     "metadata": {},
     "output_type": "execute_result"
    }
   ],
   "source": [
    "informedness(tree_1_types)"
   ]
  },
  {
   "cell_type": "markdown",
   "metadata": {},
   "source": [
    "<h2>\n",
    "Our next step is to tune the tree\n",
    "</h2>\n",
    "<p>\n",
    "<div class=h1_cell>\n",
    "<p>\n",
    "We have two knobs we can twist: max depth (currently set at 4) and gig cutoff (currently set at 0). Let's try trees of different depths. First up, max depth of 3.\n",
    "</div>"
   ]
  },
  {
   "cell_type": "code",
   "execution_count": 40,
   "metadata": {},
   "outputs": [
    {
     "name": "stdout",
     "output_type": "stream",
     "text": [
      "8\n"
     ]
    },
    {
     "data": {
      "text/plain": [
       "[{'conjunction': [('sex_female_1', <function __main__.<lambda>>),\n",
       "   ('pclass_3_1', <function __main__.<lambda>>),\n",
       "   ('emb_S_1', <function __main__.<lambda>>)],\n",
       "  'gig_score': 0.049107142857142794,\n",
       "  'prediction': 0},\n",
       " {'conjunction': [('sex_female_1', <function __main__.<lambda>>),\n",
       "   ('pclass_3_1', <function __main__.<lambda>>),\n",
       "   ('emb_S_0', <function __main__.<lambda>>)],\n",
       "  'gig_score': 0.049107142857142794,\n",
       "  'prediction': 1},\n",
       " {'conjunction': [('sex_female_1', <function __main__.<lambda>>),\n",
       "   ('pclass_3_0', <function __main__.<lambda>>),\n",
       "   ('emb_S_1', <function __main__.<lambda>>)],\n",
       "  'gig_score': 0.0011556819891408443,\n",
       "  'prediction': 1},\n",
       " {'conjunction': [('sex_female_1', <function __main__.<lambda>>),\n",
       "   ('pclass_3_0', <function __main__.<lambda>>),\n",
       "   ('emb_S_0', <function __main__.<lambda>>)],\n",
       "  'gig_score': 0.0011556819891408443,\n",
       "  'prediction': 1},\n",
       " {'conjunction': [('sex_female_0', <function __main__.<lambda>>),\n",
       "   ('ok_child_1', <function __main__.<lambda>>),\n",
       "   ('pclass_3_1', <function __main__.<lambda>>)],\n",
       "  'gig_score': 0.19972989195678292,\n",
       "  'prediction': 0},\n",
       " {'conjunction': [('sex_female_0', <function __main__.<lambda>>),\n",
       "   ('ok_child_1', <function __main__.<lambda>>),\n",
       "   ('pclass_3_0', <function __main__.<lambda>>)],\n",
       "  'gig_score': 0.19972989195678292,\n",
       "  'prediction': 1},\n",
       " {'conjunction': [('sex_female_0', <function __main__.<lambda>>),\n",
       "   ('ok_child_0', <function __main__.<lambda>>),\n",
       "   ('pclass_1_1', <function __main__.<lambda>>)],\n",
       "  'gig_score': 0.02035682291437929,\n",
       "  'prediction': 0},\n",
       " {'conjunction': [('sex_female_0', <function __main__.<lambda>>),\n",
       "   ('ok_child_0', <function __main__.<lambda>>),\n",
       "   ('pclass_1_0', <function __main__.<lambda>>)],\n",
       "  'gig_score': 0.02035682291437929,\n",
       "  'prediction': 0}]"
      ]
     },
     "execution_count": 40,
     "metadata": {},
     "output_type": "execute_result"
    }
   ],
   "source": [
    "tree2 = build_tree_iter(titanic_table, splitter_columns, 'Survived', {'max-depth':3})\n",
    "print(len(tree2['paths']))\n",
    "tree2['paths']"
   ]
  },
  {
   "cell_type": "code",
   "execution_count": 41,
   "metadata": {},
   "outputs": [
    {
     "data": {
      "text/html": [
       "<div>\n",
       "<style>\n",
       "    .dataframe thead tr:only-child th {\n",
       "        text-align: right;\n",
       "    }\n",
       "\n",
       "    .dataframe thead th {\n",
       "        text-align: left;\n",
       "    }\n",
       "\n",
       "    .dataframe tbody tr th {\n",
       "        vertical-align: top;\n",
       "    }\n",
       "</style>\n",
       "<table border=\"1\" class=\"dataframe\">\n",
       "  <thead>\n",
       "    <tr style=\"text-align: right;\">\n",
       "      <th></th>\n",
       "      <th>Survived</th>\n",
       "      <th>Pclass</th>\n",
       "      <th>Name</th>\n",
       "      <th>Sex</th>\n",
       "      <th>Age</th>\n",
       "      <th>SibSp</th>\n",
       "      <th>Parch</th>\n",
       "      <th>Ticket</th>\n",
       "      <th>Fare</th>\n",
       "      <th>Cabin</th>\n",
       "      <th>Embarked</th>\n",
       "      <th>no_age</th>\n",
       "      <th>filled_age</th>\n",
       "      <th>emb_C</th>\n",
       "      <th>emb_Q</th>\n",
       "      <th>emb_S</th>\n",
       "      <th>emb_nan</th>\n",
       "      <th>age_bin</th>\n",
       "      <th>age_Child</th>\n",
       "      <th>age_Adult</th>\n",
       "      <th>age_Senior</th>\n",
       "      <th>sex_female</th>\n",
       "      <th>sex_male</th>\n",
       "      <th>ok_child</th>\n",
       "      <th>pclass_1</th>\n",
       "      <th>pclass_2</th>\n",
       "      <th>pclass_3</th>\n",
       "      <th>pclass_nan</th>\n",
       "      <th>tree_1</th>\n",
       "      <th>tree_1_type</th>\n",
       "      <th>tree_2</th>\n",
       "    </tr>\n",
       "  </thead>\n",
       "  <tbody>\n",
       "    <tr>\n",
       "      <th>0</th>\n",
       "      <td>0</td>\n",
       "      <td>3</td>\n",
       "      <td>Braund, Mr. Owen Harris</td>\n",
       "      <td>male</td>\n",
       "      <td>22.0</td>\n",
       "      <td>1</td>\n",
       "      <td>0</td>\n",
       "      <td>A/5 21171</td>\n",
       "      <td>7.2500</td>\n",
       "      <td>NaN</td>\n",
       "      <td>S</td>\n",
       "      <td>0</td>\n",
       "      <td>22.0</td>\n",
       "      <td>0</td>\n",
       "      <td>0</td>\n",
       "      <td>1</td>\n",
       "      <td>0</td>\n",
       "      <td>Child</td>\n",
       "      <td>1</td>\n",
       "      <td>0</td>\n",
       "      <td>0</td>\n",
       "      <td>0</td>\n",
       "      <td>1</td>\n",
       "      <td>0</td>\n",
       "      <td>0</td>\n",
       "      <td>0</td>\n",
       "      <td>1</td>\n",
       "      <td>0</td>\n",
       "      <td>0</td>\n",
       "      <td>true_negative</td>\n",
       "      <td>0</td>\n",
       "    </tr>\n",
       "    <tr>\n",
       "      <th>1</th>\n",
       "      <td>1</td>\n",
       "      <td>1</td>\n",
       "      <td>Cumings, Mrs. John Bradley (Florence Briggs Th...</td>\n",
       "      <td>female</td>\n",
       "      <td>38.0</td>\n",
       "      <td>1</td>\n",
       "      <td>0</td>\n",
       "      <td>PC 17599</td>\n",
       "      <td>71.2833</td>\n",
       "      <td>C85</td>\n",
       "      <td>C</td>\n",
       "      <td>0</td>\n",
       "      <td>38.0</td>\n",
       "      <td>1</td>\n",
       "      <td>0</td>\n",
       "      <td>0</td>\n",
       "      <td>0</td>\n",
       "      <td>Adult</td>\n",
       "      <td>0</td>\n",
       "      <td>1</td>\n",
       "      <td>0</td>\n",
       "      <td>1</td>\n",
       "      <td>0</td>\n",
       "      <td>0</td>\n",
       "      <td>1</td>\n",
       "      <td>0</td>\n",
       "      <td>0</td>\n",
       "      <td>0</td>\n",
       "      <td>1</td>\n",
       "      <td>true_positive</td>\n",
       "      <td>1</td>\n",
       "    </tr>\n",
       "    <tr>\n",
       "      <th>2</th>\n",
       "      <td>1</td>\n",
       "      <td>3</td>\n",
       "      <td>Heikkinen, Miss. Laina</td>\n",
       "      <td>female</td>\n",
       "      <td>26.0</td>\n",
       "      <td>0</td>\n",
       "      <td>0</td>\n",
       "      <td>STON/O2. 3101282</td>\n",
       "      <td>7.9250</td>\n",
       "      <td>NaN</td>\n",
       "      <td>S</td>\n",
       "      <td>0</td>\n",
       "      <td>26.0</td>\n",
       "      <td>0</td>\n",
       "      <td>0</td>\n",
       "      <td>1</td>\n",
       "      <td>0</td>\n",
       "      <td>Child</td>\n",
       "      <td>1</td>\n",
       "      <td>0</td>\n",
       "      <td>0</td>\n",
       "      <td>1</td>\n",
       "      <td>0</td>\n",
       "      <td>0</td>\n",
       "      <td>0</td>\n",
       "      <td>0</td>\n",
       "      <td>1</td>\n",
       "      <td>0</td>\n",
       "      <td>0</td>\n",
       "      <td>false_negative</td>\n",
       "      <td>0</td>\n",
       "    </tr>\n",
       "    <tr>\n",
       "      <th>3</th>\n",
       "      <td>1</td>\n",
       "      <td>1</td>\n",
       "      <td>Futrelle, Mrs. Jacques Heath (Lily May Peel)</td>\n",
       "      <td>female</td>\n",
       "      <td>35.0</td>\n",
       "      <td>1</td>\n",
       "      <td>0</td>\n",
       "      <td>113803</td>\n",
       "      <td>53.1000</td>\n",
       "      <td>C123</td>\n",
       "      <td>S</td>\n",
       "      <td>0</td>\n",
       "      <td>35.0</td>\n",
       "      <td>0</td>\n",
       "      <td>0</td>\n",
       "      <td>1</td>\n",
       "      <td>0</td>\n",
       "      <td>Adult</td>\n",
       "      <td>0</td>\n",
       "      <td>1</td>\n",
       "      <td>0</td>\n",
       "      <td>1</td>\n",
       "      <td>0</td>\n",
       "      <td>0</td>\n",
       "      <td>1</td>\n",
       "      <td>0</td>\n",
       "      <td>0</td>\n",
       "      <td>0</td>\n",
       "      <td>1</td>\n",
       "      <td>true_positive</td>\n",
       "      <td>1</td>\n",
       "    </tr>\n",
       "    <tr>\n",
       "      <th>4</th>\n",
       "      <td>0</td>\n",
       "      <td>3</td>\n",
       "      <td>Allen, Mr. William Henry</td>\n",
       "      <td>male</td>\n",
       "      <td>35.0</td>\n",
       "      <td>0</td>\n",
       "      <td>0</td>\n",
       "      <td>373450</td>\n",
       "      <td>8.0500</td>\n",
       "      <td>NaN</td>\n",
       "      <td>S</td>\n",
       "      <td>0</td>\n",
       "      <td>35.0</td>\n",
       "      <td>0</td>\n",
       "      <td>0</td>\n",
       "      <td>1</td>\n",
       "      <td>0</td>\n",
       "      <td>Adult</td>\n",
       "      <td>0</td>\n",
       "      <td>1</td>\n",
       "      <td>0</td>\n",
       "      <td>0</td>\n",
       "      <td>1</td>\n",
       "      <td>0</td>\n",
       "      <td>0</td>\n",
       "      <td>0</td>\n",
       "      <td>1</td>\n",
       "      <td>0</td>\n",
       "      <td>0</td>\n",
       "      <td>true_negative</td>\n",
       "      <td>0</td>\n",
       "    </tr>\n",
       "  </tbody>\n",
       "</table>\n",
       "</div>"
      ],
      "text/plain": [
       "   Survived  Pclass                                               Name  \\\n",
       "0         0       3                            Braund, Mr. Owen Harris   \n",
       "1         1       1  Cumings, Mrs. John Bradley (Florence Briggs Th...   \n",
       "2         1       3                             Heikkinen, Miss. Laina   \n",
       "3         1       1       Futrelle, Mrs. Jacques Heath (Lily May Peel)   \n",
       "4         0       3                           Allen, Mr. William Henry   \n",
       "\n",
       "      Sex   Age  SibSp  Parch            Ticket     Fare Cabin Embarked  \\\n",
       "0    male  22.0      1      0         A/5 21171   7.2500   NaN        S   \n",
       "1  female  38.0      1      0          PC 17599  71.2833   C85        C   \n",
       "2  female  26.0      0      0  STON/O2. 3101282   7.9250   NaN        S   \n",
       "3  female  35.0      1      0            113803  53.1000  C123        S   \n",
       "4    male  35.0      0      0            373450   8.0500   NaN        S   \n",
       "\n",
       "   no_age  filled_age  emb_C  emb_Q  emb_S  emb_nan age_bin  age_Child  \\\n",
       "0       0        22.0      0      0      1        0   Child          1   \n",
       "1       0        38.0      1      0      0        0   Adult          0   \n",
       "2       0        26.0      0      0      1        0   Child          1   \n",
       "3       0        35.0      0      0      1        0   Adult          0   \n",
       "4       0        35.0      0      0      1        0   Adult          0   \n",
       "\n",
       "   age_Adult  age_Senior  sex_female  sex_male  ok_child  pclass_1  pclass_2  \\\n",
       "0          0           0           0         1         0         0         0   \n",
       "1          1           0           1         0         0         1         0   \n",
       "2          0           0           1         0         0         0         0   \n",
       "3          1           0           1         0         0         1         0   \n",
       "4          1           0           0         1         0         0         0   \n",
       "\n",
       "   pclass_3  pclass_nan  tree_1     tree_1_type  tree_2  \n",
       "0         1           0       0   true_negative       0  \n",
       "1         0           0       1   true_positive       1  \n",
       "2         1           0       0  false_negative       0  \n",
       "3         0           0       1   true_positive       1  \n",
       "4         1           0       0   true_negative       0  "
      ]
     },
     "execution_count": 41,
     "metadata": {},
     "output_type": "execute_result"
    }
   ],
   "source": [
    "titanic_table['tree_2'] = titanic_table.apply(lambda row: tree_predictor(row, tree2), axis=1)\n",
    "\n",
    "titanic_table.head(5)"
   ]
  },
  {
   "cell_type": "code",
   "execution_count": 42,
   "metadata": {},
   "outputs": [
    {
     "data": {
      "text/html": [
       "<div>\n",
       "<style>\n",
       "    .dataframe thead tr:only-child th {\n",
       "        text-align: right;\n",
       "    }\n",
       "\n",
       "    .dataframe thead th {\n",
       "        text-align: left;\n",
       "    }\n",
       "\n",
       "    .dataframe tbody tr th {\n",
       "        vertical-align: top;\n",
       "    }\n",
       "</style>\n",
       "<table border=\"1\" class=\"dataframe\">\n",
       "  <thead>\n",
       "    <tr style=\"text-align: right;\">\n",
       "      <th></th>\n",
       "      <th>Survived</th>\n",
       "      <th>Pclass</th>\n",
       "      <th>Name</th>\n",
       "      <th>Sex</th>\n",
       "      <th>Age</th>\n",
       "      <th>SibSp</th>\n",
       "      <th>Parch</th>\n",
       "      <th>Ticket</th>\n",
       "      <th>Fare</th>\n",
       "      <th>Cabin</th>\n",
       "      <th>Embarked</th>\n",
       "      <th>no_age</th>\n",
       "      <th>filled_age</th>\n",
       "      <th>emb_C</th>\n",
       "      <th>emb_Q</th>\n",
       "      <th>emb_S</th>\n",
       "      <th>emb_nan</th>\n",
       "      <th>age_bin</th>\n",
       "      <th>age_Child</th>\n",
       "      <th>age_Adult</th>\n",
       "      <th>age_Senior</th>\n",
       "      <th>sex_female</th>\n",
       "      <th>sex_male</th>\n",
       "      <th>ok_child</th>\n",
       "      <th>pclass_1</th>\n",
       "      <th>pclass_2</th>\n",
       "      <th>pclass_3</th>\n",
       "      <th>pclass_nan</th>\n",
       "      <th>tree_1</th>\n",
       "      <th>tree_1_type</th>\n",
       "      <th>tree_2</th>\n",
       "      <th>tree_2_type</th>\n",
       "    </tr>\n",
       "  </thead>\n",
       "  <tbody>\n",
       "    <tr>\n",
       "      <th>0</th>\n",
       "      <td>0</td>\n",
       "      <td>3</td>\n",
       "      <td>Braund, Mr. Owen Harris</td>\n",
       "      <td>male</td>\n",
       "      <td>22.0</td>\n",
       "      <td>1</td>\n",
       "      <td>0</td>\n",
       "      <td>A/5 21171</td>\n",
       "      <td>7.2500</td>\n",
       "      <td>NaN</td>\n",
       "      <td>S</td>\n",
       "      <td>0</td>\n",
       "      <td>22.0</td>\n",
       "      <td>0</td>\n",
       "      <td>0</td>\n",
       "      <td>1</td>\n",
       "      <td>0</td>\n",
       "      <td>Child</td>\n",
       "      <td>1</td>\n",
       "      <td>0</td>\n",
       "      <td>0</td>\n",
       "      <td>0</td>\n",
       "      <td>1</td>\n",
       "      <td>0</td>\n",
       "      <td>0</td>\n",
       "      <td>0</td>\n",
       "      <td>1</td>\n",
       "      <td>0</td>\n",
       "      <td>0</td>\n",
       "      <td>true_negative</td>\n",
       "      <td>0</td>\n",
       "      <td>true_negative</td>\n",
       "    </tr>\n",
       "    <tr>\n",
       "      <th>1</th>\n",
       "      <td>1</td>\n",
       "      <td>1</td>\n",
       "      <td>Cumings, Mrs. John Bradley (Florence Briggs Th...</td>\n",
       "      <td>female</td>\n",
       "      <td>38.0</td>\n",
       "      <td>1</td>\n",
       "      <td>0</td>\n",
       "      <td>PC 17599</td>\n",
       "      <td>71.2833</td>\n",
       "      <td>C85</td>\n",
       "      <td>C</td>\n",
       "      <td>0</td>\n",
       "      <td>38.0</td>\n",
       "      <td>1</td>\n",
       "      <td>0</td>\n",
       "      <td>0</td>\n",
       "      <td>0</td>\n",
       "      <td>Adult</td>\n",
       "      <td>0</td>\n",
       "      <td>1</td>\n",
       "      <td>0</td>\n",
       "      <td>1</td>\n",
       "      <td>0</td>\n",
       "      <td>0</td>\n",
       "      <td>1</td>\n",
       "      <td>0</td>\n",
       "      <td>0</td>\n",
       "      <td>0</td>\n",
       "      <td>1</td>\n",
       "      <td>true_positive</td>\n",
       "      <td>1</td>\n",
       "      <td>true_positive</td>\n",
       "    </tr>\n",
       "    <tr>\n",
       "      <th>2</th>\n",
       "      <td>1</td>\n",
       "      <td>3</td>\n",
       "      <td>Heikkinen, Miss. Laina</td>\n",
       "      <td>female</td>\n",
       "      <td>26.0</td>\n",
       "      <td>0</td>\n",
       "      <td>0</td>\n",
       "      <td>STON/O2. 3101282</td>\n",
       "      <td>7.9250</td>\n",
       "      <td>NaN</td>\n",
       "      <td>S</td>\n",
       "      <td>0</td>\n",
       "      <td>26.0</td>\n",
       "      <td>0</td>\n",
       "      <td>0</td>\n",
       "      <td>1</td>\n",
       "      <td>0</td>\n",
       "      <td>Child</td>\n",
       "      <td>1</td>\n",
       "      <td>0</td>\n",
       "      <td>0</td>\n",
       "      <td>1</td>\n",
       "      <td>0</td>\n",
       "      <td>0</td>\n",
       "      <td>0</td>\n",
       "      <td>0</td>\n",
       "      <td>1</td>\n",
       "      <td>0</td>\n",
       "      <td>0</td>\n",
       "      <td>false_negative</td>\n",
       "      <td>0</td>\n",
       "      <td>false_negative</td>\n",
       "    </tr>\n",
       "    <tr>\n",
       "      <th>3</th>\n",
       "      <td>1</td>\n",
       "      <td>1</td>\n",
       "      <td>Futrelle, Mrs. Jacques Heath (Lily May Peel)</td>\n",
       "      <td>female</td>\n",
       "      <td>35.0</td>\n",
       "      <td>1</td>\n",
       "      <td>0</td>\n",
       "      <td>113803</td>\n",
       "      <td>53.1000</td>\n",
       "      <td>C123</td>\n",
       "      <td>S</td>\n",
       "      <td>0</td>\n",
       "      <td>35.0</td>\n",
       "      <td>0</td>\n",
       "      <td>0</td>\n",
       "      <td>1</td>\n",
       "      <td>0</td>\n",
       "      <td>Adult</td>\n",
       "      <td>0</td>\n",
       "      <td>1</td>\n",
       "      <td>0</td>\n",
       "      <td>1</td>\n",
       "      <td>0</td>\n",
       "      <td>0</td>\n",
       "      <td>1</td>\n",
       "      <td>0</td>\n",
       "      <td>0</td>\n",
       "      <td>0</td>\n",
       "      <td>1</td>\n",
       "      <td>true_positive</td>\n",
       "      <td>1</td>\n",
       "      <td>true_positive</td>\n",
       "    </tr>\n",
       "    <tr>\n",
       "      <th>4</th>\n",
       "      <td>0</td>\n",
       "      <td>3</td>\n",
       "      <td>Allen, Mr. William Henry</td>\n",
       "      <td>male</td>\n",
       "      <td>35.0</td>\n",
       "      <td>0</td>\n",
       "      <td>0</td>\n",
       "      <td>373450</td>\n",
       "      <td>8.0500</td>\n",
       "      <td>NaN</td>\n",
       "      <td>S</td>\n",
       "      <td>0</td>\n",
       "      <td>35.0</td>\n",
       "      <td>0</td>\n",
       "      <td>0</td>\n",
       "      <td>1</td>\n",
       "      <td>0</td>\n",
       "      <td>Adult</td>\n",
       "      <td>0</td>\n",
       "      <td>1</td>\n",
       "      <td>0</td>\n",
       "      <td>0</td>\n",
       "      <td>1</td>\n",
       "      <td>0</td>\n",
       "      <td>0</td>\n",
       "      <td>0</td>\n",
       "      <td>1</td>\n",
       "      <td>0</td>\n",
       "      <td>0</td>\n",
       "      <td>true_negative</td>\n",
       "      <td>0</td>\n",
       "      <td>true_negative</td>\n",
       "    </tr>\n",
       "  </tbody>\n",
       "</table>\n",
       "</div>"
      ],
      "text/plain": [
       "   Survived  Pclass                                               Name  \\\n",
       "0         0       3                            Braund, Mr. Owen Harris   \n",
       "1         1       1  Cumings, Mrs. John Bradley (Florence Briggs Th...   \n",
       "2         1       3                             Heikkinen, Miss. Laina   \n",
       "3         1       1       Futrelle, Mrs. Jacques Heath (Lily May Peel)   \n",
       "4         0       3                           Allen, Mr. William Henry   \n",
       "\n",
       "      Sex   Age  SibSp  Parch            Ticket     Fare Cabin Embarked  \\\n",
       "0    male  22.0      1      0         A/5 21171   7.2500   NaN        S   \n",
       "1  female  38.0      1      0          PC 17599  71.2833   C85        C   \n",
       "2  female  26.0      0      0  STON/O2. 3101282   7.9250   NaN        S   \n",
       "3  female  35.0      1      0            113803  53.1000  C123        S   \n",
       "4    male  35.0      0      0            373450   8.0500   NaN        S   \n",
       "\n",
       "   no_age  filled_age  emb_C  emb_Q  emb_S  emb_nan age_bin  age_Child  \\\n",
       "0       0        22.0      0      0      1        0   Child          1   \n",
       "1       0        38.0      1      0      0        0   Adult          0   \n",
       "2       0        26.0      0      0      1        0   Child          1   \n",
       "3       0        35.0      0      0      1        0   Adult          0   \n",
       "4       0        35.0      0      0      1        0   Adult          0   \n",
       "\n",
       "   age_Adult  age_Senior  sex_female  sex_male  ok_child  pclass_1  pclass_2  \\\n",
       "0          0           0           0         1         0         0         0   \n",
       "1          1           0           1         0         0         1         0   \n",
       "2          0           0           1         0         0         0         0   \n",
       "3          1           0           1         0         0         1         0   \n",
       "4          1           0           0         1         0         0         0   \n",
       "\n",
       "   pclass_3  pclass_nan  tree_1     tree_1_type  tree_2     tree_2_type  \n",
       "0         1           0       0   true_negative       0   true_negative  \n",
       "1         0           0       1   true_positive       1   true_positive  \n",
       "2         1           0       0  false_negative       0  false_negative  \n",
       "3         0           0       1   true_positive       1   true_positive  \n",
       "4         1           0       0   true_negative       0   true_negative  "
      ]
     },
     "execution_count": 42,
     "metadata": {},
     "output_type": "execute_result"
    }
   ],
   "source": [
    "titanic_table['tree_2_type'] = titanic_table.apply(lambda row: predictor_case(row, pred='tree_2', target='Survived'), axis=1)\n",
    "titanic_table.head()"
   ]
  },
  {
   "cell_type": "code",
   "execution_count": 43,
   "metadata": {},
   "outputs": [
    {
     "data": {
      "text/plain": [
       "true_negative     523\n",
       "true_positive     211\n",
       "false_negative    131\n",
       "false_positive     26\n",
       "Name: tree_2_type, dtype: int64"
      ]
     },
     "execution_count": 43,
     "metadata": {},
     "output_type": "execute_result"
    }
   ],
   "source": [
    "tree_2_types = titanic_table['tree_2_type'].value_counts()\n",
    "tree_2_types"
   ]
  },
  {
   "cell_type": "code",
   "execution_count": 44,
   "metadata": {},
   "outputs": [
    {
     "data": {
      "text/plain": [
       "<matplotlib.axes._subplots.AxesSubplot at 0x1116554d0>"
      ]
     },
     "execution_count": 44,
     "metadata": {},
     "output_type": "execute_result"
    },
    {
     "data": {
      "image/png": "[encoded data removed]",
      "text/plain": [
       "<matplotlib.figure.Figure at 0x1097a3a90>"
      ]
     },
     "metadata": {},
     "output_type": "display_data"
    }
   ],
   "source": [
    "tree_2_types.plot.pie(title='Tree2 Accuracy: '+str(accuracy(tree_2_types)), autopct='%.2f', fontsize=20, figsize=(6, 6))  # need figsize to get correct aspect"
   ]
  },
  {
   "cell_type": "code",
   "execution_count": 50,
   "metadata": {},
   "outputs": [
    {
     "data": {
      "text/plain": [
       "0.7288428324697754"
      ]
     },
     "execution_count": 50,
     "metadata": {},
     "output_type": "execute_result"
    }
   ],
   "source": [
    "f1(tree_2_types)"
   ]
  },
  {
   "cell_type": "code",
   "execution_count": 51,
   "metadata": {},
   "outputs": [
    {
     "data": {
      "text/plain": [
       "0.5696002300834051"
      ]
     },
     "execution_count": 51,
     "metadata": {},
     "output_type": "execute_result"
    }
   ],
   "source": [
    "informedness(tree_2_types)"
   ]
  },
  {
   "cell_type": "markdown",
   "metadata": {},
   "source": [
    "<div class=h1_cell>\n",
    "<p>\n",
    "Exactly the same as with depth 4. Kind of interesting. It appears that adding a 4th level to the tree gave us no benefit. Let's keep going and try max level 2.\n",
    "</div>"
   ]
  },
  {
   "cell_type": "code",
   "execution_count": 45,
   "metadata": {},
   "outputs": [
    {
     "name": "stdout",
     "output_type": "stream",
     "text": [
      "4\n"
     ]
    },
    {
     "data": {
      "text/plain": [
       "[{'conjunction': [('sex_female_1', <function __main__.<lambda>>),\n",
       "   ('pclass_3_1', <function __main__.<lambda>>)],\n",
       "  'gig_score': 0.0992456441378125,\n",
       "  'prediction': 0},\n",
       " {'conjunction': [('sex_female_1', <function __main__.<lambda>>),\n",
       "   ('pclass_3_0', <function __main__.<lambda>>)],\n",
       "  'gig_score': 0.0992456441378125,\n",
       "  'prediction': 1},\n",
       " {'conjunction': [('sex_female_0', <function __main__.<lambda>>),\n",
       "   ('ok_child_1', <function __main__.<lambda>>)],\n",
       "  'gig_score': 0.017842505175795997,\n",
       "  'prediction': 1},\n",
       " {'conjunction': [('sex_female_0', <function __main__.<lambda>>),\n",
       "   ('ok_child_0', <function __main__.<lambda>>)],\n",
       "  'gig_score': 0.017842505175795997,\n",
       "  'prediction': 0}]"
      ]
     },
     "execution_count": 45,
     "metadata": {},
     "output_type": "execute_result"
    }
   ],
   "source": [
    "tree3 = build_tree_iter(titanic_table, splitter_columns, 'Survived', {'max-depth':2})\n",
    "print(len(tree3['paths']))\n",
    "tree3['paths']"
   ]
  },
  {
   "cell_type": "code",
   "execution_count": 46,
   "metadata": {},
   "outputs": [
    {
     "data": {
      "text/plain": [
       "true_negative     529\n",
       "true_positive     178\n",
       "false_negative    164\n",
       "false_positive     20\n",
       "Name: tree_3_type, dtype: int64"
      ]
     },
     "execution_count": 46,
     "metadata": {},
     "output_type": "execute_result"
    }
   ],
   "source": [
    "titanic_table['tree_3'] = titanic_table.apply(lambda row: tree_predictor(row, tree3), axis=1)\n",
    "titanic_table['tree_3_type'] = titanic_table.apply(lambda row: predictor_case(row, pred='tree_3', target='Survived'), axis=1)\n",
    "tree_3_types = titanic_table['tree_3_type'].value_counts()\n",
    "tree_3_types"
   ]
  },
  {
   "cell_type": "code",
   "execution_count": 47,
   "metadata": {},
   "outputs": [
    {
     "data": {
      "text/plain": [
       "<matplotlib.axes._subplots.AxesSubplot at 0x11172f590>"
      ]
     },
     "execution_count": 47,
     "metadata": {},
     "output_type": "execute_result"
    },
    {
     "data": {
      "image/png": "[encoded data removed]",
      "text/plain": [
       "<matplotlib.figure.Figure at 0x111627bd0>"
      ]
     },
     "metadata": {},
     "output_type": "display_data"
    }
   ],
   "source": [
    "tree_3_types.plot.pie(title='Tree3 Accuracy: '+str(accuracy(tree_3_types)), autopct='%.2f', fontsize=20, figsize=(6, 6))  # need figsize to get correct aspect"
   ]
  },
  {
   "cell_type": "code",
   "execution_count": 48,
   "metadata": {},
   "outputs": [
    {
     "data": {
      "text/plain": [
       "0.6592592592592593"
      ]
     },
     "execution_count": 48,
     "metadata": {},
     "output_type": "execute_result"
    }
   ],
   "source": [
    "f1(tree_3_types)"
   ]
  },
  {
   "cell_type": "code",
   "execution_count": 49,
   "metadata": {},
   "outputs": [
    {
     "data": {
      "text/plain": [
       "0.4840379637618637"
      ]
     },
     "execution_count": 49,
     "metadata": {},
     "output_type": "execute_result"
    }
   ],
   "source": [
    "informedness(tree_3_types)"
   ]
  },
  {
   "cell_type": "markdown",
   "metadata": {},
   "source": [
    "<div class=h1_cell>\n",
    "<p>\n",
    "We got worse in all measures, i.e., accuracy, F1, Informedness.\n",
    "<p>\n",
    "Let's explore the gig cutoff a bit. I'll use max depth 3 but change the cutoff.\n",
    "</div>"
   ]
  },
  {
   "cell_type": "code",
   "execution_count": 52,
   "metadata": {},
   "outputs": [
    {
     "name": "stdout",
     "output_type": "stream",
     "text": [
      "7\n"
     ]
    },
    {
     "data": {
      "text/plain": [
       "[{'conjunction': [('sex_female_1', <function __main__.<lambda>>),\n",
       "   ('pclass_3_0', <function __main__.<lambda>>)],\n",
       "  'gig_score': 0.0992456441378125,\n",
       "  'prediction': 1},\n",
       " {'conjunction': [('sex_female_1', <function __main__.<lambda>>),\n",
       "   ('pclass_3_1', <function __main__.<lambda>>),\n",
       "   ('emb_S_1', <function __main__.<lambda>>)],\n",
       "  'gig_score': 0.049107142857142794,\n",
       "  'prediction': 0},\n",
       " {'conjunction': [('sex_female_1', <function __main__.<lambda>>),\n",
       "   ('pclass_3_1', <function __main__.<lambda>>),\n",
       "   ('emb_S_0', <function __main__.<lambda>>)],\n",
       "  'gig_score': 0.049107142857142794,\n",
       "  'prediction': 1},\n",
       " {'conjunction': [('sex_female_0', <function __main__.<lambda>>),\n",
       "   ('ok_child_1', <function __main__.<lambda>>),\n",
       "   ('pclass_3_1', <function __main__.<lambda>>)],\n",
       "  'gig_score': 0.19972989195678292,\n",
       "  'prediction': 0},\n",
       " {'conjunction': [('sex_female_0', <function __main__.<lambda>>),\n",
       "   ('ok_child_1', <function __main__.<lambda>>),\n",
       "   ('pclass_3_0', <function __main__.<lambda>>)],\n",
       "  'gig_score': 0.19972989195678292,\n",
       "  'prediction': 1},\n",
       " {'conjunction': [('sex_female_0', <function __main__.<lambda>>),\n",
       "   ('ok_child_0', <function __main__.<lambda>>),\n",
       "   ('pclass_1_1', <function __main__.<lambda>>)],\n",
       "  'gig_score': 0.02035682291437929,\n",
       "  'prediction': 0},\n",
       " {'conjunction': [('sex_female_0', <function __main__.<lambda>>),\n",
       "   ('ok_child_0', <function __main__.<lambda>>),\n",
       "   ('pclass_1_0', <function __main__.<lambda>>)],\n",
       "  'gig_score': 0.02035682291437929,\n",
       "  'prediction': 0}]"
      ]
     },
     "execution_count": 52,
     "metadata": {},
     "output_type": "execute_result"
    }
   ],
   "source": [
    "tree4 = build_tree_iter(titanic_table, splitter_columns, 'Survived', {'max-depth':3, 'gig-cutoff': .01}) #increase from 0 to .01\n",
    "print(len(tree4['paths']))\n",
    "tree4['paths']"
   ]
  },
  {
   "cell_type": "markdown",
   "metadata": {},
   "source": [
    "<div class=h1_cell>\n",
    "<p>We eliminated 1 path: instead of 8 we now have 7.\n",
    "</div>"
   ]
  },
  {
   "cell_type": "code",
   "execution_count": 53,
   "metadata": {},
   "outputs": [
    {
     "data": {
      "text/plain": [
       "true_negative     523\n",
       "true_positive     211\n",
       "false_negative    131\n",
       "false_positive     26\n",
       "Name: tree_4_type, dtype: int64"
      ]
     },
     "execution_count": 53,
     "metadata": {},
     "output_type": "execute_result"
    }
   ],
   "source": [
    "titanic_table['tree_4'] = titanic_table.apply(lambda row: tree_predictor(row, tree4), axis=1)\n",
    "titanic_table['tree_4_type'] = titanic_table.apply(lambda row: predictor_case(row, pred='tree_4', target='Survived'), axis=1)\n",
    "tree_4_types = titanic_table['tree_4_type'].value_counts()\n",
    "tree_4_types"
   ]
  },
  {
   "cell_type": "code",
   "execution_count": 54,
   "metadata": {},
   "outputs": [
    {
     "data": {
      "text/plain": [
       "<matplotlib.axes._subplots.AxesSubplot at 0x109447d50>"
      ]
     },
     "execution_count": 54,
     "metadata": {},
     "output_type": "execute_result"
    },
    {
     "data": {
      "image/png": "[encoded data removed]",
      "text/plain": [
       "<matplotlib.figure.Figure at 0x1117e8b90>"
      ]
     },
     "metadata": {},
     "output_type": "display_data"
    }
   ],
   "source": [
    "tree_4_types.plot.pie(title='Tre4 Accuracy: '+str(accuracy(tree_4_types)), autopct='%.2f', fontsize=20, figsize=(6, 6))  # need figsize to get correct aspect"
   ]
  },
  {
   "cell_type": "code",
   "execution_count": 55,
   "metadata": {},
   "outputs": [
    {
     "data": {
      "text/plain": [
       "0.7288428324697754"
      ]
     },
     "execution_count": 55,
     "metadata": {},
     "output_type": "execute_result"
    }
   ],
   "source": [
    "f1(tree_4_types)"
   ]
  },
  {
   "cell_type": "code",
   "execution_count": 56,
   "metadata": {},
   "outputs": [
    {
     "data": {
      "text/plain": [
       "0.5696002300834051"
      ]
     },
     "execution_count": 56,
     "metadata": {},
     "output_type": "execute_result"
    }
   ],
   "source": [
    "informedness(tree_4_types)"
   ]
  },
  {
   "cell_type": "markdown",
   "metadata": {},
   "source": [
    "<div class=h1_cell>\n",
    "<p>\n",
    "Looks like exact same results as with level 3 and cutoff 0. But now with a slightly slimmer tree, which we will see is a good thing in future modules.\n",
    "<p>\n",
    "Let's try bumping the cutoff slightly.\n",
    "</div>"
   ]
  },
  {
   "cell_type": "code",
   "execution_count": 57,
   "metadata": {},
   "outputs": [
    {
     "name": "stdout",
     "output_type": "stream",
     "text": [
      "3\n"
     ]
    },
    {
     "data": {
      "text/plain": [
       "[{'conjunction': [('sex_female_0', <function __main__.<lambda>>)],\n",
       "  'gig_score': 0.1396479574728524,\n",
       "  'prediction': 0},\n",
       " {'conjunction': [('sex_female_1', <function __main__.<lambda>>),\n",
       "   ('pclass_3_1', <function __main__.<lambda>>)],\n",
       "  'gig_score': 0.0992456441378125,\n",
       "  'prediction': 0},\n",
       " {'conjunction': [('sex_female_1', <function __main__.<lambda>>),\n",
       "   ('pclass_3_0', <function __main__.<lambda>>)],\n",
       "  'gig_score': 0.0992456441378125,\n",
       "  'prediction': 1}]"
      ]
     },
     "execution_count": 57,
     "metadata": {},
     "output_type": "execute_result"
    }
   ],
   "source": [
    "tree5 = build_tree_iter(titanic_table, splitter_columns, 'Survived', {'max-depth':3, 'gig-cutoff': .05})\n",
    "print(len(tree5['paths']))\n",
    "tree5['paths']"
   ]
  },
  {
   "cell_type": "markdown",
   "metadata": {},
   "source": [
    "<div class=h1_cell>\n",
    "<p>\n",
    "Well, we trimmed the paths to 3. Let's see if improvement.\n",
    "</div>"
   ]
  },
  {
   "cell_type": "code",
   "execution_count": 58,
   "metadata": {},
   "outputs": [
    {
     "data": {
      "text/plain": [
       "true_negative     540\n",
       "false_negative    181\n",
       "true_positive     161\n",
       "false_positive      9\n",
       "Name: tree_5_type, dtype: int64"
      ]
     },
     "execution_count": 58,
     "metadata": {},
     "output_type": "execute_result"
    }
   ],
   "source": [
    "titanic_table['tree_5'] = titanic_table.apply(lambda row: tree_predictor(row, tree5), axis=1)\n",
    "titanic_table['tree_5_type'] = titanic_table.apply(lambda row: predictor_case(row, pred='tree_5', target='Survived'), axis=1)\n",
    "tree_5_types = titanic_table['tree_5_type'].value_counts()\n",
    "tree_5_types"
   ]
  },
  {
   "cell_type": "code",
   "execution_count": 59,
   "metadata": {},
   "outputs": [
    {
     "data": {
      "text/plain": [
       "<matplotlib.axes._subplots.AxesSubplot at 0x111abbad0>"
      ]
     },
     "execution_count": 59,
     "metadata": {},
     "output_type": "execute_result"
    },
    {
     "data": {
      "image/png": "[encoded data removed]",
      "text/plain": [
       "<matplotlib.figure.Figure at 0x11172fb10>"
      ]
     },
     "metadata": {},
     "output_type": "display_data"
    }
   ],
   "source": [
    "tree_5_types.plot.pie(title='Tree5 Accuracy: '+str(accuracy(tree_5_types)), autopct='%.2f', fontsize=20, figsize=(6, 6))  # need figsize to get correct aspect"
   ]
  },
  {
   "cell_type": "code",
   "execution_count": 60,
   "metadata": {},
   "outputs": [
    {
     "data": {
      "text/plain": [
       "0.62890625"
      ]
     },
     "execution_count": 60,
     "metadata": {},
     "output_type": "execute_result"
    }
   ],
   "source": [
    "f1(tree_5_types)"
   ]
  },
  {
   "cell_type": "code",
   "execution_count": 61,
   "metadata": {},
   "outputs": [
    {
     "data": {
      "text/plain": [
       "0.4543667912951779"
      ]
     },
     "execution_count": 61,
     "metadata": {},
     "output_type": "execute_result"
    }
   ],
   "source": [
    "informedness(tree_5_types)  # slightly better than depth 4"
   ]
  },
  {
   "cell_type": "markdown",
   "metadata": {},
   "source": [
    "<div class=h1_cell>\n",
    "<p>\n",
    "We've gone down on all measures. But we have squeezed false positives down even further. If false positives were a big concern for us, then perhaps we would be willing to live with less accuracy.\n",
    "<p>\n",
    "I'll stop exploration here but certainly more that could be done.\n",
    "</div>"
   ]
  },
  {
   "cell_type": "markdown",
   "metadata": {},
   "source": [
    "<h2>\n",
    "Could this be automated?\n",
    "</h2>\n",
    "<p>\n",
    "<div class=h1_cell>\n",
    "<p>\n",
    "Instead of trying out different values ourselves, could we build a function that will search for us? In essence, take a tree and table in as input, and try reasonable combinations of the hyper-parameters. The returned result would be the best choice of hyper-parameters.\n",
    "<p>\n",
    "Of course the answer is yes. I might assign it as a problem in the future :)\n",
    "</div>"
   ]
  },
  {
   "cell_type": "markdown",
   "metadata": {},
   "source": [
    "<h2>\n",
    "Another approach: Pruning\n",
    "</h2>\n",
    "<p>\n",
    "<div class=h1_cell>\n",
    "<p>\n",
    "You will sometimes hear about tree pruning. This is another approach to reduce the tree by getting rid of non-useful sub-trees. In general, we would attempt to build out a full tree to its maximum depth, i.e., not attempt to limit splitting with something like gig-cutoff. Then do a bottom-up pruning process by looking at sub-trees and determining if they give us useful results. It not, replace the root of the sub-tree with a leaf.\n",
    "<p>\n",
    "Can this be automated? Again the answer is yes. Is it an active area of research? Not really. The reason is that newer methods have evolved to keep trees slim. We will see them soon in upcoming modules.\n",
    "</div>"
   ]
  },
  {
   "cell_type": "markdown",
   "metadata": {},
   "source": [
    "<h2>\n",
    "Does our tree building algorithm have a name?\n",
    "</h2>\n",
    "<p>\n",
    "<div class=h1_cell>\n",
    "<p>\n",
    "Not that I know of. Maybe we should name it! On the other hand, it is pretty much equivalent to the CART algorithm: ftp://ftp.boulder.ibm.com/software/analytics/spss/support/Stats/Docs/Statistics/Algorithms/14.0/TREE-CART.pdf. It is greedy (does not do backtracking). It uses Gini. The only difference is that our algorithm is breadth-first and CART is depth-first. I claim they are equivalent in terms of function. They may differ in terms of performance but nothing that should bother us.\n",
    "</div>"
   ]
  },
  {
   "cell_type": "markdown",
   "metadata": {},
   "source": [
    "<h2>\n",
    "What about empties?\n",
    "</h2>\n",
    "<p>\n",
    "<div class=h1_cell>\n",
    "<p>\n",
    "We have been finessing the problem with empty values by wrangling. We have made sure (by wrangling) that all of the columns we use have non-empty values in the Titanic data. Ditto for the Loan table. But what if a new loan applicant comes in in the future and is missing a value we need to know? For instance, what if they are missing a value for credit history? We have two choices: (1) wrangle any new rows that come in to make sure no critical empty values once tree is called to make a prediction, e.g., fill-in the value with the mean, or (2) allow empty values and handle them in the tree itself. The CART paper above suggests the latter. It suggests building \"back up\" splitters at each node (called surrogates officially) that can be called upon if the main splitter is handed an empty value. Of course, the value the surrogate needs can also by empty. This response lists other means of dealing with empties: https://stats.stackexchange.com/a/96458. One interesting approach listed is to go ahead and pass the row to both branches and obtain multiple predictions. Then take the majority vote. Perhaps flip a coin if a tie. I view this approach as close to a full-blown embrace of multiple predictions and voting we will see in a future module. Stay tuned.\n",
    "</div>"
   ]
  },
  {
   "cell_type": "markdown",
   "metadata": {
    "collapsed": true
   },
   "source": [
    "<hr>\n",
    "<h1>Write it out</h1>\n",
    "<div class=h1_cell>\n",
    "\n",
    "Save the table so can use it in next module.\n",
    "</div>"
   ]
  },
  {
   "cell_type": "code",
   "execution_count": 62,
   "metadata": {
    "collapsed": true
   },
   "outputs": [],
   "source": [
    "import os\n",
    "\n",
    "week = 4  # change this each week\n",
    "\n",
    "home_path =  os.path.expanduser('~')\n",
    "\n",
    "file_path = '/Dropbox/cis399_ds1_f17/notebook_history/'\n",
    "\n",
    "file_name = 'titanic_wrangled_w'+str(week)+'.csv'\n",
    "\n",
    "titanic_table.to_csv(home_path + file_path + file_name, index=False)"
   ]
  },
  {
   "cell_type": "markdown",
   "metadata": {},
   "source": [
    "\n",
    "<h2>\n",
    "Next up\n",
    "</h2>\n",
    "<p>\n",
    "<div class=h1_cell>\n",
    "What we are doing is exploring the best value for depth. In the next module, I'd like to look at a more thorough way to do this exploration.\n",
    "</div>"
   ]
  },
  {
   "cell_type": "markdown",
   "metadata": {},
   "source": [
    "<h2>\n",
    "One last thing\n",
    "</h2>\n",
    "<p>\n",
    "<div class=h1_cell>\n",
    "We are saving our table out to file so we can read it again. What about saving our trees out to file so we can read them in again? The problem is that a tree contains functions (lambda expressions). Seems hard to write code out to file. But it looks like the dill package can help. You can see below I am writing out tree1 then reading it back in again. And then testing to make sure what I read in behaves the same as the original. It looks like it does!\n",
    "</div>"
   ]
  },
  {
   "cell_type": "code",
   "execution_count": 63,
   "metadata": {},
   "outputs": [
    {
     "data": {
      "text/plain": [
       "{'paths': [{'conjunction': [('sex_female_0', <function __main__.<lambda>>),\n",
       "    ('ok_child_1', <function __main__.<lambda>>),\n",
       "    ('pclass_3_0', <function __main__.<lambda>>)],\n",
       "   'gig_score': 0.19972989195678292,\n",
       "   'prediction': 1},\n",
       "  {'conjunction': [('sex_female_1', <function __main__.<lambda>>),\n",
       "    ('pclass_3_1', <function __main__.<lambda>>),\n",
       "    ('emb_S_1', <function __main__.<lambda>>),\n",
       "    ('no_age_1', <function __main__.<lambda>>)],\n",
       "   'gig_score': 0.013706140350877138,\n",
       "   'prediction': 0},\n",
       "  {'conjunction': [('sex_female_1', <function __main__.<lambda>>),\n",
       "    ('pclass_3_1', <function __main__.<lambda>>),\n",
       "    ('emb_S_1', <function __main__.<lambda>>),\n",
       "    ('no_age_0', <function __main__.<lambda>>)],\n",
       "   'gig_score': 0.013706140350877138,\n",
       "   'prediction': 0},\n",
       "  {'conjunction': [('sex_female_1', <function __main__.<lambda>>),\n",
       "    ('pclass_3_1', <function __main__.<lambda>>),\n",
       "    ('emb_S_0', <function __main__.<lambda>>),\n",
       "    ('ok_child_1', <function __main__.<lambda>>)],\n",
       "   'gig_score': 0.018069727891156517,\n",
       "   'prediction': 1},\n",
       "  {'conjunction': [('sex_female_1', <function __main__.<lambda>>),\n",
       "    ('pclass_3_1', <function __main__.<lambda>>),\n",
       "    ('emb_S_0', <function __main__.<lambda>>),\n",
       "    ('ok_child_0', <function __main__.<lambda>>)],\n",
       "   'gig_score': 0.018069727891156517,\n",
       "   'prediction': 1},\n",
       "  {'conjunction': [('sex_female_1', <function __main__.<lambda>>),\n",
       "    ('pclass_3_0', <function __main__.<lambda>>),\n",
       "    ('emb_S_1', <function __main__.<lambda>>),\n",
       "    ('age_Adult_1', <function __main__.<lambda>>)],\n",
       "   'gig_score': 0.0017154774332495681,\n",
       "   'prediction': 1},\n",
       "  {'conjunction': [('sex_female_1', <function __main__.<lambda>>),\n",
       "    ('pclass_3_0', <function __main__.<lambda>>),\n",
       "    ('emb_S_1', <function __main__.<lambda>>),\n",
       "    ('age_Adult_0', <function __main__.<lambda>>)],\n",
       "   'gig_score': 0.0017154774332495681,\n",
       "   'prediction': 1},\n",
       "  {'conjunction': [('sex_female_1', <function __main__.<lambda>>),\n",
       "    ('pclass_3_0', <function __main__.<lambda>>),\n",
       "    ('emb_S_0', <function __main__.<lambda>>),\n",
       "    ('age_Adult_1', <function __main__.<lambda>>)],\n",
       "   'gig_score': 0.00047520661157023775,\n",
       "   'prediction': 1},\n",
       "  {'conjunction': [('sex_female_1', <function __main__.<lambda>>),\n",
       "    ('pclass_3_0', <function __main__.<lambda>>),\n",
       "    ('emb_S_0', <function __main__.<lambda>>),\n",
       "    ('age_Adult_0', <function __main__.<lambda>>)],\n",
       "   'gig_score': 0.00047520661157023775,\n",
       "   'prediction': 1},\n",
       "  {'conjunction': [('sex_female_0', <function __main__.<lambda>>),\n",
       "    ('ok_child_1', <function __main__.<lambda>>),\n",
       "    ('pclass_3_1', <function __main__.<lambda>>),\n",
       "    ('emb_Q_1', <function __main__.<lambda>>)],\n",
       "   'gig_score': 0.076656907106734,\n",
       "   'prediction': 0},\n",
       "  {'conjunction': [('sex_female_0', <function __main__.<lambda>>),\n",
       "    ('ok_child_1', <function __main__.<lambda>>),\n",
       "    ('pclass_3_1', <function __main__.<lambda>>),\n",
       "    ('emb_Q_0', <function __main__.<lambda>>)],\n",
       "   'gig_score': 0.076656907106734,\n",
       "   'prediction': 0},\n",
       "  {'conjunction': [('sex_female_0', <function __main__.<lambda>>),\n",
       "    ('ok_child_0', <function __main__.<lambda>>),\n",
       "    ('pclass_1_1', <function __main__.<lambda>>),\n",
       "    ('age_Senior_1', <function __main__.<lambda>>)],\n",
       "   'gig_score': 0.022121469800041205,\n",
       "   'prediction': 0},\n",
       "  {'conjunction': [('sex_female_0', <function __main__.<lambda>>),\n",
       "    ('ok_child_0', <function __main__.<lambda>>),\n",
       "    ('pclass_1_1', <function __main__.<lambda>>),\n",
       "    ('age_Senior_0', <function __main__.<lambda>>)],\n",
       "   'gig_score': 0.022121469800041205,\n",
       "   'prediction': 0},\n",
       "  {'conjunction': [('sex_female_0', <function __main__.<lambda>>),\n",
       "    ('ok_child_0', <function __main__.<lambda>>),\n",
       "    ('pclass_1_0', <function __main__.<lambda>>),\n",
       "    ('emb_C_1', <function __main__.<lambda>>)],\n",
       "   'gig_score': 0.0018081922647944781,\n",
       "   'prediction': 0},\n",
       "  {'conjunction': [('sex_female_0', <function __main__.<lambda>>),\n",
       "    ('ok_child_0', <function __main__.<lambda>>),\n",
       "    ('pclass_1_0', <function __main__.<lambda>>),\n",
       "    ('emb_C_0', <function __main__.<lambda>>)],\n",
       "   'gig_score': 0.0018081922647944781,\n",
       "   'prediction': 0}],\n",
       " 'weight': None}"
      ]
     },
     "execution_count": 63,
     "metadata": {},
     "output_type": "execute_result"
    }
   ],
   "source": [
    "tree1  # just to see what it looks like"
   ]
  },
  {
   "cell_type": "code",
   "execution_count": 64,
   "metadata": {},
   "outputs": [],
   "source": [
    "#cool new code that writes tree1, lambdas and all, out to txt file.\n",
    "\n",
    "import dill as pickle # I had to pip install dill\n",
    "\n",
    "pickle.dump(tree1, open(\"tree1.txt\", 'wb'))\n",
    "\n",
    "tree1_b = pickle.load(open(\"tree1.txt\", 'rb'))  # read it back in"
   ]
  },
  {
   "cell_type": "code",
   "execution_count": 65,
   "metadata": {},
   "outputs": [
    {
     "data": {
      "text/plain": [
       "{'paths': [{'conjunction': [('sex_female_0', <function __main__.<lambda>>),\n",
       "    ('ok_child_1', <function __main__.<lambda>>),\n",
       "    ('pclass_3_0', <function __main__.<lambda>>)],\n",
       "   'gig_score': 0.19972989195678292,\n",
       "   'prediction': 1},\n",
       "  {'conjunction': [('sex_female_1', <function __main__.<lambda>>),\n",
       "    ('pclass_3_1', <function __main__.<lambda>>),\n",
       "    ('emb_S_1', <function __main__.<lambda>>),\n",
       "    ('no_age_1', <function __main__.<lambda>>)],\n",
       "   'gig_score': 0.013706140350877138,\n",
       "   'prediction': 0},\n",
       "  {'conjunction': [('sex_female_1', <function __main__.<lambda>>),\n",
       "    ('pclass_3_1', <function __main__.<lambda>>),\n",
       "    ('emb_S_1', <function __main__.<lambda>>),\n",
       "    ('no_age_0', <function __main__.<lambda>>)],\n",
       "   'gig_score': 0.013706140350877138,\n",
       "   'prediction': 0},\n",
       "  {'conjunction': [('sex_female_1', <function __main__.<lambda>>),\n",
       "    ('pclass_3_1', <function __main__.<lambda>>),\n",
       "    ('emb_S_0', <function __main__.<lambda>>),\n",
       "    ('ok_child_1', <function __main__.<lambda>>)],\n",
       "   'gig_score': 0.018069727891156517,\n",
       "   'prediction': 1},\n",
       "  {'conjunction': [('sex_female_1', <function __main__.<lambda>>),\n",
       "    ('pclass_3_1', <function __main__.<lambda>>),\n",
       "    ('emb_S_0', <function __main__.<lambda>>),\n",
       "    ('ok_child_0', <function __main__.<lambda>>)],\n",
       "   'gig_score': 0.018069727891156517,\n",
       "   'prediction': 1},\n",
       "  {'conjunction': [('sex_female_1', <function __main__.<lambda>>),\n",
       "    ('pclass_3_0', <function __main__.<lambda>>),\n",
       "    ('emb_S_1', <function __main__.<lambda>>),\n",
       "    ('age_Adult_1', <function __main__.<lambda>>)],\n",
       "   'gig_score': 0.0017154774332495681,\n",
       "   'prediction': 1},\n",
       "  {'conjunction': [('sex_female_1', <function __main__.<lambda>>),\n",
       "    ('pclass_3_0', <function __main__.<lambda>>),\n",
       "    ('emb_S_1', <function __main__.<lambda>>),\n",
       "    ('age_Adult_0', <function __main__.<lambda>>)],\n",
       "   'gig_score': 0.0017154774332495681,\n",
       "   'prediction': 1},\n",
       "  {'conjunction': [('sex_female_1', <function __main__.<lambda>>),\n",
       "    ('pclass_3_0', <function __main__.<lambda>>),\n",
       "    ('emb_S_0', <function __main__.<lambda>>),\n",
       "    ('age_Adult_1', <function __main__.<lambda>>)],\n",
       "   'gig_score': 0.00047520661157023775,\n",
       "   'prediction': 1},\n",
       "  {'conjunction': [('sex_female_1', <function __main__.<lambda>>),\n",
       "    ('pclass_3_0', <function __main__.<lambda>>),\n",
       "    ('emb_S_0', <function __main__.<lambda>>),\n",
       "    ('age_Adult_0', <function __main__.<lambda>>)],\n",
       "   'gig_score': 0.00047520661157023775,\n",
       "   'prediction': 1},\n",
       "  {'conjunction': [('sex_female_0', <function __main__.<lambda>>),\n",
       "    ('ok_child_1', <function __main__.<lambda>>),\n",
       "    ('pclass_3_1', <function __main__.<lambda>>),\n",
       "    ('emb_Q_1', <function __main__.<lambda>>)],\n",
       "   'gig_score': 0.076656907106734,\n",
       "   'prediction': 0},\n",
       "  {'conjunction': [('sex_female_0', <function __main__.<lambda>>),\n",
       "    ('ok_child_1', <function __main__.<lambda>>),\n",
       "    ('pclass_3_1', <function __main__.<lambda>>),\n",
       "    ('emb_Q_0', <function __main__.<lambda>>)],\n",
       "   'gig_score': 0.076656907106734,\n",
       "   'prediction': 0},\n",
       "  {'conjunction': [('sex_female_0', <function __main__.<lambda>>),\n",
       "    ('ok_child_0', <function __main__.<lambda>>),\n",
       "    ('pclass_1_1', <function __main__.<lambda>>),\n",
       "    ('age_Senior_1', <function __main__.<lambda>>)],\n",
       "   'gig_score': 0.022121469800041205,\n",
       "   'prediction': 0},\n",
       "  {'conjunction': [('sex_female_0', <function __main__.<lambda>>),\n",
       "    ('ok_child_0', <function __main__.<lambda>>),\n",
       "    ('pclass_1_1', <function __main__.<lambda>>),\n",
       "    ('age_Senior_0', <function __main__.<lambda>>)],\n",
       "   'gig_score': 0.022121469800041205,\n",
       "   'prediction': 0},\n",
       "  {'conjunction': [('sex_female_0', <function __main__.<lambda>>),\n",
       "    ('ok_child_0', <function __main__.<lambda>>),\n",
       "    ('pclass_1_0', <function __main__.<lambda>>),\n",
       "    ('emb_C_1', <function __main__.<lambda>>)],\n",
       "   'gig_score': 0.0018081922647944781,\n",
       "   'prediction': 0},\n",
       "  {'conjunction': [('sex_female_0', <function __main__.<lambda>>),\n",
       "    ('ok_child_0', <function __main__.<lambda>>),\n",
       "    ('pclass_1_0', <function __main__.<lambda>>),\n",
       "    ('emb_C_0', <function __main__.<lambda>>)],\n",
       "   'gig_score': 0.0018081922647944781,\n",
       "   'prediction': 0}],\n",
       " 'weight': None}"
      ]
     },
     "execution_count": 65,
     "metadata": {},
     "output_type": "execute_result"
    }
   ],
   "source": [
    "#looks about the same but how about behavior?\n",
    "tree1_b"
   ]
  },
  {
   "cell_type": "code",
   "execution_count": 66,
   "metadata": {},
   "outputs": [
    {
     "data": {
      "text/plain": [
       "true_negative     523\n",
       "true_positive     211\n",
       "false_negative    131\n",
       "false_positive     26\n",
       "Name: tree_1b_type, dtype: int64"
      ]
     },
     "execution_count": 66,
     "metadata": {},
     "output_type": "execute_result"
    }
   ],
   "source": [
    "#make sure tree we read in behaves same as original tree1\n",
    "\n",
    "titanic_table['tree_1b'] = titanic_table.apply(lambda row: tree_predictor(row, tree1_b), axis=1)\n",
    "\n",
    "titanic_table['tree_1b_type'] = titanic_table.apply(lambda row: predictor_case(row, pred='tree_1b', target='Survived'), axis=1)\n",
    "\n",
    "tree_1b_types = titanic_table['tree_1b_type'].value_counts()\n",
    "tree_1b_types"
   ]
  },
  {
   "cell_type": "raw",
   "metadata": {},
   "source": [
    "Should see this:\n",
    "\n",
    "true_negative     523\n",
    "true_positive     211\n",
    "false_negative    131\n",
    "false_positive     26"
   ]
  }
 ],
 "metadata": {
  "kernelspec": {
   "display_name": "Python 2",
   "language": "python",
   "name": "python2"
  },
  "language_info": {
   "codemirror_mode": {
    "name": "ipython",
    "version": 2
   },
   "file_extension": ".py",
   "mimetype": "text/x-python",
   "name": "python",
   "nbconvert_exporter": "python",
   "pygments_lexer": "ipython2",
   "version": "2.7.14"
  }
 },
 "nbformat": 4,
 "nbformat_minor": 1
}
