{
 "cells": [
  {
   "cell_type": "code",
   "execution_count": 1,
   "metadata": {},
   "outputs": [
    {
     "data": {
      "text/html": [
       "<style>\n",
       ".h1_cell, .just_text {\n",
       "    box-sizing: border-box;\n",
       "    padding-top:5px;\n",
       "    padding-bottom:5px;\n",
       "    font-family: \"Times New Roman\", Georgia, Serif;\n",
       "    font-size: 125%;\n",
       "    line-height: 22px; /* 5px +12px + 5px */\n",
       "    text-indent: 25px;\n",
       "    background-color: #fbfbea;\n",
       "    padding: 10px;\n",
       "}\n",
       "\n",
       "hr { \n",
       "    display: block;\n",
       "    margin-top: 0.5em;\n",
       "    margin-bottom: 0.5em;\n",
       "    margin-left: auto;\n",
       "    margin-right: auto;\n",
       "    border-style: inset;\n",
       "    border-width: 2px;\n",
       "}\n",
       "</style>"
      ],
      "text/plain": [
       "<IPython.core.display.HTML object>"
      ]
     },
     "metadata": {},
     "output_type": "display_data"
    }
   ],
   "source": [
    "%%html\n",
    "<style>\n",
    ".h1_cell, .just_text {\n",
    "    box-sizing: border-box;\n",
    "    padding-top:5px;\n",
    "    padding-bottom:5px;\n",
    "    font-family: \"Times New Roman\", Georgia, Serif;\n",
    "    font-size: 125%;\n",
    "    line-height: 22px; /* 5px +12px + 5px */\n",
    "    text-indent: 25px;\n",
    "    background-color: #fbfbea;\n",
    "    padding: 10px;\n",
    "}\n",
    "\n",
    "hr { \n",
    "    display: block;\n",
    "    margin-top: 0.5em;\n",
    "    margin-bottom: 0.5em;\n",
    "    margin-left: auto;\n",
    "    margin-right: auto;\n",
    "    border-style: inset;\n",
    "    border-width: 2px;\n",
    "}\n",
    "</style>"
   ]
  },
  {
   "cell_type": "markdown",
   "metadata": {},
   "source": [
    "<h1>\n",
    "<center>\n",
    "Module 6: Random Forests\n",
    "</center>\n",
    "</h1>\n",
    "<div class=h1_cell>\n",
    "\n",
    "You will be working with the loan table again.\n",
    "\n",
    "</div>"
   ]
  },
  {
   "cell_type": "code",
   "execution_count": 107,
   "metadata": {
    "collapsed": true
   },
   "outputs": [],
   "source": [
    "import pandas as pd\n",
    "import os\n",
    "\n",
    "week = 5\n",
    "\n",
    "home_path =  os.path.expanduser('~')\n",
    "file_path = '/Desktop/CIS399/'\n",
    "\n",
    "file_name = 'loan_wrangled_w'+str(week)+'.csv'\n",
    "\n",
    "loan_table = pd.read_csv(home_path + file_path + file_name)"
   ]
  },
  {
   "cell_type": "code",
   "execution_count": 108,
   "metadata": {},
   "outputs": [
    {
     "name": "stdout",
     "output_type": "stream",
     "text": [
      "Already up-to-date.\r\n"
     ]
    }
   ],
   "source": [
    "os.chdir(home_path + file_path + 'datascience_1/')\n",
    "!git pull"
   ]
  },
  {
   "cell_type": "code",
   "execution_count": 109,
   "metadata": {},
   "outputs": [
    {
     "name": "stdout",
     "output_type": "stream",
     "text": [
      "accuracy\t build_pred\t build_tree_iter\t caser\t compute_prediction\t compute_training\t f1\t find_best_splitter\t forest_builder\t \n",
      "generate_table\t gig\t gini\t informedness\t k_fold\t predictor_case\t probabilities\t rowIndex\t seeder\t \n",
      "tree_predictor\t unionset\t vote_taker\t vote_taker_union\t \n"
     ]
    }
   ],
   "source": [
    "#load the lbirary from content this week\n",
    "\n",
    "import sys\n",
    "sys.path.append(home_path + '...')\n",
    "from week6 import *\n",
    "%who function"
   ]
  },
  {
   "cell_type": "code",
   "execution_count": 110,
   "metadata": {
    "scrolled": true
   },
   "outputs": [
    {
     "data": {
      "text/html": [
       "<div>\n",
       "<style>\n",
       "    .dataframe thead tr:only-child th {\n",
       "        text-align: right;\n",
       "    }\n",
       "\n",
       "    .dataframe thead th {\n",
       "        text-align: left;\n",
       "    }\n",
       "\n",
       "    .dataframe tbody tr th {\n",
       "        vertical-align: top;\n",
       "    }\n",
       "</style>\n",
       "<table border=\"1\" class=\"dataframe\">\n",
       "  <thead>\n",
       "    <tr style=\"text-align: right;\">\n",
       "      <th></th>\n",
       "      <th>Gender</th>\n",
       "      <th>Married</th>\n",
       "      <th>Dependents</th>\n",
       "      <th>Education</th>\n",
       "      <th>Self_Employed</th>\n",
       "      <th>ApplicantIncome</th>\n",
       "      <th>CoapplicantIncome</th>\n",
       "      <th>LoanAmount</th>\n",
       "      <th>Loan_Amount_Term</th>\n",
       "      <th>Credit_History</th>\n",
       "      <th>Property_Area</th>\n",
       "      <th>Loan_Status</th>\n",
       "      <th>no_lam</th>\n",
       "      <th>filled_lam</th>\n",
       "      <th>pa_Rural</th>\n",
       "      <th>pa_Semiurban</th>\n",
       "      <th>pa_Urban</th>\n",
       "      <th>pa_nan</th>\n",
       "      <th>bin_lam</th>\n",
       "      <th>bin_Low</th>\n",
       "      <th>bin_Average</th>\n",
       "      <th>bin_High</th>\n",
       "      <th>ch_bad</th>\n",
       "      <th>ch_good</th>\n",
       "      <th>ch_nan</th>\n",
       "      <th>apin_binned</th>\n",
       "      <th>apin_Low</th>\n",
       "      <th>apin_Average</th>\n",
       "      <th>apin_High</th>\n",
       "      <th>apin_nan</th>\n",
       "      <th>dep_0</th>\n",
       "      <th>dep_1</th>\n",
       "      <th>dep_2</th>\n",
       "      <th>dep_3+</th>\n",
       "    </tr>\n",
       "  </thead>\n",
       "  <tbody>\n",
       "    <tr>\n",
       "      <th>0</th>\n",
       "      <td>Male</td>\n",
       "      <td>No</td>\n",
       "      <td>0</td>\n",
       "      <td>Graduate</td>\n",
       "      <td>No</td>\n",
       "      <td>5849</td>\n",
       "      <td>0.0</td>\n",
       "      <td>NaN</td>\n",
       "      <td>360.0</td>\n",
       "      <td>1.0</td>\n",
       "      <td>Urban</td>\n",
       "      <td>1</td>\n",
       "      <td>1</td>\n",
       "      <td>146.412162</td>\n",
       "      <td>0</td>\n",
       "      <td>0</td>\n",
       "      <td>1</td>\n",
       "      <td>0</td>\n",
       "      <td>Low</td>\n",
       "      <td>1</td>\n",
       "      <td>0</td>\n",
       "      <td>0</td>\n",
       "      <td>0</td>\n",
       "      <td>1</td>\n",
       "      <td>0</td>\n",
       "      <td>Low</td>\n",
       "      <td>1</td>\n",
       "      <td>0</td>\n",
       "      <td>0</td>\n",
       "      <td>0</td>\n",
       "      <td>1</td>\n",
       "      <td>0</td>\n",
       "      <td>0</td>\n",
       "      <td>0</td>\n",
       "    </tr>\n",
       "    <tr>\n",
       "      <th>1</th>\n",
       "      <td>Male</td>\n",
       "      <td>Yes</td>\n",
       "      <td>1</td>\n",
       "      <td>Graduate</td>\n",
       "      <td>No</td>\n",
       "      <td>4583</td>\n",
       "      <td>1508.0</td>\n",
       "      <td>128.0</td>\n",
       "      <td>360.0</td>\n",
       "      <td>1.0</td>\n",
       "      <td>Rural</td>\n",
       "      <td>0</td>\n",
       "      <td>0</td>\n",
       "      <td>128.000000</td>\n",
       "      <td>1</td>\n",
       "      <td>0</td>\n",
       "      <td>0</td>\n",
       "      <td>0</td>\n",
       "      <td>Low</td>\n",
       "      <td>1</td>\n",
       "      <td>0</td>\n",
       "      <td>0</td>\n",
       "      <td>0</td>\n",
       "      <td>1</td>\n",
       "      <td>0</td>\n",
       "      <td>Low</td>\n",
       "      <td>1</td>\n",
       "      <td>0</td>\n",
       "      <td>0</td>\n",
       "      <td>0</td>\n",
       "      <td>0</td>\n",
       "      <td>1</td>\n",
       "      <td>0</td>\n",
       "      <td>0</td>\n",
       "    </tr>\n",
       "    <tr>\n",
       "      <th>2</th>\n",
       "      <td>Male</td>\n",
       "      <td>Yes</td>\n",
       "      <td>0</td>\n",
       "      <td>Graduate</td>\n",
       "      <td>Yes</td>\n",
       "      <td>3000</td>\n",
       "      <td>0.0</td>\n",
       "      <td>66.0</td>\n",
       "      <td>360.0</td>\n",
       "      <td>1.0</td>\n",
       "      <td>Urban</td>\n",
       "      <td>1</td>\n",
       "      <td>0</td>\n",
       "      <td>66.000000</td>\n",
       "      <td>0</td>\n",
       "      <td>0</td>\n",
       "      <td>1</td>\n",
       "      <td>0</td>\n",
       "      <td>Low</td>\n",
       "      <td>1</td>\n",
       "      <td>0</td>\n",
       "      <td>0</td>\n",
       "      <td>0</td>\n",
       "      <td>1</td>\n",
       "      <td>0</td>\n",
       "      <td>Low</td>\n",
       "      <td>1</td>\n",
       "      <td>0</td>\n",
       "      <td>0</td>\n",
       "      <td>0</td>\n",
       "      <td>1</td>\n",
       "      <td>0</td>\n",
       "      <td>0</td>\n",
       "      <td>0</td>\n",
       "    </tr>\n",
       "    <tr>\n",
       "      <th>3</th>\n",
       "      <td>Male</td>\n",
       "      <td>Yes</td>\n",
       "      <td>0</td>\n",
       "      <td>Not Graduate</td>\n",
       "      <td>No</td>\n",
       "      <td>2583</td>\n",
       "      <td>2358.0</td>\n",
       "      <td>120.0</td>\n",
       "      <td>360.0</td>\n",
       "      <td>1.0</td>\n",
       "      <td>Urban</td>\n",
       "      <td>1</td>\n",
       "      <td>0</td>\n",
       "      <td>120.000000</td>\n",
       "      <td>0</td>\n",
       "      <td>0</td>\n",
       "      <td>1</td>\n",
       "      <td>0</td>\n",
       "      <td>Low</td>\n",
       "      <td>1</td>\n",
       "      <td>0</td>\n",
       "      <td>0</td>\n",
       "      <td>0</td>\n",
       "      <td>1</td>\n",
       "      <td>0</td>\n",
       "      <td>Low</td>\n",
       "      <td>1</td>\n",
       "      <td>0</td>\n",
       "      <td>0</td>\n",
       "      <td>0</td>\n",
       "      <td>1</td>\n",
       "      <td>0</td>\n",
       "      <td>0</td>\n",
       "      <td>0</td>\n",
       "    </tr>\n",
       "    <tr>\n",
       "      <th>4</th>\n",
       "      <td>Male</td>\n",
       "      <td>No</td>\n",
       "      <td>0</td>\n",
       "      <td>Graduate</td>\n",
       "      <td>No</td>\n",
       "      <td>6000</td>\n",
       "      <td>0.0</td>\n",
       "      <td>141.0</td>\n",
       "      <td>360.0</td>\n",
       "      <td>1.0</td>\n",
       "      <td>Urban</td>\n",
       "      <td>1</td>\n",
       "      <td>0</td>\n",
       "      <td>141.000000</td>\n",
       "      <td>0</td>\n",
       "      <td>0</td>\n",
       "      <td>1</td>\n",
       "      <td>0</td>\n",
       "      <td>Low</td>\n",
       "      <td>1</td>\n",
       "      <td>0</td>\n",
       "      <td>0</td>\n",
       "      <td>0</td>\n",
       "      <td>1</td>\n",
       "      <td>0</td>\n",
       "      <td>Low</td>\n",
       "      <td>1</td>\n",
       "      <td>0</td>\n",
       "      <td>0</td>\n",
       "      <td>0</td>\n",
       "      <td>1</td>\n",
       "      <td>0</td>\n",
       "      <td>0</td>\n",
       "      <td>0</td>\n",
       "    </tr>\n",
       "  </tbody>\n",
       "</table>\n",
       "</div>"
      ],
      "text/plain": [
       "  Gender Married Dependents     Education Self_Employed  ApplicantIncome  \\\n",
       "0   Male      No          0      Graduate            No             5849   \n",
       "1   Male     Yes          1      Graduate            No             4583   \n",
       "2   Male     Yes          0      Graduate           Yes             3000   \n",
       "3   Male     Yes          0  Not Graduate            No             2583   \n",
       "4   Male      No          0      Graduate            No             6000   \n",
       "\n",
       "   CoapplicantIncome  LoanAmount  Loan_Amount_Term  Credit_History  \\\n",
       "0                0.0         NaN             360.0             1.0   \n",
       "1             1508.0       128.0             360.0             1.0   \n",
       "2                0.0        66.0             360.0             1.0   \n",
       "3             2358.0       120.0             360.0             1.0   \n",
       "4                0.0       141.0             360.0             1.0   \n",
       "\n",
       "  Property_Area  Loan_Status  no_lam  filled_lam  pa_Rural  pa_Semiurban  \\\n",
       "0         Urban            1       1  146.412162         0             0   \n",
       "1         Rural            0       0  128.000000         1             0   \n",
       "2         Urban            1       0   66.000000         0             0   \n",
       "3         Urban            1       0  120.000000         0             0   \n",
       "4         Urban            1       0  141.000000         0             0   \n",
       "\n",
       "   pa_Urban  pa_nan bin_lam  bin_Low  bin_Average  bin_High  ch_bad  ch_good  \\\n",
       "0         1       0     Low        1            0         0       0        1   \n",
       "1         0       0     Low        1            0         0       0        1   \n",
       "2         1       0     Low        1            0         0       0        1   \n",
       "3         1       0     Low        1            0         0       0        1   \n",
       "4         1       0     Low        1            0         0       0        1   \n",
       "\n",
       "   ch_nan apin_binned  apin_Low  apin_Average  apin_High  apin_nan  dep_0  \\\n",
       "0       0         Low         1             0          0         0      1   \n",
       "1       0         Low         1             0          0         0      0   \n",
       "2       0         Low         1             0          0         0      1   \n",
       "3       0         Low         1             0          0         0      1   \n",
       "4       0         Low         1             0          0         0      1   \n",
       "\n",
       "   dep_1  dep_2  dep_3+  \n",
       "0      0      0       0  \n",
       "1      1      0       0  \n",
       "2      0      0       0  \n",
       "3      0      0       0  \n",
       "4      0      0       0  "
      ]
     },
     "execution_count": 110,
     "metadata": {},
     "output_type": "execute_result"
    }
   ],
   "source": [
    "pd.set_option('display.max_columns', None)\n",
    "loan_table.head()"
   ]
  },
  {
   "cell_type": "code",
   "execution_count": 111,
   "metadata": {},
   "outputs": [
    {
     "data": {
      "text/plain": [
       "array(['Gender', 'Married', 'Dependents', 'Education', 'Self_Employed',\n",
       "       'ApplicantIncome', 'CoapplicantIncome', 'LoanAmount',\n",
       "       'Loan_Amount_Term', 'Credit_History', 'Property_Area',\n",
       "       'Loan_Status', 'no_lam', 'filled_lam', 'pa_Rural', 'pa_Semiurban',\n",
       "       'pa_Urban', 'pa_nan', 'bin_lam', 'bin_Low', 'bin_Average',\n",
       "       'bin_High', 'ch_bad', 'ch_good', 'ch_nan', 'apin_binned',\n",
       "       'apin_Low', 'apin_Average', 'apin_High', 'apin_nan', 'dep_0',\n",
       "       'dep_1', 'dep_2', 'dep_3+'], dtype=object)"
      ]
     },
     "execution_count": 111,
     "metadata": {},
     "output_type": "execute_result"
    }
   ],
   "source": [
    "loan_table.columns.values"
   ]
  },
  {
   "cell_type": "markdown",
   "metadata": {},
   "source": [
    "<hr>\n",
    "<h1>\n",
    "1: Explore forest options\n",
    "</h1>\n",
    "<p>\n",
    "<div class=h1_cell>\n",
    "<p>\n",
    "Check out the results you get from forests of size 5, 11, 17. Use default depth of 2.\n",
    "<p>\n",
    "First, define the columns to use. I do that for you below.\n",
    "</div>"
   ]
  },
  {
   "cell_type": "code",
   "execution_count": 112,
   "metadata": {
    "collapsed": true
   },
   "outputs": [],
   "source": [
    "splitter_columns = [\n",
    "        #Dependents\n",
    "        'dep_0', 'dep_1', 'dep_2', 'dep_3+',\n",
    "        #ApplicantIncome\n",
    "       'apin_Low', 'apin_High', 'apin_Average',\n",
    "        #Property_Area\n",
    "        'pa_Rural', 'pa_Semiurban','pa_Urban',\n",
    "        #LoanAmount\n",
    "        'bin_Low', 'bin_Average', 'bin_High',\n",
    "        #Credit_History\n",
    "        'ch_bad', 'ch_good']"
   ]
  },
  {
   "cell_type": "markdown",
   "metadata": {},
   "source": [
    "<hr>\n",
    "<h2>\n",
    "You might get different results\n",
    "</h2>\n",
    "<p>\n",
    "<div class=h1_cell>\n",
    "<p>\n",
    "Since we are now in random land, your results may not match mine.\n",
    "</div>"
   ]
  },
  {
   "cell_type": "code",
   "execution_count": 113,
   "metadata": {},
   "outputs": [
    {
     "data": {
      "text/plain": [
       "5"
      ]
     },
     "execution_count": 113,
     "metadata": {},
     "output_type": "execute_result"
    }
   ],
   "source": [
    "forest1 = forest_builder(loan_table, splitter_columns, 'Loan_Status', hypers={})\n",
    "len(forest1)"
   ]
  },
  {
   "cell_type": "code",
   "execution_count": 114,
   "metadata": {},
   "outputs": [
    {
     "name": "stdout",
     "output_type": "stream",
     "text": [
      "(0.8094462540716613, 0.8764519535374868, 0.4104956556082149)\n"
     ]
    }
   ],
   "source": [
    "loan_table['forest_1'] = loan_table.apply(lambda row: vote_taker(row, forest1), axis=1)\n",
    "\n",
    "loan_table['forest_1_type'] = loan_table.apply(lambda row: predictor_case(row, pred='forest_1', target='Loan_Status'), axis=1)\n",
    "\n",
    "forest1_types = loan_table['forest_1_type'].value_counts()  # returns a series\n",
    "\n",
    "print((accuracy(forest1_types), f1(forest1_types), informedness(forest1_types)))"
   ]
  },
  {
   "cell_type": "code",
   "execution_count": 115,
   "metadata": {},
   "outputs": [
    {
     "data": {
      "text/plain": [
       "11"
      ]
     },
     "execution_count": 115,
     "metadata": {},
     "output_type": "execute_result"
    }
   ],
   "source": [
    "forest2 = forest_builder(loan_table, splitter_columns, 'Loan_Status', hypers={'total-trees' : 11})\n",
    "len(forest2)"
   ]
  },
  {
   "cell_type": "code",
   "execution_count": 116,
   "metadata": {},
   "outputs": [
    {
     "name": "stdout",
     "output_type": "stream",
     "text": [
      "(0.6889250814332247, 0.8154589371980676, 0.005208333333333259)\n"
     ]
    }
   ],
   "source": [
    "loan_table['forest_2'] = loan_table.apply(lambda row: vote_taker(row, forest2), axis=1)\n",
    "\n",
    "loan_table['forest_2_type'] = loan_table.apply(lambda row: predictor_case(row, pred='forest_2', target='Loan_Status'), axis=1)\n",
    "\n",
    "forest2_types = loan_table['forest_2_type'].value_counts()  # returns a series\n",
    "\n",
    "print((accuracy(forest2_types), f1(forest2_types), informedness(forest2_types)))"
   ]
  },
  {
   "cell_type": "code",
   "execution_count": 117,
   "metadata": {},
   "outputs": [
    {
     "data": {
      "text/plain": [
       "17"
      ]
     },
     "execution_count": 117,
     "metadata": {},
     "output_type": "execute_result"
    }
   ],
   "source": [
    "forest3 = forest_builder(loan_table, splitter_columns, 'Loan_Status', hypers={'total-trees' : 17})\n",
    "len(forest3)"
   ]
  },
  {
   "cell_type": "code",
   "execution_count": 118,
   "metadata": {},
   "outputs": [
    {
     "name": "stdout",
     "output_type": "stream",
     "text": [
      "(0.6889250814332247, 0.8151016456921588, 0.008046998420221163)\n"
     ]
    }
   ],
   "source": [
    "loan_table['forest_3'] = loan_table.apply(lambda row: vote_taker(row, forest3), axis=1)\n",
    "\n",
    "loan_table['forest_3_type'] = loan_table.apply(lambda row: predictor_case(row, pred='forest_3', target='Loan_Status'), axis=1)\n",
    "\n",
    "forest3_types = loan_table['forest_3_type'].value_counts()  # returns a series\n",
    "print((accuracy(forest3_types), f1(forest3_types), informedness(forest3_types)))"
   ]
  },
  {
   "cell_type": "markdown",
   "metadata": {},
   "source": [
    "<hr>\n",
    "<h1>\n",
    "2: Implement Out of Bag testing\n",
    "</h1>\n",
    "<p>\n",
    "<div class=h1_cell>\n",
    "<p>\n",
    "Last module we looked at the use of K-Folding as a means to test our trees. Random Forests give us an alternative by using out of bag testing. Using notes from the content notebook this week, find a way to do prediction using the oob idea. As reminder, the set union of all the oob lists in a forest make up the testing set. If there is a row in loan_table that is not in any oob list, that row should be omitted from the test set. I am going to leave it to you to come up with an algorithm for doing oob testing. If you get totally stuck, I can supply hints.\n",
    "<p>\n",
    "Your goal is to be able to execute this code as is (e.g., for forest1):\n",
    "<p>\n",
    "<pre>\n",
    "<code>\n",
    "print((accuracy(forest1_oob_types), f1(forest1_oob_types), informedness(forest1_oob_types)))\n",
    "</code>\n",
    "</pre>\n",
    "<p>\n",
    "How you get to this point is up to you.\n",
    "</div>"
   ]
  },
  {
   "cell_type": "code",
   "execution_count": 124,
   "metadata": {},
   "outputs": [
    {
     "name": "stdout",
     "output_type": "stream",
     "text": [
      "set([0, 1, 2, 3, 5, 6, 7, 8, 9, 10, 11, 12, 13, 15, 16, 17, 18, 19, 22, 23, 24, 25, 26, 28, 29, 30, 31, 32, 33, 34, 35, 36, 37, 38, 39, 40, 41, 42, 43, 44, 45, 46, 47, 48, 49, 50, 51, 52, 53, 54, 55, 56, 57, 58, 59, 60, 61, 62, 63, 65, 68, 69, 70, 72, 73, 74, 77, 78, 81, 83, 84, 85, 86, 88, 90, 91, 92, 93, 94, 95, 96, 97, 98, 99, 100, 101, 103, 104, 105, 106, 107, 108, 109, 110, 111, 113, 114, 116, 117, 118, 120, 121, 122, 123, 124, 125, 126, 127, 128, 129, 130, 131, 132, 133, 134, 135, 136, 137, 138, 139, 141, 142, 143, 145, 146, 147, 148, 149, 150, 151, 152, 153, 154, 155, 156, 157, 158, 159, 160, 161, 162, 163, 164, 165, 166, 167, 168, 169, 170, 171, 172, 173, 174, 175, 176, 177, 178, 179, 180, 182, 183, 184, 185, 186, 187, 188, 189, 190, 191, 193, 194, 195, 196, 197, 198, 199, 200, 201, 202, 203, 204, 205, 206, 207, 208, 209, 210, 211, 212, 213, 214, 215, 216, 217, 218, 219, 220, 221, 222, 223, 224, 225, 227, 228, 229, 230, 231, 232, 234, 235, 236, 237, 238, 239, 240, 241, 242, 243, 244, 245, 246, 247, 248, 249, 250, 251, 252, 253, 254, 255, 256, 257, 258, 259, 260, 262, 263, 264, 265, 266, 267, 268, 269, 270, 271, 272, 273, 274, 275, 277, 279, 280, 281, 283, 284, 285, 286, 287, 288, 289, 290, 291, 292, 293, 295, 296, 297, 298, 299, 300, 301, 302, 304, 305, 306, 307, 308, 309, 310, 311, 313, 315, 316, 318, 319, 320, 321, 322, 323, 324, 325, 328, 329, 330, 331, 332, 333, 334, 335, 336, 338, 339, 340, 341, 342, 343, 344, 345, 346, 347, 348, 349, 350, 351, 352, 353, 354, 355, 356, 357, 359, 360, 361, 362, 363, 364, 365, 366, 367, 368, 369, 370, 372, 373, 374, 375, 376, 377, 378, 379, 380, 381, 382, 383, 384, 385, 386, 387, 388, 389, 390, 391, 392, 393, 394, 395, 396, 397, 398, 399, 400, 401, 402, 403, 404, 405, 407, 408, 409, 410, 411, 412, 413, 415, 416, 417, 420, 421, 422, 423, 424, 425, 426, 427, 428, 429, 430, 431, 432, 433, 434, 435, 436, 437, 438, 439, 440, 441, 443, 445, 446, 447, 448, 449, 450, 451, 452, 453, 454, 455, 456, 457, 459, 460, 461, 462, 463, 464, 465, 466, 467, 468, 470, 471, 474, 475, 476, 477, 479, 480, 482, 483, 484, 485, 486, 487, 488, 489, 490, 491, 492, 493, 495, 496, 497, 498, 499, 500, 501, 502, 503, 504, 505, 506, 507, 508, 509, 510, 511, 512, 513, 514, 515, 516, 517, 518, 519, 520, 521, 522, 523, 524, 525, 527, 528, 529, 530, 531, 532, 533, 534, 535, 536, 537, 538, 539, 540, 542, 543, 544, 545, 546, 548, 549, 551, 552, 553, 554, 555, 557, 558, 559, 560, 561, 562, 563, 564, 565, 566, 567, 568, 569, 570, 571, 572, 573, 574, 575, 576, 577, 578, 580, 581, 582, 583, 585, 586, 587, 588, 590, 591, 592, 593, 596, 597, 598, 599, 600, 601, 602, 603, 605, 606, 607, 608, 609, 610, 611, 612, 613])\n",
      "614\n",
      "550\n"
     ]
    }
   ],
   "source": [
    "#Define new functions here\n",
    "\n",
    "def unionset(forest):\n",
    "\n",
    "    union = set()\n",
    "    listofsets = []\n",
    "    for tree in forest: \n",
    "        oob_set = tree['oob']\n",
    "        listofsets.append(oob_set)\n",
    "\n",
    "    #print(listofsets)\n",
    "\n",
    "    results_union = set().union(*listofsets) ## MAGIC ALERT: https://stackoverflow.com/questions/2151517/pythonic-way-to-create-union-of-all-values-contained-in-multiple-lists\n",
    "    return(results_union)\n",
    "\n",
    "forest1_union = unionset(forest1)\n",
    "\n",
    "print(forest1_union) ## looks like a subset to me! \n",
    "\n",
    "new_table = loan_table.loc[list(forest1_union)] #make new_table be the the union\n",
    "\n",
    "print(len(loan_table)) # old has 614 enteries \n",
    "print(len(new_table)) # testing has 550 \n",
    "\n",
    "\n",
    "#print(row0.index)\n",
    "\n",
    "loan_table['forest_1_oob'] = new_table.apply(lambda row: vote_taker(row, forest1), axis=1) #notice the new_table \n",
    "\n",
    "loan_table['forest_1_oob_type'] = new_table.apply(lambda row: predictor_case(row, pred='forest_1_oob', target='Loan_Status'), axis=1) # new_table again \n",
    "\n",
    "\n",
    "forest1_oob_types = loan_table['forest_1_oob_type'].value_counts()  # returns a series"
   ]
  },
  {
   "cell_type": "code",
   "execution_count": 123,
   "metadata": {},
   "outputs": [
    {
     "name": "stdout",
     "output_type": "stream",
     "text": [
      "550\n",
      "(0.8054545454545454, 0.8742655699177438, 0.39691768180140263)\n"
     ]
    }
   ],
   "source": [
    "\n",
    "print(forest1_oob_types.sum())  # length of testing table\n",
    "print((accuracy(forest1_oob_types), f1(forest1_oob_types), informedness(forest1_oob_types)))"
   ]
  },
  {
   "cell_type": "markdown",
   "metadata": {},
   "source": [
    "<hr>\n",
    "<h1>Write it out</h1>\n",
    "<div class=h1_cell>\n",
    "\n",
    "Save the table so can use it in next module.\n",
    "</div>"
   ]
  },
  {
   "cell_type": "code",
   "execution_count": 18,
   "metadata": {
    "collapsed": true
   },
   "outputs": [],
   "source": [
    "import os\n",
    "\n",
    "week = 6  # change this each week\n",
    "\n",
    "home_path =  os.path.expanduser('~')\n",
    "file_path = '/Desktop/CIS399/'\n",
    "\n",
    "file_name = 'loan_wrangled_w'+str(week)+'.csv'\n",
    "\n",
    "loan_table.to_csv(home_path + file_path + file_name, index=False)"
   ]
  },
  {
   "cell_type": "code",
   "execution_count": null,
   "metadata": {
    "collapsed": true
   },
   "outputs": [],
   "source": []
  }
 ],
 "metadata": {
  "kernelspec": {
   "display_name": "Python 2",
   "language": "python",
   "name": "python2"
  },
  "language_info": {
   "codemirror_mode": {
    "name": "ipython",
    "version": 2
   },
   "file_extension": ".py",
   "mimetype": "text/x-python",
   "name": "python",
   "nbconvert_exporter": "python",
   "pygments_lexer": "ipython2",
   "version": "2.7.14"
  }
 },
 "nbformat": 4,
 "nbformat_minor": 1
}
