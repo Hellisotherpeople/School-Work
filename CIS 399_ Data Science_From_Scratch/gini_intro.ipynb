{
 "cells": [
  {
   "cell_type": "code",
   "execution_count": 1,
   "metadata": {},
   "outputs": [
    {
     "data": {
      "text/html": [
       "<style>\n",
       ".h1_cell, .just_text {\n",
       "    box-sizing: border-box;\n",
       "    padding-top:5px;\n",
       "    padding-bottom:5px;\n",
       "    font-family: \"Times New Roman\", Georgia, Serif;\n",
       "    font-size: 125%;\n",
       "    line-height: 22px; /* 5px +12px + 5px */\n",
       "    text-indent: 25px;\n",
       "    background-color: #fbfbea;\n",
       "    padding: 10px;\n",
       "}\n",
       "\n",
       "hr { \n",
       "    display: block;\n",
       "    margin-top: 0.5em;\n",
       "    margin-bottom: 0.5em;\n",
       "    margin-left: auto;\n",
       "    margin-right: auto;\n",
       "    border-style: inset;\n",
       "    border-width: 2px;\n",
       "}\n",
       "</style>"
      ],
      "text/plain": [
       "<IPython.core.display.HTML object>"
      ]
     },
     "metadata": {},
     "output_type": "display_data"
    }
   ],
   "source": [
    "%%html\n",
    "<style>\n",
    ".h1_cell, .just_text {\n",
    "    box-sizing: border-box;\n",
    "    padding-top:5px;\n",
    "    padding-bottom:5px;\n",
    "    font-family: \"Times New Roman\", Georgia, Serif;\n",
    "    font-size: 125%;\n",
    "    line-height: 22px; /* 5px +12px + 5px */\n",
    "    text-indent: 25px;\n",
    "    background-color: #fbfbea;\n",
    "    padding: 10px;\n",
    "}\n",
    "\n",
    "hr { \n",
    "    display: block;\n",
    "    margin-top: 0.5em;\n",
    "    margin-bottom: 0.5em;\n",
    "    margin-left: auto;\n",
    "    margin-right: auto;\n",
    "    border-style: inset;\n",
    "    border-width: 2px;\n",
    "}\n",
    "</style>"
   ]
  },
  {
   "cell_type": "markdown",
   "metadata": {},
   "source": [
    "<h1>\n",
    "<center>\n",
    "Module 3: Automating tree-building (Part 1)\n",
    "</center>\n",
    "</h1>\n",
    "<div class=h1_cell>\n",
    "\n",
    "The goal is to eventually build a tool that will generate a decision tree for us. So instead of us trying to guess what nodes and leaves to put in a tree, the tool will do it for us. The tool I have in mind will incrementally build a tree. First, it will find the best root node. Then it will follow each branch and ask what nodes are the best for  each. Eventually it will halt when every path through the tree ends in a leaf (prediction) node.\n",
    "<p>\n",
    "We won't take all that on in this module. Instead we will look at a key piece: judging what node should be added to the tree next. To make this judgement, we need a way to measure the goodness of a node/question.\n",
    "\n",
    "</div>"
   ]
  },
  {
   "cell_type": "code",
   "execution_count": 2,
   "metadata": {
    "collapsed": true
   },
   "outputs": [],
   "source": [
    "import pandas as pd\n",
    "import os\n",
    "\n",
    "week = 2  # from last module\n",
    "\n",
    "home_path =  os.path.expanduser('~')\n",
    "\n",
    "file_path = '/Dropbox/cis399_ds1_f17/notebook_history/'\n",
    "\n",
    "file_name = 'titanic_wrangled_w'+str(week)+'.csv'\n",
    "\n",
    "titanic_table = pd.read_csv(home_path + file_path + file_name)"
   ]
  },
  {
   "cell_type": "code",
   "execution_count": 3,
   "metadata": {},
   "outputs": [
    {
     "data": {
      "text/html": [
       "<div>\n",
       "<style>\n",
       "    .dataframe thead tr:only-child th {\n",
       "        text-align: right;\n",
       "    }\n",
       "\n",
       "    .dataframe thead th {\n",
       "        text-align: left;\n",
       "    }\n",
       "\n",
       "    .dataframe tbody tr th {\n",
       "        vertical-align: top;\n",
       "    }\n",
       "</style>\n",
       "<table border=\"1\" class=\"dataframe\">\n",
       "  <thead>\n",
       "    <tr style=\"text-align: right;\">\n",
       "      <th></th>\n",
       "      <th>Survived</th>\n",
       "      <th>Pclass</th>\n",
       "      <th>Name</th>\n",
       "      <th>Sex</th>\n",
       "      <th>Age</th>\n",
       "      <th>SibSp</th>\n",
       "      <th>Parch</th>\n",
       "      <th>Ticket</th>\n",
       "      <th>Fare</th>\n",
       "      <th>Cabin</th>\n",
       "      <th>Embarked</th>\n",
       "      <th>no_age</th>\n",
       "      <th>filled_age</th>\n",
       "      <th>emb_C</th>\n",
       "      <th>emb_Q</th>\n",
       "      <th>emb_S</th>\n",
       "      <th>emb_nan</th>\n",
       "      <th>age_bin</th>\n",
       "      <th>age_Child</th>\n",
       "      <th>age_Adult</th>\n",
       "      <th>age_Senior</th>\n",
       "      <th>sex_female</th>\n",
       "      <th>sex_male</th>\n",
       "      <th>pred_1</th>\n",
       "      <th>pred_1_type</th>\n",
       "      <th>ok_child</th>\n",
       "      <th>pclass_1</th>\n",
       "      <th>pclass_2</th>\n",
       "      <th>pclass_3</th>\n",
       "      <th>pclass_nan</th>\n",
       "      <th>pred_2</th>\n",
       "      <th>pred_2_type</th>\n",
       "    </tr>\n",
       "  </thead>\n",
       "  <tbody>\n",
       "    <tr>\n",
       "      <th>0</th>\n",
       "      <td>0</td>\n",
       "      <td>3</td>\n",
       "      <td>Braund, Mr. Owen Harris</td>\n",
       "      <td>male</td>\n",
       "      <td>22.0</td>\n",
       "      <td>1</td>\n",
       "      <td>0</td>\n",
       "      <td>A/5 21171</td>\n",
       "      <td>7.2500</td>\n",
       "      <td>NaN</td>\n",
       "      <td>S</td>\n",
       "      <td>0</td>\n",
       "      <td>22.0</td>\n",
       "      <td>0</td>\n",
       "      <td>0</td>\n",
       "      <td>1</td>\n",
       "      <td>0</td>\n",
       "      <td>Child</td>\n",
       "      <td>1</td>\n",
       "      <td>0</td>\n",
       "      <td>0</td>\n",
       "      <td>0</td>\n",
       "      <td>1</td>\n",
       "      <td>0</td>\n",
       "      <td>true_negative</td>\n",
       "      <td>0</td>\n",
       "      <td>0</td>\n",
       "      <td>0</td>\n",
       "      <td>1</td>\n",
       "      <td>0</td>\n",
       "      <td>0</td>\n",
       "      <td>true_negative</td>\n",
       "    </tr>\n",
       "    <tr>\n",
       "      <th>1</th>\n",
       "      <td>1</td>\n",
       "      <td>1</td>\n",
       "      <td>Cumings, Mrs. John Bradley (Florence Briggs Th...</td>\n",
       "      <td>female</td>\n",
       "      <td>38.0</td>\n",
       "      <td>1</td>\n",
       "      <td>0</td>\n",
       "      <td>PC 17599</td>\n",
       "      <td>71.2833</td>\n",
       "      <td>C85</td>\n",
       "      <td>C</td>\n",
       "      <td>0</td>\n",
       "      <td>38.0</td>\n",
       "      <td>1</td>\n",
       "      <td>0</td>\n",
       "      <td>0</td>\n",
       "      <td>0</td>\n",
       "      <td>Adult</td>\n",
       "      <td>0</td>\n",
       "      <td>1</td>\n",
       "      <td>0</td>\n",
       "      <td>1</td>\n",
       "      <td>0</td>\n",
       "      <td>1</td>\n",
       "      <td>true_positive</td>\n",
       "      <td>0</td>\n",
       "      <td>1</td>\n",
       "      <td>0</td>\n",
       "      <td>0</td>\n",
       "      <td>0</td>\n",
       "      <td>1</td>\n",
       "      <td>true_positive</td>\n",
       "    </tr>\n",
       "    <tr>\n",
       "      <th>2</th>\n",
       "      <td>1</td>\n",
       "      <td>3</td>\n",
       "      <td>Heikkinen, Miss. Laina</td>\n",
       "      <td>female</td>\n",
       "      <td>26.0</td>\n",
       "      <td>0</td>\n",
       "      <td>0</td>\n",
       "      <td>STON/O2. 3101282</td>\n",
       "      <td>7.9250</td>\n",
       "      <td>NaN</td>\n",
       "      <td>S</td>\n",
       "      <td>0</td>\n",
       "      <td>26.0</td>\n",
       "      <td>0</td>\n",
       "      <td>0</td>\n",
       "      <td>1</td>\n",
       "      <td>0</td>\n",
       "      <td>Child</td>\n",
       "      <td>1</td>\n",
       "      <td>0</td>\n",
       "      <td>0</td>\n",
       "      <td>1</td>\n",
       "      <td>0</td>\n",
       "      <td>1</td>\n",
       "      <td>true_positive</td>\n",
       "      <td>0</td>\n",
       "      <td>0</td>\n",
       "      <td>0</td>\n",
       "      <td>1</td>\n",
       "      <td>0</td>\n",
       "      <td>0</td>\n",
       "      <td>false_negative</td>\n",
       "    </tr>\n",
       "    <tr>\n",
       "      <th>3</th>\n",
       "      <td>1</td>\n",
       "      <td>1</td>\n",
       "      <td>Futrelle, Mrs. Jacques Heath (Lily May Peel)</td>\n",
       "      <td>female</td>\n",
       "      <td>35.0</td>\n",
       "      <td>1</td>\n",
       "      <td>0</td>\n",
       "      <td>113803</td>\n",
       "      <td>53.1000</td>\n",
       "      <td>C123</td>\n",
       "      <td>S</td>\n",
       "      <td>0</td>\n",
       "      <td>35.0</td>\n",
       "      <td>0</td>\n",
       "      <td>0</td>\n",
       "      <td>1</td>\n",
       "      <td>0</td>\n",
       "      <td>Adult</td>\n",
       "      <td>0</td>\n",
       "      <td>1</td>\n",
       "      <td>0</td>\n",
       "      <td>1</td>\n",
       "      <td>0</td>\n",
       "      <td>1</td>\n",
       "      <td>true_positive</td>\n",
       "      <td>0</td>\n",
       "      <td>1</td>\n",
       "      <td>0</td>\n",
       "      <td>0</td>\n",
       "      <td>0</td>\n",
       "      <td>1</td>\n",
       "      <td>true_positive</td>\n",
       "    </tr>\n",
       "    <tr>\n",
       "      <th>4</th>\n",
       "      <td>0</td>\n",
       "      <td>3</td>\n",
       "      <td>Allen, Mr. William Henry</td>\n",
       "      <td>male</td>\n",
       "      <td>35.0</td>\n",
       "      <td>0</td>\n",
       "      <td>0</td>\n",
       "      <td>373450</td>\n",
       "      <td>8.0500</td>\n",
       "      <td>NaN</td>\n",
       "      <td>S</td>\n",
       "      <td>0</td>\n",
       "      <td>35.0</td>\n",
       "      <td>0</td>\n",
       "      <td>0</td>\n",
       "      <td>1</td>\n",
       "      <td>0</td>\n",
       "      <td>Adult</td>\n",
       "      <td>0</td>\n",
       "      <td>1</td>\n",
       "      <td>0</td>\n",
       "      <td>0</td>\n",
       "      <td>1</td>\n",
       "      <td>0</td>\n",
       "      <td>true_negative</td>\n",
       "      <td>0</td>\n",
       "      <td>0</td>\n",
       "      <td>0</td>\n",
       "      <td>1</td>\n",
       "      <td>0</td>\n",
       "      <td>0</td>\n",
       "      <td>true_negative</td>\n",
       "    </tr>\n",
       "  </tbody>\n",
       "</table>\n",
       "</div>"
      ],
      "text/plain": [
       "   Survived  Pclass                                               Name  \\\n",
       "0         0       3                            Braund, Mr. Owen Harris   \n",
       "1         1       1  Cumings, Mrs. John Bradley (Florence Briggs Th...   \n",
       "2         1       3                             Heikkinen, Miss. Laina   \n",
       "3         1       1       Futrelle, Mrs. Jacques Heath (Lily May Peel)   \n",
       "4         0       3                           Allen, Mr. William Henry   \n",
       "\n",
       "      Sex   Age  SibSp  Parch            Ticket     Fare Cabin Embarked  \\\n",
       "0    male  22.0      1      0         A/5 21171   7.2500   NaN        S   \n",
       "1  female  38.0      1      0          PC 17599  71.2833   C85        C   \n",
       "2  female  26.0      0      0  STON/O2. 3101282   7.9250   NaN        S   \n",
       "3  female  35.0      1      0            113803  53.1000  C123        S   \n",
       "4    male  35.0      0      0            373450   8.0500   NaN        S   \n",
       "\n",
       "   no_age  filled_age  emb_C  emb_Q  emb_S  emb_nan age_bin  age_Child  \\\n",
       "0       0        22.0      0      0      1        0   Child          1   \n",
       "1       0        38.0      1      0      0        0   Adult          0   \n",
       "2       0        26.0      0      0      1        0   Child          1   \n",
       "3       0        35.0      0      0      1        0   Adult          0   \n",
       "4       0        35.0      0      0      1        0   Adult          0   \n",
       "\n",
       "   age_Adult  age_Senior  sex_female  sex_male  pred_1    pred_1_type  \\\n",
       "0          0           0           0         1       0  true_negative   \n",
       "1          1           0           1         0       1  true_positive   \n",
       "2          0           0           1         0       1  true_positive   \n",
       "3          1           0           1         0       1  true_positive   \n",
       "4          1           0           0         1       0  true_negative   \n",
       "\n",
       "   ok_child  pclass_1  pclass_2  pclass_3  pclass_nan  pred_2     pred_2_type  \n",
       "0         0         0         0         1           0       0   true_negative  \n",
       "1         0         1         0         0           0       1   true_positive  \n",
       "2         0         0         0         1           0       0  false_negative  \n",
       "3         0         1         0         0           0       1   true_positive  \n",
       "4         0         0         0         1           0       0   true_negative  "
      ]
     },
     "execution_count": 3,
     "metadata": {},
     "output_type": "execute_result"
    }
   ],
   "source": [
    "#I am setting the option to see all the columns of our table as we build it.\n",
    "pd.set_option('display.max_columns', None)\n",
    "titanic_table.head()"
   ]
  },
  {
   "cell_type": "markdown",
   "metadata": {},
   "source": [
    "<hr>\n",
    "<h1>\n",
    "Importing libraries\n",
    "</h1>\n",
    "<p>\n",
    "<div class=h1_cell>\n",
    "<p>\n",
    "I asked you to import the week2 library in the last assignment. We need to do the same thing here so we can build on those functions.\n",
    "</div>"
   ]
  },
  {
   "cell_type": "code",
   "execution_count": 4,
   "metadata": {},
   "outputs": [
    {
     "name": "stdout",
     "output_type": "stream",
     "text": [
      "Already up-to-date.\r\n"
     ]
    }
   ],
   "source": [
    "os.chdir(home_path + '/Dropbox/cis399_ds1_f17/week_libraries/datascience_1')\n",
    "!git pull"
   ]
  },
  {
   "cell_type": "code",
   "execution_count": 5,
   "metadata": {
    "collapsed": true
   },
   "outputs": [],
   "source": [
    "import sys\n",
    "sys.path.append(home_path + '/Dropbox/cis399_ds1_f17/week_libraries/datascience_1')"
   ]
  },
  {
   "cell_type": "code",
   "execution_count": 6,
   "metadata": {},
   "outputs": [
    {
     "name": "stdout",
     "output_type": "stream",
     "text": [
      "accuracy\t f1\t informedness\t predictor_case\t \n"
     ]
    }
   ],
   "source": [
    "from week2 import *\n",
    "%who function"
   ]
  },
  {
   "cell_type": "markdown",
   "metadata": {},
   "source": [
    "<hr>\n",
    "<h1>\n",
    "Revisiting the stump\n",
    "</h1>\n",
    "<p>\n",
    "<div class=h1_cell>\n",
    "Remember the tree we built in module 2? Here it is again.\n",
    "<p>\n",
    "<img src=\"https://www.dropbox.com/s/2940iqadl1nswbq/stump.png?raw=1\" width=\"300\" height=\"300\">\n",
    "<p>\n",
    "Here is a question I want to ask: Is using sex_female as a root node better than using age_child as a root node? Let's set out to answer that question.\n",
    "\n",
    "</div>"
   ]
  },
  {
   "cell_type": "markdown",
   "metadata": {},
   "source": [
    "<div class=just_text>\n",
    "One thing I will need is the probablity of our target column `Survived`. First I'll build a Series with the counts of the 2 values.\n",
    "</div>"
   ]
  },
  {
   "cell_type": "code",
   "execution_count": 7,
   "metadata": {},
   "outputs": [
    {
     "data": {
      "text/plain": [
       "0    549\n",
       "1    342\n",
       "Name: Survived, dtype: int64"
      ]
     },
     "execution_count": 7,
     "metadata": {},
     "output_type": "execute_result"
    }
   ],
   "source": [
    "root_counts = titanic_table['Survived'].value_counts()  # returns a series\n",
    "root_counts"
   ]
  },
  {
   "cell_type": "code",
   "execution_count": 8,
   "metadata": {
    "collapsed": true
   },
   "outputs": [],
   "source": [
    "def probabilities(counts):\n",
    "    count_0 = 0 if 0 not in counts else counts[0]  #could have no 0 values\n",
    "    count_1 = 0 if 1 not in counts else counts[1]\n",
    "    total = count_0 + count_1\n",
    "    probs = (0,0) if total == 0 else (1.0*count_0/total, 1.0*count_1/total)  #build 2-tuple\n",
    "    return probs"
   ]
  },
  {
   "cell_type": "code",
   "execution_count": 9,
   "metadata": {},
   "outputs": [
    {
     "data": {
      "text/plain": [
       "(0.6161616161616161, 0.3838383838383838)"
      ]
     },
     "execution_count": 9,
     "metadata": {},
     "output_type": "execute_result"
    }
   ],
   "source": [
    "root_probs = probabilities(root_counts)\n",
    "root_probs"
   ]
  },
  {
   "cell_type": "markdown",
   "metadata": {},
   "source": [
    "<div class=just_text>\n",
    "All we did is count how many 0s and how many 1s relative to the total number of passengers. When we do the divisions, we get the probabilities we need.\n",
    "</div>"
   ]
  },
  {
   "cell_type": "markdown",
   "metadata": {},
   "source": [
    "<hr>\n",
    "<h1>\n",
    "Gini to the rescue\n",
    "</h1>\n",
    "<p>\n",
    "<div class=h1_cell>\n",
    "<p>\n",
    "There are 2 well-known algorithms for measuring the goodness of a splitter (i.e., a binary column we are contemplating adding to our tree), *`Entropy`* and *`Gini`*. I am going to choose Gini going forward in this course. If you want a good discussion of the difference between the 2, with pointers to more theoretical arguments, this is a good place to start: https://datascience.stackexchange.com/questions/10228/gini-impurity-vs-entropy. The main thing to remember is that you may hear both when on a job interview, so have at least a high-level understanding of Entropy (follow the link).\n",
    "<p>\n",
    "The general idea is that we are going to look at the mixture of 0s and 1s in the table before we split with a column. Then we split and look at the mixtures of the 2 sub-tables (one on each branch). Here is the Gini formula (sometimes called *`Gini impurity`*) - P stands for probability (obtained by our `probabilities` function):\n",
    "<p>\n",
    "`Gini index = 1 – (P(Target=0)**2 + P(Target=1)**2)`\n",
    "<p>\n",
    "We will apply it to the before-split table and the 2 after-split sub-tables. We will end up with 3 separate gini values.\n",
    "</div>"
   ]
  },
  {
   "cell_type": "code",
   "execution_count": 29,
   "metadata": {
    "collapsed": true
   },
   "outputs": [],
   "source": [
    "def gini(counts):\n",
    "    (p0,p1) = probabilities(counts)\n",
    "    sum_probs = p0**2 + p1**2\n",
    "    gini = 1 - sum_probs\n",
    "    return gini"
   ]
  },
  {
   "cell_type": "code",
   "execution_count": 30,
   "metadata": {},
   "outputs": [
    {
     "data": {
      "text/plain": [
       "0.4730129578614428"
      ]
     },
     "execution_count": 30,
     "metadata": {},
     "output_type": "execute_result"
    }
   ],
   "source": [
    "gini(root_counts)"
   ]
  },
  {
   "cell_type": "markdown",
   "metadata": {},
   "source": [
    "<div class=just_text>\n",
    "We now have the Gini score for the Titanic table as a whole. The lower the score, the better.\n",
    "</div>"
   ]
  },
  {
   "cell_type": "markdown",
   "metadata": {},
   "source": [
    "<h2>\n",
    "Do the split\n",
    "</h2>\n",
    "<p>\n",
    "<div class=h1_cell>\n",
    "We need to build 2 sub-tables that corresond to the 1 (True) and 0 (False) branches of the column we are splitting on. Let's do that now.\n",
    "</div>"
   ]
  },
  {
   "cell_type": "code",
   "execution_count": 12,
   "metadata": {
    "collapsed": true
   },
   "outputs": [],
   "source": [
    "true_table = titanic_table.loc[titanic_table['sex_female'] == 1]  # one branch\n",
    "false_table = titanic_table.loc[titanic_table['sex_female'] == 0] # the other branch"
   ]
  },
  {
   "cell_type": "markdown",
   "metadata": {},
   "source": [
    "<div class=just_text>\n",
    "We now have the 2 sub-tables, one for True branch and one for False branch.\n",
    "We want to apply gini to each sub-table. First get the counts, then the probabilities. That will give us what we need to get Gini score for each subtable.\n",
    "</div>"
   ]
  },
  {
   "cell_type": "code",
   "execution_count": 13,
   "metadata": {},
   "outputs": [
    {
     "data": {
      "text/plain": [
       "(0.25796178343949044, 0.7420382165605095)"
      ]
     },
     "execution_count": 13,
     "metadata": {},
     "output_type": "execute_result"
    }
   ],
   "source": [
    "true_counts = true_table['Survived'].value_counts()  # Note using true_table and not titanic_table\n",
    "true_probs = probabilities(true_counts)\n",
    "true_probs"
   ]
  },
  {
   "cell_type": "code",
   "execution_count": 14,
   "metadata": {},
   "outputs": [
    {
     "data": {
      "text/plain": [
       "(0.8110918544194108, 0.18890814558058924)"
      ]
     },
     "execution_count": 14,
     "metadata": {},
     "output_type": "execute_result"
    }
   ],
   "source": [
    "false_counts = false_table['Survived'].value_counts()  # using false_table\n",
    "false_probs = probabilities(false_counts)\n",
    "false_probs"
   ]
  },
  {
   "cell_type": "code",
   "execution_count": 31,
   "metadata": {},
   "outputs": [
    {
     "data": {
      "text/plain": [
       "0.3828350034484158"
      ]
     },
     "execution_count": 31,
     "metadata": {},
     "output_type": "execute_result"
    }
   ],
   "source": [
    "gini(true_counts)"
   ]
  },
  {
   "cell_type": "code",
   "execution_count": 32,
   "metadata": {},
   "outputs": [
    {
     "data": {
      "text/plain": [
       "0.3064437162277842"
      ]
     },
     "execution_count": 32,
     "metadata": {},
     "output_type": "execute_result"
    }
   ],
   "source": [
    "gini(false_counts)"
   ]
  },
  {
   "cell_type": "markdown",
   "metadata": {},
   "source": [
    "<div class=just_text>\n",
    "Cool. We now have 3 separate gini values for the 3 tables involved. Our next step is to combine these values in a way  that gives us an overall goodness-of-the-split score. To do so, we will use something called *`gini information gain`* (GIG). The formula for GIG is as follows:\n",
    "<p>\n",
    "`GIG = start_gini − (w_true * gini_true + w_false * gini_false)`\n",
    "<p>\n",
    "where w_true is a weight of |true_table|/|titanic_table| (i.e., the size of true_table divided by the size of the starting table) and w_false is a weight of |false_table|/|titanic_table|.\n",
    "<p>\n",
    "Unlike plain Gini, which uses 0 as the best score, the gig uses 1 as the best score.\n",
    "</div>"
   ]
  },
  {
   "cell_type": "markdown",
   "metadata": {},
   "source": [
    "<h2>\n",
    "Let's put it all together\n",
    "</h2>\n",
    "<p>\n",
    "<div class=h1_cell>\n",
    "Let's build a function gig that pulls everything together in one place. The idea is that if you supply a starting table and a column to split on, it will calculate the goodness of the split as the gig score. The bigger, the better.\n",
    "</div>"
   ]
  },
  {
   "cell_type": "code",
   "execution_count": 43,
   "metadata": {
    "collapsed": true
   },
   "outputs": [],
   "source": [
    "def gig(starting_table, split_column, target_column):\n",
    "    \n",
    "    #split into two branches, i.e., two sub-tables\n",
    "    true_table = starting_table.loc[starting_table[split_column] == 1]\n",
    "    false_table = starting_table.loc[starting_table[split_column] == 0]\n",
    "    \n",
    "    #Now see how the target column is divided up in each sub-table (and the starting table)\n",
    "    true_counts = true_table[target_column].value_counts()  # Note using true_table and not titanic_table\n",
    "    false_counts = false_table[target_column].value_counts()  # Note using true_table and not titanic_table\n",
    "    starting_counts = starting_table[target_column].value_counts() \n",
    "    \n",
    "    #compute the gini impurity for the 3 tables\n",
    "    starting_gini = gini(starting_counts)\n",
    "    true_gini = gini(true_counts)\n",
    "    false_gini = gini(false_counts)\n",
    "\n",
    "    #compute the weights\n",
    "    starting_size = len(starting_table.index)*1.0\n",
    "    true_weight = 0.0 if starting_size == 0 else len(true_table.index)/starting_size\n",
    "    false_weight = 0.0 if starting_size == 0 else len(false_table.index)/starting_size\n",
    "    \n",
    "    #wrap it up and put on a bow\n",
    "    gig = starting_gini - (true_weight * true_gini + false_weight * false_gini)\n",
    "    \n",
    "    return gig\n",
    "    "
   ]
  },
  {
   "cell_type": "code",
   "execution_count": 46,
   "metadata": {},
   "outputs": [
    {
     "data": {
      "text/plain": [
       "0.1396479574728524"
      ]
     },
     "execution_count": 46,
     "metadata": {},
     "output_type": "execute_result"
    }
   ],
   "source": [
    "gig(titanic_table, 'sex_female', 'Survived')"
   ]
  },
  {
   "cell_type": "markdown",
   "metadata": {},
   "source": [
    "<hr>\n",
    "<h2>\n",
    "Compare with another split\n",
    "</h2>\n",
    "<p>\n",
    "<div class=h1_cell>\n",
    "Ok, this is pretty cool. We can now check out various columns to choose for a split and see what the gig is for each. Let's try ok_child.\n",
    "</div>"
   ]
  },
  {
   "cell_type": "code",
   "execution_count": 45,
   "metadata": {},
   "outputs": [
    {
     "data": {
      "text/plain": [
       "0.010321527428076904"
      ]
     },
     "execution_count": 45,
     "metadata": {},
     "output_type": "execute_result"
    }
   ],
   "source": [
    "gig(titanic_table, 'ok_child', 'Survived')"
   ]
  },
  {
   "cell_type": "markdown",
   "metadata": {},
   "source": [
    "<div class=just_text>\n",
    "It has lower score so \"worse\" than sex_female: you want low gini scores but high gig scores.\n",
    "</div>"
   ]
  },
  {
   "cell_type": "markdown",
   "metadata": {},
   "source": [
    "<hr>\n",
    "<h2>\n",
    "Let's go down a branch\n",
    "</h2>\n",
    "<p>\n",
    "<div class=h1_cell>\n",
    "We were comparing different choices for the root node. Assume we try all columns and sex_female has largest gig score. So we choose it as the root node. We now have 2 branches with a sub-table on each. You guessed it. We can now run the gig on each of the sub-tables to decide what the best choice is. Let's focus on the false branch, i.e., sex_female has value 0. First I'll build the sub-table.\n",
    "</div>"
   ]
  },
  {
   "cell_type": "code",
   "execution_count": 20,
   "metadata": {
    "collapsed": true
   },
   "outputs": [],
   "source": [
    "false_table = titanic_table.loc[titanic_table['sex_female'] == 0]"
   ]
  },
  {
   "cell_type": "markdown",
   "metadata": {},
   "source": [
    "<div class=just_text>\n",
    "Now we can start exploring choices for the sub-node\n",
    "</div>"
   ]
  },
  {
   "cell_type": "code",
   "execution_count": 38,
   "metadata": {},
   "outputs": [
    {
     "data": {
      "text/plain": [
       "0.0013270999683399065"
      ]
     },
     "execution_count": 38,
     "metadata": {},
     "output_type": "execute_result"
    }
   ],
   "source": [
    "#try emb_S\n",
    "\n",
    "gig(false_table, 'emb_S', 'Survived')"
   ]
  },
  {
   "cell_type": "code",
   "execution_count": 22,
   "metadata": {},
   "outputs": [
    {
     "data": {
      "text/plain": [
       "0.01736419615130408"
      ]
     },
     "execution_count": 22,
     "metadata": {},
     "output_type": "execute_result"
    }
   ],
   "source": [
    "#try pclass_1\n",
    "\n",
    "gig(false_table, 'pclass_1', 'Survived')"
   ]
  },
  {
   "cell_type": "markdown",
   "metadata": {},
   "source": [
    "<div class=just_text>\n",
    "Looks like pclass_1 is the winner between the 2. It has higher gig score then emb_S.\n",
    "</div>"
   ]
  },
  {
   "cell_type": "markdown",
   "metadata": {},
   "source": [
    "<hr>\n",
    "<h1>\n",
    "Let's do one more thing\n",
    "</h1>\n",
    "<p>\n",
    "<div class=h1_cell>\n",
    "I think I am fairly close to being able to automate the selection of the best split given the starting table. I'll first decide on the columns I want in the candidate set. Then just map over them to get their gig scores. Finally I'll take the max value.\n",
    "</div>"
   ]
  },
  {
   "cell_type": "code",
   "execution_count": 23,
   "metadata": {},
   "outputs": [
    {
     "data": {
      "text/plain": [
       "array(['Survived', 'Pclass', 'Name', 'Sex', 'Age', 'SibSp', 'Parch',\n",
       "       'Ticket', 'Fare', 'Cabin', 'Embarked', 'no_age', 'filled_age',\n",
       "       'emb_C', 'emb_Q', 'emb_S', 'emb_nan', 'age_bin', 'age_Child',\n",
       "       'age_Adult', 'age_Senior', 'sex_female', 'sex_male', 'pred_1',\n",
       "       'pred_1_type', 'ok_child', 'pclass_1', 'pclass_2', 'pclass_3',\n",
       "       'pclass_nan', 'pred_2', 'pred_2_type'], dtype=object)"
      ]
     },
     "execution_count": 23,
     "metadata": {},
     "output_type": "execute_result"
    }
   ],
   "source": [
    "titanic_table.columns.values"
   ]
  },
  {
   "cell_type": "markdown",
   "metadata": {},
   "source": [
    "<div class=just_text>\n",
    "Now I'll just copy and paste from above output and delete the columns that are non-binary or not-useful.\n",
    "</div>"
   ]
  },
  {
   "cell_type": "code",
   "execution_count": 39,
   "metadata": {
    "collapsed": true
   },
   "outputs": [],
   "source": [
    "column_candidates = ['no_age',\n",
    "       'emb_C', 'emb_Q', 'emb_S', 'emb_nan', 'age_Child',\n",
    "       'age_Adult', 'age_Senior', 'sex_female', \n",
    "        'ok_child', 'pclass_1', 'pclass_2', 'pclass_3',\n",
    "       'pclass_nan']"
   ]
  },
  {
   "cell_type": "markdown",
   "metadata": {},
   "source": [
    "<div class=just_text>\n",
    "I'm ready to do a mapping. This mapping is for the root node.\n",
    "</div>"
   ]
  },
  {
   "cell_type": "code",
   "execution_count": 47,
   "metadata": {},
   "outputs": [
    {
     "data": {
      "text/plain": [
       "[('sex_female', 0.1396479574728524),\n",
       " ('pclass_3', 0.049137852428292605),\n",
       " ('pclass_1', 0.03866453536487213),\n",
       " ('emb_C', 0.013388557365673015),\n",
       " ('emb_S', 0.011461161069371395),\n",
       " ('ok_child', 0.010321527428076904),\n",
       " ('pclass_2', 0.004121814088680398),\n",
       " ('no_age', 0.0040207042231273915),\n",
       " ('emb_nan', 0.0017082345882156735),\n",
       " ('age_Child', 0.0006257143143247879),\n",
       " ('age_Senior', 0.00048458255066557987),\n",
       " ('age_Adult', 0.00019771072603869122),\n",
       " ('emb_Q', 6.303036606203349e-06),\n",
       " ('pclass_nan', 0.0)]"
      ]
     },
     "execution_count": 47,
     "metadata": {},
     "output_type": "execute_result"
    }
   ],
   "source": [
    "gig_scores = map(lambda col: (col, gig(titanic_table, col, 'Survived')), column_candidates)\n",
    "gig_sorted = sorted(gig_scores, key=lambda item: item[1], reverse=True)\n",
    "gig_sorted"
   ]
  },
  {
   "cell_type": "markdown",
   "metadata": {},
   "source": [
    "<div class=just_text>\n",
    "Now that we know sex_female is the best choice for the root node, we can follow both its true and false branches and rerun the mapping for each. We will take on this problem in the next module."
   ]
  },
  {
   "cell_type": "markdown",
   "metadata": {},
   "source": [
    "\n",
    "<h2>\n",
    "Are we done?\n",
    "</h2>\n",
    "<p>\n",
    "<div class=h1_cell>\n",
    "Have we chosen the best column for the root? I can say we have chosen the best column from the candidate columns we started with. But we did not have all the columns, e.g., we are missing SibSp, Parch. And there are myriad ways to bin the continuous columns of Fare and Age.\n",
    "<p>\n",
    "So, no, I can't say I have the best column. It would not be hard to wrangle the remaining discrete columns to put them in play. It also would not be hard to programmatically generate all possible bins for Fare and Age. However, by my calculation, taking just the integers from 0 to 80 for age, the computational cost is O(80**3)."
   ]
  },
  {
   "cell_type": "markdown",
   "metadata": {},
   "source": [
    "<hr>\n",
    "<h1>Write it out</h1>\n",
    "<div class=h1_cell>\n",
    "\n",
    "Save the table so can use it in next module.\n",
    "</div>"
   ]
  },
  {
   "cell_type": "code",
   "execution_count": 41,
   "metadata": {
    "collapsed": true
   },
   "outputs": [],
   "source": [
    "import os\n",
    "\n",
    "week = 3  # change this each week\n",
    "\n",
    "home_path =  os.path.expanduser('~')\n",
    "\n",
    "file_path = '/Dropbox/cis399_ds1_f17/notebook_history/'\n",
    "\n",
    "file_name = 'titanic_wrangled_w'+str(week)+'.csv'\n",
    "\n",
    "titanic_table.to_csv(home_path + file_path + file_name, index=False)"
   ]
  },
  {
   "cell_type": "markdown",
   "metadata": {},
   "source": [
    "<hr>\n",
    "<h1>Next up</h1>\n",
    "<div class=h1_cell>\n",
    "\n",
    "    In the next module, we will build on the gig function. We will use it to build a full tree.\n",
    "</div>"
   ]
  },
  {
   "cell_type": "code",
   "execution_count": null,
   "metadata": {
    "collapsed": true
   },
   "outputs": [],
   "source": []
  }
 ],
 "metadata": {
  "kernelspec": {
   "display_name": "Python 2",
   "language": "python",
   "name": "python2"
  },
  "language_info": {
   "codemirror_mode": {
    "name": "ipython",
    "version": 2
   },
   "file_extension": ".py",
   "mimetype": "text/x-python",
   "name": "python",
   "nbconvert_exporter": "python",
   "pygments_lexer": "ipython2",
   "version": "2.7.14"
  }
 },
 "nbformat": 4,
 "nbformat_minor": 1
}
