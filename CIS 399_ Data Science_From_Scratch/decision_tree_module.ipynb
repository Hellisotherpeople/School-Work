{
 "cells": [
  {
   "cell_type": "code",
   "execution_count": 34,
   "metadata": {},
   "outputs": [
    {
     "data": {
      "text/html": [
       "<style>\n",
       ".h1_cell, .just_text {\n",
       "    box-sizing: border-box;\n",
       "    padding-top:5px;\n",
       "    padding-bottom:5px;\n",
       "    font-family: \"Times New Roman\", Georgia, Serif;\n",
       "    font-size: 125%;\n",
       "    line-height: 22px; /* 5px +12px + 5px */\n",
       "    text-indent: 25px;\n",
       "    background-color: #fbfbea;\n",
       "    padding: 10px;\n",
       "}\n",
       "\n",
       "hr { \n",
       "    display: block;\n",
       "    margin-top: 0.5em;\n",
       "    margin-bottom: 0.5em;\n",
       "    margin-left: auto;\n",
       "    margin-right: auto;\n",
       "    border-style: inset;\n",
       "    border-width: 2px;\n",
       "}\n",
       "</style>"
      ],
      "text/plain": [
       "<IPython.core.display.HTML object>"
      ]
     },
     "metadata": {},
     "output_type": "display_data"
    }
   ],
   "source": [
    "%%html\n",
    "<style>\n",
    ".h1_cell, .just_text {\n",
    "    box-sizing: border-box;\n",
    "    padding-top:5px;\n",
    "    padding-bottom:5px;\n",
    "    font-family: \"Times New Roman\", Georgia, Serif;\n",
    "    font-size: 125%;\n",
    "    line-height: 22px; /* 5px +12px + 5px */\n",
    "    text-indent: 25px;\n",
    "    background-color: #fbfbea;\n",
    "    padding: 10px;\n",
    "}\n",
    "\n",
    "hr { \n",
    "    display: block;\n",
    "    margin-top: 0.5em;\n",
    "    margin-bottom: 0.5em;\n",
    "    margin-left: auto;\n",
    "    margin-right: auto;\n",
    "    border-style: inset;\n",
    "    border-width: 2px;\n",
    "}\n",
    "</style>"
   ]
  },
  {
   "cell_type": "markdown",
   "metadata": {},
   "source": [
    "<h1>\n",
    "<center>\n",
    "Module 2: Intro to Decision Trees\n",
    "</center>\n",
    "</h1>\n",
    "<div class=h1_cell>\n",
    "\n",
    "<p>In this module we will build several decision trees to support predictions on the Titanic data. The column that is the target of our prediction is `Survived`. The goal is to use values in the other columns to predict the correct value for `Survived`, i.e., either a 0 (perished) or 1 (survived).\n",
    "<p>The data we are using is known as *training data*. It is what is called *labeled data*. In essence, it is labeled because we know what the value of `Survived` is in the training data. This allows us to make a prediction and then compare it with reality. This reality check allows us to attempt improvement in our predictor. We can analyze what rows we are getting wrong (and right) and adjust our predictor accordingly. When we think we have a good predictor (because it works well with the training data), we step up to trying our same predictor on *test data*. Will get to that a little later.\n",
    "\n",
    "</div>"
   ]
  },
  {
   "cell_type": "code",
   "execution_count": 16,
   "metadata": {
    "collapsed": true
   },
   "outputs": [],
   "source": [
    "import pandas as pd\n",
    "import os\n",
    "\n",
    "week = 1  # from last module\n",
    "\n",
    "home_path =  os.path.expanduser('~')\n",
    "\n",
    "file_path = '/Dropbox/cis399_ds1_f17/notebook_history/'\n",
    "\n",
    "file_name = 'titanic_wrangled_w'+str(week)+'.csv'\n",
    "\n",
    "titanic_table = pd.read_csv(home_path + file_path + file_name)"
   ]
  },
  {
   "cell_type": "code",
   "execution_count": 17,
   "metadata": {
    "collapsed": true
   },
   "outputs": [],
   "source": [
    "#I am setting the option to see all the columns of our table as we build it.\n",
    "pd.set_option('display.max_columns', None)"
   ]
  },
  {
   "cell_type": "markdown",
   "metadata": {},
   "source": [
    "<hr>\n",
    "<h1>\n",
    "Our first tree (a stump)\n",
    "</h1>\n",
    "<p>\n",
    "<div class=h1_cell>\n",
    "I'm going to focus on the `Sex` column as our first predictor.\n",
    "One reason I like decision trees is because they have a good visualization.\n",
    "<p>\n",
    "<img src=\"https://www.dropbox.com/s/2940iqadl1nswbq/stump.png?raw=1\" width=\"300\" height=\"300\">\n",
    "<p>\n",
    "A tree has nodes (I am using a rectangle for nodes) and leaves (I am using an oval for leaves). It operates kind of like a pachinko machine. You drop a row on it and that row eventually makes its way to a leaf. The leaf supplies the prediction for the row. For the example above, the tree first checks the value in the `sex_female` column. If it is 1 (i.e., True) then it takes one branch. If it is false it takes the other branch.\n",
    "<p>\n",
    "The tree only has one decision/node. One-node trees are sometimes called stumps. Let's see if we can code the tree in Python. But before we do that, we will need to wrangle the Sex column using one-hot encoding.\n",
    "\n",
    "</div>"
   ]
  },
  {
   "cell_type": "code",
   "execution_count": 18,
   "metadata": {},
   "outputs": [],
   "source": [
    "one_hot_gender = pd.get_dummies(titanic_table['Sex'],prefix='sex',dummy_na=False)  # false because should not have empties\n",
    "titanic_table = titanic_table.join(one_hot_gender)"
   ]
  },
  {
   "cell_type": "code",
   "execution_count": 19,
   "metadata": {},
   "outputs": [
    {
     "data": {
      "text/html": [
       "<div>\n",
       "<style>\n",
       "    .dataframe thead tr:only-child th {\n",
       "        text-align: right;\n",
       "    }\n",
       "\n",
       "    .dataframe thead th {\n",
       "        text-align: left;\n",
       "    }\n",
       "\n",
       "    .dataframe tbody tr th {\n",
       "        vertical-align: top;\n",
       "    }\n",
       "</style>\n",
       "<table border=\"1\" class=\"dataframe\">\n",
       "  <thead>\n",
       "    <tr style=\"text-align: right;\">\n",
       "      <th></th>\n",
       "      <th>Survived</th>\n",
       "      <th>Pclass</th>\n",
       "      <th>Name</th>\n",
       "      <th>Sex</th>\n",
       "      <th>Age</th>\n",
       "      <th>SibSp</th>\n",
       "      <th>Parch</th>\n",
       "      <th>Ticket</th>\n",
       "      <th>Fare</th>\n",
       "      <th>Cabin</th>\n",
       "      <th>Embarked</th>\n",
       "      <th>no_age</th>\n",
       "      <th>filled_age</th>\n",
       "      <th>emb_C</th>\n",
       "      <th>emb_Q</th>\n",
       "      <th>emb_S</th>\n",
       "      <th>emb_nan</th>\n",
       "      <th>age_bin</th>\n",
       "      <th>age_Child</th>\n",
       "      <th>age_Adult</th>\n",
       "      <th>age_Senior</th>\n",
       "      <th>sex_female</th>\n",
       "      <th>sex_male</th>\n",
       "    </tr>\n",
       "  </thead>\n",
       "  <tbody>\n",
       "    <tr>\n",
       "      <th>0</th>\n",
       "      <td>0</td>\n",
       "      <td>3</td>\n",
       "      <td>Braund, Mr. Owen Harris</td>\n",
       "      <td>male</td>\n",
       "      <td>22.0</td>\n",
       "      <td>1</td>\n",
       "      <td>0</td>\n",
       "      <td>A/5 21171</td>\n",
       "      <td>7.25</td>\n",
       "      <td>NaN</td>\n",
       "      <td>S</td>\n",
       "      <td>0</td>\n",
       "      <td>22.0</td>\n",
       "      <td>0</td>\n",
       "      <td>0</td>\n",
       "      <td>1</td>\n",
       "      <td>0</td>\n",
       "      <td>Child</td>\n",
       "      <td>1</td>\n",
       "      <td>0</td>\n",
       "      <td>0</td>\n",
       "      <td>0</td>\n",
       "      <td>1</td>\n",
       "    </tr>\n",
       "  </tbody>\n",
       "</table>\n",
       "</div>"
      ],
      "text/plain": [
       "   Survived  Pclass                     Name   Sex   Age  SibSp  Parch  \\\n",
       "0         0       3  Braund, Mr. Owen Harris  male  22.0      1      0   \n",
       "\n",
       "      Ticket  Fare Cabin Embarked  no_age  filled_age  emb_C  emb_Q  emb_S  \\\n",
       "0  A/5 21171  7.25   NaN        S       0        22.0      0      0      1   \n",
       "\n",
       "   emb_nan age_bin  age_Child  age_Adult  age_Senior  sex_female  sex_male  \n",
       "0        0   Child          1          0           0           0         1  "
      ]
     },
     "execution_count": 19,
     "metadata": {},
     "output_type": "execute_result"
    }
   ],
   "source": [
    "titanic_table.head(1)"
   ]
  },
  {
   "cell_type": "markdown",
   "metadata": {},
   "source": [
    "<div class=just_text>\n",
    "Ok, we are now ready to build our predictor. I am going to use the most straightforward way I can think of using pure Python.\n",
    "</div>"
   ]
  },
  {
   "cell_type": "code",
   "execution_count": 20,
   "metadata": {
    "collapsed": true
   },
   "outputs": [],
   "source": [
    "def predictor_1(row):\n",
    "    if row['sex_female']:\n",
    "        prediction = 1\n",
    "    else:\n",
    "        prediction = 0\n",
    "    return prediction"
   ]
  },
  {
   "cell_type": "markdown",
   "metadata": {},
   "source": [
    "<div class=just_text>\n",
    "I am going to create a new column to record the predictions for each row. I'll do this for all the predictors I try. I'll keep a record of their predictions in a new column.\n",
    "</div>"
   ]
  },
  {
   "cell_type": "code",
   "execution_count": 21,
   "metadata": {},
   "outputs": [
    {
     "data": {
      "text/html": [
       "<div>\n",
       "<style>\n",
       "    .dataframe thead tr:only-child th {\n",
       "        text-align: right;\n",
       "    }\n",
       "\n",
       "    .dataframe thead th {\n",
       "        text-align: left;\n",
       "    }\n",
       "\n",
       "    .dataframe tbody tr th {\n",
       "        vertical-align: top;\n",
       "    }\n",
       "</style>\n",
       "<table border=\"1\" class=\"dataframe\">\n",
       "  <thead>\n",
       "    <tr style=\"text-align: right;\">\n",
       "      <th></th>\n",
       "      <th>Survived</th>\n",
       "      <th>Pclass</th>\n",
       "      <th>Name</th>\n",
       "      <th>Sex</th>\n",
       "      <th>Age</th>\n",
       "      <th>SibSp</th>\n",
       "      <th>Parch</th>\n",
       "      <th>Ticket</th>\n",
       "      <th>Fare</th>\n",
       "      <th>Cabin</th>\n",
       "      <th>Embarked</th>\n",
       "      <th>no_age</th>\n",
       "      <th>filled_age</th>\n",
       "      <th>emb_C</th>\n",
       "      <th>emb_Q</th>\n",
       "      <th>emb_S</th>\n",
       "      <th>emb_nan</th>\n",
       "      <th>age_bin</th>\n",
       "      <th>age_Child</th>\n",
       "      <th>age_Adult</th>\n",
       "      <th>age_Senior</th>\n",
       "      <th>sex_female</th>\n",
       "      <th>sex_male</th>\n",
       "      <th>pred_1</th>\n",
       "    </tr>\n",
       "  </thead>\n",
       "  <tbody>\n",
       "    <tr>\n",
       "      <th>0</th>\n",
       "      <td>0</td>\n",
       "      <td>3</td>\n",
       "      <td>Braund, Mr. Owen Harris</td>\n",
       "      <td>male</td>\n",
       "      <td>22.0</td>\n",
       "      <td>1</td>\n",
       "      <td>0</td>\n",
       "      <td>A/5 21171</td>\n",
       "      <td>7.25</td>\n",
       "      <td>NaN</td>\n",
       "      <td>S</td>\n",
       "      <td>0</td>\n",
       "      <td>22.0</td>\n",
       "      <td>0</td>\n",
       "      <td>0</td>\n",
       "      <td>1</td>\n",
       "      <td>0</td>\n",
       "      <td>Child</td>\n",
       "      <td>1</td>\n",
       "      <td>0</td>\n",
       "      <td>0</td>\n",
       "      <td>0</td>\n",
       "      <td>1</td>\n",
       "      <td>0</td>\n",
       "    </tr>\n",
       "  </tbody>\n",
       "</table>\n",
       "</div>"
      ],
      "text/plain": [
       "   Survived  Pclass                     Name   Sex   Age  SibSp  Parch  \\\n",
       "0         0       3  Braund, Mr. Owen Harris  male  22.0      1      0   \n",
       "\n",
       "      Ticket  Fare Cabin Embarked  no_age  filled_age  emb_C  emb_Q  emb_S  \\\n",
       "0  A/5 21171  7.25   NaN        S       0        22.0      0      0      1   \n",
       "\n",
       "   emb_nan age_bin  age_Child  age_Adult  age_Senior  sex_female  sex_male  \\\n",
       "0        0   Child          1          0           0           0         1   \n",
       "\n",
       "   pred_1  \n",
       "0       0  "
      ]
     },
     "execution_count": 21,
     "metadata": {},
     "output_type": "execute_result"
    }
   ],
   "source": [
    "titanic_table['pred_1'] = titanic_table.apply(lambda row: predictor_1(row), axis=1)\n",
    "\n",
    "titanic_table.head(1)"
   ]
  },
  {
   "cell_type": "markdown",
   "metadata": {},
   "source": [
    "<div class=just_text>\n",
    "Now I am going to wrangle a bit. There are 4 alternative cases that go with the values of `Survived` and `pred_1` in each row: true negative (tn), true positive (tp), false negative (fn), false positive (fp). I'll define a function that will look at the two column values in a row and produce the correct case. In the end I will create a new column that captures the cases.\n",
    "</div>"
   ]
  },
  {
   "cell_type": "code",
   "execution_count": 22,
   "metadata": {
    "collapsed": true
   },
   "outputs": [],
   "source": [
    "def predictor_case(row, pred, target):\n",
    "    actual = row[target]\n",
    "    prediction = row[pred]\n",
    "    if actual == 0 and prediction == 0:\n",
    "        case = 'true_negative'\n",
    "    elif actual == 1 and prediction == 1:\n",
    "        case = 'true_positive'\n",
    "    elif actual == 1 and prediction == 0:\n",
    "        case = 'false_negative'\n",
    "    else:\n",
    "        case = 'false_positive'\n",
    "    return case"
   ]
  },
  {
   "cell_type": "markdown",
   "metadata": {},
   "source": [
    "<div class=just_text>\n",
    "Now I can apply the function to each row and build a new column `pred_1_type`.\n",
    "</div>"
   ]
  },
  {
   "cell_type": "code",
   "execution_count": 23,
   "metadata": {
    "collapsed": true
   },
   "outputs": [],
   "source": [
    "titanic_table['pred_1_type'] = titanic_table.apply(lambda row: predictor_case(row, pred='pred_1', target='Survived'), axis=1)"
   ]
  },
  {
   "cell_type": "code",
   "execution_count": 24,
   "metadata": {},
   "outputs": [
    {
     "data": {
      "text/html": [
       "<div>\n",
       "<style>\n",
       "    .dataframe thead tr:only-child th {\n",
       "        text-align: right;\n",
       "    }\n",
       "\n",
       "    .dataframe thead th {\n",
       "        text-align: left;\n",
       "    }\n",
       "\n",
       "    .dataframe tbody tr th {\n",
       "        vertical-align: top;\n",
       "    }\n",
       "</style>\n",
       "<table border=\"1\" class=\"dataframe\">\n",
       "  <thead>\n",
       "    <tr style=\"text-align: right;\">\n",
       "      <th></th>\n",
       "      <th>Survived</th>\n",
       "      <th>Pclass</th>\n",
       "      <th>Name</th>\n",
       "      <th>Sex</th>\n",
       "      <th>Age</th>\n",
       "      <th>SibSp</th>\n",
       "      <th>Parch</th>\n",
       "      <th>Ticket</th>\n",
       "      <th>Fare</th>\n",
       "      <th>Cabin</th>\n",
       "      <th>Embarked</th>\n",
       "      <th>no_age</th>\n",
       "      <th>filled_age</th>\n",
       "      <th>emb_C</th>\n",
       "      <th>emb_Q</th>\n",
       "      <th>emb_S</th>\n",
       "      <th>emb_nan</th>\n",
       "      <th>age_bin</th>\n",
       "      <th>age_Child</th>\n",
       "      <th>age_Adult</th>\n",
       "      <th>age_Senior</th>\n",
       "      <th>sex_female</th>\n",
       "      <th>sex_male</th>\n",
       "      <th>pred_1</th>\n",
       "      <th>pred_1_type</th>\n",
       "    </tr>\n",
       "  </thead>\n",
       "  <tbody>\n",
       "    <tr>\n",
       "      <th>886</th>\n",
       "      <td>0</td>\n",
       "      <td>2</td>\n",
       "      <td>Montvila, Rev. Juozas</td>\n",
       "      <td>male</td>\n",
       "      <td>27.0</td>\n",
       "      <td>0</td>\n",
       "      <td>0</td>\n",
       "      <td>211536</td>\n",
       "      <td>13.00</td>\n",
       "      <td>NaN</td>\n",
       "      <td>S</td>\n",
       "      <td>0</td>\n",
       "      <td>27.000000</td>\n",
       "      <td>0</td>\n",
       "      <td>0</td>\n",
       "      <td>1</td>\n",
       "      <td>0</td>\n",
       "      <td>Adult</td>\n",
       "      <td>0</td>\n",
       "      <td>1</td>\n",
       "      <td>0</td>\n",
       "      <td>0</td>\n",
       "      <td>1</td>\n",
       "      <td>0</td>\n",
       "      <td>true_negative</td>\n",
       "    </tr>\n",
       "    <tr>\n",
       "      <th>887</th>\n",
       "      <td>1</td>\n",
       "      <td>1</td>\n",
       "      <td>Graham, Miss. Margaret Edith</td>\n",
       "      <td>female</td>\n",
       "      <td>19.0</td>\n",
       "      <td>0</td>\n",
       "      <td>0</td>\n",
       "      <td>112053</td>\n",
       "      <td>30.00</td>\n",
       "      <td>B42</td>\n",
       "      <td>S</td>\n",
       "      <td>0</td>\n",
       "      <td>19.000000</td>\n",
       "      <td>0</td>\n",
       "      <td>0</td>\n",
       "      <td>1</td>\n",
       "      <td>0</td>\n",
       "      <td>Child</td>\n",
       "      <td>1</td>\n",
       "      <td>0</td>\n",
       "      <td>0</td>\n",
       "      <td>1</td>\n",
       "      <td>0</td>\n",
       "      <td>1</td>\n",
       "      <td>true_positive</td>\n",
       "    </tr>\n",
       "    <tr>\n",
       "      <th>888</th>\n",
       "      <td>0</td>\n",
       "      <td>3</td>\n",
       "      <td>Johnston, Miss. Catherine Helen \"Carrie\"</td>\n",
       "      <td>female</td>\n",
       "      <td>NaN</td>\n",
       "      <td>1</td>\n",
       "      <td>2</td>\n",
       "      <td>W./C. 6607</td>\n",
       "      <td>23.45</td>\n",
       "      <td>NaN</td>\n",
       "      <td>S</td>\n",
       "      <td>1</td>\n",
       "      <td>29.699118</td>\n",
       "      <td>0</td>\n",
       "      <td>0</td>\n",
       "      <td>1</td>\n",
       "      <td>0</td>\n",
       "      <td>Adult</td>\n",
       "      <td>0</td>\n",
       "      <td>1</td>\n",
       "      <td>0</td>\n",
       "      <td>1</td>\n",
       "      <td>0</td>\n",
       "      <td>1</td>\n",
       "      <td>false_positive</td>\n",
       "    </tr>\n",
       "    <tr>\n",
       "      <th>889</th>\n",
       "      <td>1</td>\n",
       "      <td>1</td>\n",
       "      <td>Behr, Mr. Karl Howell</td>\n",
       "      <td>male</td>\n",
       "      <td>26.0</td>\n",
       "      <td>0</td>\n",
       "      <td>0</td>\n",
       "      <td>111369</td>\n",
       "      <td>30.00</td>\n",
       "      <td>C148</td>\n",
       "      <td>C</td>\n",
       "      <td>0</td>\n",
       "      <td>26.000000</td>\n",
       "      <td>1</td>\n",
       "      <td>0</td>\n",
       "      <td>0</td>\n",
       "      <td>0</td>\n",
       "      <td>Child</td>\n",
       "      <td>1</td>\n",
       "      <td>0</td>\n",
       "      <td>0</td>\n",
       "      <td>0</td>\n",
       "      <td>1</td>\n",
       "      <td>0</td>\n",
       "      <td>false_negative</td>\n",
       "    </tr>\n",
       "    <tr>\n",
       "      <th>890</th>\n",
       "      <td>0</td>\n",
       "      <td>3</td>\n",
       "      <td>Dooley, Mr. Patrick</td>\n",
       "      <td>male</td>\n",
       "      <td>32.0</td>\n",
       "      <td>0</td>\n",
       "      <td>0</td>\n",
       "      <td>370376</td>\n",
       "      <td>7.75</td>\n",
       "      <td>NaN</td>\n",
       "      <td>Q</td>\n",
       "      <td>0</td>\n",
       "      <td>32.000000</td>\n",
       "      <td>0</td>\n",
       "      <td>1</td>\n",
       "      <td>0</td>\n",
       "      <td>0</td>\n",
       "      <td>Adult</td>\n",
       "      <td>0</td>\n",
       "      <td>1</td>\n",
       "      <td>0</td>\n",
       "      <td>0</td>\n",
       "      <td>1</td>\n",
       "      <td>0</td>\n",
       "      <td>true_negative</td>\n",
       "    </tr>\n",
       "  </tbody>\n",
       "</table>\n",
       "</div>"
      ],
      "text/plain": [
       "     Survived  Pclass                                      Name     Sex   Age  \\\n",
       "886         0       2                     Montvila, Rev. Juozas    male  27.0   \n",
       "887         1       1              Graham, Miss. Margaret Edith  female  19.0   \n",
       "888         0       3  Johnston, Miss. Catherine Helen \"Carrie\"  female   NaN   \n",
       "889         1       1                     Behr, Mr. Karl Howell    male  26.0   \n",
       "890         0       3                       Dooley, Mr. Patrick    male  32.0   \n",
       "\n",
       "     SibSp  Parch      Ticket   Fare Cabin Embarked  no_age  filled_age  \\\n",
       "886      0      0      211536  13.00   NaN        S       0   27.000000   \n",
       "887      0      0      112053  30.00   B42        S       0   19.000000   \n",
       "888      1      2  W./C. 6607  23.45   NaN        S       1   29.699118   \n",
       "889      0      0      111369  30.00  C148        C       0   26.000000   \n",
       "890      0      0      370376   7.75   NaN        Q       0   32.000000   \n",
       "\n",
       "     emb_C  emb_Q  emb_S  emb_nan age_bin  age_Child  age_Adult  age_Senior  \\\n",
       "886      0      0      1        0   Adult          0          1           0   \n",
       "887      0      0      1        0   Child          1          0           0   \n",
       "888      0      0      1        0   Adult          0          1           0   \n",
       "889      1      0      0        0   Child          1          0           0   \n",
       "890      0      1      0        0   Adult          0          1           0   \n",
       "\n",
       "     sex_female  sex_male  pred_1     pred_1_type  \n",
       "886           0         1       0   true_negative  \n",
       "887           1         0       1   true_positive  \n",
       "888           1         0       1  false_positive  \n",
       "889           0         1       0  false_negative  \n",
       "890           0         1       0   true_negative  "
      ]
     },
     "execution_count": 24,
     "metadata": {},
     "output_type": "execute_result"
    }
   ],
   "source": [
    "titanic_table.tail()"
   ]
  },
  {
   "cell_type": "markdown",
   "metadata": {},
   "source": [
    "<hr>\n",
    "<h2>\n",
    "Save the 4 cases in a pandas Series object\n",
    "</h2>\n",
    "<p>\n",
    "<div class=h1_cell>\n",
    "I'll count up the 4 types and save the results in a pandas Series object. For our purposes, the Series object looks like a dictionary.\n",
    "</div>"
   ]
  },
  {
   "cell_type": "code",
   "execution_count": 25,
   "metadata": {},
   "outputs": [
    {
     "data": {
      "text/plain": [
       "true_negative     468\n",
       "true_positive     233\n",
       "false_negative    109\n",
       "false_positive     81\n",
       "Name: pred_1_type, dtype: int64"
      ]
     },
     "execution_count": 25,
     "metadata": {},
     "output_type": "execute_result"
    }
   ],
   "source": [
    "p1_types = titanic_table['pred_1_type'].value_counts()  # returns a series\n",
    "p1_types"
   ]
  },
  {
   "cell_type": "markdown",
   "metadata": {},
   "source": [
    "<hr>\n",
    "<h2>\n",
    "Accuracy is one measure of our predictor\n",
    "</h2>\n",
    "<p>\n",
    "<div class=h1_cell>\n",
    "We can just add the number of predictions we got right and divide by total number of rows.\n",
    "</div>"
   ]
  },
  {
   "cell_type": "code",
   "execution_count": 26,
   "metadata": {},
   "outputs": [
    {
     "data": {
      "text/plain": [
       "0.7867564534231201"
      ]
     },
     "execution_count": 26,
     "metadata": {},
     "output_type": "execute_result"
    }
   ],
   "source": [
    "def accuracy(cases):\n",
    "    tp = cases['true_positive']\n",
    "    tn = cases['true_negative']\n",
    "    fp = cases['false_positive']\n",
    "    fn = cases['false_negative']\n",
    "    return 1.0*(tp + tn)/(tp+tn+fp+fn)\n",
    "\n",
    "accuracy(p1_types)"
   ]
  },
  {
   "cell_type": "markdown",
   "metadata": {},
   "source": [
    "<hr>\n",
    "<h2>\n",
    "We can also visualize the types\n",
    "</h2>\n",
    "<p>\n",
    "<div class=h1_cell>\n",
    "I will use a pie plot. Note that there are many parameters to the `plot.pie` method. I am only using a few.\n",
    "</div>"
   ]
  },
  {
   "cell_type": "code",
   "execution_count": 27,
   "metadata": {},
   "outputs": [
    {
     "data": {
      "text/plain": [
       "<matplotlib.axes._subplots.AxesSubplot at 0x115caf810>"
      ]
     },
     "execution_count": 27,
     "metadata": {},
     "output_type": "execute_result"
    },
    {
     "data": {
      "image/png": "[encoded data removed]",
      "text/plain": [
       "<matplotlib.figure.Figure at 0x110c41550>"
      ]
     },
     "metadata": {},
     "output_type": "display_data"
    }
   ],
   "source": [
    "%matplotlib inline\n",
    "p1_types.plot.pie(title='P1 Accuracy: '+str(accuracy(p1_types)), autopct='%.2f', fontsize=20, figsize=(6, 6))  # need figsize to get correct aspect"
   ]
  },
  {
   "cell_type": "markdown",
   "metadata": {},
   "source": [
    "<div class=just_text>\n",
    "You can see that our errors are fairly evenly divided among fp and fn.\n",
    "</div>"
   ]
  },
  {
   "cell_type": "markdown",
   "metadata": {},
   "source": [
    "<hr>\n",
    "<h1>\n",
    "A bushier tree\n",
    "</h1>\n",
    "<p>\n",
    "<div class=h1_cell>\n",
    "\n",
    "I am going to try a new predictor that fills out more of the tree. I am going on a couple of pieces of information I read about the sinking: I read that \"women and children first\" was followed; I read that passengers in 3rd class very rarely survived. I have added new nodes and leaves to the tree to reflect this.\n",
    "<p>\n",
    "<img src=\"https://www.dropbox.com/s/0efvj0riqzs5zp1/bushy3.png?raw=1\"  width=\"400\" height=\"400\">\n",
    "<p>\n",
    "One problem is that I used the cut method to divide up the age range evenly in the last module. That produced `age_Child` once I used ohe. I'd like to do a little deeper exporation by focusing just on children that fall under the women and children first context.  Once I have a cutoff value, I'll create a binary column `ok_child` that is 1 if the passenger was included and 0 if not. But how do I figure out what the cutoff age is? That's up next.\n",
    "</div>"
   ]
  },
  {
   "cell_type": "markdown",
   "metadata": {},
   "source": [
    "\n",
    "<h2>\n",
    "Exploring continuous columns\n",
    "</h2>\n",
    "<p>\n",
    "<div class=h1_cell>\n",
    "It is often the case that we will want to generate a discrete column from a continuous column. As we saw in module 1, we can do this by *binning* the continuous column: define bins that divide up the range of values in the column, name the bins, and then create a new column with the bin names. At the moment we are interested in the Age column, which is continuous. We have already binned this column with `cut`. I am now interested in a little deeper analysis from \"women and children first\" perspective. What works for me is to visualize the Age column stacked with the Survived column. This tells me both how many passengers there are for each age-bin (total height of the bar) and how many survived in each bin (the split of each bin into 2 stacked pieces). Once I can see that, I have some idea on how many bins and bin boundaries.\n",
    "<p>\n",
    "Note that I am not including rows that are empty by using `row.no_age == 0`. The problem is that we have filled empties in the Age column with the mean. If I plot those (plot `row.filled_age`) I will get a skewed vertical axis as seen below. So I'll drop empty `Age` rows and plot `Age` instead of `filled_age`.\n",
    "<p>\n",
    "<img src=\"https://www.dropbox.com/s/vnuclc1c7g6fp2v/stacked_mean.png?raw=1\"   width=\"400\" height=\"400\">\n",
    "<p>\n",
    "<b>Kludge alert:</b> you notice that I have to pull data out of the dataframe into normal Python lists to get plotting to work. I could not find a pandas equivalent of the stacked plot as I have it. But suspect it is out there :)\n",
    "</div>"
   ]
  },
  {
   "cell_type": "code",
   "execution_count": 28,
   "metadata": {
    "collapsed": true
   },
   "outputs": [],
   "source": [
    "true_table = titanic_table[titanic_table.apply(lambda row: row.Survived == 1 and row.no_age == 0, axis=1)]\n",
    "false_table = titanic_table[titanic_table.apply(lambda row: row.Survived == 0 and row.no_age == 0, axis=1)]\n",
    "\n",
    "true_age_list = true_table['Age'].tolist()\n",
    "false_age_list = false_table['Age'].tolist()\n"
   ]
  },
  {
   "cell_type": "code",
   "execution_count": 29,
   "metadata": {},
   "outputs": [
    {
     "data": {
      "image/png": "[encoded data removed]",
      "text/plain": [
       "<matplotlib.figure.Figure at 0x115cb4d90>"
      ]
     },
     "metadata": {},
     "output_type": "display_data"
    }
   ],
   "source": [
    "import matplotlib.pyplot as plt\n",
    "\n",
    "plt.hist([true_age_list, false_age_list], 40, stacked=True, label=['Survived', 'Perished'])\n",
    "\n",
    "plt.legend()\n",
    "\n",
    "plt.show()"
   ]
  },
  {
   "cell_type": "markdown",
   "metadata": {},
   "source": [
    "<div class=just_text>\n",
    "I already have done a full-blown binning process for Age using the cut method seen in module 1. Instead of rebinning, I'll just create a new column with what I see in the plot. From the plot, I am going to choose the cutoff for `ok_child` at less than or equal to 8. I'll generate a new column to capture this using apply instead of cut.\n",
    "</div>"
   ]
  },
  {
   "cell_type": "code",
   "execution_count": 30,
   "metadata": {},
   "outputs": [
    {
     "data": {
      "text/html": [
       "<div>\n",
       "<style>\n",
       "    .dataframe thead tr:only-child th {\n",
       "        text-align: right;\n",
       "    }\n",
       "\n",
       "    .dataframe thead th {\n",
       "        text-align: left;\n",
       "    }\n",
       "\n",
       "    .dataframe tbody tr th {\n",
       "        vertical-align: top;\n",
       "    }\n",
       "</style>\n",
       "<table border=\"1\" class=\"dataframe\">\n",
       "  <thead>\n",
       "    <tr style=\"text-align: right;\">\n",
       "      <th></th>\n",
       "      <th>Survived</th>\n",
       "      <th>Pclass</th>\n",
       "      <th>Name</th>\n",
       "      <th>Sex</th>\n",
       "      <th>Age</th>\n",
       "      <th>SibSp</th>\n",
       "      <th>Parch</th>\n",
       "      <th>Ticket</th>\n",
       "      <th>Fare</th>\n",
       "      <th>Cabin</th>\n",
       "      <th>Embarked</th>\n",
       "      <th>no_age</th>\n",
       "      <th>filled_age</th>\n",
       "      <th>emb_C</th>\n",
       "      <th>emb_Q</th>\n",
       "      <th>emb_S</th>\n",
       "      <th>emb_nan</th>\n",
       "      <th>age_bin</th>\n",
       "      <th>age_Child</th>\n",
       "      <th>age_Adult</th>\n",
       "      <th>age_Senior</th>\n",
       "      <th>sex_female</th>\n",
       "      <th>sex_male</th>\n",
       "      <th>pred_1</th>\n",
       "      <th>pred_1_type</th>\n",
       "      <th>ok_child</th>\n",
       "    </tr>\n",
       "  </thead>\n",
       "  <tbody>\n",
       "    <tr>\n",
       "      <th>0</th>\n",
       "      <td>0</td>\n",
       "      <td>3</td>\n",
       "      <td>Braund, Mr. Owen Harris</td>\n",
       "      <td>male</td>\n",
       "      <td>22.0</td>\n",
       "      <td>1</td>\n",
       "      <td>0</td>\n",
       "      <td>A/5 21171</td>\n",
       "      <td>7.25</td>\n",
       "      <td>NaN</td>\n",
       "      <td>S</td>\n",
       "      <td>0</td>\n",
       "      <td>22.0</td>\n",
       "      <td>0</td>\n",
       "      <td>0</td>\n",
       "      <td>1</td>\n",
       "      <td>0</td>\n",
       "      <td>Child</td>\n",
       "      <td>1</td>\n",
       "      <td>0</td>\n",
       "      <td>0</td>\n",
       "      <td>0</td>\n",
       "      <td>1</td>\n",
       "      <td>0</td>\n",
       "      <td>true_negative</td>\n",
       "      <td>0</td>\n",
       "    </tr>\n",
       "  </tbody>\n",
       "</table>\n",
       "</div>"
      ],
      "text/plain": [
       "   Survived  Pclass                     Name   Sex   Age  SibSp  Parch  \\\n",
       "0         0       3  Braund, Mr. Owen Harris  male  22.0      1      0   \n",
       "\n",
       "      Ticket  Fare Cabin Embarked  no_age  filled_age  emb_C  emb_Q  emb_S  \\\n",
       "0  A/5 21171  7.25   NaN        S       0        22.0      0      0      1   \n",
       "\n",
       "   emb_nan age_bin  age_Child  age_Adult  age_Senior  sex_female  sex_male  \\\n",
       "0        0   Child          1          0           0           0         1   \n",
       "\n",
       "   pred_1    pred_1_type  ok_child  \n",
       "0       0  true_negative         0  "
      ]
     },
     "execution_count": 30,
     "metadata": {},
     "output_type": "execute_result"
    }
   ],
   "source": [
    "titanic_table['ok_child'] = titanic_table.apply(lambda row: 1 if row.Age <= 8 else 0, axis=1)\n",
    "titanic_table.head(1)"
   ]
  },
  {
   "cell_type": "markdown",
   "metadata": {},
   "source": [
    "<div class=just_text>\n",
    "That took care of the child question. Now I also need to one-hot encode `Pclass` for the other branch.\n",
    "</div>"
   ]
  },
  {
   "cell_type": "code",
   "execution_count": 31,
   "metadata": {},
   "outputs": [
    {
     "data": {
      "text/html": [
       "<div>\n",
       "<style>\n",
       "    .dataframe thead tr:only-child th {\n",
       "        text-align: right;\n",
       "    }\n",
       "\n",
       "    .dataframe thead th {\n",
       "        text-align: left;\n",
       "    }\n",
       "\n",
       "    .dataframe tbody tr th {\n",
       "        vertical-align: top;\n",
       "    }\n",
       "</style>\n",
       "<table border=\"1\" class=\"dataframe\">\n",
       "  <thead>\n",
       "    <tr style=\"text-align: right;\">\n",
       "      <th></th>\n",
       "      <th>Survived</th>\n",
       "      <th>Pclass</th>\n",
       "      <th>Name</th>\n",
       "      <th>Sex</th>\n",
       "      <th>Age</th>\n",
       "      <th>SibSp</th>\n",
       "      <th>Parch</th>\n",
       "      <th>Ticket</th>\n",
       "      <th>Fare</th>\n",
       "      <th>Cabin</th>\n",
       "      <th>Embarked</th>\n",
       "      <th>no_age</th>\n",
       "      <th>filled_age</th>\n",
       "      <th>emb_C</th>\n",
       "      <th>emb_Q</th>\n",
       "      <th>emb_S</th>\n",
       "      <th>emb_nan</th>\n",
       "      <th>age_bin</th>\n",
       "      <th>age_Child</th>\n",
       "      <th>age_Adult</th>\n",
       "      <th>age_Senior</th>\n",
       "      <th>sex_female</th>\n",
       "      <th>sex_male</th>\n",
       "      <th>pred_1</th>\n",
       "      <th>pred_1_type</th>\n",
       "      <th>ok_child</th>\n",
       "      <th>pclass_1.0</th>\n",
       "      <th>pclass_2.0</th>\n",
       "      <th>pclass_3.0</th>\n",
       "      <th>pclass_nan</th>\n",
       "    </tr>\n",
       "  </thead>\n",
       "  <tbody>\n",
       "    <tr>\n",
       "      <th>0</th>\n",
       "      <td>0</td>\n",
       "      <td>3</td>\n",
       "      <td>Braund, Mr. Owen Harris</td>\n",
       "      <td>male</td>\n",
       "      <td>22.0</td>\n",
       "      <td>1</td>\n",
       "      <td>0</td>\n",
       "      <td>A/5 21171</td>\n",
       "      <td>7.25</td>\n",
       "      <td>NaN</td>\n",
       "      <td>S</td>\n",
       "      <td>0</td>\n",
       "      <td>22.0</td>\n",
       "      <td>0</td>\n",
       "      <td>0</td>\n",
       "      <td>1</td>\n",
       "      <td>0</td>\n",
       "      <td>Child</td>\n",
       "      <td>1</td>\n",
       "      <td>0</td>\n",
       "      <td>0</td>\n",
       "      <td>0</td>\n",
       "      <td>1</td>\n",
       "      <td>0</td>\n",
       "      <td>true_negative</td>\n",
       "      <td>0</td>\n",
       "      <td>0</td>\n",
       "      <td>0</td>\n",
       "      <td>1</td>\n",
       "      <td>0</td>\n",
       "    </tr>\n",
       "  </tbody>\n",
       "</table>\n",
       "</div>"
      ],
      "text/plain": [
       "   Survived  Pclass                     Name   Sex   Age  SibSp  Parch  \\\n",
       "0         0       3  Braund, Mr. Owen Harris  male  22.0      1      0   \n",
       "\n",
       "      Ticket  Fare Cabin Embarked  no_age  filled_age  emb_C  emb_Q  emb_S  \\\n",
       "0  A/5 21171  7.25   NaN        S       0        22.0      0      0      1   \n",
       "\n",
       "   emb_nan age_bin  age_Child  age_Adult  age_Senior  sex_female  sex_male  \\\n",
       "0        0   Child          1          0           0           0         1   \n",
       "\n",
       "   pred_1    pred_1_type  ok_child  pclass_1.0  pclass_2.0  pclass_3.0  \\\n",
       "0       0  true_negative         0           0           0           1   \n",
       "\n",
       "   pclass_nan  \n",
       "0           0  "
      ]
     },
     "execution_count": 31,
     "metadata": {},
     "output_type": "execute_result"
    }
   ],
   "source": [
    "one_hot_pclass = pd.get_dummies(titanic_table['Pclass'],prefix='pclass',dummy_na=True)\n",
    "titanic_table = titanic_table.join(one_hot_pclass)\n",
    "titanic_table.head(1)"
   ]
  },
  {
   "cell_type": "markdown",
   "metadata": {},
   "source": [
    "<div class=just_text>\n",
    "Following is a kludge to get rid of floats in column names. The claim is that this has been fixed but get_dummies is still returning floats instead of ints for me:\n",
    "http://pandas.pydata.org/pandas-docs/stable/whatsnew.html#get-dummies-now-returns-integer-dtypes. I'll use the rename method to get something I want.\n",
    "</div>"
   ]
  },
  {
   "cell_type": "code",
   "execution_count": 32,
   "metadata": {},
   "outputs": [
    {
     "data": {
      "text/html": [
       "<div>\n",
       "<style>\n",
       "    .dataframe thead tr:only-child th {\n",
       "        text-align: right;\n",
       "    }\n",
       "\n",
       "    .dataframe thead th {\n",
       "        text-align: left;\n",
       "    }\n",
       "\n",
       "    .dataframe tbody tr th {\n",
       "        vertical-align: top;\n",
       "    }\n",
       "</style>\n",
       "<table border=\"1\" class=\"dataframe\">\n",
       "  <thead>\n",
       "    <tr style=\"text-align: right;\">\n",
       "      <th></th>\n",
       "      <th>Survived</th>\n",
       "      <th>Pclass</th>\n",
       "      <th>Name</th>\n",
       "      <th>Sex</th>\n",
       "      <th>Age</th>\n",
       "      <th>SibSp</th>\n",
       "      <th>Parch</th>\n",
       "      <th>Ticket</th>\n",
       "      <th>Fare</th>\n",
       "      <th>Cabin</th>\n",
       "      <th>Embarked</th>\n",
       "      <th>no_age</th>\n",
       "      <th>filled_age</th>\n",
       "      <th>emb_C</th>\n",
       "      <th>emb_Q</th>\n",
       "      <th>emb_S</th>\n",
       "      <th>emb_nan</th>\n",
       "      <th>age_bin</th>\n",
       "      <th>age_Child</th>\n",
       "      <th>age_Adult</th>\n",
       "      <th>age_Senior</th>\n",
       "      <th>sex_female</th>\n",
       "      <th>sex_male</th>\n",
       "      <th>pred_1</th>\n",
       "      <th>pred_1_type</th>\n",
       "      <th>ok_child</th>\n",
       "      <th>pclass_1</th>\n",
       "      <th>pclass_2</th>\n",
       "      <th>pclass_3</th>\n",
       "      <th>pclass_nan</th>\n",
       "    </tr>\n",
       "  </thead>\n",
       "  <tbody>\n",
       "    <tr>\n",
       "      <th>0</th>\n",
       "      <td>0</td>\n",
       "      <td>3</td>\n",
       "      <td>Braund, Mr. Owen Harris</td>\n",
       "      <td>male</td>\n",
       "      <td>22.0</td>\n",
       "      <td>1</td>\n",
       "      <td>0</td>\n",
       "      <td>A/5 21171</td>\n",
       "      <td>7.25</td>\n",
       "      <td>NaN</td>\n",
       "      <td>S</td>\n",
       "      <td>0</td>\n",
       "      <td>22.0</td>\n",
       "      <td>0</td>\n",
       "      <td>0</td>\n",
       "      <td>1</td>\n",
       "      <td>0</td>\n",
       "      <td>Child</td>\n",
       "      <td>1</td>\n",
       "      <td>0</td>\n",
       "      <td>0</td>\n",
       "      <td>0</td>\n",
       "      <td>1</td>\n",
       "      <td>0</td>\n",
       "      <td>true_negative</td>\n",
       "      <td>0</td>\n",
       "      <td>0</td>\n",
       "      <td>0</td>\n",
       "      <td>1</td>\n",
       "      <td>0</td>\n",
       "    </tr>\n",
       "  </tbody>\n",
       "</table>\n",
       "</div>"
      ],
      "text/plain": [
       "   Survived  Pclass                     Name   Sex   Age  SibSp  Parch  \\\n",
       "0         0       3  Braund, Mr. Owen Harris  male  22.0      1      0   \n",
       "\n",
       "      Ticket  Fare Cabin Embarked  no_age  filled_age  emb_C  emb_Q  emb_S  \\\n",
       "0  A/5 21171  7.25   NaN        S       0        22.0      0      0      1   \n",
       "\n",
       "   emb_nan age_bin  age_Child  age_Adult  age_Senior  sex_female  sex_male  \\\n",
       "0        0   Child          1          0           0           0         1   \n",
       "\n",
       "   pred_1    pred_1_type  ok_child  pclass_1  pclass_2  pclass_3  pclass_nan  \n",
       "0       0  true_negative         0         0         0         1           0  "
      ]
     },
     "execution_count": 32,
     "metadata": {},
     "output_type": "execute_result"
    }
   ],
   "source": [
    "titanic_table = titanic_table.rename(index=str, columns={\"pclass_1.0\": \"pclass_1\", \"pclass_2.0\": \"pclass_2\", \"pclass_3.0\": \"pclass_3\"})\n",
    "titanic_table.head(1)"
   ]
  },
  {
   "cell_type": "markdown",
   "metadata": {},
   "source": [
    "<hr>\n",
    "<h1>\n",
    "Ready for predictor version 2\n",
    "</h1>\n",
    "<p>\n",
    "Here is a reminder of what we are implementing. I'll use the same simple if-then-else format.\n",
    "<p>\n",
    "<img src=\"https://www.dropbox.com/s/0efvj0riqzs5zp1/bushy3.png?raw=1\"  width=\"400\" height=\"400\">\n",
    "<p>\n",
    "<div class=h1_cell>"
   ]
  },
  {
   "cell_type": "code",
   "execution_count": 33,
   "metadata": {
    "collapsed": true
   },
   "outputs": [],
   "source": [
    "def predictor_2(row):\n",
    "    if row['sex_female']:\n",
    "        if row['pclass_3']:\n",
    "            prediction = 0\n",
    "        else:\n",
    "            prediction = 1\n",
    "    else:\n",
    "        if row['ok_child']:\n",
    "            prediction = 1\n",
    "        else:\n",
    "            prediction = 0\n",
    "    return prediction"
   ]
  },
  {
   "cell_type": "markdown",
   "metadata": {},
   "source": [
    "<h2>\n",
    "Now just follow steps from predictor version 1\n",
    "</h2>\n",
    "<p>\n",
    "Build prediction column and then a types column\n",
    "<div class=h1_cell>"
   ]
  },
  {
   "cell_type": "code",
   "execution_count": 34,
   "metadata": {},
   "outputs": [
    {
     "data": {
      "text/html": [
       "<div>\n",
       "<style>\n",
       "    .dataframe thead tr:only-child th {\n",
       "        text-align: right;\n",
       "    }\n",
       "\n",
       "    .dataframe thead th {\n",
       "        text-align: left;\n",
       "    }\n",
       "\n",
       "    .dataframe tbody tr th {\n",
       "        vertical-align: top;\n",
       "    }\n",
       "</style>\n",
       "<table border=\"1\" class=\"dataframe\">\n",
       "  <thead>\n",
       "    <tr style=\"text-align: right;\">\n",
       "      <th></th>\n",
       "      <th>Survived</th>\n",
       "      <th>Pclass</th>\n",
       "      <th>Name</th>\n",
       "      <th>Sex</th>\n",
       "      <th>Age</th>\n",
       "      <th>SibSp</th>\n",
       "      <th>Parch</th>\n",
       "      <th>Ticket</th>\n",
       "      <th>Fare</th>\n",
       "      <th>Cabin</th>\n",
       "      <th>Embarked</th>\n",
       "      <th>no_age</th>\n",
       "      <th>filled_age</th>\n",
       "      <th>emb_C</th>\n",
       "      <th>emb_Q</th>\n",
       "      <th>emb_S</th>\n",
       "      <th>emb_nan</th>\n",
       "      <th>age_bin</th>\n",
       "      <th>age_Child</th>\n",
       "      <th>age_Adult</th>\n",
       "      <th>age_Senior</th>\n",
       "      <th>sex_female</th>\n",
       "      <th>sex_male</th>\n",
       "      <th>pred_1</th>\n",
       "      <th>pred_1_type</th>\n",
       "      <th>ok_child</th>\n",
       "      <th>pclass_1</th>\n",
       "      <th>pclass_2</th>\n",
       "      <th>pclass_3</th>\n",
       "      <th>pclass_nan</th>\n",
       "      <th>pred_2</th>\n",
       "    </tr>\n",
       "  </thead>\n",
       "  <tbody>\n",
       "    <tr>\n",
       "      <th>0</th>\n",
       "      <td>0</td>\n",
       "      <td>3</td>\n",
       "      <td>Braund, Mr. Owen Harris</td>\n",
       "      <td>male</td>\n",
       "      <td>22.0</td>\n",
       "      <td>1</td>\n",
       "      <td>0</td>\n",
       "      <td>A/5 21171</td>\n",
       "      <td>7.25</td>\n",
       "      <td>NaN</td>\n",
       "      <td>S</td>\n",
       "      <td>0</td>\n",
       "      <td>22.0</td>\n",
       "      <td>0</td>\n",
       "      <td>0</td>\n",
       "      <td>1</td>\n",
       "      <td>0</td>\n",
       "      <td>Child</td>\n",
       "      <td>1</td>\n",
       "      <td>0</td>\n",
       "      <td>0</td>\n",
       "      <td>0</td>\n",
       "      <td>1</td>\n",
       "      <td>0</td>\n",
       "      <td>true_negative</td>\n",
       "      <td>0</td>\n",
       "      <td>0</td>\n",
       "      <td>0</td>\n",
       "      <td>1</td>\n",
       "      <td>0</td>\n",
       "      <td>0</td>\n",
       "    </tr>\n",
       "  </tbody>\n",
       "</table>\n",
       "</div>"
      ],
      "text/plain": [
       "   Survived  Pclass                     Name   Sex   Age  SibSp  Parch  \\\n",
       "0         0       3  Braund, Mr. Owen Harris  male  22.0      1      0   \n",
       "\n",
       "      Ticket  Fare Cabin Embarked  no_age  filled_age  emb_C  emb_Q  emb_S  \\\n",
       "0  A/5 21171  7.25   NaN        S       0        22.0      0      0      1   \n",
       "\n",
       "   emb_nan age_bin  age_Child  age_Adult  age_Senior  sex_female  sex_male  \\\n",
       "0        0   Child          1          0           0           0         1   \n",
       "\n",
       "   pred_1    pred_1_type  ok_child  pclass_1  pclass_2  pclass_3  pclass_nan  \\\n",
       "0       0  true_negative         0         0         0         1           0   \n",
       "\n",
       "   pred_2  \n",
       "0       0  "
      ]
     },
     "execution_count": 34,
     "metadata": {},
     "output_type": "execute_result"
    }
   ],
   "source": [
    "titanic_table['pred_2'] = titanic_table.apply(lambda row: predictor_2(row), axis=1)\n",
    "\n",
    "titanic_table.head(1)"
   ]
  },
  {
   "cell_type": "code",
   "execution_count": 35,
   "metadata": {},
   "outputs": [
    {
     "data": {
      "text/html": [
       "<div>\n",
       "<style>\n",
       "    .dataframe thead tr:only-child th {\n",
       "        text-align: right;\n",
       "    }\n",
       "\n",
       "    .dataframe thead th {\n",
       "        text-align: left;\n",
       "    }\n",
       "\n",
       "    .dataframe tbody tr th {\n",
       "        vertical-align: top;\n",
       "    }\n",
       "</style>\n",
       "<table border=\"1\" class=\"dataframe\">\n",
       "  <thead>\n",
       "    <tr style=\"text-align: right;\">\n",
       "      <th></th>\n",
       "      <th>Survived</th>\n",
       "      <th>Pclass</th>\n",
       "      <th>Name</th>\n",
       "      <th>Sex</th>\n",
       "      <th>Age</th>\n",
       "      <th>SibSp</th>\n",
       "      <th>Parch</th>\n",
       "      <th>Ticket</th>\n",
       "      <th>Fare</th>\n",
       "      <th>Cabin</th>\n",
       "      <th>Embarked</th>\n",
       "      <th>no_age</th>\n",
       "      <th>filled_age</th>\n",
       "      <th>emb_C</th>\n",
       "      <th>emb_Q</th>\n",
       "      <th>emb_S</th>\n",
       "      <th>emb_nan</th>\n",
       "      <th>age_bin</th>\n",
       "      <th>age_Child</th>\n",
       "      <th>age_Adult</th>\n",
       "      <th>age_Senior</th>\n",
       "      <th>sex_female</th>\n",
       "      <th>sex_male</th>\n",
       "      <th>pred_1</th>\n",
       "      <th>pred_1_type</th>\n",
       "      <th>ok_child</th>\n",
       "      <th>pclass_1</th>\n",
       "      <th>pclass_2</th>\n",
       "      <th>pclass_3</th>\n",
       "      <th>pclass_nan</th>\n",
       "      <th>pred_2</th>\n",
       "      <th>pred_2_type</th>\n",
       "    </tr>\n",
       "  </thead>\n",
       "  <tbody>\n",
       "    <tr>\n",
       "      <th>0</th>\n",
       "      <td>0</td>\n",
       "      <td>3</td>\n",
       "      <td>Braund, Mr. Owen Harris</td>\n",
       "      <td>male</td>\n",
       "      <td>22.0</td>\n",
       "      <td>1</td>\n",
       "      <td>0</td>\n",
       "      <td>A/5 21171</td>\n",
       "      <td>7.25</td>\n",
       "      <td>NaN</td>\n",
       "      <td>S</td>\n",
       "      <td>0</td>\n",
       "      <td>22.0</td>\n",
       "      <td>0</td>\n",
       "      <td>0</td>\n",
       "      <td>1</td>\n",
       "      <td>0</td>\n",
       "      <td>Child</td>\n",
       "      <td>1</td>\n",
       "      <td>0</td>\n",
       "      <td>0</td>\n",
       "      <td>0</td>\n",
       "      <td>1</td>\n",
       "      <td>0</td>\n",
       "      <td>true_negative</td>\n",
       "      <td>0</td>\n",
       "      <td>0</td>\n",
       "      <td>0</td>\n",
       "      <td>1</td>\n",
       "      <td>0</td>\n",
       "      <td>0</td>\n",
       "      <td>true_negative</td>\n",
       "    </tr>\n",
       "  </tbody>\n",
       "</table>\n",
       "</div>"
      ],
      "text/plain": [
       "   Survived  Pclass                     Name   Sex   Age  SibSp  Parch  \\\n",
       "0         0       3  Braund, Mr. Owen Harris  male  22.0      1      0   \n",
       "\n",
       "      Ticket  Fare Cabin Embarked  no_age  filled_age  emb_C  emb_Q  emb_S  \\\n",
       "0  A/5 21171  7.25   NaN        S       0        22.0      0      0      1   \n",
       "\n",
       "   emb_nan age_bin  age_Child  age_Adult  age_Senior  sex_female  sex_male  \\\n",
       "0        0   Child          1          0           0           0         1   \n",
       "\n",
       "   pred_1    pred_1_type  ok_child  pclass_1  pclass_2  pclass_3  pclass_nan  \\\n",
       "0       0  true_negative         0         0         0         1           0   \n",
       "\n",
       "   pred_2    pred_2_type  \n",
       "0       0  true_negative  "
      ]
     },
     "execution_count": 35,
     "metadata": {},
     "output_type": "execute_result"
    }
   ],
   "source": [
    "titanic_table['pred_2_type'] = titanic_table.apply(lambda row: predictor_case(row, pred='pred_2', target='Survived'), axis=1)\n",
    "titanic_table.head(1)"
   ]
  },
  {
   "cell_type": "code",
   "execution_count": 36,
   "metadata": {},
   "outputs": [
    {
     "data": {
      "text/plain": [
       "true_negative     529\n",
       "true_positive     178\n",
       "false_negative    164\n",
       "false_positive     20\n",
       "Name: pred_2_type, dtype: int64"
      ]
     },
     "execution_count": 36,
     "metadata": {},
     "output_type": "execute_result"
    }
   ],
   "source": [
    "p2_types = titanic_table['pred_2_type'].value_counts()  # returns a series\n",
    "p2_types"
   ]
  },
  {
   "cell_type": "code",
   "execution_count": 37,
   "metadata": {},
   "outputs": [
    {
     "data": {
      "text/plain": [
       "<matplotlib.axes._subplots.AxesSubplot at 0x115f1e990>"
      ]
     },
     "execution_count": 37,
     "metadata": {},
     "output_type": "execute_result"
    },
    {
     "data": {
      "image/png": "[encoded data removed]",
      "text/plain": [
       "<matplotlib.figure.Figure at 0x115f1ea50>"
      ]
     },
     "metadata": {},
     "output_type": "display_data"
    }
   ],
   "source": [
    "p2_types.plot.pie(title='P2 Accuracy: '+str(accuracy(p2_types)), autopct='%.2f', fontsize=20, figsize=(6, 6))  # need figsize to get correct aspect"
   ]
  },
  {
   "cell_type": "markdown",
   "metadata": {},
   "source": [
    "<div class=just_text>\n",
    "Below is our first pie chart. You can see we improved our accuracy slightly. We also shrank our false positive percentage and at the same time raised our false negative percentage. \n",
    "<p>\n",
    "<img src=\"https://www.dropbox.com/s/jtvm1627qlqfa68/pie1.png?raw=1\"  width=\"400\" height=\"400\">\n",
    "</div>"
   ]
  },
  {
   "cell_type": "markdown",
   "metadata": {},
   "source": [
    "<hr>\n",
    "<h1>\n",
    "A few ways to get the bigger picture\n",
    "</h1>\n",
    "<p>\n",
    "<div class=h1_cell>\n",
    "To add a little more information to our tree diagram, we actually are collecting 2 lists of rows under each leaf: the ones we got correct; the ones we got incorrect.\n",
    "<p>\n",
    "<img src='https://www.dropbox.com/s/vxraj0stkmpgs3p/with_types.png?raw=1' width=\"500\" height=\"500\">\n",
    "<p>\n",
    "This opens the door for more informative ways to measure a predictor other than simple accuracy. We can take those lists of rows and count how many items are in the lists. This leads to something called a *confusion matrix*.\n",
    "\n",
    "<img src='https://www.dropbox.com/s/zubecbzi8zsdzgg/confusion_matrix.png?raw=1'>\n",
    "\n",
    "We have the heart of the matrix in p1_types and p2_types. We can compute all the other measures listed from those. Let's try a few.\n",
    "<div>"
   ]
  },
  {
   "cell_type": "markdown",
   "metadata": {},
   "source": [
    "\n",
    "<h2>\n",
    "Start with F1 (lower right)\n",
    "</h2>\n",
    "<p>\n",
    "<div class=h1_cell>\n",
    "This is a popular measure so let's check it out for our first predictor. But first, let's build an f1 function to make it easier to compare predictors.\n",
    "<div>"
   ]
  },
  {
   "cell_type": "code",
   "execution_count": 38,
   "metadata": {
    "collapsed": true
   },
   "outputs": [],
   "source": [
    "def f1(cases):\n",
    "    #the heart of the matrix\n",
    "    tp = cases['true_positive']\n",
    "    fn = cases['false_negative']\n",
    "    tn = cases['true_negative']\n",
    "    fp = cases['false_positive']\n",
    "    \n",
    "    #other measures we can derive\n",
    "    recall = 1.0*tp/(tp+fn)  # positive correct divided by total positive in the table\n",
    "    precision = 1.0*tp/(tp+fp) # positive correct divided by all positive predictions made\n",
    "    f1 = 2.0/(1/recall + 1/precision)\n",
    "    return f1"
   ]
  },
  {
   "cell_type": "code",
   "execution_count": 39,
   "metadata": {},
   "outputs": [
    {
     "data": {
      "text/plain": [
       "0.7103658536585366"
      ]
     },
     "execution_count": 39,
     "metadata": {},
     "output_type": "execute_result"
    }
   ],
   "source": [
    "f1(p1_types)"
   ]
  },
  {
   "cell_type": "markdown",
   "metadata": {},
   "source": [
    "<div class=just_text>\n",
    "The F1 score varies from 0 (worst case) to 1 (best case). We have a .71 for predictor 1. Let's now check predictor 2.\n",
    "</div>"
   ]
  },
  {
   "cell_type": "code",
   "execution_count": 40,
   "metadata": {},
   "outputs": [
    {
     "data": {
      "text/plain": [
       "0.6592592592592593"
      ]
     },
     "execution_count": 40,
     "metadata": {},
     "output_type": "execute_result"
    }
   ],
   "source": [
    "f1(p2_types)"
   ]
  },
  {
   "cell_type": "markdown",
   "metadata": {},
   "source": [
    "<div class=just_text>\n",
    "Notice that the F1 score is lower (worse) for predictor_2 than for predictor_1 even though the 2nd predictor's accuracy is better. You can see the F1 measure focuses on recall and precision. And it omits measures like Fall-Out and Specificity, each of which focus on negative predictions. Some have argued that a measure of *informedness* is a better measure: https://en.wikipedia.org/wiki/Youden%27s_J_statistic. \n",
    "<p>\n",
    "J = recall + specificity − 1  #J is symbol used for informedness\n",
    "<p>\n",
    "Let's build an informedness function and try it on our predictors.\n",
    "</div>"
   ]
  },
  {
   "cell_type": "code",
   "execution_count": 41,
   "metadata": {
    "collapsed": true
   },
   "outputs": [],
   "source": [
    "def informedness(cases):\n",
    "    tp = cases['true_positive']\n",
    "    fn = cases['false_negative']\n",
    "    tn = cases['true_negative']\n",
    "    fp = cases['false_positive']\n",
    "    recall = 1.0*tp/(tp+fn)  # positive correct divided by total positive in the table\n",
    "    specificty = 1.0*tn/(tn+fp) # negative correct divided by total negative in the table\n",
    "    J = (recall + specificty) - 1\n",
    "    return J"
   ]
  },
  {
   "cell_type": "code",
   "execution_count": 42,
   "metadata": {},
   "outputs": [
    {
     "data": {
      "text/plain": [
       "0.5337455661010448"
      ]
     },
     "execution_count": 42,
     "metadata": {},
     "output_type": "execute_result"
    }
   ],
   "source": [
    "informedness(p1_types)"
   ]
  },
  {
   "cell_type": "code",
   "execution_count": 43,
   "metadata": {},
   "outputs": [
    {
     "data": {
      "text/plain": [
       "0.4840379637618637"
      ]
     },
     "execution_count": 43,
     "metadata": {},
     "output_type": "execute_result"
    }
   ],
   "source": [
    "informedness(p2_types)"
   ]
  },
  {
   "cell_type": "markdown",
   "metadata": {},
   "source": [
    "<div class=just_text>\n",
    "<p>\n",
    "Informedness ranges from -1 to 1 where 1 is a perfect predictor. Like the F1 score, the informedness score is higher for the first predictor even though that predictor has lower accuracy.\n",
    "<p>\n",
    "If you are interested in following up on predictor measures, here is a good place to start: https://arxiv.org/pdf/1503.06410.pdf.\n",
    "</div>"
   ]
  },
  {
   "cell_type": "markdown",
   "metadata": {},
   "source": [
    "<hr>\n",
    "<h1>Write dataframe to file</h1>\n",
    "<p>\n",
    "<div class=h1_cell>\n",
    "<p>\n",
    "Change week to 2.\n",
    "</div>"
   ]
  },
  {
   "cell_type": "code",
   "execution_count": 33,
   "metadata": {
    "collapsed": true
   },
   "outputs": [],
   "source": [
    "import os\n",
    "\n",
    "week = 2\n",
    "\n",
    "home_path =  os.path.expanduser('~')\n",
    "\n",
    "file_path = '/Dropbox/cis399_ds1_f17/notebook_history/'\n",
    "\n",
    "file_name = 'titanic_wrangled_w'+str(week)+'.csv'\n",
    "\n",
    "titanic_table.to_csv(home_path + file_path + file_name, index=False)"
   ]
  },
  {
   "cell_type": "markdown",
   "metadata": {},
   "source": [
    "<hr>\n",
    "<h1>A word about git and libraries</h1>\n",
    "<p>\n",
    "<div class=h1_cell>\n",
    "<p>\n",
    "We will be defining functions in one module that we will use in future modules. I've decided to put these functions in a directory that I control with git. And save the respository to github so you all can access them.\n",
    "<p>\n",
    "I suggest you clone my github repository to your local machine. Or better yet, your local dropbox directory so that you can access it from any computer. See here: https://github.com/fickas/datascience_1.\n",
    "<p>\n",
    "In future modules, I'll import the files in `datascience_1` as libraries so we can use them in the notebook.\n",
    "<p>\n",
    "If you have not used git in past, it is a good tool to learn. The basic concepts you have to pick up are how to set up your local git folder and connect it to my github repository. And how to pull from my repository so you have the lastest version of the libraries. You will not be pushing nor creating new branches so just concentrate on pulling.\n",
    "</div>"
   ]
  },
  {
   "cell_type": "markdown",
   "metadata": {},
   "source": [
    "<hr>\n",
    "<h1>Next up</h1>\n",
    "<div class=h1_cell>\n",
    "\n",
    "    In the next module, we will turn our attention to measuring the effectiveness of nodes in the tree on an individual basis. We chose sex_female as the root in the two trees above. Why? Is some other question better? We will look at ways of answering this question.\n",
    "</div>"
   ]
  },
  {
   "cell_type": "code",
   "execution_count": null,
   "metadata": {
    "collapsed": true
   },
   "outputs": [],
   "source": []
  }
 ],
 "metadata": {
  "kernelspec": {
   "display_name": "Python 2",
   "language": "python",
   "name": "python2"
  },
  "language_info": {
   "codemirror_mode": {
    "name": "ipython",
    "version": 2
   },
   "file_extension": ".py",
   "mimetype": "text/x-python",
   "name": "python",
   "nbconvert_exporter": "python",
   "pygments_lexer": "ipython2",
   "version": "2.7.14"
  }
 },
 "nbformat": 4,
 "nbformat_minor": 1
}
