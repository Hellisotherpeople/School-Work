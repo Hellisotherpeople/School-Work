{
 "cells": [
  {
   "cell_type": "code",
   "execution_count": 1,
   "metadata": {},
   "outputs": [
    {
     "data": {
      "text/html": [
       "<style>\n",
       ".h1_cell, .just_text {\n",
       "    box-sizing: border-box;\n",
       "    padding-top:5px;\n",
       "    padding-bottom:5px;\n",
       "    font-family: \"Times New Roman\", Georgia, Serif;\n",
       "    font-size: 125%;\n",
       "    line-height: 22px; /* 5px +12px + 5px */\n",
       "    text-indent: 25px;\n",
       "    background-color: #fbfbea;\n",
       "    padding: 10px;\n",
       "}\n",
       "\n",
       "hr { \n",
       "    display: block;\n",
       "    margin-top: 0.5em;\n",
       "    margin-bottom: 0.5em;\n",
       "    margin-left: auto;\n",
       "    margin-right: auto;\n",
       "    border-style: inset;\n",
       "    border-width: 2px;\n",
       "}\n",
       "</style>"
      ],
      "text/plain": [
       "<IPython.core.display.HTML object>"
      ]
     },
     "metadata": {},
     "output_type": "display_data"
    }
   ],
   "source": [
    "%%html\n",
    "<style>\n",
    ".h1_cell, .just_text {\n",
    "    box-sizing: border-box;\n",
    "    padding-top:5px;\n",
    "    padding-bottom:5px;\n",
    "    font-family: \"Times New Roman\", Georgia, Serif;\n",
    "    font-size: 125%;\n",
    "    line-height: 22px; /* 5px +12px + 5px */\n",
    "    text-indent: 25px;\n",
    "    background-color: #fbfbea;\n",
    "    padding: 10px;\n",
    "}\n",
    "\n",
    "hr { \n",
    "    display: block;\n",
    "    margin-top: 0.5em;\n",
    "    margin-bottom: 0.5em;\n",
    "    margin-left: auto;\n",
    "    margin-right: auto;\n",
    "    border-style: inset;\n",
    "    border-width: 2px;\n",
    "}\n",
    "</style>"
   ]
  },
  {
   "cell_type": "markdown",
   "metadata": {},
   "source": [
    "<h1>\n",
    "<center>\n",
    "Midterm 2 Practice\n",
    "</center>\n",
    "</h1>\n",
    "<div class=h1_cell>\n",
    "<p>\n",
    "There will only be 2 questions on the midterm, both asking you to extend concepts we have seen in prior modules. I'll give you the general place to focus on.\n",
    "<p>\n",
    "For both problems, you will be using the Titanic data.\n",
    "</div>"
   ]
  },
  {
   "cell_type": "code",
   "execution_count": 5,
   "metadata": {},
   "outputs": [
    {
     "data": {
      "text/plain": [
       "u'0.20.3'"
      ]
     },
     "execution_count": 5,
     "metadata": {},
     "output_type": "execute_result"
    }
   ],
   "source": [
    "import pandas as pd\n",
    "import os\n",
    "\n",
    "week = 6\n",
    "\n",
    "home_path =  os.path.expanduser('~')\n",
    "\n",
    "file_path = '/Desktop/CIS399/'\n",
    "\n",
    "file_name = 'loan_wrangled_w'+str(week)+'.csv'\n",
    "\n",
    "loan_table = pd.read_csv(home_path + file_path + file_name)\n",
    "\n",
    "pd.__version__  # should see 0.20.3 or higher"
   ]
  },
  {
   "cell_type": "code",
   "execution_count": 2,
   "metadata": {},
   "outputs": [
    {
     "name": "stdout",
     "output_type": "stream",
     "text": [
      "Already up-to-date.\r\n"
     ]
    }
   ],
   "source": [
    "os.chdir(home_path + file_path + 'datascience_1/')\n",
    "!git pull"
   ]
  },
  {
   "cell_type": "code",
   "execution_count": 3,
   "metadata": {},
   "outputs": [
    {
     "name": "stdout",
     "output_type": "stream",
     "text": [
      "accuracy\t build_pred\t build_tree_iter\t caser\t compute_prediction\t compute_training\t f1\t find_best_splitter\t forest_builder\t \n",
      "generate_table\t gig\t gini\t informedness\t k_fold\t predictor_case\t probabilities\t seeder\t tree_predictor\t \n",
      "vote_taker\t \n"
     ]
    }
   ],
   "source": [
    "import sys\n",
    "sys.path.append(home_path + '...')\n",
    "\n",
    "from week6 import *\n",
    "\n",
    "%who function"
   ]
  },
  {
   "cell_type": "code",
   "execution_count": 5,
   "metadata": {
    "collapsed": true
   },
   "outputs": [],
   "source": [
    "pd.set_option('display.max_columns', None)"
   ]
  },
  {
   "cell_type": "code",
   "execution_count": 6,
   "metadata": {
    "scrolled": true
   },
   "outputs": [
    {
     "data": {
      "text/html": [
       "<div>\n",
       "<style>\n",
       "    .dataframe thead tr:only-child th {\n",
       "        text-align: right;\n",
       "    }\n",
       "\n",
       "    .dataframe thead th {\n",
       "        text-align: left;\n",
       "    }\n",
       "\n",
       "    .dataframe tbody tr th {\n",
       "        vertical-align: top;\n",
       "    }\n",
       "</style>\n",
       "<table border=\"1\" class=\"dataframe\">\n",
       "  <thead>\n",
       "    <tr style=\"text-align: right;\">\n",
       "      <th></th>\n",
       "      <th>Gender</th>\n",
       "      <th>Married</th>\n",
       "      <th>Dependents</th>\n",
       "      <th>Education</th>\n",
       "      <th>Self_Employed</th>\n",
       "      <th>ApplicantIncome</th>\n",
       "      <th>CoapplicantIncome</th>\n",
       "      <th>LoanAmount</th>\n",
       "      <th>Loan_Amount_Term</th>\n",
       "      <th>Credit_History</th>\n",
       "      <th>...</th>\n",
       "      <th>dep_2</th>\n",
       "      <th>dep_3+</th>\n",
       "      <th>forest_1</th>\n",
       "      <th>forest_1_type</th>\n",
       "      <th>forest_2</th>\n",
       "      <th>forest_2_type</th>\n",
       "      <th>forest_3</th>\n",
       "      <th>forest_3_type</th>\n",
       "      <th>forest_1_oob</th>\n",
       "      <th>forest_1_oob_type</th>\n",
       "    </tr>\n",
       "  </thead>\n",
       "  <tbody>\n",
       "    <tr>\n",
       "      <th>0</th>\n",
       "      <td>Male</td>\n",
       "      <td>No</td>\n",
       "      <td>0</td>\n",
       "      <td>Graduate</td>\n",
       "      <td>No</td>\n",
       "      <td>5849</td>\n",
       "      <td>0.0</td>\n",
       "      <td>NaN</td>\n",
       "      <td>360.0</td>\n",
       "      <td>1.0</td>\n",
       "      <td>...</td>\n",
       "      <td>0</td>\n",
       "      <td>0</td>\n",
       "      <td>1</td>\n",
       "      <td>true_positive</td>\n",
       "      <td>1</td>\n",
       "      <td>true_positive</td>\n",
       "      <td>1</td>\n",
       "      <td>true_positive</td>\n",
       "      <td>1.0</td>\n",
       "      <td>true_positive</td>\n",
       "    </tr>\n",
       "  </tbody>\n",
       "</table>\n",
       "<p>1 rows × 42 columns</p>\n",
       "</div>"
      ],
      "text/plain": [
       "  Gender Married Dependents Education Self_Employed  ApplicantIncome  \\\n",
       "0   Male      No          0  Graduate            No             5849   \n",
       "\n",
       "   CoapplicantIncome  LoanAmount  Loan_Amount_Term  Credit_History  \\\n",
       "0                0.0         NaN             360.0             1.0   \n",
       "\n",
       "         ...         dep_2  dep_3+  forest_1  forest_1_type  forest_2  \\\n",
       "0        ...             0       0         1  true_positive         1   \n",
       "\n",
       "   forest_2_type  forest_3  forest_3_type forest_1_oob  forest_1_oob_type  \n",
       "0  true_positive         1  true_positive          1.0      true_positive  \n",
       "\n",
       "[1 rows x 42 columns]"
      ]
     },
     "execution_count": 6,
     "metadata": {},
     "output_type": "execute_result"
    }
   ],
   "source": [
    "loan_table.head(1)"
   ]
  },
  {
   "cell_type": "markdown",
   "metadata": {},
   "source": [
    "<h2>\n",
    "Problem 1\n",
    "</h2>\n",
    "<div class=h1_cell>\n",
    "<p>\n",
    "I think K-Fold has a problem. No matter the size of K, you always choose 1/K for the size of the test set. That seems ok if K is 5. Then you choose 20% of rows for test set. But what if K=100. Then you choose 1% of the rows for testing. Not good. I am going to ask you to explore other ways of producing the test set that gives better percentages for all values of K.\n",
    "<p>\n",
    "Important note: you can only use libraries that we have used in prior modules, e.g., math, pandas.\n",
    "</div>"
   ]
  },
  {
   "cell_type": "code",
   "execution_count": 12,
   "metadata": {
    "scrolled": true
   },
   "outputs": [
    {
     "name": "stdout",
     "output_type": "stream",
     "text": [
      "           name  true_positive  false_positive  true_negative  false_negative  \\\n",
      "0   fold 1 test           39.0            14.0            8.0             NaN   \n",
      "1   fold 2 test           43.0             9.0            9.0             NaN   \n",
      "2   fold 3 test           38.0            13.0            8.0             2.0   \n",
      "3   fold 4 test           43.0            13.0            4.0             1.0   \n",
      "4   fold 5 test           42.0            11.0            7.0             1.0   \n",
      "5   fold 6 test           43.0            11.0            6.0             1.0   \n",
      "6   fold 7 test           39.0            10.0           12.0             NaN   \n",
      "7   fold 8 test           43.0             7.0           10.0             1.0   \n",
      "8   fold 9 test           42.0            12.0            6.0             1.0   \n",
      "9  fold 10 test           43.0            10.0           12.0             NaN   \n",
      "\n",
      "   accuracy        f1  informedness  \n",
      "0  0.770492  0.847826      0.363636  \n",
      "1  0.852459  0.905263      0.500000  \n",
      "2  0.754098  0.835165      0.330952  \n",
      "3  0.770492  0.860000      0.212567  \n",
      "4  0.803279  0.875000      0.365633  \n",
      "5  0.803279  0.877551      0.330214  \n",
      "6  0.836066  0.886364      0.545455  \n",
      "7  0.868852  0.914894      0.565508  \n",
      "8  0.786885  0.865979      0.310078  \n",
      "9  0.846154  0.895833      0.545455  \n"
     ]
    }
   ],
   "source": [
    "column_candidates = [\n",
    "        #Dependents\n",
    "        'dep_0', 'dep_1', 'dep_2', 'dep_3+',\n",
    "        #ApplicantIncome\n",
    "       'apin_Low', 'apin_High', 'apin_Average',\n",
    "        #Property_Area\n",
    "        'pa_Rural', 'pa_Semiurban','pa_Urban',\n",
    "        #LoanAmount\n",
    "        'bin_Low', 'bin_Average', 'bin_High',\n",
    "        #Credit_History\n",
    "        'ch_bad', 'ch_good']\n",
    "\n",
    "table1 = k_fold(loan_table, 10, 'Loan_Status', {'max-depth':1}, column_candidates)\n",
    "\n",
    "print(table1)\n"
   ]
  },
  {
   "cell_type": "markdown",
   "metadata": {},
   "source": [
    "<h2>\n",
    "Problem 2\n",
    "</h2>\n",
    "<div class=h1_cell>\n",
    "<p>\n",
    "I'd like to know more about how individual trees are doing in a random forest. Maybe some trees always predict the same thing - kind of useless. Maybe some trees are right most of the time - give them higher weight.\n",
    "<p>\n",
    "I am going to ask you to gather information on how individual trees are doing.\n",
    "</div>"
   ]
  },
  {
   "cell_type": "code",
   "execution_count": 8,
   "metadata": {
    "collapsed": true
   },
   "outputs": [],
   "source": [
    "splitter_columns = [\n",
    " 'emb_C',\n",
    " 'emb_Q',\n",
    " 'emb_S',\n",
    " 'emb_nan',\n",
    " 'age_Child',\n",
    " 'age_Adult',\n",
    " 'age_Senior',\n",
    " 'no_age',\n",
    " 'ok_child',\n",
    " 'sex_female',\n",
    " 'pclass_1',\n",
    " 'pclass_2',\n",
    " 'pclass_3',\n",
    " 'pclass_nan'\n",
    "]"
   ]
  },
  {
   "cell_type": "code",
   "execution_count": 23,
   "metadata": {
    "collapsed": true
   },
   "outputs": [],
   "source": [
    "forest11 = forest_builder(titanic_table, splitter_columns, 'Survived', hypers={'total-trees':11})"
   ]
  },
  {
   "cell_type": "code",
   "execution_count": 9,
   "metadata": {
    "collapsed": true
   },
   "outputs": [],
   "source": [
    "# A place to mess around\n"
   ]
  }
 ],
 "metadata": {
  "kernelspec": {
   "display_name": "Python 2",
   "language": "python",
   "name": "python2"
  },
  "language_info": {
   "codemirror_mode": {
    "name": "ipython",
    "version": 2
   },
   "file_extension": ".py",
   "mimetype": "text/x-python",
   "name": "python",
   "nbconvert_exporter": "python",
   "pygments_lexer": "ipython2",
   "version": "2.7.14"
  }
 },
 "nbformat": 4,
 "nbformat_minor": 1
}
